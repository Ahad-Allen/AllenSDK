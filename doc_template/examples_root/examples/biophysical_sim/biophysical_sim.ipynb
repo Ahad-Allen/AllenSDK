{
 "cells": [
  {
   "cell_type": "markdown",
   "metadata": {},
   "source": [
    "# Simulation of biophysically detailed all-active model "
   ]
  },
  {
   "cell_type": "code",
   "execution_count": 1,
   "metadata": {},
   "outputs": [],
   "source": [
    "from allensdk.model.biophysical import runner,_schemas\n",
    "import json\n",
    "import os\n",
    "from argschema import ArgSchemaParser\n",
    "from allensdk.api.queries.biophysical_api import BiophysicalApi\n",
    "from allensdk.core.nwb_data_set import NwbDataSet\n",
    "import numpy as np\n",
    "import matplotlib.pyplot as plt\n",
    "import seaborn as sns\n",
    "import shutil\n",
    "import warnings\n",
    "warnings.filterwarnings('ignore')\n",
    "\n",
    "%matplotlib inline\n",
    "\n",
    "sns.set(style='whitegrid',font_scale=1.5)\n",
    "plt.rcParams.update({'axes.grid':False})"
   ]
  },
  {
   "cell_type": "markdown",
   "metadata": {},
   "source": [
    "### Define utility functions"
   ]
  },
  {
   "cell_type": "code",
   "execution_count": 2,
   "metadata": {},
   "outputs": [],
   "source": [
    "\n",
    "def get_manifest_args(args):\n",
    "    return runner.load_description(args)\n",
    "    \n",
    "\n",
    "def get_sweep_data(nwb_file,sweep_number):\n",
    "    nwb = NwbDataSet(nwb_file)\n",
    "    sweep = nwb.get_sweep(sweep_number)\n",
    "    stim_diff = np.diff(sweep['stimulus']*1e12)\n",
    "    stim_start = np.where(stim_diff != 0)[0][-2]\n",
    "    stim_end = np.where(stim_diff != 0)[0][-1]\n",
    "    \n",
    "    # read v and t as numpy arrays\n",
    "    v = sweep['response']*1e3\n",
    "    dt = 1.0e3 / sweep['sampling_rate']\n",
    "    num_samples = len(v)\n",
    "    t = np.arange(num_samples) * dt\n",
    "    return t,v,t[stim_start],t[stim_end]\n",
    "\n",
    "def copytree(src, dst, symlinks=False, ignore=None):\n",
    "    for item in os.listdir(src):\n",
    "        s = os.path.join(src, item)\n",
    "        d = os.path.join(dst, item)\n",
    "        if os.path.isdir(s):\n",
    "            shutil.copytree(s, d, symlinks, ignore)\n",
    "        else:\n",
    "            shutil.copy2(s, d)\n",
    "            "
   ]
  },
  {
   "cell_type": "markdown",
   "metadata": {},
   "source": [
    "### Pick a cell and a sweep to run from the available set of protocols"
   ]
  },
  {
   "cell_type": "code",
   "execution_count": 3,
   "metadata": {},
   "outputs": [],
   "source": [
    "            \n",
    "cell_id = 468193142 # get this from the web site: http://celltypes.brain-map.org\n",
    "sweep_num = 46 # Select a Long Square sweep :  1s DC\n"
   ]
  },
  {
   "cell_type": "markdown",
   "metadata": {},
   "source": [
    "### Download all-active model"
   ]
  },
  {
   "cell_type": "code",
   "execution_count": 4,
   "metadata": {},
   "outputs": [
    {
     "name": "stderr",
     "output_type": "stream",
     "text": [
      "2020-03-09 14:45:29,250 allensdk.api.api.retrieve_file_over_http INFO     Downloading URL: http://api.brain-map.org/api/v2/well_known_file_download/491317257\n",
      "2020-03-09 14:45:43,274 allensdk.api.api.retrieve_file_over_http INFO     Downloading URL: http://api.brain-map.org/api/v2/well_known_file_download/491120157\n",
      "2020-03-09 14:45:43,385 allensdk.api.api.retrieve_file_over_http INFO     Downloading URL: http://api.brain-map.org/api/v2/well_known_file_download/497615376\n",
      "2020-03-09 14:45:43,423 allensdk.api.api.retrieve_file_over_http INFO     Downloading URL: http://api.brain-map.org/api/v2/well_known_file_download/395337019\n",
      "2020-03-09 14:45:43,464 allensdk.api.api.retrieve_file_over_http INFO     Downloading URL: http://api.brain-map.org/api/v2/well_known_file_download/395337225\n",
      "2020-03-09 14:45:43,500 allensdk.api.api.retrieve_file_over_http INFO     Downloading URL: http://api.brain-map.org/api/v2/well_known_file_download/395337054\n",
      "2020-03-09 14:45:43,551 allensdk.api.api.retrieve_file_over_http INFO     Downloading URL: http://api.brain-map.org/api/v2/well_known_file_download/395337070\n",
      "2020-03-09 14:45:43,595 allensdk.api.api.retrieve_file_over_http INFO     Downloading URL: http://api.brain-map.org/api/v2/well_known_file_download/491113425\n",
      "2020-03-09 14:45:43,635 allensdk.api.api.retrieve_file_over_http INFO     Downloading URL: http://api.brain-map.org/api/v2/well_known_file_download/395337062\n",
      "2020-03-09 14:45:43,683 allensdk.api.api.retrieve_file_over_http INFO     Downloading URL: http://api.brain-map.org/api/v2/well_known_file_download/395337293\n",
      "2020-03-09 14:45:43,724 allensdk.api.api.retrieve_file_over_http INFO     Downloading URL: http://api.brain-map.org/api/v2/well_known_file_download/395337007\n",
      "2020-03-09 14:45:43,771 allensdk.api.api.retrieve_file_over_http INFO     Downloading URL: http://api.brain-map.org/api/v2/well_known_file_download/464138096\n",
      "2020-03-09 14:45:43,815 allensdk.api.api.retrieve_file_over_http INFO     Downloading URL: http://api.brain-map.org/api/v2/well_known_file_download/395337066\n",
      "2020-03-09 14:45:43,870 allensdk.api.api.retrieve_file_over_http INFO     Downloading URL: http://api.brain-map.org/api/v2/well_known_file_download/395337015\n",
      "2020-03-09 14:45:43,909 allensdk.api.api.retrieve_file_over_http INFO     Downloading URL: http://api.brain-map.org/api/v2/well_known_file_download/395337011\n",
      "2020-03-09 14:45:43,957 allensdk.api.api.retrieve_file_over_http INFO     Downloading URL: http://api.brain-map.org/api/v2/well_known_file_download/395337046\n",
      "2020-03-09 14:45:44,009 allensdk.api.api.retrieve_file_over_http INFO     Downloading URL: http://api.brain-map.org/api/v2/well_known_file_download/395337042\n",
      "2020-03-09 14:45:44,051 allensdk.api.api.retrieve_file_over_http INFO     Downloading URL: http://api.brain-map.org/api/v2/well_known_file_download/395337050\n",
      "2020-03-09 14:45:44,099 allensdk.api.api.retrieve_file_over_http INFO     Downloading URL: http://api.brain-map.org/api/v2/well_known_file_download/395337003\n",
      "2020-03-09 14:45:44,143 allensdk.api.api.retrieve_file_over_http INFO     Downloading URL: http://api.brain-map.org/api/v2/well_known_file_download/517649249\n"
     ]
    }
   ],
   "source": [
    "sdk_model_templates = {491455321:'all_active',329230710:'perisomatic'}\n",
    "bp = BiophysicalApi()\n",
    "bp.cache_stimulus = True \n",
    "model_list = bp.get_neuronal_models(cell_id)\n",
    "model_dict = {}\n",
    "for model_dict_ in model_list:\n",
    "    if model_dict_['neuronal_model_template_id'] in sdk_model_templates.keys():\n",
    "        model_dict[sdk_model_templates[model_dict_['neuronal_model_template_id']]] = model_dict_['id']\n",
    "\n",
    "model_dir = 'all_active_models'\n",
    "bp.cache_data(model_dict['all_active'], working_directory=model_dir)\n",
    "new_model_file = 'fit_parameters_new.json'\n",
    "shutil.copyfile(new_model_file,os.path.join(model_dir,new_model_file))\n",
    "copytree('modfiles',os.path.join(model_dir,'modfiles'))\n"
   ]
  },
  {
   "cell_type": "markdown",
   "metadata": {},
   "source": [
    "### Running the legacy all-active models"
   ]
  },
  {
   "cell_type": "code",
   "execution_count": null,
   "metadata": {},
   "outputs": [],
   "source": [
    "os.chdir(model_dir)\n",
    "os.system('nrnivmodl modfiles/')\n",
    "manifest_file = 'manifest.json'\n",
    "manifest_dict = json.load(open(manifest_file))\n",
    "\n",
    "# sweeps by type is not populated when the model is downloaded using the api\n",
    "# in that case add the sweep type to the manifest \n",
    "if 'sweeps_by_type' not in manifest_dict['runs'][0]:\n",
    "    manifest_dict['runs'][0]['sweeps_by_type'] = {\"Long Square\":[sweep_num]}\n",
    "json.dump(manifest_dict,open(manifest_file,'w'),indent=2) \n",
    "\n",
    "schema_legacy = dict(manifest_file=manifest_file,log_level = 'INFO',axon_type = None)\n",
    "runner.run(schema_legacy,procs=1,sweeps=[sweep_num])\n"
   ]
  },
  {
   "cell_type": "markdown",
   "metadata": {},
   "source": [
    "### Running the new all-active models"
   ]
  },
  {
   "cell_type": "code",
   "execution_count": null,
   "metadata": {},
   "outputs": [],
   "source": [
    "\n",
    "manifest_dict = json.load(open(manifest_file))\n",
    "\n",
    "# Change the simulation output directory to avoid overwriting for the new models\n",
    "for manifest_config in manifest_dict['manifest']:\n",
    "    if manifest_config['key'] == 'WORKDIR':\n",
    "        manifest_config['spec'] = 'work_new'\n",
    "\n",
    "new_manifest_file = 'manifest_new.json' \n",
    "     \n",
    "manifest_dict['biophys'][0]['model_file'] = [new_manifest_file,new_model_file]\n",
    "json.dump(manifest_dict,open(new_manifest_file,'w'),indent=2)  \n",
    "\n",
    "schema_new = dict(manifest_file=new_manifest_file,log_level = 'INFO', axon_type = 'stub_axon')\n",
    "runner.run(schema_new,procs=1,sweeps=[sweep_num])\n"
   ]
  },
  {
   "cell_type": "markdown",
   "metadata": {},
   "source": [
    "### Comparing the responses"
   ]
  },
  {
   "cell_type": "code",
   "execution_count": null,
   "metadata": {},
   "outputs": [],
   "source": [
    "\n",
    "legacy_config = get_manifest_args(schema_legacy.args)\n",
    "output_nwb_legacy = legacy_config.manifest.get_path('output_path')\n",
    "\n",
    "new_config =  get_manifest_args(schema_new.args)\n",
    "output_nwb_new = new_config.manifest.get_path('output_path')\n",
    "\n",
    "exp_nwb = new_config.manifest.get_path('stimulus_path')\n",
    "\n",
    "t_exp,v_exp,stim_start,stim_end = get_sweep_data(exp_nwb,sweep_num)\n",
    "t_legacy_aa,v_legacy_aa,_,_ = get_sweep_data(output_nwb_legacy,sweep_num)\n",
    "t_new_aa,v_new_aa,_,_ = get_sweep_data(output_nwb_new,sweep_num)\n",
    "\n",
    "fig,ax = plt.subplots(figsize=(10,6))\n",
    "ax.plot(t_exp,v_exp, color = 'k', label='Experiment')\n",
    "ax.plot(t_legacy_aa,v_legacy_aa,color = 'r', label= 'Legacy Model')\n",
    "ax.plot(t_new_aa,v_new_aa,color='b', label = 'New Model')\n",
    "ax.set_xlim([stim_start-200,stim_end+200])\n",
    "sns.despine(ax=ax)\n",
    "h,l = ax.get_legend_handles_labels()\n",
    "fig.legend(h,l,ncol=3,frameon=False,loc='lower center')\n",
    "fig.tight_layout(rect=[0.0,0.05,1,0.95])\n",
    "\n",
    "plt.show()\n"
   ]
  }
 ],
 "metadata": {
  "file_extension": ".py",
  "kernelspec": {
   "display_name": "Python 3.7.3 64-bit ('base': conda)",
   "language": "python",
   "name": "python37364bitbaseconda8fde0ce2de4145ecaf59421980225cdf"
  },
  "language_info": {
   "codemirror_mode": {
    "name": "ipython",
    "version": 3
   },
   "file_extension": ".py",
   "mimetype": "text/x-python",
   "name": "python",
   "nbconvert_exporter": "python",
   "pygments_lexer": "ipython3",
   "version": "3.7.3"
  },
  "mimetype": "text/x-python",
  "name": "python",
  "npconvert_exporter": "python",
  "pygments_lexer": "ipython3",
  "version": 3
 },
 "nbformat": 4,
 "nbformat_minor": 2
}
