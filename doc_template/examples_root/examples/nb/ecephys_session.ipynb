{
 "cells": [
  {
   "cell_type": "markdown",
   "metadata": {},
   "source": [
    "# Extracellular Electrophysiology Data\n",
    "\n",
    "At the Allen Institute for Brain Science we carry out in vivo extracellular electrophysiology (ecephys) experiments  in awake animals using high-density Neuropixels probes. The data from these experiments are organized into *sessions*, where each session is a distinct continuous recording period. During a session we collect:\n",
    "\n",
    "- spike times and characteristics (such as mean waveforms) from up to 6 neuropixels probes\n",
    "- LFP data (TODO: not in yet!)\n",
    "- behavioral data, such as running speed and eye position\n",
    "- visual stimuli which were presented during the session\n",
    "- cell-type specific optogenetic stimuli that were applied during the session\n",
    "\n",
    "The AllenSDK contains code for accessing across-session (project-level) metadata as well as code for accessing detailed within-session data. The standard workflow is to use project-level tools, such as `EcephysProjectCache` to identify and access sessions of interest, then delve into those sessions' data using `EcephysSession`.\n",
    "\n",
    "\n",
    "Project-level\n",
    "------------------\n",
    "The `EcephysProjectCache` class in `allensdk.brain_observatory.ecephys.ecephys_project_cache` accesses and stores data pertaining to many sessions. You can use this class to run queries that span all collected sessions and to download data for individual sessions.\n",
    "* <a href='#Obtaining-an-EcephysProjectCache'>Obtaining an `EcephysProjectCache`</a>\n",
    "* <a href='#Querying-sessions'>Querying sessions</a>\n",
    "* <a href='#Querying-units'>Querying units</a>\n",
    "\n",
    "\n",
    "\n",
    "Session-level\n",
    "-------------------\n",
    "The `EcephysSession` class in `allensdk.brain_observatory.ecephys.ecephys_session` provides an interface to all of the data for a single session, aligned to a common clock. This notebook will show you how to use the `EcephysSession` class to extract these data.\n",
    "* <a href='#Obtaining-an-EcephysSession'>Obtaining an `EcephysSession`</a>\n",
    "* <a href='#Stimulus-presentations'>Stimulus information</a>\n",
    "* <a href='#Spike-data'>Spike data</a>\n",
    "* <a href='#Spike-histograms'>Spike histograms</a>\n",
    "* <a href='#Waveforms'>Unitwise mean waveforms</a>\n",
    "* <a href='#Suggested-excercises'>Suggested excercises</a>"
   ]
  },
  {
   "cell_type": "code",
   "execution_count": 1,
   "metadata": {},
   "outputs": [],
   "source": [
    "# first we need a bit of import boilerplate\n",
    "import os\n",
    "\n",
    "import numpy as np\n",
    "import xarray as xr\n",
    "import pandas as pd\n",
    "import matplotlib.pyplot as plt\n",
    "\n",
    "from allensdk.brain_observatory.ecephys.ecephys_project_cache import EcephysProjectCache\n",
    "from allensdk.brain_observatory.ecephys.ecephys_session import EcephysSession, removed_unused_stimulus_presentation_columns\n",
    "from allensdk.brain_observatory.ecephys.visualization import plot_mean_waveforms, plot_spike_counts, raster_plot\n",
    "from allensdk.brain_observatory.visualization import plot_running_speed"
   ]
  },
  {
   "cell_type": "markdown",
   "metadata": {},
   "source": [
    "### Obtaining an `EcephysProjectCache`\n",
    "\n",
    "In order to create an `EcephysProjectCache` object, you need to specify two things:\n",
    "1. A remote source for the object to fetch data from. We will instantiate our cache using `EcephysProjectCache.from_warehouse()` to point the cache at the Allen Institute's public web API.\n",
    "2. A path to a manifest json, which designates filesystem locations for downloaded data. The cache will try to read data from these locations before going to download those data from its remote source, preventing repeated downloads."
   ]
  },
  {
   "cell_type": "code",
   "execution_count": 2,
   "metadata": {},
   "outputs": [],
   "source": [
    "manifest_path = os.path.join('example_ecephys_project_cache', 'manifest.json')\n",
    "\n",
    "cache = EcephysProjectCache.from_lims(manifest=manifest_path) # TODO: warehouse"
   ]
  },
  {
   "cell_type": "markdown",
   "metadata": {},
   "source": [
    "### Querying across sessions\n",
    "\n",
    "Using your `EcephysProjectCache`, you can download a table listing metadata for all sessions."
   ]
  },
  {
   "cell_type": "code",
   "execution_count": 3,
   "metadata": {},
   "outputs": [
    {
     "data": {
      "text/html": [
       "<div>\n",
       "<style scoped>\n",
       "    .dataframe tbody tr th:only-of-type {\n",
       "        vertical-align: middle;\n",
       "    }\n",
       "\n",
       "    .dataframe tbody tr th {\n",
       "        vertical-align: top;\n",
       "    }\n",
       "\n",
       "    .dataframe thead th {\n",
       "        text-align: right;\n",
       "    }\n",
       "</style>\n",
       "<table border=\"1\" class=\"dataframe\">\n",
       "  <thead>\n",
       "    <tr style=\"text-align: right;\">\n",
       "      <th></th>\n",
       "      <th>name</th>\n",
       "      <th>stimulus_name</th>\n",
       "      <th>storage_directory</th>\n",
       "      <th>workflow_state</th>\n",
       "      <th>specimen_id</th>\n",
       "      <th>isi_experiment_id</th>\n",
       "      <th>equipment_id</th>\n",
       "      <th>operator_id</th>\n",
       "      <th>qc_operator_id</th>\n",
       "      <th>project_id</th>\n",
       "      <th>eye_tracking_id</th>\n",
       "      <th>observatory_stimulus_config_id</th>\n",
       "      <th>date_of_acquisition</th>\n",
       "      <th>created_at</th>\n",
       "      <th>updated_at</th>\n",
       "      <th>temp_upload_directory</th>\n",
       "      <th>published_at</th>\n",
       "      <th>habituation</th>\n",
       "    </tr>\n",
       "    <tr>\n",
       "      <th>id</th>\n",
       "      <th></th>\n",
       "      <th></th>\n",
       "      <th></th>\n",
       "      <th></th>\n",
       "      <th></th>\n",
       "      <th></th>\n",
       "      <th></th>\n",
       "      <th></th>\n",
       "      <th></th>\n",
       "      <th></th>\n",
       "      <th></th>\n",
       "      <th></th>\n",
       "      <th></th>\n",
       "      <th></th>\n",
       "      <th></th>\n",
       "      <th></th>\n",
       "      <th></th>\n",
       "      <th></th>\n",
       "    </tr>\n",
       "  </thead>\n",
       "  <tbody>\n",
       "    <tr>\n",
       "      <th>828758609</th>\n",
       "      <td>20190225115927_678711844</td>\n",
       "      <td>NaN</td>\n",
       "      <td>/allen/programs/braintv/production/neuralcodin...</td>\n",
       "      <td>uploaded</td>\n",
       "      <td>807417255</td>\n",
       "      <td>815050020</td>\n",
       "      <td>677098837.0</td>\n",
       "      <td>678711844</td>\n",
       "      <td>NaN</td>\n",
       "      <td>714914585</td>\n",
       "      <td>NaN</td>\n",
       "      <td>NaN</td>\n",
       "      <td>2019-02-26 13:38:10.896908</td>\n",
       "      <td>2019-02-25 19:59:27.959054</td>\n",
       "      <td>2019-04-12 02:35:29.785036</td>\n",
       "      <td>//allen/programs/braintv/production/incoming/n...</td>\n",
       "      <td>NaN</td>\n",
       "      <td>False</td>\n",
       "    </tr>\n",
       "    <tr>\n",
       "      <th>779839471</th>\n",
       "      <td>20181115122458_647737834</td>\n",
       "      <td>NaN</td>\n",
       "      <td>/allen/programs/braintv/production/neuralcodin...</td>\n",
       "      <td>uploaded</td>\n",
       "      <td>760960653</td>\n",
       "      <td>766594733</td>\n",
       "      <td>677098837.0</td>\n",
       "      <td>647737834</td>\n",
       "      <td>NaN</td>\n",
       "      <td>714914585</td>\n",
       "      <td>NaN</td>\n",
       "      <td>NaN</td>\n",
       "      <td>2018-12-10 22:45:43.057893</td>\n",
       "      <td>2018-11-15 20:24:17.195195</td>\n",
       "      <td>2019-04-12 02:35:32.655418</td>\n",
       "      <td>//allen/programs/braintv/production/incoming/n...</td>\n",
       "      <td>NaN</td>\n",
       "      <td>False</td>\n",
       "    </tr>\n",
       "    <tr>\n",
       "      <th>778998620</th>\n",
       "      <td>20181114122508_704511589</td>\n",
       "      <td>NaN</td>\n",
       "      <td>/allen/programs/braintv/production/neuralcodin...</td>\n",
       "      <td>uploaded</td>\n",
       "      <td>759674770</td>\n",
       "      <td>763718472</td>\n",
       "      <td>677098837.0</td>\n",
       "      <td>704511589</td>\n",
       "      <td>NaN</td>\n",
       "      <td>714914585</td>\n",
       "      <td>NaN</td>\n",
       "      <td>NaN</td>\n",
       "      <td>2018-12-10 21:57:24.147149</td>\n",
       "      <td>2018-11-14 20:24:27.727474</td>\n",
       "      <td>2019-04-12 02:35:32.677501</td>\n",
       "      <td>//allen/programs/braintv/production/incoming/n...</td>\n",
       "      <td>NaN</td>\n",
       "      <td>False</td>\n",
       "    </tr>\n",
       "    <tr>\n",
       "      <th>759883607</th>\n",
       "      <td>20181002110403_678711844</td>\n",
       "      <td>NaN</td>\n",
       "      <td>/allen/programs/braintv/production/neuralcodin...</td>\n",
       "      <td>uploaded</td>\n",
       "      <td>740268986</td>\n",
       "      <td>745833491</td>\n",
       "      <td>677098837.0</td>\n",
       "      <td>678711844</td>\n",
       "      <td>NaN</td>\n",
       "      <td>714914585</td>\n",
       "      <td>NaN</td>\n",
       "      <td>NaN</td>\n",
       "      <td>2018-10-26 19:55:45.842645</td>\n",
       "      <td>2018-10-02 18:04:03.473049</td>\n",
       "      <td>2019-04-12 02:35:34.061659</td>\n",
       "      <td>//allen/programs/braintv/production/incoming/n...</td>\n",
       "      <td>NaN</td>\n",
       "      <td>False</td>\n",
       "    </tr>\n",
       "    <tr>\n",
       "      <th>759228117</th>\n",
       "      <td>20180927124208_647737834</td>\n",
       "      <td>NaN</td>\n",
       "      <td>/allen/programs/braintv/production/neuralcodin...</td>\n",
       "      <td>uploaded</td>\n",
       "      <td>734687127</td>\n",
       "      <td>742838007</td>\n",
       "      <td>677098837.0</td>\n",
       "      <td>647737834</td>\n",
       "      <td>NaN</td>\n",
       "      <td>714914585</td>\n",
       "      <td>NaN</td>\n",
       "      <td>NaN</td>\n",
       "      <td>2018-10-26 19:55:51.640158</td>\n",
       "      <td>2018-09-27 19:42:08.912752</td>\n",
       "      <td>2019-04-12 02:35:34.189767</td>\n",
       "      <td>//allen/programs/braintv/production/incoming/n...</td>\n",
       "      <td>NaN</td>\n",
       "      <td>False</td>\n",
       "    </tr>\n",
       "  </tbody>\n",
       "</table>\n",
       "</div>"
      ],
      "text/plain": [
       "                               name  stimulus_name  \\\n",
       "id                                                   \n",
       "828758609  20190225115927_678711844            NaN   \n",
       "779839471  20181115122458_647737834            NaN   \n",
       "778998620  20181114122508_704511589            NaN   \n",
       "759883607  20181002110403_678711844            NaN   \n",
       "759228117  20180927124208_647737834            NaN   \n",
       "\n",
       "                                           storage_directory workflow_state  \\\n",
       "id                                                                            \n",
       "828758609  /allen/programs/braintv/production/neuralcodin...       uploaded   \n",
       "779839471  /allen/programs/braintv/production/neuralcodin...       uploaded   \n",
       "778998620  /allen/programs/braintv/production/neuralcodin...       uploaded   \n",
       "759883607  /allen/programs/braintv/production/neuralcodin...       uploaded   \n",
       "759228117  /allen/programs/braintv/production/neuralcodin...       uploaded   \n",
       "\n",
       "           specimen_id  isi_experiment_id  equipment_id  operator_id  \\\n",
       "id                                                                     \n",
       "828758609    807417255          815050020   677098837.0    678711844   \n",
       "779839471    760960653          766594733   677098837.0    647737834   \n",
       "778998620    759674770          763718472   677098837.0    704511589   \n",
       "759883607    740268986          745833491   677098837.0    678711844   \n",
       "759228117    734687127          742838007   677098837.0    647737834   \n",
       "\n",
       "           qc_operator_id  project_id  eye_tracking_id  \\\n",
       "id                                                       \n",
       "828758609             NaN   714914585              NaN   \n",
       "779839471             NaN   714914585              NaN   \n",
       "778998620             NaN   714914585              NaN   \n",
       "759883607             NaN   714914585              NaN   \n",
       "759228117             NaN   714914585              NaN   \n",
       "\n",
       "           observatory_stimulus_config_id         date_of_acquisition  \\\n",
       "id                                                                      \n",
       "828758609                             NaN  2019-02-26 13:38:10.896908   \n",
       "779839471                             NaN  2018-12-10 22:45:43.057893   \n",
       "778998620                             NaN  2018-12-10 21:57:24.147149   \n",
       "759883607                             NaN  2018-10-26 19:55:45.842645   \n",
       "759228117                             NaN  2018-10-26 19:55:51.640158   \n",
       "\n",
       "                           created_at                  updated_at  \\\n",
       "id                                                                  \n",
       "828758609  2019-02-25 19:59:27.959054  2019-04-12 02:35:29.785036   \n",
       "779839471  2018-11-15 20:24:17.195195  2019-04-12 02:35:32.655418   \n",
       "778998620  2018-11-14 20:24:27.727474  2019-04-12 02:35:32.677501   \n",
       "759883607  2018-10-02 18:04:03.473049  2019-04-12 02:35:34.061659   \n",
       "759228117  2018-09-27 19:42:08.912752  2019-04-12 02:35:34.189767   \n",
       "\n",
       "                                       temp_upload_directory  published_at  \\\n",
       "id                                                                           \n",
       "828758609  //allen/programs/braintv/production/incoming/n...           NaN   \n",
       "779839471  //allen/programs/braintv/production/incoming/n...           NaN   \n",
       "778998620  //allen/programs/braintv/production/incoming/n...           NaN   \n",
       "759883607  //allen/programs/braintv/production/incoming/n...           NaN   \n",
       "759228117  //allen/programs/braintv/production/incoming/n...           NaN   \n",
       "\n",
       "           habituation  \n",
       "id                      \n",
       "828758609        False  \n",
       "779839471        False  \n",
       "778998620        False  \n",
       "759883607        False  \n",
       "759228117        False  "
      ]
     },
     "execution_count": 3,
     "metadata": {},
     "output_type": "execute_result"
    }
   ],
   "source": [
    "cache.get_sessions().head()"
   ]
  },
  {
   "cell_type": "markdown",
   "metadata": {},
   "source": [
    "### Querying across units\n",
    "\n",
    "Likewise, you can obtain a table listing each sorted unit, as well as associated metadata."
   ]
  },
  {
   "cell_type": "code",
   "execution_count": 4,
   "metadata": {},
   "outputs": [
    {
     "data": {
      "text/html": [
       "<div>\n",
       "<style scoped>\n",
       "    .dataframe tbody tr th:only-of-type {\n",
       "        vertical-align: middle;\n",
       "    }\n",
       "\n",
       "    .dataframe tbody tr th {\n",
       "        vertical-align: top;\n",
       "    }\n",
       "\n",
       "    .dataframe thead th {\n",
       "        text-align: right;\n",
       "    }\n",
       "</style>\n",
       "<table border=\"1\" class=\"dataframe\">\n",
       "  <thead>\n",
       "    <tr style=\"text-align: right;\">\n",
       "      <th></th>\n",
       "      <th>local_index</th>\n",
       "      <th>cluster_ids</th>\n",
       "      <th>ecephys_channel_id</th>\n",
       "      <th>quality</th>\n",
       "      <th>snr</th>\n",
       "      <th>firing_rate</th>\n",
       "      <th>isi_violations</th>\n",
       "    </tr>\n",
       "    <tr>\n",
       "      <th>id</th>\n",
       "      <th></th>\n",
       "      <th></th>\n",
       "      <th></th>\n",
       "      <th></th>\n",
       "      <th></th>\n",
       "      <th></th>\n",
       "      <th></th>\n",
       "    </tr>\n",
       "  </thead>\n",
       "  <tbody>\n",
       "    <tr>\n",
       "      <th>849705364</th>\n",
       "      <td>0</td>\n",
       "      <td>0</td>\n",
       "      <td>849704604</td>\n",
       "      <td>noise</td>\n",
       "      <td>0.778123</td>\n",
       "      <td>3.243230</td>\n",
       "      <td>3.876614</td>\n",
       "    </tr>\n",
       "    <tr>\n",
       "      <th>849705366</th>\n",
       "      <td>1</td>\n",
       "      <td>1</td>\n",
       "      <td>849704602</td>\n",
       "      <td>good</td>\n",
       "      <td>1.446133</td>\n",
       "      <td>3.782304</td>\n",
       "      <td>0.784492</td>\n",
       "    </tr>\n",
       "    <tr>\n",
       "      <th>849705368</th>\n",
       "      <td>2</td>\n",
       "      <td>2</td>\n",
       "      <td>849704604</td>\n",
       "      <td>good</td>\n",
       "      <td>0.853575</td>\n",
       "      <td>5.839871</td>\n",
       "      <td>0.695103</td>\n",
       "    </tr>\n",
       "    <tr>\n",
       "      <th>849705370</th>\n",
       "      <td>3</td>\n",
       "      <td>3</td>\n",
       "      <td>849704620</td>\n",
       "      <td>noise</td>\n",
       "      <td>0.855205</td>\n",
       "      <td>6.976821</td>\n",
       "      <td>1.765077</td>\n",
       "    </tr>\n",
       "    <tr>\n",
       "      <th>849705372</th>\n",
       "      <td>4</td>\n",
       "      <td>4</td>\n",
       "      <td>849704620</td>\n",
       "      <td>noise</td>\n",
       "      <td>0.599069</td>\n",
       "      <td>4.632780</td>\n",
       "      <td>2.870669</td>\n",
       "    </tr>\n",
       "  </tbody>\n",
       "</table>\n",
       "</div>"
      ],
      "text/plain": [
       "           local_index  cluster_ids  ecephys_channel_id quality       snr  \\\n",
       "id                                                                          \n",
       "849705364            0            0           849704604   noise  0.778123   \n",
       "849705366            1            1           849704602    good  1.446133   \n",
       "849705368            2            2           849704604    good  0.853575   \n",
       "849705370            3            3           849704620   noise  0.855205   \n",
       "849705372            4            4           849704620   noise  0.599069   \n",
       "\n",
       "           firing_rate  isi_violations  \n",
       "id                                      \n",
       "849705364     3.243230        3.876614  \n",
       "849705366     3.782304        0.784492  \n",
       "849705368     5.839871        0.695103  \n",
       "849705370     6.976821        1.765077  \n",
       "849705372     4.632780        2.870669  "
      ]
     },
     "execution_count": 4,
     "metadata": {},
     "output_type": "execute_result"
    }
   ],
   "source": [
    "units = cache.get_units()\n",
    "units.head()"
   ]
  },
  {
   "cell_type": "code",
   "execution_count": null,
   "metadata": {},
   "outputs": [
    {
     "name": "stdout",
     "output_type": "stream",
     "text": [
      "121669\n"
     ]
    }
   ],
   "source": [
    "# There are quite a few of these\n",
    "print(units.shape[0])"
   ]
  },
  {
   "cell_type": "markdown",
   "metadata": {},
   "source": [
    "### Obtaining an `EcephysSession`\n",
    "\n",
    "We package each session's data into a Neurodata Without Borders 2.0 (NWB) file. Calling `get_session_data` on your `EcephysProjectCache` will download such a file and return an `EcephysSession` object.\n",
    "\n",
    "`EcephysSession` objects contain methods and properties that access the data within an ecephys NWB file and cache it in memory."
   ]
  },
  {
   "cell_type": "code",
   "execution_count": null,
   "metadata": {},
   "outputs": [
    {
     "name": "stderr",
     "output_type": "stream",
     "text": [
      "/home/nile/Desktop/allensdk/allensdk/allensdk/brain_observatory/ecephys/ecephys_project_api/ecephys_project_lims_api.py:26: UserWarning: copying a 750.963mb file from /allen/programs/braintv/production/neuralcoding/prod56/specimen_776061251/ecephys_session_797828357/EcephysWriteNwbStrategy/analysis_run_851887914/ecephys_session_797828357.nwb\n",
      "  warnings.warn(f'copying a {fsize:.6}mb file from {main_nwb_path}')\n"
     ]
    }
   ],
   "source": [
    "session_id = 797828357 # for example\n",
    "session = cache.get_session_data(session_id)"
   ]
  },
  {
   "cell_type": "markdown",
   "metadata": {},
   "source": [
    "We'll now jump in to accessing our session's data. If you ever want a complete documented list of the attributes and methods defined on `EcephysSession`, you can run `help(EcephysSession)` (or in a jupyter notebook: `EcephysSession?`)."
   ]
  },
  {
   "cell_type": "markdown",
   "metadata": {},
   "source": [
    "### Sorted units\n",
    "\n",
    "Units are putative neurons, clustered from raw voltage traces using Kilosort 2. Each unit is associated with a single *peak channel* on a single probe, though its spikes might be picked up with some attenuation on multiple nearby channels. Each unit is assigned a unique integer identifier (\"unit_id\") which can be used to look up its  spike times and its mean waveform.\n",
    "\n",
    "The units for a session are recorded in an attribute called, fittingly, `units`. This is a `pandas.DataFrame` whose index is the unit id and whose columns contain summary information about the unit, its peak channel, and its associated probe."
   ]
  },
  {
   "cell_type": "code",
   "execution_count": null,
   "metadata": {},
   "outputs": [],
   "source": [
    "session.units.head()"
   ]
  },
  {
   "cell_type": "markdown",
   "metadata": {},
   "source": [
    "As a `pandas.DataFrame` the units table supports many straightforward filtering operations:"
   ]
  },
  {
   "cell_type": "code",
   "execution_count": null,
   "metadata": {},
   "outputs": [],
   "source": [
    "# how many units have signal to noise ratios that are greater than 4?\n",
    "print(f'{session.units.shape[0]} units total')\n",
    "units_with_very_high_snr = session.units[session.units['snr'] > 4]\n",
    "print(f'{units_with_very_high_snr.shape[0]} units have snr > 4')"
   ]
  },
  {
   "cell_type": "markdown",
   "metadata": {},
   "source": [
    "... as well as some more advanced (and very useful!) operations. For more information, please see the pandas documentation. The following topics might be particularly handy:\n",
    "\n",
    "- [selecting data](http://pandas.pydata.org/pandas-docs/stable/user_guide/indexing.html)\n",
    "- [merging multiple dataframes](http://pandas.pydata.org/pandas-docs/stable/user_guide/merging.html)\n",
    "- [grouping rows within a dataframe](http://pandas.pydata.org/pandas-docs/stable/user_guide/groupby.html)\n",
    "- [pivot tables](http://pandas.pydata.org/pandas-docs/stable/user_guide/reshaping.html)"
   ]
  },
  {
   "cell_type": "markdown",
   "metadata": {},
   "source": [
    "### Stimulus presentations\n",
    "\n",
    "During the course of a session, visual stimuli are presented on a monitor to the subject. We call intervals of time where a specific stimulus is presented (and its parameters held constant!) a *stimulus presentation*.\n",
    "\n",
    "You can find information about the stimulus presentations that were displayed during a session by accessing the `stimulus_presentations` attribute on your `EcephysSession` object. "
   ]
  },
  {
   "cell_type": "code",
   "execution_count": null,
   "metadata": {},
   "outputs": [],
   "source": [
    "session.stimulus_presentations.head()"
   ]
  },
  {
   "cell_type": "markdown",
   "metadata": {},
   "source": [
    "Like the units table, this is a `pandas.DataFrame`. Each row corresponds to a stimulus presentation and lists the time (on the session's master clock, in seconds) when that presentation began and ended as well as the kind of stimulus that was presented (the \"stimulus_name\" column) and the parameter values that were used for that presentation. Many of these parameter values don't overlap between stimulus classes, so the stimulus_presentations table uses the string `\"null\"` to indicate an inapplicable parameter. The index is named \"stimulus_presentation_id\" and many methods on `EcephysSession` use these ids.\n",
    "\n",
    "Some of the columns bear a bit of explanation:\n",
    "- stimulus_block : A block consists of multiple presentations of the same stimulus class presented with (probably) different parameter values. If during a session stimuli were presented in the following order:\n",
    "    - drifting gratings\n",
    "    - static gratings\n",
    "    - drifting gratings\n",
    "    then the blocks for that session would be [0, 1, 2]. The gray period stimulus (just a blank gray screen) never gets a block.\n",
    "- duration : this is just stop_time - start_time, precalculated for convenience.\n",
    "\n",
    "What kinds of stimuli were presented during this session? Pandas makes it easy to find out:"
   ]
  },
  {
   "cell_type": "code",
   "execution_count": null,
   "metadata": {},
   "outputs": [],
   "source": [
    "session.stimulus_names # just the unique values from the 'stimulus_name' column"
   ]
  },
  {
   "cell_type": "markdown",
   "metadata": {},
   "source": [
    "If you are only interested in a subset of stimuli, you can either filter using pandas or using the `get_presentations_for_stimulus` convience method:"
   ]
  },
  {
   "cell_type": "code",
   "execution_count": null,
   "metadata": {},
   "outputs": [],
   "source": [
    "session.get_presentations_for_stimulus(['contrast_response']).head()"
   ]
  },
  {
   "cell_type": "markdown",
   "metadata": {},
   "source": [
    "We might also want to know what the total set of available parameters is. The `get_stimulus_parameter_values` method provides a dictionary mapping stimulus parameters to the set of values that were applied to those parameters:"
   ]
  },
  {
   "cell_type": "code",
   "execution_count": null,
   "metadata": {
    "scrolled": false
   },
   "outputs": [],
   "source": [
    "for key, values in session.get_stimulus_parameter_values().items():\n",
    "    print(f'{key}: {values}')"
   ]
  },
  {
   "cell_type": "markdown",
   "metadata": {},
   "source": [
    "What if we want parameter values for just one kind of stimulus, \"drifting_gratings\" for instance? Let's check the help for `get_stimulus_parameter_values`:"
   ]
  },
  {
   "cell_type": "code",
   "execution_count": null,
   "metadata": {},
   "outputs": [],
   "source": [
    "help(session.get_stimulus_parameter_values)"
   ]
  },
  {
   "cell_type": "markdown",
   "metadata": {},
   "source": [
    "From this help message we can see that `get_stimulus_parameter_values` takes an optional filtering parameter - an array of stimulus presentation ids (the index values from `EcephysSession.stimulus_presentations`). If we first find all of the stimulus presentations where drifting gratings were presented and then supply their ids to `get_stimulus_parameter_values`, we can find out what parameter values were used for drifting gratings in this session:"
   ]
  },
  {
   "cell_type": "code",
   "execution_count": null,
   "metadata": {},
   "outputs": [],
   "source": [
    "drifting_gratings_presentations = session.stimulus_presentations[\n",
    "    session.stimulus_presentations['stimulus_name'] == 'drifting_gratings'\n",
    "]\n",
    "\n",
    "# \".index.values\" takes a dataframe  of presentations and returns a numpy array of presentation ids\n",
    "drifting_gratings_presentation_ids = drifting_gratings_presentations.index.values \n",
    "\n",
    "drifting_gratings_parameter_values = session.get_stimulus_parameter_values(\n",
    "    stimulus_presentation_ids=drifting_gratings_presentation_ids\n",
    ")\n",
    "\n",
    "for key, values in drifting_gratings_parameter_values.items():\n",
    "    print(f'{key}: {values}')"
   ]
  },
  {
   "cell_type": "markdown",
   "metadata": {},
   "source": [
    "It is not necessarily true that all possible parameter value combinations were presented. We can enumerate the combinations that were presented by calling `get_stimulus_conditions`. As with `get_stimulus_parameter_values` we can filter on stimulus presentation ids."
   ]
  },
  {
   "cell_type": "code",
   "execution_count": null,
   "metadata": {},
   "outputs": [],
   "source": [
    "session.get_stimulus_conditions(\n",
    "    stimulus_presentation_ids=drifting_gratings_presentation_ids\n",
    ").head(10)"
   ]
  },
  {
   "cell_type": "markdown",
   "metadata": {},
   "source": [
    "### Spike data\n",
    "\n",
    "The `EcephysSession` object holds spike times (in seconds on the session master clock) for each unit. These are stored in a dictionary, which maps unit ids (the index values of the units table) to arrays of spike times."
   ]
  },
  {
   "cell_type": "code",
   "execution_count": null,
   "metadata": {},
   "outputs": [],
   "source": [
    " # grab an arbitrary (though high-snr!) unit (we made units_with_high_snr above)\n",
    "high_snr_unit_ids = units_with_very_high_snr.index.values\n",
    "unit_id = high_snr_unit_ids[0]\n",
    "\n",
    "print(f'{len(session.spike_times[unit_id])} spikes were detected for unit {unit_id}')\n",
    "session.spike_times[unit_id]"
   ]
  },
  {
   "cell_type": "markdown",
   "metadata": {},
   "source": [
    "You can also obtain spikes tagged with the stimulus presentation during which they occurred:"
   ]
  },
  {
   "cell_type": "code",
   "execution_count": null,
   "metadata": {},
   "outputs": [],
   "source": [
    "# get spike times from the first block of drifting gratings presentations \n",
    "drifting_gratings_presentation_ids = session.stimulus_presentations.loc[\n",
    "    (session.stimulus_presentations['stimulus_name'] == 'drifting_gratings')\n",
    "].index.values\n",
    "\n",
    "times = session.presentationwise_spike_times(\n",
    "    stimulus_presentation_ids=drifting_gratings_presentation_ids,\n",
    "    unit_ids=high_snr_unit_ids\n",
    ")\n",
    "\n",
    "times.head()"
   ]
  },
  {
   "cell_type": "markdown",
   "metadata": {},
   "source": [
    "We can make raster plots of these data:"
   ]
  },
  {
   "cell_type": "code",
   "execution_count": null,
   "metadata": {
    "scrolled": false
   },
   "outputs": [],
   "source": [
    "first_drifting_grating_presentation_id = times['stimulus_presentation_id'].values[0]\n",
    "plot_times = times[times['stimulus_presentation_id'] == first_drifting_grating_presentation_id]\n",
    "\n",
    "fig = raster_plot(plot_times, title=f'spike raster for stimulus presentation {first_drifting_grating_presentation_id}')\n",
    "plt.show()\n",
    "\n",
    "# also print out this presentation\n",
    "session.stimulus_presentations.loc[first_drifting_grating_presentation_id]"
   ]
  },
  {
   "cell_type": "markdown",
   "metadata": {},
   "source": [
    "What if we want to know how many spikes a given stimulus condition evoked? We can call `conditionwise_spike_counts` on our session object"
   ]
  },
  {
   "cell_type": "code",
   "execution_count": null,
   "metadata": {},
   "outputs": [],
   "source": [
    "contrast_response_presentation_ids = session.stimulus_presentations[\n",
    "    session.stimulus_presentations['stimulus_name'].isin(set(['contrast_response']))\n",
    "].index.values\n",
    "\n",
    "\n",
    "contrast_response_spike_counts = session.conditionwise_spike_counts(\n",
    "    unit_ids=high_snr_unit_ids, \n",
    "    stimulus_presentation_ids=contrast_response_presentation_ids\n",
    ")\n",
    "\n",
    "# filter out inapplicable stimulus columns for cleaner display\n",
    "contrast_response_spike_counts = removed_unused_stimulus_presentation_columns(contrast_response_spike_counts)\n",
    "\n",
    "contrast_response_spike_counts.head()"
   ]
  },
  {
   "cell_type": "markdown",
   "metadata": {},
   "source": [
    "We can also get mean spike counts per stimulus condition:"
   ]
  },
  {
   "cell_type": "code",
   "execution_count": null,
   "metadata": {
    "scrolled": false
   },
   "outputs": [],
   "source": [
    "mean_spike_counts = session.conditionwise_mean_spike_counts(\n",
    "    unit_ids=high_snr_unit_ids, \n",
    "    stimulus_presentation_ids=contrast_response_presentation_ids\n",
    ")\n",
    "mean_spike_counts = removed_unused_stimulus_presentation_columns(mean_spike_counts)\n",
    "mean_spike_counts.head()"
   ]
  },
  {
   "cell_type": "markdown",
   "metadata": {},
   "source": [
    "Using this mean spike counts dataframe, we can ask for each unit: which stimulus condition evoked the most activity on average?"
   ]
  },
  {
   "cell_type": "code",
   "execution_count": null,
   "metadata": {},
   "outputs": [],
   "source": [
    "max_rate_conditions = mean_spike_counts.groupby('unit_id')\\\n",
    "    .apply(lambda df: df.loc[df['mean_spike_count'].idxmax()])\n",
    "max_rate_conditions.drop(columns='unit_id', inplace=True)\n",
    "max_rate_conditions.head()"
   ]
  },
  {
   "cell_type": "markdown",
   "metadata": {},
   "source": [
    "### Spike histograms\n",
    "\n",
    "It is commonly useful to compare spike data from across units and stimulus presentations, all relative to the onset of a stimulus presentation. We can do this using the `presentationwise_spike_counts` method. "
   ]
  },
  {
   "cell_type": "code",
   "execution_count": null,
   "metadata": {},
   "outputs": [],
   "source": [
    "# We're going to build an array of spike counts surrounding stimulus presentation onset\n",
    "# To do that, we will need to specify some bins (in seconds, relative to stimulus onset)\n",
    "time_bin_edges = np.linspace(-0.01, 0.4, 200)\n",
    "\n",
    "# look at responses to the flash stimulus\n",
    "flash_250_ms_stimulus_presentation_ids = session.stimulus_presentations[\n",
    "    session.stimulus_presentations['stimulus_name'] == 'flash_250ms'\n",
    "].index.values\n",
    "\n",
    "# and get a set of units with only decent snr\n",
    "decent_snr_unit_ids = session.units[\n",
    "    session.units['snr'] >= 1.5\n",
    "].index.values\n",
    "\n",
    "spike_counts_ds = session.presentationwise_spike_counts(\n",
    "    bin_edges=time_bin_edges,\n",
    "    stimulus_presentation_ids=flash_250_ms_stimulus_presentation_ids,\n",
    "    unit_ids=decent_snr_unit_ids\n",
    ")\n",
    "spike_counts_ds"
   ]
  },
  {
   "cell_type": "markdown",
   "metadata": {},
   "source": [
    "This has returned a new (to this notebook) data structure, the `xarray.DataSet`. You can think of this as similar to a 3+D `pandas.DataFrame`, or as a `numpy.ndarray` with labeled axes and indices. See the [xarray documentation](http://xarray.pydata.org/en/stable/index.html) for more information. In the mean time, the salient features are:\n",
    "\n",
    "- Data variables : One or more (in our case one) multidimensional arrays of data, similar to `numpy.ndarray`s. We can access our data array of spike times like: `ds['spike_counts']`.\n",
    "- Dimensions : Each axis on each data variable is associated with a named dimension. This lets us see unambiguously what the axes of our array mean.\n",
    "- Coordinates : Arrays of labels for each sample on each dimension.\n",
    "\n",
    "xarray is nice because it forces code to be explicit about dimensions and coordinates, improving readability and avoiding bugs. However, you can always convert to numpy or pandas data structures as follows:\n",
    "- to pandas: `spike_counts_ds['spike_counts'].to_dataframe()` produces a multiindexed dataframe\n",
    "- to numpy: `spike_counts_ds['spike_counts'].values` gives you access to the underlying numpy array\n",
    "\n",
    "We can now plot spike counts for a particular presentation:"
   ]
  },
  {
   "cell_type": "code",
   "execution_count": null,
   "metadata": {},
   "outputs": [],
   "source": [
    "presentation_id = 3796 # chosen arbitrarily\n",
    "plot_spike_counts(\n",
    "    spike_counts_ds['spike_counts'].loc[{'stimulus_presentation_id': presentation_id}], \n",
    "    spike_counts_ds['time_relative_to_stimulus_onset'],\n",
    "    'spike count', \n",
    "    f'unitwise spike counts on presentation {presentation_id}'\n",
    ")\n",
    "plt.show()"
   ]
  },
  {
   "cell_type": "markdown",
   "metadata": {},
   "source": [
    "We can also average across all presentations, adding a new data array to the dataset. Notice that this one no longer has a stimulus_presentation_id dimension, as we have collapsed it by averaging."
   ]
  },
  {
   "cell_type": "code",
   "execution_count": null,
   "metadata": {},
   "outputs": [],
   "source": [
    "spike_counts_ds['mean_spike_counts'] = spike_counts_ds['spike_counts'].mean(dim='stimulus_presentation_id')\n",
    "spike_counts_ds"
   ]
  },
  {
   "cell_type": "markdown",
   "metadata": {},
   "source": [
    "... and plot the mean spike counts"
   ]
  },
  {
   "cell_type": "code",
   "execution_count": null,
   "metadata": {
    "scrolled": false
   },
   "outputs": [],
   "source": [
    "plot_spike_counts(\n",
    "    spike_counts_ds['mean_spike_counts'], \n",
    "    spike_counts_ds['time_relative_to_stimulus_onset'],\n",
    "    'mean spike count', \n",
    "    'mean spike counts on flash_250_ms presentations'\n",
    ")\n",
    "plt.show()"
   ]
  },
  {
   "cell_type": "markdown",
   "metadata": {},
   "source": [
    "### Waveforms\n",
    "\n",
    "We store precomputed mean waveforms for each unit in the `mean_waveforms` attribute on the `EcephysSession` object. This is a dictionary which maps unit ids to xarray dataarrays. These have channel and time (seconds, aligned to the detected event times) dimensions. The data values are millivolts, as measured at the recording site."
   ]
  },
  {
   "cell_type": "code",
   "execution_count": null,
   "metadata": {},
   "outputs": [],
   "source": [
    "first_fifteen_units_waveforms = {uid: session.mean_waveforms[uid] for uid in high_snr_unit_ids[:15]}\n",
    "first_fifteen_units_peak_channels = {uid: session.units.loc[uid, 'peak_channel_id'] for uid in high_snr_unit_ids[:15]}\n",
    "\n",
    "# plot the mean waveform on each unit's peak channel/\n",
    "plot_mean_waveforms(first_fifteen_units_waveforms, high_snr_unit_ids[:15], first_fifteen_units_peak_channels)\n",
    "plt.show()"
   ]
  },
  {
   "cell_type": "markdown",
   "metadata": {},
   "source": [
    "### Running Speed\n",
    "\n",
    "We can obtain the velocity at which the experimental subject ran as a function of time by accessing the `running_speed` attribute. This returns a [named tuple](https://docs.python.org/3/library/typing.html?#typing.NamedTuple) with two fields: timestamps and values. Timestamps report when on the session's master clock samples where taken, while values report the linear velocity (cm/s) of the subject at that time. Negative values indicate backwards running.\n",
    "\n",
    "Here we'll plot the running speed trace for a single arbitrary stimulus presentation:"
   ]
  },
  {
   "cell_type": "code",
   "execution_count": null,
   "metadata": {},
   "outputs": [],
   "source": [
    "presentation_3807_rs_timestamp_indices = np.searchsorted(\n",
    "    session.running_speed.timestamps,\n",
    "    [\n",
    "        session.stimulus_presentations.loc[3807, 'start_time'], \n",
    "        session.stimulus_presentations.loc[3807, 'stop_time']\n",
    "    ]\n",
    ")\n",
    "\n",
    "plot_running_speed(\n",
    "    session.running_speed.timestamps, \n",
    "    session.running_speed.values, \n",
    "    start_index=presentation_3807_rs_timestamp_indices[0],\n",
    "    stop_index=presentation_3807_rs_timestamp_indices[1]\n",
    ")\n",
    "plt.show()"
   ]
  },
  {
   "cell_type": "markdown",
   "metadata": {},
   "source": [
    "### Suggested excercises\n",
    "\n",
    "If you would hands-on experience with the `EcephysSession` class, please consider working through some of these excercises.\n",
    "\n",
    "- **tuning curves** : Pick a stimulus parameter, such as orientation on drifting gratings trials. Plot the mean and standard error of spike counts for each unit at each value of this parameter.\n",
    "- **signal correlations** : Calculate unit-pairwise correlation coefficients on the tuning curves for a stimulus parameter of interest (`numpy.corrcoef` might be useful).\n",
    "- **noise correlations** : Build for each unit a vector of spike counts across repeats of the same stimulus condition. Compute unit-unit correlation coefficients on these vectors.\n",
    "- **cross-correlations** : Start with two spike trains. Call one of them \"fixed\" and the other \"moving\". Choose a set of time offsets and for each offset:\n",
    "    1. apply the offset to the spike times in the moving train\n",
    "    2. compute the correlation coefficient between the newly offset moving train and the fixed train.\n",
    "    You should then be able to plot the obtained correlation coeffients as a function of the offset. \n",
    "- **unit clustering** : First, extract a set of unitwise features. You might draw these from the mean waveforms, for instance:\n",
    "    - mean duration between waveform peak and trough (on the unit's peak channel)\n",
    "    - the amplitude of the unit's trough\n",
    "    \n",
    "    or you might draw them from the unit's spike times, such as:\n",
    "    - median inter-spike-interval\n",
    "    \n",
    "    or from metadata\n",
    "    - CCF structure\n",
    "    \n",
    "    With your features in hand, attempt an unsupervised classification of the units. If this seems daunting, check out the [scikit-learn unsupervised learning documention](https://scikit-learn.org/stable/modules/clustering.html#clustering) for library code and examples.\n",
    "- **population decoding** : Using an `EcephysSession` (and filtering to some stimuli and units of interest), build two aligned matrices:\n",
    "    1. A matrix whose rows are stimulus presentations, columns are units, and values are spike counts.\n",
    "    2. A matrix whose rows are stimulus presentations and whose columns are stimulus parameters.\n",
    "    \n",
    "    Using these matrices, train a classifier to predict stimulus conditions (sets of stimulus parameter values) from presentationwise population spike counts. See the [scikit-learn supervised learning tutorial](https://scikit-learn.org/stable/tutorial/statistical_inference/supervised_learning.html) for a guide to supervised learning in Python."
   ]
  },
  {
   "cell_type": "code",
   "execution_count": null,
   "metadata": {},
   "outputs": [],
   "source": []
  }
 ],
 "metadata": {
  "kernelspec": {
   "display_name": "py37",
   "language": "python",
   "name": "py37"
  },
  "language_info": {
   "codemirror_mode": {
    "name": "ipython",
    "version": 3
   },
   "file_extension": ".py",
   "mimetype": "text/x-python",
   "name": "python",
   "nbconvert_exporter": "python",
   "pygments_lexer": "ipython3",
   "version": "3.7.3"
  }
 },
 "nbformat": 4,
 "nbformat_minor": 2
}
