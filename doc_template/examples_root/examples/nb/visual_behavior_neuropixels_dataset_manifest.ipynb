{
 "cells": [
  {
   "cell_type": "markdown",
   "id": "84fd1001",
   "metadata": {
    "papermill": {
     "duration": 0.010432,
     "end_time": "2022-11-22T17:36:38.363993",
     "exception": false,
     "start_time": "2022-11-22T17:36:38.353561",
     "status": "completed"
    },
    "pycharm": {
     "name": "#%% md\n"
    },
    "tags": []
   },
   "source": [
    "# Identifying experiments and sessions of interest using the data manifest"
   ]
  },
  {
   "cell_type": "markdown",
   "id": "7ccbca6e",
   "metadata": {
    "papermill": {
     "duration": 0.009171,
     "end_time": "2022-11-22T17:36:38.382902",
     "exception": false,
     "start_time": "2022-11-22T17:36:38.373731",
     "status": "completed"
    },
    "pycharm": {
     "name": "#%% md\n"
    },
    "tags": []
   },
   "source": [
    "This Jupyter notebook illustrates what data is available as part of the <b>Visual Behavior Neuropixels dataset</b>, and provides a brief description of the experimental design and dimensions of the dataset. The notebook will demonstrate how to identify experiments and sessions that you may be interested in analyzing using the data manifests provided by the `VisualBehaviorNeuropixelsProjectCache`, and explore the metadata columns that describe the experimental conditions including transgenic lines, targeted areas, and session types. \n",
    "\n",
    "Contents\n",
    "-------------\n",
    "* <a href='#Introduction-to-the-metadata-tables'>Introduction to the metadata tables</a>\n",
    "* <a href='#Ecephys-Sessions-Table'>Ecephys Sessions Table</a>\n",
    "* <a href='#Behavior-Sessions-Table'>Behavior Sessions Table</a>\n",
    "* <a href='#Units,-Probes-and-Channels-Tables'>Units, Probes and Channels Table</a>\n",
    "\n",
    "\n",
    "We will first install allensdk into your environment by running the appropriate commands below. "
   ]
  },
  {
   "cell_type": "markdown",
   "id": "6060bfd4",
   "metadata": {
    "papermill": {
     "duration": 0.009215,
     "end_time": "2022-11-22T17:36:38.401444",
     "exception": false,
     "start_time": "2022-11-22T17:36:38.392229",
     "status": "completed"
    },
    "pycharm": {
     "name": "#%% md\n"
    },
    "tags": []
   },
   "source": [
    "## Install AllenSDK into your local environment"
   ]
  },
  {
   "cell_type": "markdown",
   "id": "c6cbc613",
   "metadata": {
    "papermill": {
     "duration": 0.009169,
     "end_time": "2022-11-22T17:36:38.419747",
     "exception": false,
     "start_time": "2022-11-22T17:36:38.410578",
     "status": "completed"
    },
    "pycharm": {
     "name": "#%% md\n"
    },
    "tags": []
   },
   "source": [
    "You can install AllenSDK locally with:"
   ]
  },
  {
   "cell_type": "code",
   "execution_count": 1,
   "id": "a4a73988",
   "metadata": {
    "execution": {
     "iopub.execute_input": "2022-11-22T17:36:38.440477Z",
     "iopub.status.busy": "2022-11-22T17:36:38.439884Z",
     "iopub.status.idle": "2022-11-22T17:36:40.411077Z",
     "shell.execute_reply": "2022-11-22T17:36:40.410279Z"
    },
    "papermill": {
     "duration": 1.983287,
     "end_time": "2022-11-22T17:36:40.412904",
     "exception": false,
     "start_time": "2022-11-22T17:36:38.429617",
     "status": "completed"
    },
    "pycharm": {
     "name": "#%%\n"
    },
    "tags": []
   },
   "outputs": [
    {
     "name": "stdout",
     "output_type": "stream",
     "text": [
      "Defaulting to user installation because normal site-packages is not writeable\r\n",
      "Requirement already satisfied: allensdk in /home/runner/.local/lib/python3.8/site-packages (2.13.9)\r\n",
      "Requirement already satisfied: ndx-events<=0.2.0 in /home/runner/.local/lib/python3.8/site-packages (from allensdk) (0.2.0)\r\n",
      "Requirement already satisfied: h5py in /home/runner/.local/lib/python3.8/site-packages (from allensdk) (3.7.0)\r\n",
      "Requirement already satisfied: aiohttp==3.7.4 in /home/runner/.local/lib/python3.8/site-packages (from allensdk) (3.7.4)\r\n",
      "Requirement already satisfied: numpy in /home/runner/.local/lib/python3.8/site-packages (from allensdk) (1.23.5)\r\n",
      "Requirement already satisfied: psycopg2-binary in /home/runner/.local/lib/python3.8/site-packages (from allensdk) (2.9.5)\r\n",
      "Requirement already satisfied: seaborn<1.0.0 in /home/runner/.local/lib/python3.8/site-packages (from allensdk) (0.12.1)\r\n",
      "Requirement already satisfied: tables<3.7.0,>=3.6.0 in /home/runner/.local/lib/python3.8/site-packages (from allensdk) (3.6.1)\r\n",
      "Requirement already satisfied: requests-toolbelt<1.0.0 in /home/runner/.local/lib/python3.8/site-packages (from allensdk) (0.10.1)\r\n",
      "Requirement already satisfied: six<2.0.0,>=1.9.0 in /usr/lib/python3/dist-packages (from allensdk) (1.14.0)\r\n",
      "Requirement already satisfied: statsmodels<=0.13.0 in /home/runner/.local/lib/python3.8/site-packages (from allensdk) (0.13.0)\r\n",
      "Requirement already satisfied: nest-asyncio in /home/runner/.local/lib/python3.8/site-packages (from allensdk) (1.5.6)\r\n",
      "Requirement already satisfied: hdmf>=2.5.8 in /home/runner/.local/lib/python3.8/site-packages (from allensdk) (3.4.7)\r\n",
      "Requirement already satisfied: scikit-image<0.17.0,>=0.14.0 in /home/runner/.local/lib/python3.8/site-packages (from allensdk) (0.16.2)\r\n",
      "Requirement already satisfied: argschema<4.0.0,>=3.0.1 in /home/runner/.local/lib/python3.8/site-packages (from allensdk) (3.0.4)\r\n",
      "Requirement already satisfied: glymur==0.8.19 in /home/runner/.local/lib/python3.8/site-packages (from allensdk) (0.8.19)\r\n",
      "Requirement already satisfied: matplotlib<3.4.3,>=1.4.3 in /home/runner/.local/lib/python3.8/site-packages (from allensdk) (3.4.2)\r\n",
      "Requirement already satisfied: sqlalchemy in /home/runner/.local/lib/python3.8/site-packages (from allensdk) (1.4.44)\r\n",
      "Requirement already satisfied: simpleitk<3.0.0,>=2.0.2 in /home/runner/.local/lib/python3.8/site-packages (from allensdk) (2.2.0)\r\n",
      "Requirement already satisfied: xarray in /home/runner/.local/lib/python3.8/site-packages (from allensdk) (2022.11.0)\r\n",
      "Requirement already satisfied: pandas>=1.1.5 in /home/runner/.local/lib/python3.8/site-packages (from allensdk) (1.5.1)\r\n",
      "Requirement already satisfied: jinja2>=3.0.0 in /home/runner/.local/lib/python3.8/site-packages (from allensdk) (3.1.2)\r\n",
      "Requirement already satisfied: scipy<2.0.0,>=1.4.0 in /home/runner/.local/lib/python3.8/site-packages (from allensdk) (1.9.3)\r\n",
      "Requirement already satisfied: pynwb in /home/runner/.local/lib/python3.8/site-packages (from allensdk) (2.2.0)\r\n",
      "Requirement already satisfied: simplejson<4.0.0,>=3.10.0 in /usr/lib/python3/dist-packages (from allensdk) (3.16.0)\r\n",
      "Requirement already satisfied: pynrrd<1.0.0,>=0.2.1 in /home/runner/.local/lib/python3.8/site-packages (from allensdk) (0.4.3)\r\n",
      "Requirement already satisfied: future<1.0.0,>=0.14.3 in /home/runner/.local/lib/python3.8/site-packages (from allensdk) (0.18.2)\r\n",
      "Requirement already satisfied: boto3==1.17.21 in /home/runner/.local/lib/python3.8/site-packages (from allensdk) (1.17.21)\r\n",
      "Requirement already satisfied: semver in /home/runner/.local/lib/python3.8/site-packages (from allensdk) (2.13.0)\r\n",
      "Requirement already satisfied: scikit-build<1.0.0 in /home/runner/.local/lib/python3.8/site-packages (from allensdk) (0.16.2)\r\n",
      "Requirement already satisfied: tqdm>=4.27 in /home/runner/.local/lib/python3.8/site-packages (from allensdk) (4.64.1)\r\n",
      "Requirement already satisfied: requests<3.0.0 in /usr/lib/python3/dist-packages (from allensdk) (2.22.0)\r\n",
      "Requirement already satisfied: cachetools<5.0.0,>=4.2.1 in /home/runner/.local/lib/python3.8/site-packages (from allensdk) (4.2.4)\r\n",
      "Requirement already satisfied: multidict<7.0,>=4.5 in /home/runner/.local/lib/python3.8/site-packages (from aiohttp==3.7.4->allensdk) (6.0.2)\r\n",
      "Requirement already satisfied: typing-extensions>=3.6.5 in /home/runner/.local/lib/python3.8/site-packages (from aiohttp==3.7.4->allensdk) (4.4.0)\r\n",
      "Requirement already satisfied: yarl<2.0,>=1.0 in /home/runner/.local/lib/python3.8/site-packages (from aiohttp==3.7.4->allensdk) (1.8.1)\r\n",
      "Requirement already satisfied: async-timeout<4.0,>=3.0 in /home/runner/.local/lib/python3.8/site-packages (from aiohttp==3.7.4->allensdk) (3.0.1)\r\n",
      "Requirement already satisfied: attrs>=17.3.0 in /usr/lib/python3/dist-packages (from aiohttp==3.7.4->allensdk) (19.3.0)\r\n",
      "Requirement already satisfied: chardet<4.0,>=2.0 in /usr/lib/python3/dist-packages (from aiohttp==3.7.4->allensdk) (3.0.4)\r\n",
      "Requirement already satisfied: botocore<1.21.0,>=1.20.21 in /home/runner/.local/lib/python3.8/site-packages (from boto3==1.17.21->allensdk) (1.20.112)\r\n",
      "Requirement already satisfied: s3transfer<0.4.0,>=0.3.0 in /home/runner/.local/lib/python3.8/site-packages (from boto3==1.17.21->allensdk) (0.3.7)\r\n",
      "Requirement already satisfied: jmespath<1.0.0,>=0.7.1 in /home/runner/.local/lib/python3.8/site-packages (from boto3==1.17.21->allensdk) (0.10.0)\r\n",
      "Requirement already satisfied: setuptools in /usr/lib/python3/dist-packages (from glymur==0.8.19->allensdk) (45.2.0)\r\n",
      "Requirement already satisfied: pyyaml in /usr/lib/python3/dist-packages (from argschema<4.0.0,>=3.0.1->allensdk) (5.3.1)\r\n",
      "Requirement already satisfied: marshmallow<4.0,>=3.0.0 in /home/runner/.local/lib/python3.8/site-packages (from argschema<4.0.0,>=3.0.1->allensdk) (3.19.0)\r\n",
      "Requirement already satisfied: jsonschema<5,>=2.6.0 in /usr/lib/python3/dist-packages (from hdmf>=2.5.8->allensdk) (3.2.0)\r\n",
      "Requirement already satisfied: ruamel.yaml<1,>=0.16 in /home/runner/.local/lib/python3.8/site-packages (from hdmf>=2.5.8->allensdk) (0.17.21)\r\n",
      "Requirement already satisfied: MarkupSafe>=2.0 in /home/runner/.local/lib/python3.8/site-packages (from jinja2>=3.0.0->allensdk) (2.1.1)\r\n",
      "Requirement already satisfied: cycler>=0.10 in /home/runner/.local/lib/python3.8/site-packages (from matplotlib<3.4.3,>=1.4.3->allensdk) (0.11.0)\r\n",
      "Requirement already satisfied: pillow>=6.2.0 in /home/runner/.local/lib/python3.8/site-packages (from matplotlib<3.4.3,>=1.4.3->allensdk) (9.3.0)\r\n",
      "Requirement already satisfied: python-dateutil>=2.7 in /home/runner/.local/lib/python3.8/site-packages (from matplotlib<3.4.3,>=1.4.3->allensdk) (2.8.2)\r\n",
      "Requirement already satisfied: kiwisolver>=1.0.1 in /home/runner/.local/lib/python3.8/site-packages (from matplotlib<3.4.3,>=1.4.3->allensdk) (1.4.4)\r\n",
      "Requirement already satisfied: pyparsing>=2.2.1 in /usr/local/lib/python3.8/dist-packages (from matplotlib<3.4.3,>=1.4.3->allensdk) (3.0.9)\r\n",
      "Requirement already satisfied: pytz>=2020.1 in /home/runner/.local/lib/python3.8/site-packages (from pandas>=1.1.5->allensdk) (2022.6)\r\n",
      "Requirement already satisfied: packaging in /usr/local/lib/python3.8/dist-packages (from scikit-build<1.0.0->allensdk) (21.3)\r\n",
      "Requirement already satisfied: distro in /usr/lib/python3/dist-packages (from scikit-build<1.0.0->allensdk) (1.4.0)\r\n",
      "Requirement already satisfied: wheel>=0.32.0 in /usr/lib/python3/dist-packages (from scikit-build<1.0.0->allensdk) (0.34.2)\r\n",
      "Requirement already satisfied: imageio>=2.3.0 in /home/runner/.local/lib/python3.8/site-packages (from scikit-image<0.17.0,>=0.14.0->allensdk) (2.22.4)\r\n",
      "Requirement already satisfied: networkx>=2.0 in /home/runner/.local/lib/python3.8/site-packages (from scikit-image<0.17.0,>=0.14.0->allensdk) (2.8.8)\r\n",
      "Requirement already satisfied: PyWavelets>=0.4.0 in /home/runner/.local/lib/python3.8/site-packages (from scikit-image<0.17.0,>=0.14.0->allensdk) (1.4.1)\r\n",
      "Requirement already satisfied: patsy>=0.5.2 in /home/runner/.local/lib/python3.8/site-packages (from statsmodels<=0.13.0->allensdk) (0.5.3)\r\n",
      "Requirement already satisfied: numexpr>=2.6.2 in /home/runner/.local/lib/python3.8/site-packages (from tables<3.7.0,>=3.6.0->allensdk) (2.8.4)\r\n",
      "Requirement already satisfied: greenlet!=0.4.17 in /home/runner/.local/lib/python3.8/site-packages (from sqlalchemy->allensdk) (2.0.1)\r\n",
      "Requirement already satisfied: urllib3<1.27,>=1.25.4 in /usr/lib/python3/dist-packages (from botocore<1.21.0,>=1.20.21->boto3==1.17.21->allensdk) (1.25.8)\r\n",
      "Requirement already satisfied: ruamel.yaml.clib>=0.2.6 in /home/runner/.local/lib/python3.8/site-packages (from ruamel.yaml<1,>=0.16->hdmf>=2.5.8->allensdk) (0.2.7)\r\n",
      "Requirement already satisfied: idna>=2.0 in /usr/lib/python3/dist-packages (from yarl<2.0,>=1.0->aiohttp==3.7.4->allensdk) (2.8)\r\n"
     ]
    }
   ],
   "source": [
    "!pip install allensdk"
   ]
  },
  {
   "cell_type": "markdown",
   "id": "8fdbaa9c",
   "metadata": {
    "papermill": {
     "duration": 0.009944,
     "end_time": "2022-11-22T17:36:40.433040",
     "exception": false,
     "start_time": "2022-11-22T17:36:40.423096",
     "status": "completed"
    },
    "pycharm": {
     "name": "#%% md\n"
    },
    "tags": []
   },
   "source": [
    "## Install AllenSDK into your notebook environment (good for Google Colab)"
   ]
  },
  {
   "cell_type": "markdown",
   "id": "148b467a",
   "metadata": {
    "papermill": {
     "duration": 0.009548,
     "end_time": "2022-11-22T17:36:40.452376",
     "exception": false,
     "start_time": "2022-11-22T17:36:40.442828",
     "status": "completed"
    },
    "pycharm": {
     "name": "#%% md\n"
    },
    "tags": []
   },
   "source": [
    "You can install AllenSDK into your notebook environment by executing the cell below.\n",
    "\n",
    "If using Google Colab, click on the RESTART RUNTIME button that appears at the end of the output when this cell is complete,. Note that running this cell will produce a long list of outputs and some error messages. Clicking RESTART RUNTIME at the end will resolve these issues.\n",
    "You can minimize the cell after you are done to hide the output."
   ]
  },
  {
   "cell_type": "code",
   "execution_count": 2,
   "id": "b2366c72",
   "metadata": {
    "execution": {
     "iopub.execute_input": "2022-11-22T17:36:40.472909Z",
     "iopub.status.busy": "2022-11-22T17:36:40.472522Z",
     "iopub.status.idle": "2022-11-22T17:36:44.079588Z",
     "shell.execute_reply": "2022-11-22T17:36:44.078771Z"
    },
    "papermill": {
     "duration": 3.620013,
     "end_time": "2022-11-22T17:36:44.081768",
     "exception": false,
     "start_time": "2022-11-22T17:36:40.461755",
     "status": "completed"
    },
    "pycharm": {
     "name": "#%%\n"
    },
    "tags": []
   },
   "outputs": [
    {
     "name": "stdout",
     "output_type": "stream",
     "text": [
      "Defaulting to user installation because normal site-packages is not writeable\r\n",
      "Requirement already satisfied: pip in /home/runner/.local/lib/python3.8/site-packages (22.3.1)\r\n",
      "Defaulting to user installation because normal site-packages is not writeable\r\n",
      "Requirement already satisfied: allensdk in /home/runner/.local/lib/python3.8/site-packages (2.13.9)\r\n",
      "Requirement already satisfied: simplejson<4.0.0,>=3.10.0 in /usr/lib/python3/dist-packages (from allensdk) (3.16.0)\r\n",
      "Requirement already satisfied: ndx-events<=0.2.0 in /home/runner/.local/lib/python3.8/site-packages (from allensdk) (0.2.0)\r\n",
      "Requirement already satisfied: jinja2>=3.0.0 in /home/runner/.local/lib/python3.8/site-packages (from allensdk) (3.1.2)\r\n",
      "Requirement already satisfied: simpleitk<3.0.0,>=2.0.2 in /home/runner/.local/lib/python3.8/site-packages (from allensdk) (2.2.0)\r\n",
      "Requirement already satisfied: cachetools<5.0.0,>=4.2.1 in /home/runner/.local/lib/python3.8/site-packages (from allensdk) (4.2.4)\r\n",
      "Requirement already satisfied: hdmf>=2.5.8 in /home/runner/.local/lib/python3.8/site-packages (from allensdk) (3.4.7)\r\n",
      "Requirement already satisfied: semver in /home/runner/.local/lib/python3.8/site-packages (from allensdk) (2.13.0)\r\n",
      "Requirement already satisfied: boto3==1.17.21 in /home/runner/.local/lib/python3.8/site-packages (from allensdk) (1.17.21)\r\n",
      "Requirement already satisfied: xarray in /home/runner/.local/lib/python3.8/site-packages (from allensdk) (2022.11.0)\r\n",
      "Requirement already satisfied: sqlalchemy in /home/runner/.local/lib/python3.8/site-packages (from allensdk) (1.4.44)\r\n",
      "Requirement already satisfied: pynrrd<1.0.0,>=0.2.1 in /home/runner/.local/lib/python3.8/site-packages (from allensdk) (0.4.3)\r\n",
      "Requirement already satisfied: pynwb in /home/runner/.local/lib/python3.8/site-packages (from allensdk) (2.2.0)\r\n",
      "Requirement already satisfied: tables<3.7.0,>=3.6.0 in /home/runner/.local/lib/python3.8/site-packages (from allensdk) (3.6.1)\r\n",
      "Requirement already satisfied: seaborn<1.0.0 in /home/runner/.local/lib/python3.8/site-packages (from allensdk) (0.12.1)\r\n",
      "Requirement already satisfied: h5py in /home/runner/.local/lib/python3.8/site-packages (from allensdk) (3.7.0)\r\n",
      "Requirement already satisfied: future<1.0.0,>=0.14.3 in /home/runner/.local/lib/python3.8/site-packages (from allensdk) (0.18.2)\r\n",
      "Requirement already satisfied: matplotlib<3.4.3,>=1.4.3 in /home/runner/.local/lib/python3.8/site-packages (from allensdk) (3.4.2)\r\n",
      "Requirement already satisfied: requests<3.0.0 in /usr/lib/python3/dist-packages (from allensdk) (2.22.0)\r\n",
      "Requirement already satisfied: requests-toolbelt<1.0.0 in /home/runner/.local/lib/python3.8/site-packages (from allensdk) (0.10.1)\r\n",
      "Requirement already satisfied: aiohttp==3.7.4 in /home/runner/.local/lib/python3.8/site-packages (from allensdk) (3.7.4)\r\n",
      "Requirement already satisfied: scikit-build<1.0.0 in /home/runner/.local/lib/python3.8/site-packages (from allensdk) (0.16.2)\r\n",
      "Requirement already satisfied: nest-asyncio in /home/runner/.local/lib/python3.8/site-packages (from allensdk) (1.5.6)\r\n",
      "Requirement already satisfied: glymur==0.8.19 in /home/runner/.local/lib/python3.8/site-packages (from allensdk) (0.8.19)\r\n",
      "Requirement already satisfied: scikit-image<0.17.0,>=0.14.0 in /home/runner/.local/lib/python3.8/site-packages (from allensdk) (0.16.2)\r\n",
      "Requirement already satisfied: psycopg2-binary in /home/runner/.local/lib/python3.8/site-packages (from allensdk) (2.9.5)\r\n",
      "Requirement already satisfied: six<2.0.0,>=1.9.0 in /usr/lib/python3/dist-packages (from allensdk) (1.14.0)\r\n",
      "Requirement already satisfied: scipy<2.0.0,>=1.4.0 in /home/runner/.local/lib/python3.8/site-packages (from allensdk) (1.9.3)\r\n",
      "Requirement already satisfied: tqdm>=4.27 in /home/runner/.local/lib/python3.8/site-packages (from allensdk) (4.64.1)\r\n",
      "Requirement already satisfied: numpy in /home/runner/.local/lib/python3.8/site-packages (from allensdk) (1.23.5)\r\n",
      "Requirement already satisfied: pandas>=1.1.5 in /home/runner/.local/lib/python3.8/site-packages (from allensdk) (1.5.1)\r\n",
      "Requirement already satisfied: argschema<4.0.0,>=3.0.1 in /home/runner/.local/lib/python3.8/site-packages (from allensdk) (3.0.4)\r\n",
      "Requirement already satisfied: statsmodels<=0.13.0 in /home/runner/.local/lib/python3.8/site-packages (from allensdk) (0.13.0)\r\n",
      "Requirement already satisfied: multidict<7.0,>=4.5 in /home/runner/.local/lib/python3.8/site-packages (from aiohttp==3.7.4->allensdk) (6.0.2)\r\n",
      "Requirement already satisfied: yarl<2.0,>=1.0 in /home/runner/.local/lib/python3.8/site-packages (from aiohttp==3.7.4->allensdk) (1.8.1)\r\n",
      "Requirement already satisfied: async-timeout<4.0,>=3.0 in /home/runner/.local/lib/python3.8/site-packages (from aiohttp==3.7.4->allensdk) (3.0.1)\r\n",
      "Requirement already satisfied: attrs>=17.3.0 in /usr/lib/python3/dist-packages (from aiohttp==3.7.4->allensdk) (19.3.0)\r\n",
      "Requirement already satisfied: typing-extensions>=3.6.5 in /home/runner/.local/lib/python3.8/site-packages (from aiohttp==3.7.4->allensdk) (4.4.0)\r\n",
      "Requirement already satisfied: chardet<4.0,>=2.0 in /usr/lib/python3/dist-packages (from aiohttp==3.7.4->allensdk) (3.0.4)\r\n",
      "Requirement already satisfied: botocore<1.21.0,>=1.20.21 in /home/runner/.local/lib/python3.8/site-packages (from boto3==1.17.21->allensdk) (1.20.112)\r\n",
      "Requirement already satisfied: s3transfer<0.4.0,>=0.3.0 in /home/runner/.local/lib/python3.8/site-packages (from boto3==1.17.21->allensdk) (0.3.7)\r\n",
      "Requirement already satisfied: jmespath<1.0.0,>=0.7.1 in /home/runner/.local/lib/python3.8/site-packages (from boto3==1.17.21->allensdk) (0.10.0)\r\n",
      "Requirement already satisfied: setuptools in /usr/lib/python3/dist-packages (from glymur==0.8.19->allensdk) (45.2.0)\r\n",
      "Requirement already satisfied: marshmallow<4.0,>=3.0.0 in /home/runner/.local/lib/python3.8/site-packages (from argschema<4.0.0,>=3.0.1->allensdk) (3.19.0)\r\n",
      "Requirement already satisfied: pyyaml in /usr/lib/python3/dist-packages (from argschema<4.0.0,>=3.0.1->allensdk) (5.3.1)\r\n",
      "Requirement already satisfied: jsonschema<5,>=2.6.0 in /usr/lib/python3/dist-packages (from hdmf>=2.5.8->allensdk) (3.2.0)\r\n",
      "Requirement already satisfied: ruamel.yaml<1,>=0.16 in /home/runner/.local/lib/python3.8/site-packages (from hdmf>=2.5.8->allensdk) (0.17.21)\r\n",
      "Requirement already satisfied: MarkupSafe>=2.0 in /home/runner/.local/lib/python3.8/site-packages (from jinja2>=3.0.0->allensdk) (2.1.1)\r\n",
      "Requirement already satisfied: pillow>=6.2.0 in /home/runner/.local/lib/python3.8/site-packages (from matplotlib<3.4.3,>=1.4.3->allensdk) (9.3.0)\r\n",
      "Requirement already satisfied: pyparsing>=2.2.1 in /usr/local/lib/python3.8/dist-packages (from matplotlib<3.4.3,>=1.4.3->allensdk) (3.0.9)\r\n",
      "Requirement already satisfied: python-dateutil>=2.7 in /home/runner/.local/lib/python3.8/site-packages (from matplotlib<3.4.3,>=1.4.3->allensdk) (2.8.2)\r\n",
      "Requirement already satisfied: kiwisolver>=1.0.1 in /home/runner/.local/lib/python3.8/site-packages (from matplotlib<3.4.3,>=1.4.3->allensdk) (1.4.4)\r\n",
      "Requirement already satisfied: cycler>=0.10 in /home/runner/.local/lib/python3.8/site-packages (from matplotlib<3.4.3,>=1.4.3->allensdk) (0.11.0)\r\n",
      "Requirement already satisfied: pytz>=2020.1 in /home/runner/.local/lib/python3.8/site-packages (from pandas>=1.1.5->allensdk) (2022.6)\r\n",
      "Requirement already satisfied: wheel>=0.32.0 in /usr/lib/python3/dist-packages (from scikit-build<1.0.0->allensdk) (0.34.2)\r\n",
      "Requirement already satisfied: distro in /usr/lib/python3/dist-packages (from scikit-build<1.0.0->allensdk) (1.4.0)\r\n",
      "Requirement already satisfied: packaging in /usr/local/lib/python3.8/dist-packages (from scikit-build<1.0.0->allensdk) (21.3)\r\n",
      "Requirement already satisfied: PyWavelets>=0.4.0 in /home/runner/.local/lib/python3.8/site-packages (from scikit-image<0.17.0,>=0.14.0->allensdk) (1.4.1)\r\n",
      "Requirement already satisfied: networkx>=2.0 in /home/runner/.local/lib/python3.8/site-packages (from scikit-image<0.17.0,>=0.14.0->allensdk) (2.8.8)\r\n",
      "Requirement already satisfied: imageio>=2.3.0 in /home/runner/.local/lib/python3.8/site-packages (from scikit-image<0.17.0,>=0.14.0->allensdk) (2.22.4)\r\n",
      "Requirement already satisfied: patsy>=0.5.2 in /home/runner/.local/lib/python3.8/site-packages (from statsmodels<=0.13.0->allensdk) (0.5.3)\r\n",
      "Requirement already satisfied: numexpr>=2.6.2 in /home/runner/.local/lib/python3.8/site-packages (from tables<3.7.0,>=3.6.0->allensdk) (2.8.4)\r\n",
      "Requirement already satisfied: greenlet!=0.4.17 in /home/runner/.local/lib/python3.8/site-packages (from sqlalchemy->allensdk) (2.0.1)\r\n",
      "Requirement already satisfied: urllib3<1.27,>=1.25.4 in /usr/lib/python3/dist-packages (from botocore<1.21.0,>=1.20.21->boto3==1.17.21->allensdk) (1.25.8)\r\n",
      "Requirement already satisfied: ruamel.yaml.clib>=0.2.6 in /home/runner/.local/lib/python3.8/site-packages (from ruamel.yaml<1,>=0.16->hdmf>=2.5.8->allensdk) (0.2.7)\r\n",
      "Requirement already satisfied: idna>=2.0 in /usr/lib/python3/dist-packages (from yarl<2.0,>=1.0->aiohttp==3.7.4->allensdk) (2.8)\r\n"
     ]
    }
   ],
   "source": [
    "!pip install --upgrade pip\n",
    "!pip install allensdk"
   ]
  },
  {
   "cell_type": "markdown",
   "id": "4af0fcb7",
   "metadata": {
    "papermill": {
     "duration": 0.010381,
     "end_time": "2022-11-22T17:36:44.102546",
     "exception": false,
     "start_time": "2022-11-22T17:36:44.092165",
     "status": "completed"
    },
    "pycharm": {
     "name": "#%% md\n"
    },
    "tags": []
   },
   "source": [
    "## Import necessary packages"
   ]
  },
  {
   "cell_type": "code",
   "execution_count": 3,
   "id": "c8d7a12e",
   "metadata": {
    "execution": {
     "iopub.execute_input": "2022-11-22T17:36:44.124654Z",
     "iopub.status.busy": "2022-11-22T17:36:44.123972Z",
     "iopub.status.idle": "2022-11-22T17:36:48.589922Z",
     "shell.execute_reply": "2022-11-22T17:36:48.589282Z"
    },
    "papermill": {
     "duration": 4.479054,
     "end_time": "2022-11-22T17:36:48.591625",
     "exception": false,
     "start_time": "2022-11-22T17:36:44.112571",
     "status": "completed"
    },
    "pycharm": {
     "name": "#%%\n"
    },
    "tags": []
   },
   "outputs": [
    {
     "name": "stderr",
     "output_type": "stream",
     "text": [
      "/home/runner/.local/lib/python3.8/site-packages/tqdm/auto.py:22: TqdmWarning: IProgress not found. Please update jupyter and ipywidgets. See https://ipywidgets.readthedocs.io/en/stable/user_install.html\n",
      "  from .autonotebook import tqdm as notebook_tqdm\n"
     ]
    }
   ],
   "source": [
    "import numpy as np\n",
    "import pandas as pd\n",
    "from pathlib import Path\n",
    "\n",
    "import allensdk\n",
    "from allensdk.brain_observatory.behavior.behavior_project_cache.\\\n",
    "    behavior_neuropixels_project_cache \\\n",
    "    import VisualBehaviorNeuropixelsProjectCache"
   ]
  },
  {
   "cell_type": "markdown",
   "id": "ecf6f957",
   "metadata": {
    "papermill": {
     "duration": 0.010349,
     "end_time": "2022-11-22T17:36:48.612634",
     "exception": false,
     "start_time": "2022-11-22T17:36:48.602285",
     "status": "completed"
    },
    "pycharm": {
     "name": "#%% md\n"
    },
    "tags": []
   },
   "source": [
    "## First, load the project cache - your access point for all tables and data"
   ]
  },
  {
   "cell_type": "code",
   "execution_count": 4,
   "id": "cce05847",
   "metadata": {
    "execution": {
     "iopub.execute_input": "2022-11-22T17:36:48.634461Z",
     "iopub.status.busy": "2022-11-22T17:36:48.633626Z",
     "iopub.status.idle": "2022-11-22T17:36:48.637218Z",
     "shell.execute_reply": "2022-11-22T17:36:48.636663Z"
    },
    "papermill": {
     "duration": 0.015871,
     "end_time": "2022-11-22T17:36:48.638576",
     "exception": false,
     "start_time": "2022-11-22T17:36:48.622705",
     "status": "completed"
    },
    "pycharm": {
     "name": "#%%\n"
    },
    "tags": [
     "parameters"
    ]
   },
   "outputs": [],
   "source": [
    "# Update this to a valid directory in your filesystem. This is where the data will be stored.\n",
    "output_dir = \"/path/to/vbn_cache\""
   ]
  },
  {
   "cell_type": "code",
   "execution_count": 6,
   "id": "fa821481",
   "metadata": {
    "execution": {
     "iopub.execute_input": "2022-11-22T17:36:48.686158Z",
     "iopub.status.busy": "2022-11-22T17:36:48.685549Z",
     "iopub.status.idle": "2022-11-22T17:36:57.417018Z",
     "shell.execute_reply": "2022-11-22T17:36:57.416362Z"
    },
    "papermill": {
     "duration": 8.744142,
     "end_time": "2022-11-22T17:36:57.418668",
     "exception": false,
     "start_time": "2022-11-22T17:36:48.674526",
     "status": "completed"
    },
    "pycharm": {
     "name": "#%%\n"
    },
    "tags": []
   },
   "outputs": [
    {
     "name": "stderr",
     "output_type": "stream",
     "text": [
      "/home/runner/work/AllenSDK/AllenSDK/allensdk/api/cloud_cache/cloud_cache.py:413: MissingLocalManifestWarning: This cache directory appears to contain data files, but it has no record of what those files are. You might want to consider running\n",
      "\n",
      "VisualBehaviorNeuropixelsProjectCache.construct_local_manifest()\n",
      "\n",
      "to avoid needlessly downloading duplicates of data files that did not change between data releases. NOTE: running this method will require hashing every data file you have currently downloaded and could be very time consuming.\n",
      "\n",
      "To avoid this warning in the future, make sure that\n",
      "\n",
      "/tmp/tmpvojbrrbl/_downloaded_data.json\n",
      "\n",
      "is not deleted between instantiations of this cache\n",
      "  warnings.warn(msg, MissingLocalManifestWarning)\n",
      "ecephys_sessions.csv: 100%|██████████| 63.5k/63.5k [00:00<00:00, 587kMB/s] \n",
      "behavior_sessions.csv: 100%|██████████| 531k/531k [00:00<00:00, 1.68MMB/s]\n",
      "units.csv: 100%|██████████| 132M/132M [00:04<00:00, 31.2MMB/s]\n",
      "probes.csv: 100%|██████████| 127k/127k [00:00<00:00, 761kMB/s]  \n",
      "channels.csv: 100%|██████████| 27.9M/27.9M [00:01<00:00, 25.6MMB/s]\n"
     ]
    }
   ],
   "source": [
    "cache = VisualBehaviorNeuropixelsProjectCache.from_s3_cache(\n",
    "            cache_dir=Path(output_dir))"
   ]
  },
  {
   "cell_type": "code",
   "execution_count": 7,
   "id": "323bba07",
   "metadata": {
    "execution": {
     "iopub.execute_input": "2022-11-22T17:36:57.449035Z",
     "iopub.status.busy": "2022-11-22T17:36:57.448508Z",
     "iopub.status.idle": "2022-11-22T17:36:59.321380Z",
     "shell.execute_reply": "2022-11-22T17:36:59.320692Z"
    },
    "papermill": {
     "duration": 1.889973,
     "end_time": "2022-11-22T17:36:59.323408",
     "exception": false,
     "start_time": "2022-11-22T17:36:57.433435",
     "status": "completed"
    },
    "pycharm": {
     "name": "#%%\n"
    },
    "tags": []
   },
   "outputs": [],
   "source": [
    "cache = VisualBehaviorNeuropixelsProjectCache.from_s3_cache(\n",
    "            cache_dir=Path(output_dir))"
   ]
  },
  {
   "cell_type": "markdown",
   "id": "95cdc052",
   "metadata": {
    "papermill": {
     "duration": 0.012807,
     "end_time": "2022-11-22T17:36:59.349756",
     "exception": false,
     "start_time": "2022-11-22T17:36:59.336949",
     "status": "completed"
    },
    "pycharm": {
     "name": "#%% md\n"
    },
    "tags": []
   },
   "source": [
    "## Introduction to the metadata tables"
   ]
  },
  {
   "cell_type": "markdown",
   "id": "1824a707",
   "metadata": {
    "papermill": {
     "duration": 0.012773,
     "end_time": "2022-11-22T17:36:59.375116",
     "exception": false,
     "start_time": "2022-11-22T17:36:59.362343",
     "status": "completed"
    },
    "pycharm": {
     "name": "#%% md\n"
    },
    "tags": []
   },
   "source": [
    "## Introduction to the metadata tables"
   ]
  },
  {
   "cell_type": "markdown",
   "id": "315190b7",
   "metadata": {
    "collapsed": false,
    "papermill": {
     "duration": 0.012608,
     "end_time": "2022-11-22T17:36:59.400120",
     "exception": false,
     "start_time": "2022-11-22T17:36:59.387512",
     "status": "completed"
    },
    "pycharm": {
     "name": "#%% md\n"
    },
    "tags": []
   },
   "source": [
    "## Introduction to the metadata tables"
   ]
  },
  {
   "cell_type": "markdown",
   "id": "db2e3d5b",
   "metadata": {
    "collapsed": false,
    "papermill": {
     "duration": 0.012501,
     "end_time": "2022-11-22T17:36:59.425015",
     "exception": false,
     "start_time": "2022-11-22T17:36:59.412514",
     "status": "completed"
    },
    "pycharm": {
     "name": "#%% md\n"
    },
    "tags": []
   },
   "source": [
    "The data manifest is comprised of 5 types of tables: \n",
    "\n",
    "1. `ecephys_sessions_table` (64 kB)\n",
    "2. `behavior_sessions_table` (531 kB)\n",
    "3. `units_table` (130 MB)\n",
    "4. `probes_table` (127 kB)\n",
    "5. `channels_table` (28 MB)\n",
    "\n",
    "The `ecephys_sessions_table` contains metadata for every <b>Neuropixels recording session</b> in the dataset. We attempted to insert 6 probes for each experiment, but occasionally individual insertions failed. The `probe_count` column tells you how many probes were inserted for a given session. The `structure_acronyms` column indicates which brain areas were targeted. For the majority of mice, there are two recording sessions. These were run on consecutive days with two different image sets, `G` and `H`. The `experience_level` column tells you whether the image set used for a particular recording was the same as the training image set (`Familiar`), or different from the training image set (`Novel`).\n",
    "\n",
    "The `behavior_sessions_table` contains metadata for each behavior session. Some behavior sessions have Neuropixels data associated with them, while others took place during training in the behavior facility. The different training stages that mice progressed through are described by the `session_type`. \n",
    "\n",
    "The `units_table` contains metadata for every unit in the release. Each unit can be linked to the corresponding recording session, probe and channel by the `ecephys_session_id`, `ecephys_probe_id` and `ecephys_channel_id` columns. This table also contains a number of helpful quality metrics, which can be used to filter out contaminated units before analysis. For more guidance on how to use these metrics, check out [this tutorial](https://allensdk.readthedocs.io/en/latest/_static/examples/nb/visual_behavior_neuropixels_quality_metrics.html).\n",
    "\n",
    "The `probes_table` contains metadata for each probe insertion.\n",
    "\n",
    "The `channels_table` contains metadata for each channel recorded during an ephys session. This table provides useful info about where a particular channel is located in the Allen Common Coordinate Framework as well as it's relative position on the probe.\n",
    "\n",
    "Now let's look at a few of these tables in more detail to get a better sense of the dataset."
   ]
  },
  {
   "cell_type": "markdown",
   "id": "c6b0210f",
   "metadata": {
    "papermill": {
     "duration": 0.013017,
     "end_time": "2022-11-22T17:36:59.450591",
     "exception": false,
     "start_time": "2022-11-22T17:36:59.437574",
     "status": "completed"
    },
    "pycharm": {
     "name": "#%% md\n"
    },
    "tags": []
   },
   "source": [
    "The data manifest is comprised of 5 types of tables: \n",
    "\n",
    "1. `ecephys_sessions_table` (64 kB)\n",
    "2. `behavior_sessions_table` (531 kB)\n",
    "3. `units_table` (130 MB)\n",
    "4. `probes_table` (127 kB)\n",
    "5. `channels_table` (28 MB)\n",
    "\n",
    "The `ecephys_sessions_table` contains metadata for every <b>Neuropixels recording session</b> in the dataset. We attempted to insert 6 probes for each experiment, but occasionally individual insertions failed. The `probe_count` column tells you how many probes were inserted for a given session. The `structure_acronyms` column indicates which brain areas were targeted. For the majority of mice, there are two recording sessions. These were run on consecutive days with two different image sets, `G` and `H`. The `experience_level` column tells you whether the image set used for a particular recording was the same as the training image set (`Familiar`), or different from the training image set (`Novel`).\n",
    "\n",
    "The `behavior_sessions_table` contains metadata for each behavior session. Some behavior sessions have Neuropixels data associated with them, while others took place during training in the behavior facility. The different training stages that mice progressed through are described by the `session_type`. \n",
    "\n",
    "The `units_table` contains metadata for every unit in the release. Each unit can be linked to the corresponding recording session, probe and channel by the `ecephys_session_id`, `ecephys_probe_id` and `ecephys_channel_id` columns. This table also contains a number of helpful quality metrics, which can be used to filter out contaminated units before analysis. For more guidance on how to use these metrics, check out [this tutorial](https://allensdk.readthedocs.io/en/latest/_static/examples/nb/visual_behavior_neuropixels_quality_metrics.html).\n",
    "\n",
    "The `probes_table` contains metadata for each probe insertion.\n",
    "\n",
    "The `channels_table` contains metadata for each channel recorded during an ephys session. This table provides useful info about where a particular channel is located in the Allen Common Coordinate Framework as well as it's relative position on the probe.\n",
    "\n",
    "Now let's look at a few of these tables in more detail to get a better sense of the dataset."
   ]
  },
  {
   "cell_type": "markdown",
   "id": "971bc05f",
   "metadata": {
    "papermill": {
     "duration": 0.012714,
     "end_time": "2022-11-22T17:36:59.475882",
     "exception": false,
     "start_time": "2022-11-22T17:36:59.463168",
     "status": "completed"
    },
    "pycharm": {
     "name": "#%% md\n"
    },
    "tags": []
   },
   "source": [
    "## Ecephys Sessions Table"
   ]
  },
  {
   "cell_type": "markdown",
   "id": "5bfe5dac",
   "metadata": {
    "papermill": {
     "duration": 0.012568,
     "end_time": "2022-11-22T17:36:59.501091",
     "exception": false,
     "start_time": "2022-11-22T17:36:59.488523",
     "status": "completed"
    },
    "pycharm": {
     "name": "#%% md\n"
    },
    "tags": []
   },
   "source": [
    "### Load the `ecephys_sessions_table` from the cache\n",
    "\n",
    "First let's just look at the columns to see what metadata is provided for each session:"
   ]
  },
  {
   "cell_type": "code",
   "execution_count": 8,
   "id": "f8813a37",
   "metadata": {
    "execution": {
     "iopub.execute_input": "2022-11-22T17:36:59.528106Z",
     "iopub.status.busy": "2022-11-22T17:36:59.527650Z",
     "iopub.status.idle": "2022-11-22T17:36:59.538226Z",
     "shell.execute_reply": "2022-11-22T17:36:59.537611Z"
    },
    "papermill": {
     "duration": 0.025897,
     "end_time": "2022-11-22T17:36:59.539647",
     "exception": false,
     "start_time": "2022-11-22T17:36:59.513750",
     "status": "completed"
    },
    "pycharm": {
     "name": "#%%\n"
    },
    "tags": []
   },
   "outputs": [
    {
     "data": {
      "text/plain": [
       "Index(['behavior_session_id', 'date_of_acquisition', 'equipment_name',\n",
       "       'session_type', 'mouse_id', 'genotype', 'sex', 'project_code',\n",
       "       'age_in_days', 'unit_count', 'probe_count', 'channel_count',\n",
       "       'structure_acronyms', 'image_set', 'prior_exposures_to_image_set',\n",
       "       'session_number', 'experience_level', 'prior_exposures_to_omissions',\n",
       "       'file_id', 'abnormal_histology', 'abnormal_activity'],\n",
       "      dtype='object')"
      ]
     },
     "execution_count": 8,
     "metadata": {},
     "output_type": "execute_result"
    }
   ],
   "source": [
    "ecephys_sessions_table = cache.get_ecephys_session_table()\n",
    "ecephys_sessions_table.columns"
   ]
  },
  {
   "cell_type": "markdown",
   "id": "31b59454",
   "metadata": {
    "papermill": {
     "duration": 0.012852,
     "end_time": "2022-11-22T17:36:59.565494",
     "exception": false,
     "start_time": "2022-11-22T17:36:59.552642",
     "status": "completed"
    },
    "pycharm": {
     "name": "#%% md\n"
    },
    "tags": []
   },
   "source": [
    "This table gives us lots of useful metadata about each recording session, including the genotype, sex and age of the mouse that was run, what brain areas were recorded and some important info about the stimulus. \n",
    "\n",
    "To demystify a few of these columns, let's briefly review the experimental design. Each mouse was trained with one of two image sets (`G` or `H`). For the majority of mice, we recorded two sessions: one with the trained 'familiar' image set and one with a 'novel' image set. Note that two of the eight images were shared across these two image sets as diagrammed below for an example mouse. For this mouse, image set `G` (images on blue and purple backgrounds) was used in training and was therefore 'familiar', while image set `H` (the two holdover images on purple background plus six novel images on red background) was 'novel'. "
   ]
  },
  {
   "cell_type": "markdown",
   "id": "3004173a",
   "metadata": {
    "papermill": {
     "duration": 0.012732,
     "end_time": "2022-11-22T17:36:59.591028",
     "exception": false,
     "start_time": "2022-11-22T17:36:59.578296",
     "status": "completed"
    },
    "pycharm": {
     "name": "#%% md\n"
    },
    "tags": []
   },
   "source": [
    "<div>\n",
    "<img src=\"https://brainmapportal-live-4cc80a57cd6e400d854-f7fdcae.divio-media.net/filer_public/f1/d1/f1d140bc-228a-4328-bdca-e3383a1a46f0/image_sets_and_training_trajectories_diagram_defaultsdk_and_unfiltered.png\", width=\"900\"/>\n",
    "</div>"
   ]
  },
  {
   "cell_type": "markdown",
   "id": "f7ec63af",
   "metadata": {
    "papermill": {
     "duration": 0.012933,
     "end_time": "2022-11-22T17:36:59.616561",
     "exception": false,
     "start_time": "2022-11-22T17:36:59.603628",
     "status": "completed"
    },
    "pycharm": {
     "name": "#%% md\n"
    },
    "tags": []
   },
   "source": [
    "So, each recording session can be defined by a few parameters, including the `image_set` used (G or H), the `experience_level` of the mouse (indicating whether the mouse had seen the image set in previous training sessions) and the `session_number` (indicating whether it was the first or second recording day for the mouse). In bottom bubble of the above diagram, you can see the three different training/recording trajectories mice in this dataset took:\n",
    "\n",
    "* Train on G; see G on first recording day; see H on second recording day\n",
    "* Train on G; see H on first recording day; see G on second recording day\n",
    "* Train on H; see H on first recording day; see G on second recording day\n",
    "\n",
    "The numbers in the recording session cells indicate how many of each session type exist in this dataset. The first number is what the SDK returns by default. The second number (in parentheses) is what the SDK returns without filtering for abnormalities (see below as well as the [Data Access tutorial](https://allensdk.readthedocs.io/en/latest/_static/examples/nb/visual_behavior_neuropixels_data_access.html)).\n",
    "\n",
    "Let's look at how many sessions we have of each type in our ecephys_sessions_table to corroborate these numbers:"
   ]
  },
  {
   "cell_type": "code",
   "execution_count": 9,
   "id": "725bbf5d",
   "metadata": {
    "execution": {
     "iopub.execute_input": "2022-11-22T17:36:59.643670Z",
     "iopub.status.busy": "2022-11-22T17:36:59.642966Z",
     "iopub.status.idle": "2022-11-22T17:36:59.662273Z",
     "shell.execute_reply": "2022-11-22T17:36:59.661606Z"
    },
    "papermill": {
     "duration": 0.034558,
     "end_time": "2022-11-22T17:36:59.663744",
     "exception": false,
     "start_time": "2022-11-22T17:36:59.629186",
     "status": "completed"
    },
    "pycharm": {
     "name": "#%%\n"
    },
    "tags": []
   },
   "outputs": [
    {
     "data": {
      "text/html": [
       "<div>\n",
       "<style scoped>\n",
       "    .dataframe tbody tr th:only-of-type {\n",
       "        vertical-align: middle;\n",
       "    }\n",
       "\n",
       "    .dataframe tbody tr th {\n",
       "        vertical-align: top;\n",
       "    }\n",
       "\n",
       "    .dataframe thead th {\n",
       "        text-align: right;\n",
       "    }\n",
       "</style>\n",
       "<table border=\"1\" class=\"dataframe\">\n",
       "  <thead>\n",
       "    <tr style=\"text-align: right;\">\n",
       "      <th></th>\n",
       "      <th>image_set</th>\n",
       "      <th>G</th>\n",
       "      <th>H</th>\n",
       "    </tr>\n",
       "    <tr>\n",
       "      <th>session_number</th>\n",
       "      <th>experience_level</th>\n",
       "      <th></th>\n",
       "      <th></th>\n",
       "    </tr>\n",
       "  </thead>\n",
       "  <tbody>\n",
       "    <tr>\n",
       "      <th rowspan=\"2\" valign=\"top\">1</th>\n",
       "      <th>Familiar</th>\n",
       "      <td>38.0</td>\n",
       "      <td>10.0</td>\n",
       "    </tr>\n",
       "    <tr>\n",
       "      <th>Novel</th>\n",
       "      <td>NaN</td>\n",
       "      <td>3.0</td>\n",
       "    </tr>\n",
       "    <tr>\n",
       "      <th rowspan=\"2\" valign=\"top\">2</th>\n",
       "      <th>Familiar</th>\n",
       "      <td>3.0</td>\n",
       "      <td>NaN</td>\n",
       "    </tr>\n",
       "    <tr>\n",
       "      <th>Novel</th>\n",
       "      <td>10.0</td>\n",
       "      <td>39.0</td>\n",
       "    </tr>\n",
       "  </tbody>\n",
       "</table>\n",
       "</div>"
      ],
      "text/plain": [
       "image_set                           G     H\n",
       "session_number experience_level            \n",
       "1              Familiar          38.0  10.0\n",
       "               Novel              NaN   3.0\n",
       "2              Familiar           3.0   NaN\n",
       "               Novel             10.0  39.0"
      ]
     },
     "metadata": {},
     "output_type": "display_data"
    }
   ],
   "source": [
    "sessions_by_imageset_experience_day = ecephys_sessions_table.pivot_table(index=['session_number', 'experience_level'], \n",
    "                                                                        columns=['image_set'], \n",
    "                                                                        values='behavior_session_id', aggfunc=len)\n",
    "display(sessions_by_imageset_experience_day)"
   ]
  },
  {
   "cell_type": "markdown",
   "id": "6047f34c",
   "metadata": {
    "papermill": {
     "duration": 0.012978,
     "end_time": "2022-11-22T17:36:59.689878",
     "exception": false,
     "start_time": "2022-11-22T17:36:59.676900",
     "status": "completed"
    },
    "pycharm": {
     "name": "#%% md\n"
    },
    "tags": []
   },
   "source": [
    "From this table we can see that for most mice, image set `G` was used for training (and therefore `Familiar`) and was also shown during the first recording session (38 sessions in the left cell of the first row above). For these mice, image set `H` was `novel` and shown on the second recording day (right cell of last row). Then there were 3 mice for which image set `G` was used in training, but the novel image set `H` was shown on the first recording day and `G` on the second (rows 2 and 3). Finally, there were 10 mice trained on the `H` image set. All 10 of these saw `H` on their first recording day and `G` on their second (rows 1 and 4).\n",
    "\n",
    "Keep in mind that though we aimed to record for 2 sessions from each mouse, not every recording session passed quality control. Thus for some mice, only one of the two recording days are represented in the table. This explains the discrepancy between the first and last rows of the table above.\n",
    "\n",
    "Also note that the probes are retracted after every recording (these are **acute recordings**). Moreover, we move the probes around 100 microns between session 1 and session 2, so it's impossible to map neurons across the two recording days (and it's unlikely that we are recording from the same neurons). "
   ]
  },
  {
   "cell_type": "markdown",
   "id": "750f092e",
   "metadata": {
    "papermill": {
     "duration": 0.013107,
     "end_time": "2022-11-22T17:36:59.715848",
     "exception": false,
     "start_time": "2022-11-22T17:36:59.702741",
     "status": "completed"
    },
    "pycharm": {
     "name": "#%% md\n"
    },
    "tags": []
   },
   "source": [
    "#### The transgenic line determines which neurons are labeled with ChR2 for identification by optotagging. \n",
    "\n",
    "We can also use the `ecephys_sessions` table to find the genotype of the mouse used for each recording session. Across the dataset, we used mice of three genotypes: \n",
    "\n",
    "- C57Bl6J (wt)\n",
    "- Sst-IRES-Cre;Ai32 to optotag putative Sst-expressing interneurons\n",
    "- Vip-IRES-Cre;Ai32 to optotag putative Vip-expressing interneurons\n",
    "\n",
    "Somatostatin-positive neurons (Sst) and Vasoactive Intestinal Polypeptide neurons (Vip) constitute [two of the three major cortical inhibitory cell classes](https://www.ncbi.nlm.nih.gov/pmc/articles/PMC3556905/#!po=8.92857), and by crossing these lines to the Ai32 reporter line, we can identify these neurons by [optotagging](https://allensdk--2471.org.readthedocs.build/en/2471/_static/examples/nb/visual_behavior_neuropixels_quickstart.html#Optotagging). \n",
    "\n",
    "We also record from C57Bl6J `wt/wt` mice."
   ]
  },
  {
   "cell_type": "code",
   "execution_count": 10,
   "id": "46608095",
   "metadata": {
    "execution": {
     "iopub.execute_input": "2022-11-22T17:36:59.743353Z",
     "iopub.status.busy": "2022-11-22T17:36:59.742824Z",
     "iopub.status.idle": "2022-11-22T17:36:59.747037Z",
     "shell.execute_reply": "2022-11-22T17:36:59.746431Z"
    },
    "papermill": {
     "duration": 0.019677,
     "end_time": "2022-11-22T17:36:59.748407",
     "exception": false,
     "start_time": "2022-11-22T17:36:59.728730",
     "status": "completed"
    },
    "pycharm": {
     "name": "#%%\n"
    },
    "tags": []
   },
   "outputs": [
    {
     "name": "stdout",
     "output_type": "stream",
     "text": [
      "the different transgenic lines included in this dataset are:\n",
      "\n",
      "['Sst-IRES-Cre/wt;Ai32(RCL-ChR2(H134R)_EYFP)/wt'\n",
      " 'Vip-IRES-Cre/wt;Ai32(RCL-ChR2(H134R)_EYFP)/wt' 'wt/wt']\n"
     ]
    }
   ],
   "source": [
    "print('the different transgenic lines included in this dataset are:\\n')\n",
    "print(np.sort(ecephys_sessions_table.genotype.unique()))"
   ]
  },
  {
   "cell_type": "code",
   "execution_count": 11,
   "id": "21c34235",
   "metadata": {
    "execution": {
     "iopub.execute_input": "2022-11-22T17:36:59.775593Z",
     "iopub.status.busy": "2022-11-22T17:36:59.775123Z",
     "iopub.status.idle": "2022-11-22T17:36:59.787873Z",
     "shell.execute_reply": "2022-11-22T17:36:59.787263Z"
    },
    "papermill": {
     "duration": 0.027939,
     "end_time": "2022-11-22T17:36:59.789177",
     "exception": false,
     "start_time": "2022-11-22T17:36:59.761238",
     "status": "completed"
    },
    "pycharm": {
     "name": "#%%\n"
    },
    "tags": []
   },
   "outputs": [
    {
     "data": {
      "text/html": [
       "<div>\n",
       "<style scoped>\n",
       "    .dataframe tbody tr th:only-of-type {\n",
       "        vertical-align: middle;\n",
       "    }\n",
       "\n",
       "    .dataframe tbody tr th {\n",
       "        vertical-align: top;\n",
       "    }\n",
       "\n",
       "    .dataframe thead th {\n",
       "        text-align: right;\n",
       "    }\n",
       "</style>\n",
       "<table border=\"1\" class=\"dataframe\">\n",
       "  <thead>\n",
       "    <tr style=\"text-align: right;\">\n",
       "      <th>sex</th>\n",
       "      <th>F</th>\n",
       "      <th>M</th>\n",
       "    </tr>\n",
       "    <tr>\n",
       "      <th>genotype</th>\n",
       "      <th></th>\n",
       "      <th></th>\n",
       "    </tr>\n",
       "  </thead>\n",
       "  <tbody>\n",
       "    <tr>\n",
       "      <th>Sst-IRES-Cre/wt;Ai32(RCL-ChR2(H134R)_EYFP)/wt</th>\n",
       "      <td>24</td>\n",
       "      <td>19</td>\n",
       "    </tr>\n",
       "    <tr>\n",
       "      <th>Vip-IRES-Cre/wt;Ai32(RCL-ChR2(H134R)_EYFP)/wt</th>\n",
       "      <td>4</td>\n",
       "      <td>18</td>\n",
       "    </tr>\n",
       "    <tr>\n",
       "      <th>wt/wt</th>\n",
       "      <td>15</td>\n",
       "      <td>23</td>\n",
       "    </tr>\n",
       "  </tbody>\n",
       "</table>\n",
       "</div>"
      ],
      "text/plain": [
       "sex                                             F   M\n",
       "genotype                                             \n",
       "Sst-IRES-Cre/wt;Ai32(RCL-ChR2(H134R)_EYFP)/wt  24  19\n",
       "Vip-IRES-Cre/wt;Ai32(RCL-ChR2(H134R)_EYFP)/wt   4  18\n",
       "wt/wt                                          15  23"
      ]
     },
     "metadata": {},
     "output_type": "display_data"
    }
   ],
   "source": [
    "#Number of sessions per genotype/sex\n",
    "sessions_by_genotype_sex = ecephys_sessions_table.pivot_table(values='session_number', index='genotype', \n",
    "                                                              columns='sex', aggfunc=len)\n",
    "display(sessions_by_genotype_sex.rename(columns={'session_number': 'session_count'}))"
   ]
  },
  {
   "cell_type": "markdown",
   "id": "81d5812b",
   "metadata": {
    "papermill": {
     "duration": 0.013332,
     "end_time": "2022-11-22T17:36:59.815803",
     "exception": false,
     "start_time": "2022-11-22T17:36:59.802471",
     "status": "completed"
    },
    "pycharm": {
     "name": "#%% md\n"
    },
    "tags": []
   },
   "source": [
    "Now let's see how many **mice** we have for each genotype/sex. The column `mouse_id` gives us a unique identifier for each mouse in the dataset."
   ]
  },
  {
   "cell_type": "code",
   "execution_count": 12,
   "id": "1f2aa094",
   "metadata": {
    "execution": {
     "iopub.execute_input": "2022-11-22T17:36:59.843356Z",
     "iopub.status.busy": "2022-11-22T17:36:59.842849Z",
     "iopub.status.idle": "2022-11-22T17:36:59.855499Z",
     "shell.execute_reply": "2022-11-22T17:36:59.854856Z"
    },
    "papermill": {
     "duration": 0.028063,
     "end_time": "2022-11-22T17:36:59.856826",
     "exception": false,
     "start_time": "2022-11-22T17:36:59.828763",
     "status": "completed"
    },
    "pycharm": {
     "name": "#%%\n"
    },
    "tags": []
   },
   "outputs": [
    {
     "data": {
      "text/html": [
       "<div>\n",
       "<style scoped>\n",
       "    .dataframe tbody tr th:only-of-type {\n",
       "        vertical-align: middle;\n",
       "    }\n",
       "\n",
       "    .dataframe tbody tr th {\n",
       "        vertical-align: top;\n",
       "    }\n",
       "\n",
       "    .dataframe thead th {\n",
       "        text-align: right;\n",
       "    }\n",
       "</style>\n",
       "<table border=\"1\" class=\"dataframe\">\n",
       "  <thead>\n",
       "    <tr style=\"text-align: right;\">\n",
       "      <th>sex</th>\n",
       "      <th>F</th>\n",
       "      <th>M</th>\n",
       "    </tr>\n",
       "    <tr>\n",
       "      <th>genotype</th>\n",
       "      <th></th>\n",
       "      <th></th>\n",
       "    </tr>\n",
       "  </thead>\n",
       "  <tbody>\n",
       "    <tr>\n",
       "      <th>Sst-IRES-Cre/wt;Ai32(RCL-ChR2(H134R)_EYFP)/wt</th>\n",
       "      <td>12</td>\n",
       "      <td>11</td>\n",
       "    </tr>\n",
       "    <tr>\n",
       "      <th>Vip-IRES-Cre/wt;Ai32(RCL-ChR2(H134R)_EYFP)/wt</th>\n",
       "      <td>2</td>\n",
       "      <td>9</td>\n",
       "    </tr>\n",
       "    <tr>\n",
       "      <th>wt/wt</th>\n",
       "      <td>8</td>\n",
       "      <td>12</td>\n",
       "    </tr>\n",
       "  </tbody>\n",
       "</table>\n",
       "</div>"
      ],
      "text/plain": [
       "sex                                             F   M\n",
       "genotype                                             \n",
       "Sst-IRES-Cre/wt;Ai32(RCL-ChR2(H134R)_EYFP)/wt  12  11\n",
       "Vip-IRES-Cre/wt;Ai32(RCL-ChR2(H134R)_EYFP)/wt   2   9\n",
       "wt/wt                                           8  12"
      ]
     },
     "metadata": {},
     "output_type": "display_data"
    }
   ],
   "source": [
    "#Number of mice per genotype/sex\n",
    "mice_by_genotype_sex = ecephys_sessions_table.pivot_table(values='mouse_id', index='genotype', \n",
    "                                                          columns='sex', aggfunc=lambda x: len(np.unique(x)))\n",
    "display(mice_by_genotype_sex)"
   ]
  },
  {
   "cell_type": "markdown",
   "id": "c17c9eca",
   "metadata": {
    "papermill": {
     "duration": 0.013267,
     "end_time": "2022-11-22T17:36:59.883347",
     "exception": false,
     "start_time": "2022-11-22T17:36:59.870080",
     "status": "completed"
    },
    "pycharm": {
     "name": "#%% md\n"
    },
    "tags": []
   },
   "source": [
    "Lastly, there are two columns to flag potential abnormalities in brain tissue or electrical activity. Since there are many analyses which may not be affected by these issues, we've decided to go ahead and release this data. But by default, the ecephys_sessions_table will not return these sessions. You can get all of the sessions with this call: "
   ]
  },
  {
   "cell_type": "code",
   "execution_count": 13,
   "id": "b6db4663",
   "metadata": {
    "execution": {
     "iopub.execute_input": "2022-11-22T17:36:59.911350Z",
     "iopub.status.busy": "2022-11-22T17:36:59.910847Z",
     "iopub.status.idle": "2022-11-22T17:36:59.914742Z",
     "shell.execute_reply": "2022-11-22T17:36:59.914246Z"
    },
    "papermill": {
     "duration": 0.019446,
     "end_time": "2022-11-22T17:36:59.915922",
     "exception": false,
     "start_time": "2022-11-22T17:36:59.896476",
     "status": "completed"
    },
    "pycharm": {
     "name": "#%%\n"
    },
    "tags": []
   },
   "outputs": [
    {
     "name": "stdout",
     "output_type": "stream",
     "text": [
      "Number sessions returned by default: 103\n",
      "Number of sessions returned without filtering abnormalities: 153\n"
     ]
    }
   ],
   "source": [
    "ecephys_sessions_no_filter = cache.get_ecephys_session_table(filter_abnormalities=False)\n",
    "print(f'Number sessions returned by default: {len(ecephys_sessions_table)}')\n",
    "print(f'Number of sessions returned without filtering abnormalities: {len(ecephys_sessions_no_filter)}')\n"
   ]
  },
  {
   "cell_type": "markdown",
   "id": "4509bdab",
   "metadata": {
    "papermill": {
     "duration": 0.013213,
     "end_time": "2022-11-22T17:36:59.942410",
     "exception": false,
     "start_time": "2022-11-22T17:36:59.929197",
     "status": "completed"
    },
    "pycharm": {
     "name": "#%% md\n"
    },
    "tags": []
   },
   "source": [
    "The `abnormal_histology` column indicates where for each mouse we noted possible bleeding or insertion damage. This will be a list of brain regions.  \n",
    "The `abnormal_activity` column indicates when during the session we noted possible epileptiform activity. This will be a list of times in seconds.\n",
    "\n",
    "Let's grab one of these 'abnormal' sessions to see what these columns look like:"
   ]
  },
  {
   "cell_type": "code",
   "execution_count": 14,
   "id": "f175a684",
   "metadata": {
    "execution": {
     "iopub.execute_input": "2022-11-22T17:36:59.970411Z",
     "iopub.status.busy": "2022-11-22T17:36:59.969772Z",
     "iopub.status.idle": "2022-11-22T17:36:59.976803Z",
     "shell.execute_reply": "2022-11-22T17:36:59.976197Z"
    },
    "papermill": {
     "duration": 0.022686,
     "end_time": "2022-11-22T17:36:59.978181",
     "exception": false,
     "start_time": "2022-11-22T17:36:59.955495",
     "status": "completed"
    },
    "pycharm": {
     "name": "#%%\n"
    },
    "tags": []
   },
   "outputs": [
    {
     "data": {
      "text/plain": [
       "abnormal_histology    ['Thalamus']\n",
       "abnormal_activity            [132]\n",
       "Name: 1052530003, dtype: object"
      ]
     },
     "execution_count": 14,
     "metadata": {},
     "output_type": "execute_result"
    }
   ],
   "source": [
    "# grab a session that was flagged for both tissue damage and epileptiform activity\n",
    "ecephys_sessions_no_filter[['abnormal_histology', 'abnormal_activity']]\\\n",
    "                            [~ecephys_sessions_no_filter['abnormal_histology'].isnull() & \n",
    "                            ~ecephys_sessions_no_filter['abnormal_activity'].isnull()].iloc[0]"
   ]
  },
  {
   "cell_type": "markdown",
   "id": "cdaf37fb",
   "metadata": {
    "papermill": {
     "duration": 0.013742,
     "end_time": "2022-11-22T17:37:00.005406",
     "exception": false,
     "start_time": "2022-11-22T17:36:59.991664",
     "status": "completed"
    },
    "pycharm": {
     "name": "#%% md\n"
    },
    "tags": []
   },
   "source": [
    "For this example session, it looks like we annotated potential damage in the Thalamus, and irregular firing activity 132 seconds into the session. For more details about how these abnormalities are flagged, check out the technical white paper."
   ]
  },
  {
   "cell_type": "markdown",
   "id": "a978bc7e",
   "metadata": {
    "papermill": {
     "duration": 0.013566,
     "end_time": "2022-11-22T17:37:00.032580",
     "exception": false,
     "start_time": "2022-11-22T17:37:00.019014",
     "status": "completed"
    },
    "pycharm": {
     "name": "#%% md\n"
    },
    "tags": []
   },
   "source": [
    "# Behavior Sessions Table"
   ]
  },
  {
   "cell_type": "markdown",
   "id": "b618d684",
   "metadata": {
    "papermill": {
     "duration": 0.013597,
     "end_time": "2022-11-22T17:37:00.059806",
     "exception": false,
     "start_time": "2022-11-22T17:37:00.046209",
     "status": "completed"
    },
    "pycharm": {
     "name": "#%% md\n"
    },
    "tags": []
   },
   "source": [
    "In this dataset, mice are trained on a visual change detection task. This task involves a continuous stream of stimuli, and mice learn to lick in response to a change in the stimulus identity to earn a water reward. There are different stages of training in this task, described below. The metadata for each behavior session in the dataset can be found in the `behavior_sessions_table` and can be used to build a training history for each mouse."
   ]
  },
  {
   "cell_type": "markdown",
   "id": "c4135fb8",
   "metadata": {
    "papermill": {
     "duration": 0.013787,
     "end_time": "2022-11-22T17:37:00.087063",
     "exception": false,
     "start_time": "2022-11-22T17:37:00.073276",
     "status": "completed"
    },
    "pycharm": {
     "name": "#%% md\n"
    },
    "tags": []
   },
   "source": [
    "### Load the `behavior_sessions_table` from the cache"
   ]
  },
  {
   "cell_type": "code",
   "execution_count": 15,
   "id": "a8c287ca",
   "metadata": {
    "execution": {
     "iopub.execute_input": "2022-11-22T17:37:00.115664Z",
     "iopub.status.busy": "2022-11-22T17:37:00.115139Z",
     "iopub.status.idle": "2022-11-22T17:37:00.128200Z",
     "shell.execute_reply": "2022-11-22T17:37:00.127520Z"
    },
    "papermill": {
     "duration": 0.028982,
     "end_time": "2022-11-22T17:37:00.129524",
     "exception": false,
     "start_time": "2022-11-22T17:37:00.100542",
     "status": "completed"
    },
    "pycharm": {
     "name": "#%%\n"
    },
    "tags": []
   },
   "outputs": [
    {
     "name": "stdout",
     "output_type": "stream",
     "text": [
      "Total number of behavior sessions: 3424\n"
     ]
    },
    {
     "data": {
      "text/html": [
       "<div>\n",
       "<style scoped>\n",
       "    .dataframe tbody tr th:only-of-type {\n",
       "        vertical-align: middle;\n",
       "    }\n",
       "\n",
       "    .dataframe tbody tr th {\n",
       "        vertical-align: top;\n",
       "    }\n",
       "\n",
       "    .dataframe thead th {\n",
       "        text-align: right;\n",
       "    }\n",
       "</style>\n",
       "<table border=\"1\" class=\"dataframe\">\n",
       "  <thead>\n",
       "    <tr style=\"text-align: right;\">\n",
       "      <th></th>\n",
       "      <th>equipment_name</th>\n",
       "      <th>genotype</th>\n",
       "      <th>mouse_id</th>\n",
       "      <th>sex</th>\n",
       "      <th>age_in_days</th>\n",
       "      <th>session_number</th>\n",
       "      <th>prior_exposures_to_session_type</th>\n",
       "      <th>prior_exposures_to_image_set</th>\n",
       "      <th>prior_exposures_to_omissions</th>\n",
       "      <th>ecephys_session_id</th>\n",
       "      <th>date_of_acquisition</th>\n",
       "      <th>session_type</th>\n",
       "      <th>image_set</th>\n",
       "    </tr>\n",
       "    <tr>\n",
       "      <th>behavior_session_id</th>\n",
       "      <th></th>\n",
       "      <th></th>\n",
       "      <th></th>\n",
       "      <th></th>\n",
       "      <th></th>\n",
       "      <th></th>\n",
       "      <th></th>\n",
       "      <th></th>\n",
       "      <th></th>\n",
       "      <th></th>\n",
       "      <th></th>\n",
       "      <th></th>\n",
       "      <th></th>\n",
       "    </tr>\n",
       "  </thead>\n",
       "  <tbody>\n",
       "    <tr>\n",
       "      <th>1051333618</th>\n",
       "      <td>BEH.G-Box2</td>\n",
       "      <td>Vip-IRES-Cre/wt;Ai32(RCL-ChR2(H134R)_EYFP)/wt</td>\n",
       "      <td>540536</td>\n",
       "      <td>M</td>\n",
       "      <td>85</td>\n",
       "      <td>1</td>\n",
       "      <td>0</td>\n",
       "      <td>NaN</td>\n",
       "      <td>0.0</td>\n",
       "      <td>NaN</td>\n",
       "      <td>2020-09-18 10:02:30.869000</td>\n",
       "      <td>TRAINING_0_gratings_autorewards_15min_0uL_reward</td>\n",
       "      <td>NaN</td>\n",
       "    </tr>\n",
       "    <tr>\n",
       "      <th>1052301754</th>\n",
       "      <td>BEH.G-Box2</td>\n",
       "      <td>Vip-IRES-Cre/wt;Ai32(RCL-ChR2(H134R)_EYFP)/wt</td>\n",
       "      <td>540536</td>\n",
       "      <td>M</td>\n",
       "      <td>90</td>\n",
       "      <td>4</td>\n",
       "      <td>2</td>\n",
       "      <td>NaN</td>\n",
       "      <td>0.0</td>\n",
       "      <td>NaN</td>\n",
       "      <td>2020-09-23 09:43:25.595000</td>\n",
       "      <td>TRAINING_1_gratings_10uL_reward</td>\n",
       "      <td>NaN</td>\n",
       "    </tr>\n",
       "    <tr>\n",
       "      <th>1052374521</th>\n",
       "      <td>NP.1</td>\n",
       "      <td>Vip-IRES-Cre/wt;Ai32(RCL-ChR2(H134R)_EYFP)/wt</td>\n",
       "      <td>530862</td>\n",
       "      <td>M</td>\n",
       "      <td>148</td>\n",
       "      <td>44</td>\n",
       "      <td>0</td>\n",
       "      <td>32.0</td>\n",
       "      <td>0.0</td>\n",
       "      <td>1.052342e+09</td>\n",
       "      <td>2020-09-23 15:34:18.179000</td>\n",
       "      <td>EPHYS_1_images_G_3uL_reward</td>\n",
       "      <td>G</td>\n",
       "    </tr>\n",
       "    <tr>\n",
       "      <th>1051860415</th>\n",
       "      <td>BEH.G-Box4</td>\n",
       "      <td>wt/wt</td>\n",
       "      <td>533539</td>\n",
       "      <td>F</td>\n",
       "      <td>127</td>\n",
       "      <td>9</td>\n",
       "      <td>0</td>\n",
       "      <td>3.0</td>\n",
       "      <td>0.0</td>\n",
       "      <td>NaN</td>\n",
       "      <td>2020-09-21 09:57:23.650000</td>\n",
       "      <td>TRAINING_4_images_G_training_7uL_reward</td>\n",
       "      <td>G</td>\n",
       "    </tr>\n",
       "    <tr>\n",
       "      <th>1052132182</th>\n",
       "      <td>BEH.F-Box5</td>\n",
       "      <td>Vip-IRES-Cre/wt;Ai32(RCL-ChR2(H134R)_EYFP)/wt</td>\n",
       "      <td>536480</td>\n",
       "      <td>M</td>\n",
       "      <td>112</td>\n",
       "      <td>8</td>\n",
       "      <td>1</td>\n",
       "      <td>1.0</td>\n",
       "      <td>0.0</td>\n",
       "      <td>NaN</td>\n",
       "      <td>2020-09-22 12:04:46.304000</td>\n",
       "      <td>TRAINING_3_images_G_10uL_reward</td>\n",
       "      <td>G</td>\n",
       "    </tr>\n",
       "  </tbody>\n",
       "</table>\n",
       "</div>"
      ],
      "text/plain": [
       "                    equipment_name  \\\n",
       "behavior_session_id                  \n",
       "1051333618              BEH.G-Box2   \n",
       "1052301754              BEH.G-Box2   \n",
       "1052374521                    NP.1   \n",
       "1051860415              BEH.G-Box4   \n",
       "1052132182              BEH.F-Box5   \n",
       "\n",
       "                                                          genotype  mouse_id  \\\n",
       "behavior_session_id                                                            \n",
       "1051333618           Vip-IRES-Cre/wt;Ai32(RCL-ChR2(H134R)_EYFP)/wt    540536   \n",
       "1052301754           Vip-IRES-Cre/wt;Ai32(RCL-ChR2(H134R)_EYFP)/wt    540536   \n",
       "1052374521           Vip-IRES-Cre/wt;Ai32(RCL-ChR2(H134R)_EYFP)/wt    530862   \n",
       "1051860415                                                   wt/wt    533539   \n",
       "1052132182           Vip-IRES-Cre/wt;Ai32(RCL-ChR2(H134R)_EYFP)/wt    536480   \n",
       "\n",
       "                    sex  age_in_days  session_number  \\\n",
       "behavior_session_id                                    \n",
       "1051333618            M           85               1   \n",
       "1052301754            M           90               4   \n",
       "1052374521            M          148              44   \n",
       "1051860415            F          127               9   \n",
       "1052132182            M          112               8   \n",
       "\n",
       "                     prior_exposures_to_session_type  \\\n",
       "behavior_session_id                                    \n",
       "1051333618                                         0   \n",
       "1052301754                                         2   \n",
       "1052374521                                         0   \n",
       "1051860415                                         0   \n",
       "1052132182                                         1   \n",
       "\n",
       "                     prior_exposures_to_image_set  \\\n",
       "behavior_session_id                                 \n",
       "1051333618                                    NaN   \n",
       "1052301754                                    NaN   \n",
       "1052374521                                   32.0   \n",
       "1051860415                                    3.0   \n",
       "1052132182                                    1.0   \n",
       "\n",
       "                     prior_exposures_to_omissions  ecephys_session_id  \\\n",
       "behavior_session_id                                                     \n",
       "1051333618                                    0.0                 NaN   \n",
       "1052301754                                    0.0                 NaN   \n",
       "1052374521                                    0.0        1.052342e+09   \n",
       "1051860415                                    0.0                 NaN   \n",
       "1052132182                                    0.0                 NaN   \n",
       "\n",
       "                            date_of_acquisition  \\\n",
       "behavior_session_id                               \n",
       "1051333618           2020-09-18 10:02:30.869000   \n",
       "1052301754           2020-09-23 09:43:25.595000   \n",
       "1052374521           2020-09-23 15:34:18.179000   \n",
       "1051860415           2020-09-21 09:57:23.650000   \n",
       "1052132182           2020-09-22 12:04:46.304000   \n",
       "\n",
       "                                                         session_type  \\\n",
       "behavior_session_id                                                     \n",
       "1051333618           TRAINING_0_gratings_autorewards_15min_0uL_reward   \n",
       "1052301754                            TRAINING_1_gratings_10uL_reward   \n",
       "1052374521                                EPHYS_1_images_G_3uL_reward   \n",
       "1051860415                    TRAINING_4_images_G_training_7uL_reward   \n",
       "1052132182                            TRAINING_3_images_G_10uL_reward   \n",
       "\n",
       "                    image_set  \n",
       "behavior_session_id            \n",
       "1051333618                NaN  \n",
       "1052301754                NaN  \n",
       "1052374521                  G  \n",
       "1051860415                  G  \n",
       "1052132182                  G  "
      ]
     },
     "execution_count": 15,
     "metadata": {},
     "output_type": "execute_result"
    }
   ],
   "source": [
    "behavior_sessions = cache.get_behavior_session_table()\n",
    "\n",
    "print(f\"Total number of behavior sessions: {len(behavior_sessions)}\")\n",
    "\n",
    "behavior_sessions.head()"
   ]
  },
  {
   "cell_type": "markdown",
   "id": "f1649125",
   "metadata": {
    "papermill": {
     "duration": 0.013944,
     "end_time": "2022-11-22T17:37:00.157491",
     "exception": false,
     "start_time": "2022-11-22T17:37:00.143547",
     "status": "completed"
    },
    "pycharm": {
     "name": "#%% md\n"
    },
    "tags": []
   },
   "source": [
    "### What columns does the behavior_session table have and what values can they take?"
   ]
  },
  {
   "cell_type": "code",
   "execution_count": 16,
   "id": "c7e6d188",
   "metadata": {
    "execution": {
     "iopub.execute_input": "2022-11-22T17:37:00.187090Z",
     "iopub.status.busy": "2022-11-22T17:37:00.186654Z",
     "iopub.status.idle": "2022-11-22T17:37:00.191426Z",
     "shell.execute_reply": "2022-11-22T17:37:00.190822Z"
    },
    "papermill": {
     "duration": 0.021317,
     "end_time": "2022-11-22T17:37:00.192805",
     "exception": false,
     "start_time": "2022-11-22T17:37:00.171488",
     "status": "completed"
    },
    "pycharm": {
     "name": "#%%\n"
    },
    "tags": []
   },
   "outputs": [
    {
     "data": {
      "text/plain": [
       "Index(['equipment_name', 'genotype', 'mouse_id', 'sex', 'age_in_days',\n",
       "       'session_number', 'prior_exposures_to_session_type',\n",
       "       'prior_exposures_to_image_set', 'prior_exposures_to_omissions',\n",
       "       'ecephys_session_id', 'date_of_acquisition', 'session_type',\n",
       "       'image_set'],\n",
       "      dtype='object')"
      ]
     },
     "execution_count": 16,
     "metadata": {},
     "output_type": "execute_result"
    }
   ],
   "source": [
    "behavior_sessions.columns"
   ]
  },
  {
   "cell_type": "markdown",
   "id": "d9d10a22",
   "metadata": {
    "papermill": {
     "duration": 0.014065,
     "end_time": "2022-11-22T17:37:00.220902",
     "exception": false,
     "start_time": "2022-11-22T17:37:00.206837",
     "status": "completed"
    },
    "pycharm": {
     "name": "#%% md\n"
    },
    "tags": []
   },
   "source": [
    "### Behavior sessions can take place on different experimental systems"
   ]
  },
  {
   "cell_type": "code",
   "execution_count": 17,
   "id": "d373b2df",
   "metadata": {
    "execution": {
     "iopub.execute_input": "2022-11-22T17:37:00.250267Z",
     "iopub.status.busy": "2022-11-22T17:37:00.249812Z",
     "iopub.status.idle": "2022-11-22T17:37:00.254134Z",
     "shell.execute_reply": "2022-11-22T17:37:00.253635Z"
    },
    "papermill": {
     "duration": 0.020686,
     "end_time": "2022-11-22T17:37:00.255474",
     "exception": false,
     "start_time": "2022-11-22T17:37:00.234788",
     "status": "completed"
    },
    "pycharm": {
     "name": "#%%\n"
    },
    "tags": []
   },
   "outputs": [
    {
     "name": "stdout",
     "output_type": "stream",
     "text": [
      "behavior data could be recorded on these experimental systems:\n",
      "\n",
      "['BEH.B-Box1' 'BEH.B-Box2' 'BEH.B-Box3' 'BEH.B-Box4' 'BEH.B-Box5'\n",
      " 'BEH.B-Box6' 'BEH.D-Box1' 'BEH.D-Box2' 'BEH.D-Box3' 'BEH.D-Box4'\n",
      " 'BEH.D-Box5' 'BEH.D-Box6' 'BEH.F-Box1' 'BEH.F-Box2' 'BEH.F-Box3'\n",
      " 'BEH.F-Box4' 'BEH.F-Box5' 'BEH.F-Box6' 'BEH.G-Box1' 'BEH.G-Box2'\n",
      " 'BEH.G-Box3' 'BEH.G-Box4' 'BEH.G-Box5' 'BEH.G-Box6' 'NP.0' 'NP.1']\n"
     ]
    }
   ],
   "source": [
    "print('behavior data could be recorded on these experimental systems:\\n')\n",
    "print(np.sort(behavior_sessions.equipment_name.unique()))"
   ]
  },
  {
   "cell_type": "markdown",
   "id": "e4320df8",
   "metadata": {
    "papermill": {
     "duration": 0.014214,
     "end_time": "2022-11-22T17:37:00.283606",
     "exception": false,
     "start_time": "2022-11-22T17:37:00.269392",
     "status": "completed"
    },
    "pycharm": {
     "name": "#%% md\n"
    },
    "tags": []
   },
   "source": [
    "`equipment_name` values starting with 'BEH' indicate behavioral training in the behavior facility, while values starting with 'NP' indicate behavior sessions that took place on an experimental Neuropixels rig."
   ]
  },
  {
   "cell_type": "markdown",
   "id": "d66f8929",
   "metadata": {
    "papermill": {
     "duration": 0.014072,
     "end_time": "2022-11-22T17:37:00.311771",
     "exception": false,
     "start_time": "2022-11-22T17:37:00.297699",
     "status": "completed"
    },
    "pycharm": {
     "name": "#%% md\n"
    },
    "tags": []
   },
   "source": [
    "The `mouse_id` is a 6-digit unique identifier for each experimental animal in the dataset"
   ]
  },
  {
   "cell_type": "code",
   "execution_count": 18,
   "id": "f9905150",
   "metadata": {
    "execution": {
     "iopub.execute_input": "2022-11-22T17:37:00.341241Z",
     "iopub.status.busy": "2022-11-22T17:37:00.340715Z",
     "iopub.status.idle": "2022-11-22T17:37:00.345051Z",
     "shell.execute_reply": "2022-11-22T17:37:00.344441Z"
    },
    "papermill": {
     "duration": 0.020778,
     "end_time": "2022-11-22T17:37:00.346455",
     "exception": false,
     "start_time": "2022-11-22T17:37:00.325677",
     "status": "completed"
    },
    "pycharm": {
     "name": "#%%\n"
    },
    "tags": []
   },
   "outputs": [
    {
     "name": "stdout",
     "output_type": "stream",
     "text": [
      "there are 81 mice in the dataset\n"
     ]
    }
   ],
   "source": [
    "print('there are', len(behavior_sessions.mouse_id.unique()), 'mice in the dataset')"
   ]
  },
  {
   "cell_type": "markdown",
   "id": "7ae61006",
   "metadata": {
    "papermill": {
     "duration": 0.014208,
     "end_time": "2022-11-22T17:37:00.374714",
     "exception": false,
     "start_time": "2022-11-22T17:37:00.360506",
     "status": "completed"
    },
    "pycharm": {
     "name": "#%% md\n"
    },
    "tags": []
   },
   "source": [
    "Other mouse specific metadata includes `sex`, `age_in_days` and `genotype`."
   ]
  },
  {
   "cell_type": "markdown",
   "id": "9e353e9a",
   "metadata": {
    "papermill": {
     "duration": 0.013975,
     "end_time": "2022-11-22T17:37:00.402610",
     "exception": false,
     "start_time": "2022-11-22T17:37:00.388635",
     "status": "completed"
    },
    "pycharm": {
     "name": "#%% md\n"
    },
    "tags": []
   },
   "source": [
    "### Session Type - a very important piece of information"
   ]
  },
  {
   "cell_type": "markdown",
   "id": "8ec507a0",
   "metadata": {
    "papermill": {
     "duration": 0.013919,
     "end_time": "2022-11-22T17:37:00.430566",
     "exception": false,
     "start_time": "2022-11-22T17:37:00.416647",
     "status": "completed"
    },
    "pycharm": {
     "name": "#%% md\n"
    },
    "tags": []
   },
   "source": [
    "The `session_type` for each behavior session indicates the behavioral training stage or Neuropixels experiment conditions for that particular session. This determines what stimuli were shown and what task parameters were used.  "
   ]
  },
  {
   "cell_type": "code",
   "execution_count": 19,
   "id": "9d8c844e",
   "metadata": {
    "execution": {
     "iopub.execute_input": "2022-11-22T17:37:00.460400Z",
     "iopub.status.busy": "2022-11-22T17:37:00.459897Z",
     "iopub.status.idle": "2022-11-22T17:37:00.464198Z",
     "shell.execute_reply": "2022-11-22T17:37:00.463587Z"
    },
    "papermill": {
     "duration": 0.02112,
     "end_time": "2022-11-22T17:37:00.465545",
     "exception": false,
     "start_time": "2022-11-22T17:37:00.444425",
     "status": "completed"
    },
    "pycharm": {
     "name": "#%%\n"
    },
    "tags": []
   },
   "outputs": [
    {
     "name": "stdout",
     "output_type": "stream",
     "text": [
      "the session_types available in this dataset are:\n",
      "\n",
      "['EPHYS_1_images_G_3uL_reward' 'EPHYS_1_images_G_5uL_reward'\n",
      " 'EPHYS_1_images_H_3uL_reward' 'EPHYS_1_images_H_5uL_reward'\n",
      " 'HABITUATION_5_images_G_handoff_ready_3uL_reward'\n",
      " 'HABITUATION_5_images_G_handoff_ready_5uL_reward'\n",
      " 'HABITUATION_5_images_H_handoff_ready_3uL_reward'\n",
      " 'HABITUATION_5_images_H_handoff_ready_5uL_reward'\n",
      " 'TRAINING_0_gratings_autorewards_15min'\n",
      " 'TRAINING_0_gratings_autorewards_15min_0uL_reward' 'TRAINING_1_gratings'\n",
      " 'TRAINING_1_gratings_10uL_reward' 'TRAINING_2_gratings_flashed'\n",
      " 'TRAINING_2_gratings_flashed_10uL_reward'\n",
      " 'TRAINING_3_images_G_10uL_reward' 'TRAINING_3_images_H_10uL_reward'\n",
      " 'TRAINING_4_images_G_training' 'TRAINING_4_images_G_training_7uL_reward'\n",
      " 'TRAINING_4_images_H_training_7uL_reward' 'TRAINING_5_images_G_epilogue'\n",
      " 'TRAINING_5_images_G_epilogue_5uL_reward'\n",
      " 'TRAINING_5_images_G_handoff_lapsed_5uL_reward'\n",
      " 'TRAINING_5_images_G_handoff_ready_5uL_reward'\n",
      " 'TRAINING_5_images_H_epilogue_5uL_reward'\n",
      " 'TRAINING_5_images_H_handoff_lapsed_5uL_reward'\n",
      " 'TRAINING_5_images_H_handoff_ready_5uL_reward']\n"
     ]
    }
   ],
   "source": [
    "print('the session_types available in this dataset are:\\n')\n",
    "print(np.sort(behavior_sessions.session_type.unique()))"
   ]
  },
  {
   "cell_type": "markdown",
   "id": "3cb95e27",
   "metadata": {
    "papermill": {
     "duration": 0.014148,
     "end_time": "2022-11-22T17:37:00.493763",
     "exception": false,
     "start_time": "2022-11-22T17:37:00.479615",
     "status": "completed"
    },
    "pycharm": {
     "name": "#%% md\n"
    },
    "tags": []
   },
   "source": [
    "You can see that each session type is prepended with an indicator of when this session was run in the training sequence (for example `TRAINING_0` or `TRAINING_1`). Mice progress through a series of training stages to shape their behavior prior to recording. Mice are automatically advanced between stages depending on their behavioral performance. For a detailed description of the change detection task and advancement criteria, please see the technical whitepaper."
   ]
  },
  {
   "cell_type": "markdown",
   "id": "39623127",
   "metadata": {
    "papermill": {
     "duration": 0.014121,
     "end_time": "2022-11-22T17:37:00.521895",
     "exception": false,
     "start_time": "2022-11-22T17:37:00.507774",
     "status": "completed"
    },
    "pycharm": {
     "name": "#%% md\n"
    },
    "tags": []
   },
   "source": [
    "<div>\n",
    "<img src=\"https://brainmapportal-live-4cc80a57cd6e400d854-f7fdcae.divio-media.net/filer_public/f4/03/f403ea84-46d2-4e91-94fb-0e8d671ab352/task_shaping_diagram.png\" width=\"900\"/>\n",
    "</div>"
   ]
  },
  {
   "cell_type": "markdown",
   "id": "b69623b4",
   "metadata": {
    "papermill": {
     "duration": 0.014363,
     "end_time": "2022-11-22T17:37:00.550620",
     "exception": false,
     "start_time": "2022-11-22T17:37:00.536257",
     "status": "completed"
    },
    "pycharm": {
     "name": "#%% md\n"
    },
    "tags": []
   },
   "source": [
    "Training with the change detection task begins with simple static grating stimuli, changing between 0 and 90 degrees in orientation. On the very first day, mice are automatically given a water reward when the orientation of the stimulus changes (`TRAINING_0_gratings_autorewards_15min`). On subsequent days, mice must lick following the change in order to receive a water reward (`TRAINING_1_gratings`). In the next stage, stimuli are flashed, with a 500 ms inter stimulus interval of mean luminance gray screen (`TRAINING_2_gratings_flashed`). "
   ]
  },
  {
   "cell_type": "markdown",
   "id": "ce4164df",
   "metadata": {
    "papermill": {
     "duration": 0.014261,
     "end_time": "2022-11-22T17:37:00.578903",
     "exception": false,
     "start_time": "2022-11-22T17:37:00.564642",
     "status": "completed"
    },
    "pycharm": {
     "name": "#%% md\n"
    },
    "tags": []
   },
   "source": [
    "Once mice perform the task well with gratings, they are transitioned to natural image stimuli. Different groups of mice are trained with different sets of images, image set `G` or `H` (described above). In the following description, we use `X` as a placeholder for `G` or `H` in the `session_type` name. Training with images begins with a 10ul water reward volume (`TRAINING_3...`), which is then decreased to 7ul once mice perform the task consistently with images (`TRAINING_4...`). If mice continue to perform well, they are advanced to `TRAINING_5_images_X_epilogue_5uL_reward`, during which they are exposed to the receptive field mapping stimulus that will be used during Neuropixels recordings and the reward is further reduced to 5 ul. When mice have reached criterion to be transferred to the Neuropixels portion of the experiment, they are labeled as 'handoff_ready' (`TRAINING_5_images_X_handoff_ready_5uL_reward`.) If behavior performance returns to below criterion level before they are handed off, they are labeled as 'handoff_lapsed'(`TRAINING_5_images_X_handoff_lapsed_5uL_reward`). You may notice inconsistencies with the suffix for a few of these stage names, this reflects a minor change we made early on during data collection to reduce the reward volume from 7ul for `TRAINING_5` to 5ul. After that, we added the volume explicitly to the stage name. \n",
    "\n",
    "So now, let's look at the training history for 1 mouse to see how this unfolds:"
   ]
  },
  {
   "cell_type": "code",
   "execution_count": 20,
   "id": "f23c30f5",
   "metadata": {
    "execution": {
     "iopub.execute_input": "2022-11-22T17:37:00.608773Z",
     "iopub.status.busy": "2022-11-22T17:37:00.608249Z",
     "iopub.status.idle": "2022-11-22T17:37:00.624097Z",
     "shell.execute_reply": "2022-11-22T17:37:00.623461Z"
    },
    "papermill": {
     "duration": 0.032601,
     "end_time": "2022-11-22T17:37:00.625505",
     "exception": false,
     "start_time": "2022-11-22T17:37:00.592904",
     "status": "completed"
    },
    "pycharm": {
     "name": "#%%\n"
    },
    "tags": []
   },
   "outputs": [
    {
     "data": {
      "text/html": [
       "<div>\n",
       "<style scoped>\n",
       "    .dataframe tbody tr th:only-of-type {\n",
       "        vertical-align: middle;\n",
       "    }\n",
       "\n",
       "    .dataframe tbody tr th {\n",
       "        vertical-align: top;\n",
       "    }\n",
       "\n",
       "    .dataframe thead th {\n",
       "        text-align: right;\n",
       "    }\n",
       "</style>\n",
       "<table border=\"1\" class=\"dataframe\">\n",
       "  <thead>\n",
       "    <tr style=\"text-align: right;\">\n",
       "      <th></th>\n",
       "      <th>session_type</th>\n",
       "      <th>equipment_name</th>\n",
       "      <th>date_of_acquisition</th>\n",
       "      <th>prior_exposures_to_image_set</th>\n",
       "      <th>prior_exposures_to_omissions</th>\n",
       "    </tr>\n",
       "    <tr>\n",
       "      <th>behavior_session_id</th>\n",
       "      <th></th>\n",
       "      <th></th>\n",
       "      <th></th>\n",
       "      <th></th>\n",
       "      <th></th>\n",
       "    </tr>\n",
       "  </thead>\n",
       "  <tbody>\n",
       "    <tr>\n",
       "      <th>1079461839</th>\n",
       "      <td>TRAINING_0_gratings_autorewards_15min_0uL_reward</td>\n",
       "      <td>BEH.G-Box5</td>\n",
       "      <td>2021-01-29 11:20:57.848000</td>\n",
       "      <td>NaN</td>\n",
       "      <td>0.0</td>\n",
       "    </tr>\n",
       "    <tr>\n",
       "      <th>1080309252</th>\n",
       "      <td>TRAINING_1_gratings_10uL_reward</td>\n",
       "      <td>BEH.G-Box5</td>\n",
       "      <td>2021-02-01 10:30:41.010000</td>\n",
       "      <td>NaN</td>\n",
       "      <td>0.0</td>\n",
       "    </tr>\n",
       "    <tr>\n",
       "      <th>1080567296</th>\n",
       "      <td>TRAINING_1_gratings_10uL_reward</td>\n",
       "      <td>BEH.G-Box5</td>\n",
       "      <td>2021-02-02 10:41:01.736000</td>\n",
       "      <td>NaN</td>\n",
       "      <td>0.0</td>\n",
       "    </tr>\n",
       "    <tr>\n",
       "      <th>1081055727</th>\n",
       "      <td>TRAINING_1_gratings_10uL_reward</td>\n",
       "      <td>BEH.G-Box5</td>\n",
       "      <td>2021-02-03 10:08:22.073000</td>\n",
       "      <td>NaN</td>\n",
       "      <td>0.0</td>\n",
       "    </tr>\n",
       "    <tr>\n",
       "      <th>1081407988</th>\n",
       "      <td>TRAINING_1_gratings_10uL_reward</td>\n",
       "      <td>BEH.G-Box5</td>\n",
       "      <td>2021-02-04 10:57:59.323000</td>\n",
       "      <td>NaN</td>\n",
       "      <td>0.0</td>\n",
       "    </tr>\n",
       "    <tr>\n",
       "      <th>1081665901</th>\n",
       "      <td>TRAINING_2_gratings_flashed_10uL_reward</td>\n",
       "      <td>BEH.G-Box5</td>\n",
       "      <td>2021-02-05 10:17:01.333000</td>\n",
       "      <td>NaN</td>\n",
       "      <td>0.0</td>\n",
       "    </tr>\n",
       "    <tr>\n",
       "      <th>1082287921</th>\n",
       "      <td>TRAINING_3_images_G_10uL_reward</td>\n",
       "      <td>BEH.G-Box5</td>\n",
       "      <td>2021-02-08 10:26:15.260000</td>\n",
       "      <td>0.0</td>\n",
       "      <td>0.0</td>\n",
       "    </tr>\n",
       "    <tr>\n",
       "      <th>1082721365</th>\n",
       "      <td>TRAINING_3_images_G_10uL_reward</td>\n",
       "      <td>BEH.G-Box5</td>\n",
       "      <td>2021-02-09 10:11:40.992000</td>\n",
       "      <td>1.0</td>\n",
       "      <td>0.0</td>\n",
       "    </tr>\n",
       "    <tr>\n",
       "      <th>1082978971</th>\n",
       "      <td>TRAINING_3_images_G_10uL_reward</td>\n",
       "      <td>BEH.G-Box5</td>\n",
       "      <td>2021-02-10 10:36:09.169000</td>\n",
       "      <td>2.0</td>\n",
       "      <td>0.0</td>\n",
       "    </tr>\n",
       "    <tr>\n",
       "      <th>1083179250</th>\n",
       "      <td>TRAINING_4_images_G_training_7uL_reward</td>\n",
       "      <td>BEH.G-Box5</td>\n",
       "      <td>2021-02-11 09:55:53.764000</td>\n",
       "      <td>3.0</td>\n",
       "      <td>0.0</td>\n",
       "    </tr>\n",
       "    <tr>\n",
       "      <th>1083988326</th>\n",
       "      <td>TRAINING_5_images_G_epilogue_5uL_reward</td>\n",
       "      <td>BEH.G-Box5</td>\n",
       "      <td>2021-02-15 11:08:10.871000</td>\n",
       "      <td>4.0</td>\n",
       "      <td>0.0</td>\n",
       "    </tr>\n",
       "    <tr>\n",
       "      <th>1084214262</th>\n",
       "      <td>TRAINING_5_images_G_epilogue_5uL_reward</td>\n",
       "      <td>BEH.G-Box5</td>\n",
       "      <td>2021-02-16 10:40:55.939000</td>\n",
       "      <td>5.0</td>\n",
       "      <td>0.0</td>\n",
       "    </tr>\n",
       "    <tr>\n",
       "      <th>1084416013</th>\n",
       "      <td>TRAINING_5_images_G_epilogue_5uL_reward</td>\n",
       "      <td>BEH.G-Box5</td>\n",
       "      <td>2021-02-17 10:05:26.648000</td>\n",
       "      <td>6.0</td>\n",
       "      <td>0.0</td>\n",
       "    </tr>\n",
       "    <tr>\n",
       "      <th>1084925549</th>\n",
       "      <td>TRAINING_5_images_G_handoff_ready_5uL_reward</td>\n",
       "      <td>BEH.G-Box5</td>\n",
       "      <td>2021-02-18 10:30:15.669000</td>\n",
       "      <td>7.0</td>\n",
       "      <td>0.0</td>\n",
       "    </tr>\n",
       "    <tr>\n",
       "      <th>1085100426</th>\n",
       "      <td>TRAINING_5_images_G_handoff_ready_5uL_reward</td>\n",
       "      <td>BEH.G-Box5</td>\n",
       "      <td>2021-02-19 10:22:15.645000</td>\n",
       "      <td>8.0</td>\n",
       "      <td>0.0</td>\n",
       "    </tr>\n",
       "    <tr>\n",
       "      <th>1085697640</th>\n",
       "      <td>HABITUATION_5_images_G_handoff_ready_5uL_reward</td>\n",
       "      <td>NP.0</td>\n",
       "      <td>2021-02-22 10:35:13.367000</td>\n",
       "      <td>9.0</td>\n",
       "      <td>0.0</td>\n",
       "    </tr>\n",
       "    <tr>\n",
       "      <th>1085945525</th>\n",
       "      <td>HABITUATION_5_images_G_handoff_ready_5uL_reward</td>\n",
       "      <td>NP.0</td>\n",
       "      <td>2021-02-23 09:55:39.738000</td>\n",
       "      <td>10.0</td>\n",
       "      <td>0.0</td>\n",
       "    </tr>\n",
       "    <tr>\n",
       "      <th>1086167535</th>\n",
       "      <td>HABITUATION_5_images_G_handoff_ready_3uL_reward</td>\n",
       "      <td>NP.0</td>\n",
       "      <td>2021-02-24 10:03:34.439000</td>\n",
       "      <td>11.0</td>\n",
       "      <td>0.0</td>\n",
       "    </tr>\n",
       "    <tr>\n",
       "      <th>1086376321</th>\n",
       "      <td>HABITUATION_5_images_G_handoff_ready_3uL_reward</td>\n",
       "      <td>NP.0</td>\n",
       "      <td>2021-02-25 09:28:17.677000</td>\n",
       "      <td>12.0</td>\n",
       "      <td>0.0</td>\n",
       "    </tr>\n",
       "    <tr>\n",
       "      <th>1086799944</th>\n",
       "      <td>HABITUATION_5_images_G_handoff_ready_3uL_reward</td>\n",
       "      <td>NP.0</td>\n",
       "      <td>2021-02-26 10:16:30.479000</td>\n",
       "      <td>13.0</td>\n",
       "      <td>0.0</td>\n",
       "    </tr>\n",
       "    <tr>\n",
       "      <th>1087320527</th>\n",
       "      <td>HABITUATION_5_images_G_handoff_ready_3uL_reward</td>\n",
       "      <td>NP.0</td>\n",
       "      <td>2021-03-01 10:01:49.984000</td>\n",
       "      <td>14.0</td>\n",
       "      <td>0.0</td>\n",
       "    </tr>\n",
       "    <tr>\n",
       "      <th>1087522745</th>\n",
       "      <td>HABITUATION_5_images_G_handoff_ready_3uL_reward</td>\n",
       "      <td>NP.0</td>\n",
       "      <td>2021-03-02 11:24:41.073000</td>\n",
       "      <td>15.0</td>\n",
       "      <td>0.0</td>\n",
       "    </tr>\n",
       "    <tr>\n",
       "      <th>1087696440</th>\n",
       "      <td>HABITUATION_5_images_G_handoff_ready_3uL_reward</td>\n",
       "      <td>NP.0</td>\n",
       "      <td>2021-03-03 09:40:18.913000</td>\n",
       "      <td>16.0</td>\n",
       "      <td>0.0</td>\n",
       "    </tr>\n",
       "    <tr>\n",
       "      <th>1087922676</th>\n",
       "      <td>HABITUATION_5_images_G_handoff_ready_3uL_reward</td>\n",
       "      <td>NP.0</td>\n",
       "      <td>2021-03-04 09:47:42.840000</td>\n",
       "      <td>17.0</td>\n",
       "      <td>0.0</td>\n",
       "    </tr>\n",
       "    <tr>\n",
       "      <th>1088237976</th>\n",
       "      <td>HABITUATION_5_images_G_handoff_ready_3uL_reward</td>\n",
       "      <td>NP.0</td>\n",
       "      <td>2021-03-05 10:26:29.594000</td>\n",
       "      <td>18.0</td>\n",
       "      <td>0.0</td>\n",
       "    </tr>\n",
       "    <tr>\n",
       "      <th>1088815471</th>\n",
       "      <td>HABITUATION_5_images_G_handoff_ready_3uL_reward</td>\n",
       "      <td>NP.0</td>\n",
       "      <td>2021-03-08 12:57:46.523000</td>\n",
       "      <td>19.0</td>\n",
       "      <td>0.0</td>\n",
       "    </tr>\n",
       "    <tr>\n",
       "      <th>1089049814</th>\n",
       "      <td>HABITUATION_5_images_G_handoff_ready_3uL_reward</td>\n",
       "      <td>NP.0</td>\n",
       "      <td>2021-03-09 12:56:02.899000</td>\n",
       "      <td>20.0</td>\n",
       "      <td>0.0</td>\n",
       "    </tr>\n",
       "    <tr>\n",
       "      <th>1089343256</th>\n",
       "      <td>EPHYS_1_images_G_3uL_reward</td>\n",
       "      <td>NP.0</td>\n",
       "      <td>2021-03-10 14:24:06.841000</td>\n",
       "      <td>21.0</td>\n",
       "      <td>0.0</td>\n",
       "    </tr>\n",
       "    <tr>\n",
       "      <th>1089636567</th>\n",
       "      <td>EPHYS_1_images_H_3uL_reward</td>\n",
       "      <td>NP.0</td>\n",
       "      <td>2021-03-11 15:14:20.619000</td>\n",
       "      <td>0.0</td>\n",
       "      <td>1.0</td>\n",
       "    </tr>\n",
       "  </tbody>\n",
       "</table>\n",
       "</div>"
      ],
      "text/plain": [
       "                                                         session_type  \\\n",
       "behavior_session_id                                                     \n",
       "1079461839           TRAINING_0_gratings_autorewards_15min_0uL_reward   \n",
       "1080309252                            TRAINING_1_gratings_10uL_reward   \n",
       "1080567296                            TRAINING_1_gratings_10uL_reward   \n",
       "1081055727                            TRAINING_1_gratings_10uL_reward   \n",
       "1081407988                            TRAINING_1_gratings_10uL_reward   \n",
       "1081665901                    TRAINING_2_gratings_flashed_10uL_reward   \n",
       "1082287921                            TRAINING_3_images_G_10uL_reward   \n",
       "1082721365                            TRAINING_3_images_G_10uL_reward   \n",
       "1082978971                            TRAINING_3_images_G_10uL_reward   \n",
       "1083179250                    TRAINING_4_images_G_training_7uL_reward   \n",
       "1083988326                    TRAINING_5_images_G_epilogue_5uL_reward   \n",
       "1084214262                    TRAINING_5_images_G_epilogue_5uL_reward   \n",
       "1084416013                    TRAINING_5_images_G_epilogue_5uL_reward   \n",
       "1084925549               TRAINING_5_images_G_handoff_ready_5uL_reward   \n",
       "1085100426               TRAINING_5_images_G_handoff_ready_5uL_reward   \n",
       "1085697640            HABITUATION_5_images_G_handoff_ready_5uL_reward   \n",
       "1085945525            HABITUATION_5_images_G_handoff_ready_5uL_reward   \n",
       "1086167535            HABITUATION_5_images_G_handoff_ready_3uL_reward   \n",
       "1086376321            HABITUATION_5_images_G_handoff_ready_3uL_reward   \n",
       "1086799944            HABITUATION_5_images_G_handoff_ready_3uL_reward   \n",
       "1087320527            HABITUATION_5_images_G_handoff_ready_3uL_reward   \n",
       "1087522745            HABITUATION_5_images_G_handoff_ready_3uL_reward   \n",
       "1087696440            HABITUATION_5_images_G_handoff_ready_3uL_reward   \n",
       "1087922676            HABITUATION_5_images_G_handoff_ready_3uL_reward   \n",
       "1088237976            HABITUATION_5_images_G_handoff_ready_3uL_reward   \n",
       "1088815471            HABITUATION_5_images_G_handoff_ready_3uL_reward   \n",
       "1089049814            HABITUATION_5_images_G_handoff_ready_3uL_reward   \n",
       "1089343256                                EPHYS_1_images_G_3uL_reward   \n",
       "1089636567                                EPHYS_1_images_H_3uL_reward   \n",
       "\n",
       "                    equipment_name         date_of_acquisition  \\\n",
       "behavior_session_id                                              \n",
       "1079461839              BEH.G-Box5  2021-01-29 11:20:57.848000   \n",
       "1080309252              BEH.G-Box5  2021-02-01 10:30:41.010000   \n",
       "1080567296              BEH.G-Box5  2021-02-02 10:41:01.736000   \n",
       "1081055727              BEH.G-Box5  2021-02-03 10:08:22.073000   \n",
       "1081407988              BEH.G-Box5  2021-02-04 10:57:59.323000   \n",
       "1081665901              BEH.G-Box5  2021-02-05 10:17:01.333000   \n",
       "1082287921              BEH.G-Box5  2021-02-08 10:26:15.260000   \n",
       "1082721365              BEH.G-Box5  2021-02-09 10:11:40.992000   \n",
       "1082978971              BEH.G-Box5  2021-02-10 10:36:09.169000   \n",
       "1083179250              BEH.G-Box5  2021-02-11 09:55:53.764000   \n",
       "1083988326              BEH.G-Box5  2021-02-15 11:08:10.871000   \n",
       "1084214262              BEH.G-Box5  2021-02-16 10:40:55.939000   \n",
       "1084416013              BEH.G-Box5  2021-02-17 10:05:26.648000   \n",
       "1084925549              BEH.G-Box5  2021-02-18 10:30:15.669000   \n",
       "1085100426              BEH.G-Box5  2021-02-19 10:22:15.645000   \n",
       "1085697640                    NP.0  2021-02-22 10:35:13.367000   \n",
       "1085945525                    NP.0  2021-02-23 09:55:39.738000   \n",
       "1086167535                    NP.0  2021-02-24 10:03:34.439000   \n",
       "1086376321                    NP.0  2021-02-25 09:28:17.677000   \n",
       "1086799944                    NP.0  2021-02-26 10:16:30.479000   \n",
       "1087320527                    NP.0  2021-03-01 10:01:49.984000   \n",
       "1087522745                    NP.0  2021-03-02 11:24:41.073000   \n",
       "1087696440                    NP.0  2021-03-03 09:40:18.913000   \n",
       "1087922676                    NP.0  2021-03-04 09:47:42.840000   \n",
       "1088237976                    NP.0  2021-03-05 10:26:29.594000   \n",
       "1088815471                    NP.0  2021-03-08 12:57:46.523000   \n",
       "1089049814                    NP.0  2021-03-09 12:56:02.899000   \n",
       "1089343256                    NP.0  2021-03-10 14:24:06.841000   \n",
       "1089636567                    NP.0  2021-03-11 15:14:20.619000   \n",
       "\n",
       "                     prior_exposures_to_image_set  \\\n",
       "behavior_session_id                                 \n",
       "1079461839                                    NaN   \n",
       "1080309252                                    NaN   \n",
       "1080567296                                    NaN   \n",
       "1081055727                                    NaN   \n",
       "1081407988                                    NaN   \n",
       "1081665901                                    NaN   \n",
       "1082287921                                    0.0   \n",
       "1082721365                                    1.0   \n",
       "1082978971                                    2.0   \n",
       "1083179250                                    3.0   \n",
       "1083988326                                    4.0   \n",
       "1084214262                                    5.0   \n",
       "1084416013                                    6.0   \n",
       "1084925549                                    7.0   \n",
       "1085100426                                    8.0   \n",
       "1085697640                                    9.0   \n",
       "1085945525                                   10.0   \n",
       "1086167535                                   11.0   \n",
       "1086376321                                   12.0   \n",
       "1086799944                                   13.0   \n",
       "1087320527                                   14.0   \n",
       "1087522745                                   15.0   \n",
       "1087696440                                   16.0   \n",
       "1087922676                                   17.0   \n",
       "1088237976                                   18.0   \n",
       "1088815471                                   19.0   \n",
       "1089049814                                   20.0   \n",
       "1089343256                                   21.0   \n",
       "1089636567                                    0.0   \n",
       "\n",
       "                     prior_exposures_to_omissions  \n",
       "behavior_session_id                                \n",
       "1079461839                                    0.0  \n",
       "1080309252                                    0.0  \n",
       "1080567296                                    0.0  \n",
       "1081055727                                    0.0  \n",
       "1081407988                                    0.0  \n",
       "1081665901                                    0.0  \n",
       "1082287921                                    0.0  \n",
       "1082721365                                    0.0  \n",
       "1082978971                                    0.0  \n",
       "1083179250                                    0.0  \n",
       "1083988326                                    0.0  \n",
       "1084214262                                    0.0  \n",
       "1084416013                                    0.0  \n",
       "1084925549                                    0.0  \n",
       "1085100426                                    0.0  \n",
       "1085697640                                    0.0  \n",
       "1085945525                                    0.0  \n",
       "1086167535                                    0.0  \n",
       "1086376321                                    0.0  \n",
       "1086799944                                    0.0  \n",
       "1087320527                                    0.0  \n",
       "1087522745                                    0.0  \n",
       "1087696440                                    0.0  \n",
       "1087922676                                    0.0  \n",
       "1088237976                                    0.0  \n",
       "1088815471                                    0.0  \n",
       "1089049814                                    0.0  \n",
       "1089343256                                    0.0  \n",
       "1089636567                                    1.0  "
      ]
     },
     "execution_count": 20,
     "metadata": {},
     "output_type": "execute_result"
    }
   ],
   "source": [
    "training_history = behavior_sessions[behavior_sessions['mouse_id']==556016]\n",
    "training_history = training_history.sort_values(by='date_of_acquisition')\n",
    "training_history[['session_type', 'equipment_name', 'date_of_acquisition', 'prior_exposures_to_image_set', 'prior_exposures_to_omissions']]"
   ]
  },
  {
   "cell_type": "markdown",
   "id": "67a24e4b",
   "metadata": {
    "papermill": {
     "duration": 0.014816,
     "end_time": "2022-11-22T17:37:00.655121",
     "exception": false,
     "start_time": "2022-11-22T17:37:00.640305",
     "status": "completed"
    },
    "pycharm": {
     "name": "#%% md\n"
    },
    "tags": []
   },
   "source": [
    "This table shows that mouse 556016 was trained for 29 days, starting with non-contingent rewards for changes in grating orientation during `TRAINING_0`, and ending with two Neuropixels recording sessions running the change detection task with flashing images (the `EPHYS` stages). All sessions before the `HABITUATION` stage were run in behavior boxes. From `HABITUATION` on, sessions were run on the experimental Neuropixels rig `NP.0`.\n",
    "\n",
    "The `prior_exposures_to_image_set` column indicates how many times the mouse had seen the image set used in a particular session. For example, by the time the mouse above reached its first recording day (`EPHYS_1_images_G_3uL_reward`), it had already seen the `G` image set in 21 previous sessions. On the second recording day, it was exposed to the `H` image set for the first time.\n",
    "\n",
    "The `EPHYS` sessions run during Neuropixels recordings are the first time the mouse encounters omitted stimuli. During these sessions, we omit a little under 5% of the stimulus flashes to investigate temporal expectation signals. The `prior_exposures_to_omissions` column indicates whether the mouse has encountered omissions in a previous recording session. Note that it is '0' for all but the second recording day."
   ]
  },
  {
   "cell_type": "markdown",
   "id": "3ebefb4a",
   "metadata": {
    "papermill": {
     "duration": 0.014912,
     "end_time": "2022-11-22T17:37:00.684750",
     "exception": false,
     "start_time": "2022-11-22T17:37:00.669838",
     "status": "completed"
    },
    "pycharm": {
     "name": "#%% md\n"
    },
    "tags": []
   },
   "source": [
    "## Units, Probes and Channels Tables"
   ]
  },
  {
   "cell_type": "markdown",
   "id": "334f45f1",
   "metadata": {
    "papermill": {
     "duration": 0.014497,
     "end_time": "2022-11-22T17:37:00.714098",
     "exception": false,
     "start_time": "2022-11-22T17:37:00.699601",
     "status": "completed"
    },
    "pycharm": {
     "name": "#%% md\n"
    },
    "tags": []
   },
   "source": [
    "Now let's look at the units, probes and channels tables in a bit more detail. We'll start with the units table, which contains info about every unit recorded in this dataset:"
   ]
  },
  {
   "cell_type": "code",
   "execution_count": 21,
   "id": "db5de461",
   "metadata": {
    "execution": {
     "iopub.execute_input": "2022-11-22T17:37:00.744692Z",
     "iopub.status.busy": "2022-11-22T17:37:00.744266Z",
     "iopub.status.idle": "2022-11-22T17:37:00.762687Z",
     "shell.execute_reply": "2022-11-22T17:37:00.762066Z"
    },
    "papermill": {
     "duration": 0.03559,
     "end_time": "2022-11-22T17:37:00.764099",
     "exception": false,
     "start_time": "2022-11-22T17:37:00.728509",
     "status": "completed"
    },
    "pycharm": {
     "name": "#%%\n"
    },
    "tags": []
   },
   "outputs": [
    {
     "name": "stdout",
     "output_type": "stream",
     "text": [
      "This dataset contains 319013 total units\n"
     ]
    },
    {
     "data": {
      "text/html": [
       "<div>\n",
       "<style scoped>\n",
       "    .dataframe tbody tr th:only-of-type {\n",
       "        vertical-align: middle;\n",
       "    }\n",
       "\n",
       "    .dataframe tbody tr th {\n",
       "        vertical-align: top;\n",
       "    }\n",
       "\n",
       "    .dataframe thead th {\n",
       "        text-align: right;\n",
       "    }\n",
       "</style>\n",
       "<table border=\"1\" class=\"dataframe\">\n",
       "  <thead>\n",
       "    <tr style=\"text-align: right;\">\n",
       "      <th></th>\n",
       "      <th>ecephys_channel_id</th>\n",
       "      <th>ecephys_probe_id</th>\n",
       "      <th>ecephys_session_id</th>\n",
       "      <th>amplitude_cutoff</th>\n",
       "      <th>anterior_posterior_ccf_coordinate</th>\n",
       "      <th>dorsal_ventral_ccf_coordinate</th>\n",
       "      <th>left_right_ccf_coordinate</th>\n",
       "      <th>cumulative_drift</th>\n",
       "      <th>d_prime</th>\n",
       "      <th>structure_acronym</th>\n",
       "      <th>...</th>\n",
       "      <th>valid_data</th>\n",
       "      <th>amplitude</th>\n",
       "      <th>waveform_duration</th>\n",
       "      <th>waveform_halfwidth</th>\n",
       "      <th>PT_ratio</th>\n",
       "      <th>recovery_slope</th>\n",
       "      <th>repolarization_slope</th>\n",
       "      <th>spread</th>\n",
       "      <th>velocity_above</th>\n",
       "      <th>velocity_below</th>\n",
       "    </tr>\n",
       "    <tr>\n",
       "      <th>unit_id</th>\n",
       "      <th></th>\n",
       "      <th></th>\n",
       "      <th></th>\n",
       "      <th></th>\n",
       "      <th></th>\n",
       "      <th></th>\n",
       "      <th></th>\n",
       "      <th></th>\n",
       "      <th></th>\n",
       "      <th></th>\n",
       "      <th></th>\n",
       "      <th></th>\n",
       "      <th></th>\n",
       "      <th></th>\n",
       "      <th></th>\n",
       "      <th></th>\n",
       "      <th></th>\n",
       "      <th></th>\n",
       "      <th></th>\n",
       "      <th></th>\n",
       "      <th></th>\n",
       "    </tr>\n",
       "  </thead>\n",
       "  <tbody>\n",
       "    <tr>\n",
       "      <th>1157005856</th>\n",
       "      <td>1157001834</td>\n",
       "      <td>1046469925</td>\n",
       "      <td>1046166369</td>\n",
       "      <td>0.500000</td>\n",
       "      <td>8453.0</td>\n",
       "      <td>3353.0</td>\n",
       "      <td>6719.0</td>\n",
       "      <td>140.32</td>\n",
       "      <td>6.088133</td>\n",
       "      <td>MB</td>\n",
       "      <td>...</td>\n",
       "      <td>True</td>\n",
       "      <td>286.132665</td>\n",
       "      <td>0.151089</td>\n",
       "      <td>0.096147</td>\n",
       "      <td>0.310791</td>\n",
       "      <td>-0.227726</td>\n",
       "      <td>0.961313</td>\n",
       "      <td>20.0</td>\n",
       "      <td>-0.457845</td>\n",
       "      <td>NaN</td>\n",
       "    </tr>\n",
       "    <tr>\n",
       "      <th>1157005853</th>\n",
       "      <td>1157001834</td>\n",
       "      <td>1046469925</td>\n",
       "      <td>1046166369</td>\n",
       "      <td>0.323927</td>\n",
       "      <td>8453.0</td>\n",
       "      <td>3353.0</td>\n",
       "      <td>6719.0</td>\n",
       "      <td>239.76</td>\n",
       "      <td>4.635583</td>\n",
       "      <td>MB</td>\n",
       "      <td>...</td>\n",
       "      <td>True</td>\n",
       "      <td>181.418835</td>\n",
       "      <td>0.357119</td>\n",
       "      <td>0.192295</td>\n",
       "      <td>0.531490</td>\n",
       "      <td>-0.150522</td>\n",
       "      <td>0.732741</td>\n",
       "      <td>30.0</td>\n",
       "      <td>2.060302</td>\n",
       "      <td>-2.060302</td>\n",
       "    </tr>\n",
       "    <tr>\n",
       "      <th>1157005720</th>\n",
       "      <td>1157001786</td>\n",
       "      <td>1046469925</td>\n",
       "      <td>1046166369</td>\n",
       "      <td>0.044133</td>\n",
       "      <td>8575.0</td>\n",
       "      <td>3842.0</td>\n",
       "      <td>6590.0</td>\n",
       "      <td>263.32</td>\n",
       "      <td>5.691955</td>\n",
       "      <td>MRN</td>\n",
       "      <td>...</td>\n",
       "      <td>True</td>\n",
       "      <td>180.866205</td>\n",
       "      <td>0.521943</td>\n",
       "      <td>0.178559</td>\n",
       "      <td>0.612217</td>\n",
       "      <td>-0.024239</td>\n",
       "      <td>0.539687</td>\n",
       "      <td>80.0</td>\n",
       "      <td>0.000000</td>\n",
       "      <td>0.863364</td>\n",
       "    </tr>\n",
       "    <tr>\n",
       "      <th>1157006074</th>\n",
       "      <td>1157001929</td>\n",
       "      <td>1046469925</td>\n",
       "      <td>1046166369</td>\n",
       "      <td>0.000583</td>\n",
       "      <td>8212.0</td>\n",
       "      <td>2477.0</td>\n",
       "      <td>6992.0</td>\n",
       "      <td>154.64</td>\n",
       "      <td>6.049284</td>\n",
       "      <td>NOT</td>\n",
       "      <td>...</td>\n",
       "      <td>True</td>\n",
       "      <td>574.984215</td>\n",
       "      <td>0.343384</td>\n",
       "      <td>0.192295</td>\n",
       "      <td>0.470194</td>\n",
       "      <td>-0.356670</td>\n",
       "      <td>2.258649</td>\n",
       "      <td>40.0</td>\n",
       "      <td>1.373534</td>\n",
       "      <td>0.000000</td>\n",
       "    </tr>\n",
       "    <tr>\n",
       "      <th>1157006072</th>\n",
       "      <td>1157001929</td>\n",
       "      <td>1046469925</td>\n",
       "      <td>1046166369</td>\n",
       "      <td>0.500000</td>\n",
       "      <td>8212.0</td>\n",
       "      <td>2477.0</td>\n",
       "      <td>6992.0</td>\n",
       "      <td>242.58</td>\n",
       "      <td>4.745499</td>\n",
       "      <td>NOT</td>\n",
       "      <td>...</td>\n",
       "      <td>True</td>\n",
       "      <td>315.794115</td>\n",
       "      <td>0.329648</td>\n",
       "      <td>0.164824</td>\n",
       "      <td>0.488276</td>\n",
       "      <td>-0.210010</td>\n",
       "      <td>1.320270</td>\n",
       "      <td>70.0</td>\n",
       "      <td>0.412060</td>\n",
       "      <td>0.343384</td>\n",
       "    </tr>\n",
       "  </tbody>\n",
       "</table>\n",
       "<p>5 rows × 34 columns</p>\n",
       "</div>"
      ],
      "text/plain": [
       "            ecephys_channel_id  ecephys_probe_id  ecephys_session_id  \\\n",
       "unit_id                                                                \n",
       "1157005856          1157001834        1046469925          1046166369   \n",
       "1157005853          1157001834        1046469925          1046166369   \n",
       "1157005720          1157001786        1046469925          1046166369   \n",
       "1157006074          1157001929        1046469925          1046166369   \n",
       "1157006072          1157001929        1046469925          1046166369   \n",
       "\n",
       "            amplitude_cutoff  anterior_posterior_ccf_coordinate  \\\n",
       "unit_id                                                           \n",
       "1157005856          0.500000                             8453.0   \n",
       "1157005853          0.323927                             8453.0   \n",
       "1157005720          0.044133                             8575.0   \n",
       "1157006074          0.000583                             8212.0   \n",
       "1157006072          0.500000                             8212.0   \n",
       "\n",
       "            dorsal_ventral_ccf_coordinate  left_right_ccf_coordinate  \\\n",
       "unit_id                                                                \n",
       "1157005856                         3353.0                     6719.0   \n",
       "1157005853                         3353.0                     6719.0   \n",
       "1157005720                         3842.0                     6590.0   \n",
       "1157006074                         2477.0                     6992.0   \n",
       "1157006072                         2477.0                     6992.0   \n",
       "\n",
       "            cumulative_drift   d_prime structure_acronym  ...  valid_data  \\\n",
       "unit_id                                                   ...               \n",
       "1157005856            140.32  6.088133                MB  ...        True   \n",
       "1157005853            239.76  4.635583                MB  ...        True   \n",
       "1157005720            263.32  5.691955               MRN  ...        True   \n",
       "1157006074            154.64  6.049284               NOT  ...        True   \n",
       "1157006072            242.58  4.745499               NOT  ...        True   \n",
       "\n",
       "             amplitude  waveform_duration  waveform_halfwidth  PT_ratio  \\\n",
       "unit_id                                                                   \n",
       "1157005856  286.132665           0.151089            0.096147  0.310791   \n",
       "1157005853  181.418835           0.357119            0.192295  0.531490   \n",
       "1157005720  180.866205           0.521943            0.178559  0.612217   \n",
       "1157006074  574.984215           0.343384            0.192295  0.470194   \n",
       "1157006072  315.794115           0.329648            0.164824  0.488276   \n",
       "\n",
       "            recovery_slope  repolarization_slope  spread  velocity_above  \\\n",
       "unit_id                                                                    \n",
       "1157005856       -0.227726              0.961313    20.0       -0.457845   \n",
       "1157005853       -0.150522              0.732741    30.0        2.060302   \n",
       "1157005720       -0.024239              0.539687    80.0        0.000000   \n",
       "1157006074       -0.356670              2.258649    40.0        1.373534   \n",
       "1157006072       -0.210010              1.320270    70.0        0.412060   \n",
       "\n",
       "            velocity_below  \n",
       "unit_id                     \n",
       "1157005856             NaN  \n",
       "1157005853       -2.060302  \n",
       "1157005720        0.863364  \n",
       "1157006074        0.000000  \n",
       "1157006072        0.343384  \n",
       "\n",
       "[5 rows x 34 columns]"
      ]
     },
     "execution_count": 21,
     "metadata": {},
     "output_type": "execute_result"
    }
   ],
   "source": [
    "units = cache.get_unit_table()\n",
    "print(f'This dataset contains {len(units)} total units')\n",
    "\n",
    "units.head()"
   ]
  },
  {
   "cell_type": "markdown",
   "id": "23864f0a",
   "metadata": {
    "papermill": {
     "duration": 0.014977,
     "end_time": "2022-11-22T17:37:00.794200",
     "exception": false,
     "start_time": "2022-11-22T17:37:00.779223",
     "status": "completed"
    },
    "pycharm": {
     "name": "#%% md\n"
    },
    "tags": []
   },
   "source": [
    "For more information about many of the metrics included in this table and how to use them to guide your analysis, see our [quality metrics tutorial](https://allensdk--2471.org.readthedocs.build/en/2471/_static/examples/nb/visual_behavior_neuropixels_quality_metrics.html). For now, here's a brief description of each column:\n",
    "\n",
    "\n",
    "**General Metadata**  \n",
    "\n",
    "`ecephys_channel_id`:                   unique ID of channel on which unit's peak waveform occurred  \n",
    "`ecephys_probe_id`:                     unique ID for probe on which unit was recorded  \n",
    "`ecephys_session_id`:                   unique ID for session during which unit was recorded  \n",
    "`anterior_posterior_ccf_coordinate`:    CCF coord in the AP axis  \n",
    "`dorsal_ventral_ccf_coordinate`:        CCF coord in the DV axis  \n",
    "`left_right_ccf_coordinate`:            CCF coord in the left/right axis  \n",
    "`structure_acronym`:                    CCF acronym for area to which unit was assigned  \n",
    "`structure_id`:                         CCF structure ID for the area to which unit was assigned  \n",
    "`probe_horizontal_position`:            Horizontal (perpindicular to shank) probe position of each unit's peak channel in microns  \n",
    "`probe_vertical_position`:              Vertical (along shank) probe position of each unit's peak channel in microns\n",
    "\n",
    "\n",
    "**Waveform metrics**: Look [here](https://github.com/AllenInstitute/ecephys_spike_sorting/tree/master/ecephys_spike_sorting/modules/mean_waveforms) for more detail on these metrics and the code that computes them. For the below descriptions the '1D waveform' is defined as the waveform on the peak channel. The '2D waveform' is the waveform across channels centered on the peak channel.\n",
    "\n",
    "`amplitude`:                            Peak to trough amplitude for mean 1D waveform in microvolts   \n",
    "`waveform_duration`:                    Time from trough to peak for 1D waveform in milliseconds     \n",
    "`waveform_halfwidth`:                   Width of 1D waveform at half-amplitude in milliseconds  \n",
    "`PT_ratio`:                             Ratio of the max (peak) to the min (trough) amplitudes for 1D waveform  \n",
    "`recovery_slope`:                       Slope of recovery of 1D waveform to baseline after repolarization (coming down from peak)  \n",
    "`repolarization_slope`:                 Slope of repolarization of 1D waveform to baseline after trough  \n",
    "`spread`:                               Range of channels for which the spike amplitude was above 12% of the peak channel amplitude  \n",
    "`velocity_above`:                       Slope of spike propagation velocity traveling in dorsal direction from soma (note to avoid infinite values, this is actaully the inverse of velocity: ms/mm)  \n",
    "`velocity_below`:                       Slope of spike propagation velocity traveling in ventral direction from soma (note to avoid infinite values, this is actually the inverse of velocity: ms/mm)  \n",
    "`snr`:                                  signal-to-noise ratio for 1D waveform        \n",
    "\n",
    "\n",
    "**Quality metrics**: Look [here](https://github.com/AllenInstitute/ecephys_spike_sorting/tree/7e567a6fc3fd2fc0eedef750b83b8b8a0d469544/ecephys_spike_sorting/modules/quality_metrics) for more detail on these metrics and the code that computes them.\n",
    "\n",
    "`amplitude_cutoff`:                     estimate of miss rate based on amplitude histogram (ie fraction of spikes estimated to have been below detection threshold)  \n",
    "`cumulative_drift`:                     cumulative change in spike depth along probe throughout the recording  \n",
    "`d_prime`:                              classification accuracy based on LDA  \n",
    "`firing_rate`:                          Mean firing rate over entire recording  \n",
    "`isi_violations`:                       Ratio of refractory violation rate to total spike rate  \n",
    "`isolation_distance`:                   Distance to nearest cluster in Mahalanobis space   \n",
    "`l_ratio`:                              The Mahalanobis distance and chi-squared inverse cdf are used to find the probability of cluster membership for each spike.  \n",
    "`max_drift`:                            Maximum change in unit depth across recording  \n",
    "`nn_hit_rate`:                          Fraction of nearest neighbors in PCA space for spikes in unit cluster that are also in unit cluster  \n",
    "`nn_miss_rate`:                         Fraction of nearest neighbors for spikes outside unit cluster than are in unit cluster  \n",
    "`presence_ratio`:                       Fraction of time during session for which a unit was spiking  \n",
    "`silhouette_score`:                     Standard metric for cluster overlap, computed in PCA space  \n",
    "`quality`:                              Label assigned based on waveform shape as described [here](https://github.com/AllenInstitute/ecephys_spike_sorting/tree/7e567a6fc3fd2fc0eedef750b83b8b8a0d469544/ecephys_spike_sorting/modules/noise_templates). Either 'good' for physiological waveforms or 'noise' for artifactual waveforms.\n",
    "\n",
    "\n",
    "\n",
    "Note that each unit can be traced to an experiment (`ecephys_session_id`), probe (`ecephys_probe_id`) and channel (`ecephys_channel_id`). Let's filter this table to see all of the units recorded for one ecephys_session from our ecephys_sessions_table:"
   ]
  },
  {
   "cell_type": "code",
   "execution_count": 22,
   "id": "c0032919",
   "metadata": {
    "execution": {
     "iopub.execute_input": "2022-11-22T17:37:00.825616Z",
     "iopub.status.busy": "2022-11-22T17:37:00.825096Z",
     "iopub.status.idle": "2022-11-22T17:37:00.890745Z",
     "shell.execute_reply": "2022-11-22T17:37:00.890058Z"
    },
    "papermill": {
     "duration": 0.083148,
     "end_time": "2022-11-22T17:37:00.892300",
     "exception": false,
     "start_time": "2022-11-22T17:37:00.809152",
     "status": "completed"
    },
    "pycharm": {
     "name": "#%%\n"
    },
    "tags": []
   },
   "outputs": [
    {
     "data": {
      "text/html": [
       "<div>\n",
       "<style scoped>\n",
       "    .dataframe tbody tr th:only-of-type {\n",
       "        vertical-align: middle;\n",
       "    }\n",
       "\n",
       "    .dataframe tbody tr th {\n",
       "        vertical-align: top;\n",
       "    }\n",
       "\n",
       "    .dataframe thead th {\n",
       "        text-align: right;\n",
       "    }\n",
       "</style>\n",
       "<table border=\"1\" class=\"dataframe\">\n",
       "  <thead>\n",
       "    <tr style=\"text-align: right;\">\n",
       "      <th></th>\n",
       "      <th>ecephys_channel_id</th>\n",
       "      <th>ecephys_probe_id</th>\n",
       "      <th>ecephys_session_id</th>\n",
       "      <th>amplitude_cutoff</th>\n",
       "      <th>anterior_posterior_ccf_coordinate</th>\n",
       "      <th>dorsal_ventral_ccf_coordinate</th>\n",
       "      <th>left_right_ccf_coordinate</th>\n",
       "      <th>cumulative_drift</th>\n",
       "      <th>d_prime</th>\n",
       "      <th>structure_acronym</th>\n",
       "      <th>...</th>\n",
       "      <th>valid_data</th>\n",
       "      <th>amplitude</th>\n",
       "      <th>waveform_duration</th>\n",
       "      <th>waveform_halfwidth</th>\n",
       "      <th>PT_ratio</th>\n",
       "      <th>recovery_slope</th>\n",
       "      <th>repolarization_slope</th>\n",
       "      <th>spread</th>\n",
       "      <th>velocity_above</th>\n",
       "      <th>velocity_below</th>\n",
       "    </tr>\n",
       "    <tr>\n",
       "      <th>unit_id</th>\n",
       "      <th></th>\n",
       "      <th></th>\n",
       "      <th></th>\n",
       "      <th></th>\n",
       "      <th></th>\n",
       "      <th></th>\n",
       "      <th></th>\n",
       "      <th></th>\n",
       "      <th></th>\n",
       "      <th></th>\n",
       "      <th></th>\n",
       "      <th></th>\n",
       "      <th></th>\n",
       "      <th></th>\n",
       "      <th></th>\n",
       "      <th></th>\n",
       "      <th></th>\n",
       "      <th></th>\n",
       "      <th></th>\n",
       "      <th></th>\n",
       "      <th></th>\n",
       "    </tr>\n",
       "  </thead>\n",
       "  <tbody>\n",
       "    <tr>\n",
       "      <th>1055691078</th>\n",
       "      <td>1055688702</td>\n",
       "      <td>1051284115</td>\n",
       "      <td>1051155866</td>\n",
       "      <td>0.014377</td>\n",
       "      <td>8116.0</td>\n",
       "      <td>4256.0</td>\n",
       "      <td>8158.0</td>\n",
       "      <td>0.00</td>\n",
       "      <td>3.591360</td>\n",
       "      <td>TH</td>\n",
       "      <td>...</td>\n",
       "      <td>True</td>\n",
       "      <td>147.680000</td>\n",
       "      <td>1.593300</td>\n",
       "      <td>0.700503</td>\n",
       "      <td>1.166523</td>\n",
       "      <td>-0.076320</td>\n",
       "      <td>0.230221</td>\n",
       "      <td>170.0</td>\n",
       "      <td>2.506700</td>\n",
       "      <td>-1.327750</td>\n",
       "    </tr>\n",
       "    <tr>\n",
       "      <th>1055691190</th>\n",
       "      <td>1055688884</td>\n",
       "      <td>1051284115</td>\n",
       "      <td>1051155866</td>\n",
       "      <td>0.099036</td>\n",
       "      <td>8608.0</td>\n",
       "      <td>2590.0</td>\n",
       "      <td>9042.0</td>\n",
       "      <td>439.38</td>\n",
       "      <td>3.359853</td>\n",
       "      <td>CA1</td>\n",
       "      <td>...</td>\n",
       "      <td>True</td>\n",
       "      <td>198.552705</td>\n",
       "      <td>0.590620</td>\n",
       "      <td>0.315913</td>\n",
       "      <td>0.376350</td>\n",
       "      <td>-0.020334</td>\n",
       "      <td>0.382136</td>\n",
       "      <td>120.0</td>\n",
       "      <td>-1.053043</td>\n",
       "      <td>-1.579564</td>\n",
       "    </tr>\n",
       "    <tr>\n",
       "      <th>1055691057</th>\n",
       "      <td>1055688685</td>\n",
       "      <td>1051284115</td>\n",
       "      <td>1051155866</td>\n",
       "      <td>0.192007</td>\n",
       "      <td>8077.0</td>\n",
       "      <td>4364.0</td>\n",
       "      <td>8090.0</td>\n",
       "      <td>152.40</td>\n",
       "      <td>2.785917</td>\n",
       "      <td>ZI</td>\n",
       "      <td>...</td>\n",
       "      <td>True</td>\n",
       "      <td>205.294635</td>\n",
       "      <td>0.247236</td>\n",
       "      <td>0.164824</td>\n",
       "      <td>0.873837</td>\n",
       "      <td>-0.225462</td>\n",
       "      <td>0.927786</td>\n",
       "      <td>70.0</td>\n",
       "      <td>0.343384</td>\n",
       "      <td>-0.824121</td>\n",
       "    </tr>\n",
       "    <tr>\n",
       "      <th>1055691088</th>\n",
       "      <td>1055688710</td>\n",
       "      <td>1051284115</td>\n",
       "      <td>1051155866</td>\n",
       "      <td>0.500000</td>\n",
       "      <td>8137.0</td>\n",
       "      <td>4196.0</td>\n",
       "      <td>8191.0</td>\n",
       "      <td>285.13</td>\n",
       "      <td>4.937366</td>\n",
       "      <td>LGv</td>\n",
       "      <td>...</td>\n",
       "      <td>True</td>\n",
       "      <td>175.207695</td>\n",
       "      <td>0.288442</td>\n",
       "      <td>0.151089</td>\n",
       "      <td>0.374370</td>\n",
       "      <td>-0.071037</td>\n",
       "      <td>0.480095</td>\n",
       "      <td>70.0</td>\n",
       "      <td>-0.137353</td>\n",
       "      <td>-0.755444</td>\n",
       "    </tr>\n",
       "    <tr>\n",
       "      <th>1055691262</th>\n",
       "      <td>1055688926</td>\n",
       "      <td>1051284115</td>\n",
       "      <td>1051155866</td>\n",
       "      <td>0.207075</td>\n",
       "      <td>8778.0</td>\n",
       "      <td>2177.0</td>\n",
       "      <td>9318.0</td>\n",
       "      <td>247.35</td>\n",
       "      <td>3.570518</td>\n",
       "      <td>VISl</td>\n",
       "      <td>...</td>\n",
       "      <td>True</td>\n",
       "      <td>161.840055</td>\n",
       "      <td>0.398325</td>\n",
       "      <td>0.151089</td>\n",
       "      <td>0.466350</td>\n",
       "      <td>-0.016731</td>\n",
       "      <td>0.422141</td>\n",
       "      <td>50.0</td>\n",
       "      <td>0.686767</td>\n",
       "      <td>0.000000</td>\n",
       "    </tr>\n",
       "  </tbody>\n",
       "</table>\n",
       "<p>5 rows × 34 columns</p>\n",
       "</div>"
      ],
      "text/plain": [
       "            ecephys_channel_id  ecephys_probe_id  ecephys_session_id  \\\n",
       "unit_id                                                                \n",
       "1055691078          1055688702        1051284115          1051155866   \n",
       "1055691190          1055688884        1051284115          1051155866   \n",
       "1055691057          1055688685        1051284115          1051155866   \n",
       "1055691088          1055688710        1051284115          1051155866   \n",
       "1055691262          1055688926        1051284115          1051155866   \n",
       "\n",
       "            amplitude_cutoff  anterior_posterior_ccf_coordinate  \\\n",
       "unit_id                                                           \n",
       "1055691078          0.014377                             8116.0   \n",
       "1055691190          0.099036                             8608.0   \n",
       "1055691057          0.192007                             8077.0   \n",
       "1055691088          0.500000                             8137.0   \n",
       "1055691262          0.207075                             8778.0   \n",
       "\n",
       "            dorsal_ventral_ccf_coordinate  left_right_ccf_coordinate  \\\n",
       "unit_id                                                                \n",
       "1055691078                         4256.0                     8158.0   \n",
       "1055691190                         2590.0                     9042.0   \n",
       "1055691057                         4364.0                     8090.0   \n",
       "1055691088                         4196.0                     8191.0   \n",
       "1055691262                         2177.0                     9318.0   \n",
       "\n",
       "            cumulative_drift   d_prime structure_acronym  ...  valid_data  \\\n",
       "unit_id                                                   ...               \n",
       "1055691078              0.00  3.591360                TH  ...        True   \n",
       "1055691190            439.38  3.359853               CA1  ...        True   \n",
       "1055691057            152.40  2.785917                ZI  ...        True   \n",
       "1055691088            285.13  4.937366               LGv  ...        True   \n",
       "1055691262            247.35  3.570518              VISl  ...        True   \n",
       "\n",
       "             amplitude  waveform_duration  waveform_halfwidth  PT_ratio  \\\n",
       "unit_id                                                                   \n",
       "1055691078  147.680000           1.593300            0.700503  1.166523   \n",
       "1055691190  198.552705           0.590620            0.315913  0.376350   \n",
       "1055691057  205.294635           0.247236            0.164824  0.873837   \n",
       "1055691088  175.207695           0.288442            0.151089  0.374370   \n",
       "1055691262  161.840055           0.398325            0.151089  0.466350   \n",
       "\n",
       "            recovery_slope  repolarization_slope  spread  velocity_above  \\\n",
       "unit_id                                                                    \n",
       "1055691078       -0.076320              0.230221   170.0        2.506700   \n",
       "1055691190       -0.020334              0.382136   120.0       -1.053043   \n",
       "1055691057       -0.225462              0.927786    70.0        0.343384   \n",
       "1055691088       -0.071037              0.480095    70.0       -0.137353   \n",
       "1055691262       -0.016731              0.422141    50.0        0.686767   \n",
       "\n",
       "            velocity_below  \n",
       "unit_id                     \n",
       "1055691078       -1.327750  \n",
       "1055691190       -1.579564  \n",
       "1055691057       -0.824121  \n",
       "1055691088       -0.755444  \n",
       "1055691262        0.000000  \n",
       "\n",
       "[5 rows x 34 columns]"
      ]
     },
     "execution_count": 22,
     "metadata": {},
     "output_type": "execute_result"
    }
   ],
   "source": [
    "#grab the ecephys session id for one experiment; these session ids are the indices of the ecephys_sessions_table\n",
    "session_id = ecephys_sessions_table.index.values[1]\n",
    "session_units = units[units['ecephys_session_id']==session_id]\n",
    "session_units.head()"
   ]
  },
  {
   "cell_type": "code",
   "execution_count": 23,
   "id": "0401403b",
   "metadata": {
    "execution": {
     "iopub.execute_input": "2022-11-22T17:37:00.924798Z",
     "iopub.status.busy": "2022-11-22T17:37:00.924349Z",
     "iopub.status.idle": "2022-11-22T17:37:00.928484Z",
     "shell.execute_reply": "2022-11-22T17:37:00.927983Z"
    },
    "papermill": {
     "duration": 0.021993,
     "end_time": "2022-11-22T17:37:00.929705",
     "exception": false,
     "start_time": "2022-11-22T17:37:00.907712",
     "status": "completed"
    },
    "pycharm": {
     "name": "#%%\n"
    },
    "tags": []
   },
   "outputs": [
    {
     "name": "stdout",
     "output_type": "stream",
     "text": [
      "We recorded from 6 probes this session\n"
     ]
    }
   ],
   "source": [
    "# Looks like we inserted all 6 probes during this experiment\n",
    "session_probes_from_units_table = np.sort(session_units.ecephys_probe_id.unique())\n",
    "print(f'We recorded from {len(session_probes_from_units_table)} probes this session')"
   ]
  },
  {
   "cell_type": "markdown",
   "id": "dea73cb9",
   "metadata": {
    "papermill": {
     "duration": 0.015391,
     "end_time": "2022-11-22T17:37:00.960558",
     "exception": false,
     "start_time": "2022-11-22T17:37:00.945167",
     "status": "completed"
    },
    "pycharm": {
     "name": "#%% md\n"
    },
    "tags": []
   },
   "source": [
    "Let's grab the probes table and check that when we filter by this ecephys session id, we get the same probes as above:"
   ]
  },
  {
   "cell_type": "code",
   "execution_count": 24,
   "id": "af24185d",
   "metadata": {
    "execution": {
     "iopub.execute_input": "2022-11-22T17:37:00.992843Z",
     "iopub.status.busy": "2022-11-22T17:37:00.992200Z",
     "iopub.status.idle": "2022-11-22T17:37:00.998051Z",
     "shell.execute_reply": "2022-11-22T17:37:00.997554Z"
    },
    "papermill": {
     "duration": 0.023581,
     "end_time": "2022-11-22T17:37:00.999389",
     "exception": false,
     "start_time": "2022-11-22T17:37:00.975808",
     "status": "completed"
    },
    "pycharm": {
     "name": "#%%\n"
    },
    "tags": []
   },
   "outputs": [
    {
     "data": {
      "text/plain": [
       "True"
      ]
     },
     "execution_count": 24,
     "metadata": {},
     "output_type": "execute_result"
    }
   ],
   "source": [
    "probes = cache.get_probe_table()\n",
    "session_probes = probes[probes.ecephys_session_id==session_id].index.values\n",
    "np.all(session_probes_from_units_table==session_probes)"
   ]
  },
  {
   "cell_type": "markdown",
   "id": "b9ceea85",
   "metadata": {
    "papermill": {
     "duration": 0.015573,
     "end_time": "2022-11-22T17:37:01.030479",
     "exception": false,
     "start_time": "2022-11-22T17:37:01.014906",
     "status": "completed"
    },
    "pycharm": {
     "name": "#%% md\n"
    },
    "tags": []
   },
   "source": [
    "The probes table has a bit more metadata about the probe type (Neuropixels 1.0), the areas that each probe passed through, and the unit count and sampling rates:"
   ]
  },
  {
   "cell_type": "code",
   "execution_count": 25,
   "id": "d1b63077",
   "metadata": {
    "execution": {
     "iopub.execute_input": "2022-11-22T17:37:01.062452Z",
     "iopub.status.busy": "2022-11-22T17:37:01.061903Z",
     "iopub.status.idle": "2022-11-22T17:37:01.072309Z",
     "shell.execute_reply": "2022-11-22T17:37:01.071406Z"
    },
    "papermill": {
     "duration": 0.028019,
     "end_time": "2022-11-22T17:37:01.073639",
     "exception": false,
     "start_time": "2022-11-22T17:37:01.045620",
     "status": "completed"
    },
    "pycharm": {
     "name": "#%%\n"
    },
    "tags": []
   },
   "outputs": [
    {
     "data": {
      "text/html": [
       "<div>\n",
       "<style scoped>\n",
       "    .dataframe tbody tr th:only-of-type {\n",
       "        vertical-align: middle;\n",
       "    }\n",
       "\n",
       "    .dataframe tbody tr th {\n",
       "        vertical-align: top;\n",
       "    }\n",
       "\n",
       "    .dataframe thead th {\n",
       "        text-align: right;\n",
       "    }\n",
       "</style>\n",
       "<table border=\"1\" class=\"dataframe\">\n",
       "  <thead>\n",
       "    <tr style=\"text-align: right;\">\n",
       "      <th></th>\n",
       "      <th>ecephys_session_id</th>\n",
       "      <th>name</th>\n",
       "      <th>sampling_rate</th>\n",
       "      <th>lfp_sampling_rate</th>\n",
       "      <th>phase</th>\n",
       "      <th>has_lfp_data</th>\n",
       "      <th>unit_count</th>\n",
       "      <th>channel_count</th>\n",
       "      <th>structure_acronyms</th>\n",
       "    </tr>\n",
       "    <tr>\n",
       "      <th>ecephys_probe_id</th>\n",
       "      <th></th>\n",
       "      <th></th>\n",
       "      <th></th>\n",
       "      <th></th>\n",
       "      <th></th>\n",
       "      <th></th>\n",
       "      <th></th>\n",
       "      <th></th>\n",
       "      <th></th>\n",
       "    </tr>\n",
       "  </thead>\n",
       "  <tbody>\n",
       "    <tr>\n",
       "      <th>1044506933</th>\n",
       "      <td>1044385384</td>\n",
       "      <td>probeB</td>\n",
       "      <td>30000.178402</td>\n",
       "      <td>2500.014867</td>\n",
       "      <td>1.0</td>\n",
       "      <td>True</td>\n",
       "      <td>701</td>\n",
       "      <td>384</td>\n",
       "      <td>['CA1', 'DG', 'LP', 'POL', 'PoT', 'VISpm', 'ro...</td>\n",
       "    </tr>\n",
       "    <tr>\n",
       "      <th>1044506934</th>\n",
       "      <td>1044385384</td>\n",
       "      <td>probeC</td>\n",
       "      <td>30000.049852</td>\n",
       "      <td>2500.004154</td>\n",
       "      <td>1.0</td>\n",
       "      <td>True</td>\n",
       "      <td>307</td>\n",
       "      <td>384</td>\n",
       "      <td>['MB', 'MRN', 'POST', 'SCig', 'VISp', 'root']</td>\n",
       "    </tr>\n",
       "    <tr>\n",
       "      <th>1044506935</th>\n",
       "      <td>1044385384</td>\n",
       "      <td>probeD</td>\n",
       "      <td>30000.029115</td>\n",
       "      <td>2500.002426</td>\n",
       "      <td>1.0</td>\n",
       "      <td>True</td>\n",
       "      <td>521</td>\n",
       "      <td>384</td>\n",
       "      <td>['CA1', 'CA3', 'DG', 'LGv', 'MB', 'TH', 'VISl'...</td>\n",
       "    </tr>\n",
       "    <tr>\n",
       "      <th>1044506936</th>\n",
       "      <td>1044385384</td>\n",
       "      <td>probeE</td>\n",
       "      <td>30000.075851</td>\n",
       "      <td>2500.006321</td>\n",
       "      <td>1.0</td>\n",
       "      <td>True</td>\n",
       "      <td>282</td>\n",
       "      <td>384</td>\n",
       "      <td>['CA1', 'DG', 'MB', 'MGd', 'MGm', 'MRN', 'SGN'...</td>\n",
       "    </tr>\n",
       "    <tr>\n",
       "      <th>1044506937</th>\n",
       "      <td>1044385384</td>\n",
       "      <td>probeF</td>\n",
       "      <td>29999.959578</td>\n",
       "      <td>2499.996631</td>\n",
       "      <td>1.0</td>\n",
       "      <td>True</td>\n",
       "      <td>368</td>\n",
       "      <td>384</td>\n",
       "      <td>['CA1', 'DG', 'LP', 'MRN', 'POL', 'PoT', 'SGN'...</td>\n",
       "    </tr>\n",
       "  </tbody>\n",
       "</table>\n",
       "</div>"
      ],
      "text/plain": [
       "                  ecephys_session_id    name  sampling_rate  \\\n",
       "ecephys_probe_id                                              \n",
       "1044506933                1044385384  probeB   30000.178402   \n",
       "1044506934                1044385384  probeC   30000.049852   \n",
       "1044506935                1044385384  probeD   30000.029115   \n",
       "1044506936                1044385384  probeE   30000.075851   \n",
       "1044506937                1044385384  probeF   29999.959578   \n",
       "\n",
       "                  lfp_sampling_rate  phase  has_lfp_data  unit_count  \\\n",
       "ecephys_probe_id                                                       \n",
       "1044506933              2500.014867    1.0          True         701   \n",
       "1044506934              2500.004154    1.0          True         307   \n",
       "1044506935              2500.002426    1.0          True         521   \n",
       "1044506936              2500.006321    1.0          True         282   \n",
       "1044506937              2499.996631    1.0          True         368   \n",
       "\n",
       "                  channel_count  \\\n",
       "ecephys_probe_id                  \n",
       "1044506933                  384   \n",
       "1044506934                  384   \n",
       "1044506935                  384   \n",
       "1044506936                  384   \n",
       "1044506937                  384   \n",
       "\n",
       "                                                 structure_acronyms  \n",
       "ecephys_probe_id                                                     \n",
       "1044506933        ['CA1', 'DG', 'LP', 'POL', 'PoT', 'VISpm', 'ro...  \n",
       "1044506934            ['MB', 'MRN', 'POST', 'SCig', 'VISp', 'root']  \n",
       "1044506935        ['CA1', 'CA3', 'DG', 'LGv', 'MB', 'TH', 'VISl'...  \n",
       "1044506936        ['CA1', 'DG', 'MB', 'MGd', 'MGm', 'MRN', 'SGN'...  \n",
       "1044506937        ['CA1', 'DG', 'LP', 'MRN', 'POL', 'PoT', 'SGN'...  "
      ]
     },
     "execution_count": 25,
     "metadata": {},
     "output_type": "execute_result"
    }
   ],
   "source": [
    "probes.head()"
   ]
  },
  {
   "cell_type": "markdown",
   "id": "cb7e65fb",
   "metadata": {
    "papermill": {
     "duration": 0.015599,
     "end_time": "2022-11-22T17:37:01.104982",
     "exception": false,
     "start_time": "2022-11-22T17:37:01.089383",
     "status": "completed"
    },
    "pycharm": {
     "name": "#%% md\n"
    },
    "tags": []
   },
   "source": [
    "Now let's get the channels table:"
   ]
  },
  {
   "cell_type": "code",
   "execution_count": 26,
   "id": "752ede51",
   "metadata": {
    "execution": {
     "iopub.execute_input": "2022-11-22T17:37:01.137864Z",
     "iopub.status.busy": "2022-11-22T17:37:01.137359Z",
     "iopub.status.idle": "2022-11-22T17:37:01.148877Z",
     "shell.execute_reply": "2022-11-22T17:37:01.148388Z"
    },
    "papermill": {
     "duration": 0.029759,
     "end_time": "2022-11-22T17:37:01.150346",
     "exception": false,
     "start_time": "2022-11-22T17:37:01.120587",
     "status": "completed"
    },
    "pycharm": {
     "name": "#%%\n"
    },
    "tags": []
   },
   "outputs": [
    {
     "data": {
      "text/html": [
       "<div>\n",
       "<style scoped>\n",
       "    .dataframe tbody tr th:only-of-type {\n",
       "        vertical-align: middle;\n",
       "    }\n",
       "\n",
       "    .dataframe tbody tr th {\n",
       "        vertical-align: top;\n",
       "    }\n",
       "\n",
       "    .dataframe thead th {\n",
       "        text-align: right;\n",
       "    }\n",
       "</style>\n",
       "<table border=\"1\" class=\"dataframe\">\n",
       "  <thead>\n",
       "    <tr style=\"text-align: right;\">\n",
       "      <th></th>\n",
       "      <th>ecephys_probe_id</th>\n",
       "      <th>ecephys_session_id</th>\n",
       "      <th>probe_channel_number</th>\n",
       "      <th>probe_vertical_position</th>\n",
       "      <th>probe_horizontal_position</th>\n",
       "      <th>anterior_posterior_ccf_coordinate</th>\n",
       "      <th>dorsal_ventral_ccf_coordinate</th>\n",
       "      <th>left_right_ccf_coordinate</th>\n",
       "      <th>structure_acronym</th>\n",
       "      <th>unit_count</th>\n",
       "      <th>valid_data</th>\n",
       "    </tr>\n",
       "    <tr>\n",
       "      <th>ecephys_channel_id</th>\n",
       "      <th></th>\n",
       "      <th></th>\n",
       "      <th></th>\n",
       "      <th></th>\n",
       "      <th></th>\n",
       "      <th></th>\n",
       "      <th></th>\n",
       "      <th></th>\n",
       "      <th></th>\n",
       "      <th></th>\n",
       "      <th></th>\n",
       "    </tr>\n",
       "  </thead>\n",
       "  <tbody>\n",
       "    <tr>\n",
       "      <th>1049365509</th>\n",
       "      <td>1048089911</td>\n",
       "      <td>1047969464</td>\n",
       "      <td>0</td>\n",
       "      <td>20.0</td>\n",
       "      <td>43.0</td>\n",
       "      <td>8445.0</td>\n",
       "      <td>4013.0</td>\n",
       "      <td>6753.0</td>\n",
       "      <td>MRN</td>\n",
       "      <td>0</td>\n",
       "      <td>True</td>\n",
       "    </tr>\n",
       "    <tr>\n",
       "      <th>1049365511</th>\n",
       "      <td>1048089911</td>\n",
       "      <td>1047969464</td>\n",
       "      <td>1</td>\n",
       "      <td>20.0</td>\n",
       "      <td>11.0</td>\n",
       "      <td>8443.0</td>\n",
       "      <td>4005.0</td>\n",
       "      <td>6755.0</td>\n",
       "      <td>MRN</td>\n",
       "      <td>5</td>\n",
       "      <td>True</td>\n",
       "    </tr>\n",
       "    <tr>\n",
       "      <th>1049365512</th>\n",
       "      <td>1048089911</td>\n",
       "      <td>1047969464</td>\n",
       "      <td>2</td>\n",
       "      <td>40.0</td>\n",
       "      <td>59.0</td>\n",
       "      <td>8441.0</td>\n",
       "      <td>3997.0</td>\n",
       "      <td>6757.0</td>\n",
       "      <td>MRN</td>\n",
       "      <td>0</td>\n",
       "      <td>True</td>\n",
       "    </tr>\n",
       "    <tr>\n",
       "      <th>1049365513</th>\n",
       "      <td>1048089911</td>\n",
       "      <td>1047969464</td>\n",
       "      <td>3</td>\n",
       "      <td>40.0</td>\n",
       "      <td>27.0</td>\n",
       "      <td>8439.0</td>\n",
       "      <td>3989.0</td>\n",
       "      <td>6759.0</td>\n",
       "      <td>MRN</td>\n",
       "      <td>5</td>\n",
       "      <td>True</td>\n",
       "    </tr>\n",
       "    <tr>\n",
       "      <th>1049365514</th>\n",
       "      <td>1048089911</td>\n",
       "      <td>1047969464</td>\n",
       "      <td>4</td>\n",
       "      <td>60.0</td>\n",
       "      <td>43.0</td>\n",
       "      <td>8438.0</td>\n",
       "      <td>3981.0</td>\n",
       "      <td>6761.0</td>\n",
       "      <td>MRN</td>\n",
       "      <td>7</td>\n",
       "      <td>True</td>\n",
       "    </tr>\n",
       "  </tbody>\n",
       "</table>\n",
       "</div>"
      ],
      "text/plain": [
       "                    ecephys_probe_id  ecephys_session_id  \\\n",
       "ecephys_channel_id                                         \n",
       "1049365509                1048089911          1047969464   \n",
       "1049365511                1048089911          1047969464   \n",
       "1049365512                1048089911          1047969464   \n",
       "1049365513                1048089911          1047969464   \n",
       "1049365514                1048089911          1047969464   \n",
       "\n",
       "                    probe_channel_number  probe_vertical_position  \\\n",
       "ecephys_channel_id                                                  \n",
       "1049365509                             0                     20.0   \n",
       "1049365511                             1                     20.0   \n",
       "1049365512                             2                     40.0   \n",
       "1049365513                             3                     40.0   \n",
       "1049365514                             4                     60.0   \n",
       "\n",
       "                    probe_horizontal_position  \\\n",
       "ecephys_channel_id                              \n",
       "1049365509                               43.0   \n",
       "1049365511                               11.0   \n",
       "1049365512                               59.0   \n",
       "1049365513                               27.0   \n",
       "1049365514                               43.0   \n",
       "\n",
       "                    anterior_posterior_ccf_coordinate  \\\n",
       "ecephys_channel_id                                      \n",
       "1049365509                                     8445.0   \n",
       "1049365511                                     8443.0   \n",
       "1049365512                                     8441.0   \n",
       "1049365513                                     8439.0   \n",
       "1049365514                                     8438.0   \n",
       "\n",
       "                    dorsal_ventral_ccf_coordinate  left_right_ccf_coordinate  \\\n",
       "ecephys_channel_id                                                             \n",
       "1049365509                                 4013.0                     6753.0   \n",
       "1049365511                                 4005.0                     6755.0   \n",
       "1049365512                                 3997.0                     6757.0   \n",
       "1049365513                                 3989.0                     6759.0   \n",
       "1049365514                                 3981.0                     6761.0   \n",
       "\n",
       "                   structure_acronym  unit_count  valid_data  \n",
       "ecephys_channel_id                                            \n",
       "1049365509                       MRN           0        True  \n",
       "1049365511                       MRN           5        True  \n",
       "1049365512                       MRN           0        True  \n",
       "1049365513                       MRN           5        True  \n",
       "1049365514                       MRN           7        True  "
      ]
     },
     "execution_count": 26,
     "metadata": {},
     "output_type": "execute_result"
    }
   ],
   "source": [
    "channels = cache.get_channel_table()\n",
    "channels.head()"
   ]
  },
  {
   "cell_type": "code",
   "execution_count": 27,
   "id": "aee59ad0",
   "metadata": {
    "execution": {
     "iopub.execute_input": "2022-11-22T17:37:01.184414Z",
     "iopub.status.busy": "2022-11-22T17:37:01.183765Z",
     "iopub.status.idle": "2022-11-22T17:37:01.188501Z",
     "shell.execute_reply": "2022-11-22T17:37:01.187887Z"
    },
    "papermill": {
     "duration": 0.023557,
     "end_time": "2022-11-22T17:37:01.189843",
     "exception": false,
     "start_time": "2022-11-22T17:37:01.166286",
     "status": "completed"
    },
    "pycharm": {
     "name": "#%%\n"
    },
    "tags": []
   },
   "outputs": [
    {
     "data": {
      "text/plain": [
       "383"
      ]
     },
     "execution_count": 27,
     "metadata": {},
     "output_type": "execute_result"
    }
   ],
   "source": [
    "channels.probe_channel_number.max()"
   ]
  },
  {
   "cell_type": "markdown",
   "id": "62499be0",
   "metadata": {
    "papermill": {
     "duration": 0.015865,
     "end_time": "2022-11-22T17:37:01.221778",
     "exception": false,
     "start_time": "2022-11-22T17:37:01.205913",
     "status": "completed"
    },
    "pycharm": {
     "name": "#%% md\n"
    },
    "tags": []
   },
   "source": [
    "We can join the channels and units tables to get full CCF info about every unit."
   ]
  },
  {
   "cell_type": "code",
   "execution_count": 28,
   "id": "3a89bd66",
   "metadata": {
    "execution": {
     "iopub.execute_input": "2022-11-22T17:37:01.255373Z",
     "iopub.status.busy": "2022-11-22T17:37:01.254853Z",
     "iopub.status.idle": "2022-11-22T17:37:01.288712Z",
     "shell.execute_reply": "2022-11-22T17:37:01.288069Z"
    },
    "papermill": {
     "duration": 0.052655,
     "end_time": "2022-11-22T17:37:01.290270",
     "exception": false,
     "start_time": "2022-11-22T17:37:01.237615",
     "status": "completed"
    },
    "pycharm": {
     "name": "#%%\n"
    },
    "tags": []
   },
   "outputs": [],
   "source": [
    "#first let's merge the units and channels tables\n",
    "session_units_channels = session_units.merge(channels, left_on='ecephys_channel_id', right_index=True)"
   ]
  },
  {
   "cell_type": "markdown",
   "id": "20b0ab53",
   "metadata": {
    "papermill": {
     "duration": 0.015763,
     "end_time": "2022-11-22T17:37:01.322089",
     "exception": false,
     "start_time": "2022-11-22T17:37:01.306326",
     "status": "completed"
    },
    "pycharm": {
     "name": "#%% md\n"
    },
    "tags": []
   },
   "source": [
    "Now let's use this info to plot each unit's CCF position grouped by probe for our example session:"
   ]
  },
  {
   "cell_type": "code",
   "execution_count": 29,
   "id": "94f23a3e",
   "metadata": {
    "execution": {
     "iopub.execute_input": "2022-11-22T17:37:01.355217Z",
     "iopub.status.busy": "2022-11-22T17:37:01.354587Z",
     "iopub.status.idle": "2022-11-22T17:37:01.804878Z",
     "shell.execute_reply": "2022-11-22T17:37:01.804324Z"
    },
    "papermill": {
     "duration": 0.469618,
     "end_time": "2022-11-22T17:37:01.807373",
     "exception": false,
     "start_time": "2022-11-22T17:37:01.337755",
     "status": "completed"
    },
    "pycharm": {
     "name": "#%%\n"
    },
    "tags": []
   },
   "outputs": [
    {
     "data": {
      "image/png": "[encoded data removed]",
      "text/plain": [
       "<Figure size 1400x800 with 1 Axes>"
      ]
     },
     "metadata": {},
     "output_type": "display_data"
    }
   ],
   "source": [
    "from matplotlib import pyplot as plt\n",
    "from mpl_toolkits.mplot3d import Axes3D  \n",
    "\n",
    "fig = plt.figure()\n",
    "fig.set_size_inches([14,8])\n",
    "ax = fig.add_subplot(111, projection='3d')\n",
    "def plot_probe_coords(probe_group):\n",
    "    ax.scatter(probe_group['left_right_ccf_coordinate_x'],\n",
    "                probe_group['anterior_posterior_ccf_coordinate_x'],\n",
    "                -probe_group['dorsal_ventral_ccf_coordinate_x'], #reverse the z coord so that down is into the brain\n",
    "                )\n",
    "    return probe_group['ecephys_probe_id_x'].values[0]\n",
    "\n",
    "probe_ids = session_units_channels.groupby('ecephys_probe_id_x').apply(plot_probe_coords)\n",
    "\n",
    "ax.set_zlabel('D/V')\n",
    "ax.set_xlabel('Left/Right')\n",
    "ax.set_ylabel('A/P')\n",
    "ax.legend(probe_ids)\n",
    "ax.view_init(elev=55, azim=70)\n",
    "\n"
   ]
  },
  {
   "cell_type": "markdown",
   "id": "a4fddd1c",
   "metadata": {
    "papermill": {
     "duration": 0.018172,
     "end_time": "2022-11-22T17:37:01.844162",
     "exception": false,
     "start_time": "2022-11-22T17:37:01.825990",
     "status": "completed"
    },
    "pycharm": {
     "name": "#%% md\n"
    },
    "tags": []
   },
   "source": [
    "You can see that these probe trajectories wiggle a bit. That's because we're plotting them in CCF space. When we warp the brains into this space, the probe trajectories can bend."
   ]
  }
 ],
 "metadata": {
  "celltoolbar": "Tags",
  "kernelspec": {
   "display_name": "Python 3",
   "language": "python",
   "name": "python3"
  },
  "language_info": {
   "codemirror_mode": {
    "name": "ipython",
    "version": 3
   },
   "file_extension": ".py",
   "mimetype": "text/x-python",
   "name": "python",
   "nbconvert_exporter": "python",
   "pygments_lexer": "ipython3",
   "version": "3.8.10"
  },
  "papermill": {
   "default_parameters": {},
   "duration": 24.989025,
   "end_time": "2022-11-22T17:37:02.380345",
   "environment_variables": {},
   "exception": null,
   "input_path": "doc_template/examples_root/examples/nb/visual_behavior_neuropixels_dataset_manifest.ipynb",
   "output_path": "/tmp/tmpvojbrrbl/scratch_nb.ipynb",
   "parameters": {
    "output_dir": "/tmp/tmpvojbrrbl",
    "resources_dir": "/home/runner/work/AllenSDK/AllenSDK/allensdk/internal/notebooks/resources"
   },
   "start_time": "2022-11-22T17:36:37.391320",
   "version": "2.4.0"
  },
  "vscode": {
   "interpreter": {
    "hash": "cb38a8e3bd5a58a98deb62ad06df3bd0c14518dbf2de9867be7d36b03e6e3aaa"
   }
  }
 },
 "nbformat": 4,
 "nbformat_minor": 5
}
