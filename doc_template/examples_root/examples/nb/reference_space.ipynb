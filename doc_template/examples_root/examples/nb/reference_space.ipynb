{
 "cells": [
  {
   "cell_type": "markdown",
   "metadata": {},
   "source": [
    "# Reference Space\n",
    "\n",
    "This notebook contains example code demonstrating the use of the StructureTree and ReferenceSpace classes. These classes provide methods for interacting with the 3D spaces to which Allen Institute data and atlases are registered.\n",
    "\n",
    "The main entry point will be through the `ReferenceSpaceCache` class. The `ReferenceSpaceCache` class has methods for downloading, storing, and constructing StructureTrees, annotations, and ReferenceSpaces.\n",
    "\n",
    "* <a href='#Constructing-a-StructureTree'>Constructing a StructureTree</a>\n",
    "* <a href='#Using-a-StructureTree'>Using a StructureTree</a>\n",
    "* <a href='#Downloading-an-annotation-volume'>Downloading an annotation volume</a>\n",
    "* <a href='#Constructing-a-ReferenceSpace'>Constructing a ReferenceSpace</a>\n",
    "* <a href='#Using-a-ReferenceSpace'>Using a ReferenceSpace</a>\n",
    "* <a href='#Exporting'>Exporting</a>"
   ]
  },
  {
   "cell_type": "markdown",
   "metadata": {},
   "source": [
    "## Constructing a StructureTree\n",
    "\n",
    "A StructureTree object is a wrapper around a structure graph - a list of dictionaries documenting brain structures and their containment relationships. To build a structure tree, you will first need to obtain a structure graph. The `ReferenceSpaceCache` takes care of that for you.\n",
    "\n",
    "For a list of atlases and corresponding structure graph ids, see [here](http://help.brain-map.org/display/api/Atlas+Drawings+and+Ontologies)."
   ]
  },
  {
   "cell_type": "code",
   "execution_count": 1,
   "metadata": {},
   "outputs": [],
   "source": [
    "from pathlib import Path"
   ]
  },
  {
   "cell_type": "code",
   "execution_count": 2,
   "metadata": {
    "tags": [
     "parameters"
    ]
   },
   "outputs": [],
   "source": [
    "output_dir = '.'"
   ]
  },
  {
   "cell_type": "code",
   "execution_count": 3,
   "metadata": {},
   "outputs": [],
   "source": [
    "from allensdk.core.reference_space_cache import ReferenceSpaceCache\n",
    "\n",
    "reference_space_key = 'annotation/ccf_2017'\n",
    "resolution = 25\n",
    "rspc = ReferenceSpaceCache(resolution, reference_space_key, manifest=Path(output_dir) / 'manifest.json')\n",
    "# ID 1 is the adult mouse structure graph\n",
    "tree = rspc.get_structure_tree(structure_graph_id=1) "
   ]
  },
  {
   "cell_type": "code",
   "execution_count": 4,
   "metadata": {},
   "outputs": [
    {
     "data": {
      "text/plain": [
       "[{'acronym': 'AUDd',\n",
       "  'graph_id': 1,\n",
       "  'graph_order': 122,\n",
       "  'id': 1011,\n",
       "  'name': 'Dorsal auditory area',\n",
       "  'structure_id_path': [997, 8, 567, 688, 695, 315, 247, 1011],\n",
       "  'structure_set_ids': [112905828,\n",
       "   688152357,\n",
       "   691663206,\n",
       "   687527945,\n",
       "   12,\n",
       "   184527634,\n",
       "   167587189,\n",
       "   114512891],\n",
       "  'rgb_triplet': [1, 147, 153]}]"
      ]
     },
     "execution_count": 4,
     "metadata": {},
     "output_type": "execute_result"
    }
   ],
   "source": [
    "# now let's take a look at a structure\n",
    "tree.get_structures_by_name(['Dorsal auditory area'])"
   ]
  },
  {
   "cell_type": "markdown",
   "metadata": {},
   "source": [
    "The fields are:\n",
    "    * acronym: a shortened name for the structure\n",
    "    * rgb_triplet: each structure is assigned a consistent color for visualizations\n",
    "    * graph_id: the structure graph to which this structure belongs\n",
    "    * graph_order: each structure is assigned a consistent position in the flattened graph\n",
    "    * id: a unique integer identifier\n",
    "    * name: the full name of the structure\n",
    "    * structure_id_path: traces a path from the root node of the tree to this structure\n",
    "    * structure_set_ids: the structure belongs to these predefined groups"
   ]
  },
  {
   "cell_type": "markdown",
   "metadata": {},
   "source": [
    "## Using a StructureTree"
   ]
  },
  {
   "cell_type": "code",
   "execution_count": 5,
   "metadata": {},
   "outputs": [
    {
     "data": {
      "text/plain": [
       "[{'acronym': 'AUD',\n",
       "  'graph_id': 1,\n",
       "  'graph_order': 121,\n",
       "  'id': 247,\n",
       "  'name': 'Auditory areas',\n",
       "  'structure_id_path': [997, 8, 567, 688, 695, 315, 247],\n",
       "  'structure_set_ids': [3, 112905828, 691663206, 12, 184527634, 114512891],\n",
       "  'rgb_triplet': [1, 147, 153]}]"
      ]
     },
     "execution_count": 5,
     "metadata": {},
     "output_type": "execute_result"
    }
   ],
   "source": [
    "# get a structure's parent\n",
    "tree.parents([1011])"
   ]
  },
  {
   "cell_type": "code",
   "execution_count": 6,
   "metadata": {},
   "outputs": [
    {
     "data": {
      "text/plain": [
       "'Auditory areas'"
      ]
     },
     "execution_count": 6,
     "metadata": {},
     "output_type": "execute_result"
    }
   ],
   "source": [
    "# get a dictionary mapping structure ids to names\n",
    "\n",
    "name_map = tree.get_name_map()\n",
    "name_map[247]"
   ]
  },
  {
   "cell_type": "code",
   "execution_count": 7,
   "metadata": {},
   "outputs": [
    {
     "name": "stdout",
     "output_type": "stream",
     "text": [
      "Primary visual area is not in Auditory areas\n"
     ]
    }
   ],
   "source": [
    "# ask whether one structure is contained within another\n",
    "\n",
    "structure_id_a = 385\n",
    "structure_id_b = 247\n",
    "\n",
    "is_desc = '' if tree.structure_descends_from(structure_id_a, structure_id_b) else ' not'\n",
    "print( '{0} is{1} in {2}'.format(name_map[structure_id_a], is_desc, name_map[structure_id_b]) )"
   ]
  },
  {
   "cell_type": "code",
   "execution_count": 8,
   "metadata": {},
   "outputs": [
    {
     "name": "stdout",
     "output_type": "stream",
     "text": [
      "VISp\n"
     ]
    }
   ],
   "source": [
    "# build a custom map that looks up acronyms by ids\n",
    "# the syntax here is just a pair of node-wise functions. \n",
    "# The first one returns keys while the second one returns values\n",
    "\n",
    "acronym_map = tree.value_map(lambda x: x['id'], lambda y: y['acronym'])\n",
    "print( acronym_map[structure_id_a] )"
   ]
  },
  {
   "cell_type": "markdown",
   "metadata": {},
   "source": [
    "## Downloading an annotation volume\n",
    "\n",
    "You can obtain annotation volumes through the `ReferenceSpaceCache` which stores a nrrd file containing the Allen Common Coordinate Framework annotation on your hard drive. Above we set the resolution for annotations when we initialized the `ReferenceSpaceCache` to 25-micron isometric spacing. The orientation of this space is:\n",
    "    * Anterior -> Posterior\n",
    "    * Superior -> Inferior\n",
    "    * Left -> Right"
   ]
  },
  {
   "cell_type": "code",
   "execution_count": 9,
   "metadata": {},
   "outputs": [
    {
     "data": {
      "text/plain": [
       "['annotation_25.nrrd']"
      ]
     },
     "execution_count": 9,
     "metadata": {},
     "output_type": "execute_result"
    }
   ],
   "source": [
    "import os\n",
    "\n",
    "annotation, meta = rspc.get_annotation_volume()\n",
    "# The file should appear in the reference space key directory\n",
    "os.listdir(reference_space_key)"
   ]
  },
  {
   "cell_type": "markdown",
   "metadata": {},
   "source": [
    "## Constructing a ReferenceSpace\n",
    "\n",
    "A reference space is built from a structure tree and an annotation volume. We can obtain our ReferenceSpace object using `ReferenceSpaceCache` which will load everything from the cache since we have already downloaded the files for use above."
   ]
  },
  {
   "cell_type": "code",
   "execution_count": 10,
   "metadata": {},
   "outputs": [],
   "source": [
    "rsp = rspc.get_reference_space()"
   ]
  },
  {
   "cell_type": "markdown",
   "metadata": {},
   "source": [
    "## Using a ReferenceSpace"
   ]
  },
  {
   "cell_type": "markdown",
   "metadata": {},
   "source": [
    "#### making structure masks\n",
    "\n",
    "The simplest use of a Reference space is to build binary indicator masks for structures or groups of structures."
   ]
  },
  {
   "cell_type": "code",
   "execution_count": 11,
   "metadata": {},
   "outputs": [
    {
     "data": {
      "text/plain": [
       "<matplotlib.image.AxesImage at 0x7f9074fa4310>"
      ]
     },
     "execution_count": 11,
     "metadata": {},
     "output_type": "execute_result"
    },
    {
     "data": {
      "image/png": "[encoded data removed]",
      "text/plain": [
       "<Figure size 720x720 with 1 Axes>"
      ]
     },
     "metadata": {
      "needs_background": "light"
     },
     "output_type": "display_data"
    }
   ],
   "source": [
    "import matplotlib.pyplot as plt\n",
    "%matplotlib inline\n",
    "\n",
    "# A complete mask for one structure\n",
    "whole_cortex_mask = rsp.make_structure_mask([315])\n",
    "\n",
    "# view in coronal section\n",
    "fig, ax = plt.subplots(figsize=(10, 10))\n",
    "plt.imshow(whole_cortex_mask[150, :], interpolation='none', cmap=plt.cm.afmhot)"
   ]
  },
  {
   "cell_type": "markdown",
   "metadata": {},
   "source": [
    "What if you want a mask for a whole collection of ontologically disparate structures? Just pass more structure ids to make_structure_masks:"
   ]
  },
  {
   "cell_type": "code",
   "execution_count": 12,
   "metadata": {},
   "outputs": [
    {
     "data": {
      "text/plain": [
       "<matplotlib.image.AxesImage at 0x7f907e301130>"
      ]
     },
     "execution_count": 12,
     "metadata": {},
     "output_type": "execute_result"
    },
    {
     "data": {
      "image/png": "[encoded data removed]",
      "text/plain": [
       "<Figure size 720x720 with 1 Axes>"
      ]
     },
     "metadata": {
      "needs_background": "light"
     },
     "output_type": "display_data"
    }
   ],
   "source": [
    "# This gets all of the structures targeted by the Allen Brain Observatory project\n",
    "brain_observatory_structures = rsp.structure_tree.get_structures_by_set_id([514166994])\n",
    "brain_observatory_ids = [st['id'] for st in brain_observatory_structures]\n",
    "\n",
    "brain_observatory_mask = rsp.make_structure_mask(brain_observatory_ids)\n",
    "\n",
    "# view in horizontal section\n",
    "fig, ax = plt.subplots(figsize=(10, 10))\n",
    "plt.imshow(brain_observatory_mask[:, 40, :], interpolation='none', cmap=plt.cm.afmhot)"
   ]
  },
  {
   "cell_type": "markdown",
   "metadata": {},
   "source": [
    "You can also make and store a number of structure_masks at once, however this is only accessible using the `ReferenceSpace` class directly:"
   ]
  },
  {
   "cell_type": "code",
   "execution_count": 13,
   "metadata": {
    "scrolled": true
   },
   "outputs": [
    {
     "name": "stdout",
     "output_type": "stream",
     "text": [
      "made mask for structure 385.\n",
      "made mask for structure 1097.\n"
     ]
    },
    {
     "data": {
      "text/plain": [
       "['ccf_2017', 'structure_385.nrrd', 'structure_1097.nrrd']"
      ]
     },
     "execution_count": 13,
     "metadata": {},
     "output_type": "execute_result"
    }
   ],
   "source": [
    "import functools\n",
    "from allensdk.core.reference_space import ReferenceSpace\n",
    "\n",
    "# Define a wrapper function that will control the mask generation. \n",
    "# This one checks for a nrrd file in the specified base directory \n",
    "# and builds/writes the mask only if one does not exist\n",
    "annotation_dir = 'annotation'\n",
    "mask_writer = functools.partial(ReferenceSpace.check_and_write, annotation_dir)\n",
    "    \n",
    "# many_structure_masks is a generator - nothing has actrually been run yet\n",
    "mask_generator = rsp.many_structure_masks([385, 1097], mask_writer)\n",
    "\n",
    "# consume the resulting iterator to make and write the masks\n",
    "for structure_id in mask_generator:\n",
    "    print( 'made mask for structure {0}.'.format(structure_id) ) \n",
    "\n",
    "os.listdir(annotation_dir)"
   ]
  },
  {
   "cell_type": "markdown",
   "metadata": {},
   "source": [
    "#### Removing unassigned structures"
   ]
  },
  {
   "cell_type": "markdown",
   "metadata": {},
   "source": [
    "A structure graph may contain structures that are not used in a particular reference space. Having these around can complicate use of the reference space, so we generally want to remove them.\n",
    "\n",
    "We'll try this using \"Somatosensory areas, layer 6a\" as a test case. In the 2016 ccf space, this structure is unused in favor of finer distinctions (e.g. \"Primary somatosensory area, barrel field, layer 6a\")."
   ]
  },
  {
   "cell_type": "code",
   "execution_count": 14,
   "metadata": {},
   "outputs": [
    {
     "name": "stdout",
     "output_type": "stream",
     "text": [
      "voxel count for structure 12997: 0\n"
     ]
    },
    {
     "data": {
      "text/plain": [
       "False"
      ]
     },
     "execution_count": 14,
     "metadata": {},
     "output_type": "execute_result"
    }
   ],
   "source": [
    "# Double-check the voxel counts\n",
    "no_voxel_id = rsp.structure_tree.get_structures_by_name(['Somatosensory areas, layer 6a'])[0]['id']\n",
    "print( 'voxel count for structure {0}: {1}'.format(no_voxel_id, rsp.total_voxel_map[no_voxel_id]) )\n",
    "\n",
    "# remove unassigned structures from the ReferenceSpace's StructureTree\n",
    "rsp.remove_unassigned()\n",
    "\n",
    "# check the structure tree\n",
    "no_voxel_id in rsp.structure_tree.node_ids()"
   ]
  },
  {
   "cell_type": "markdown",
   "metadata": {},
   "source": [
    "#### View a slice from the annotation"
   ]
  },
  {
   "cell_type": "code",
   "execution_count": 15,
   "metadata": {},
   "outputs": [
    {
     "data": {
      "text/plain": [
       "<matplotlib.image.AxesImage at 0x7f9074fb4eb0>"
      ]
     },
     "execution_count": 15,
     "metadata": {},
     "output_type": "execute_result"
    },
    {
     "data": {
      "image/png": "[encoded data removed]",
      "text/plain": [
       "<Figure size 720x720 with 1 Axes>"
      ]
     },
     "metadata": {
      "needs_background": "light"
     },
     "output_type": "display_data"
    }
   ],
   "source": [
    "import numpy as np\n",
    "\n",
    "fig, ax = plt.subplots(figsize=(10, 10))\n",
    "plt.imshow(rsp.get_slice_image(1, 5000), interpolation='none')"
   ]
  },
  {
   "cell_type": "markdown",
   "metadata": {},
   "source": [
    "#### Downsample the space\n",
    "\n",
    "If you want an annotation at a resolution we don't provide, you can make one with the downsample method."
   ]
  },
  {
   "cell_type": "code",
   "execution_count": 16,
   "metadata": {},
   "outputs": [
    {
     "name": "stdout",
     "output_type": "stream",
     "text": [
      "(528, 320, 456)\n",
      "(176, 107, 152)\n"
     ]
    }
   ],
   "source": [
    "import warnings\n",
    "\n",
    "target_resolution = [75, 75, 75]\n",
    "\n",
    "# in some versions of scipy, scipy.ndimage.zoom raises a helpful but distracting \n",
    "# warning about the method used to truncate integers. \n",
    "warnings.simplefilter('ignore')\n",
    "\n",
    "sf_rsp = rsp.downsample(target_resolution)\n",
    "\n",
    "# re-enable warnings\n",
    "warnings.simplefilter('default')\n",
    "\n",
    "print( rsp.annotation.shape )\n",
    "print( sf_rsp.annotation.shape )"
   ]
  },
  {
   "cell_type": "markdown",
   "metadata": {},
   "source": [
    "Now view the downsampled space:"
   ]
  },
  {
   "cell_type": "code",
   "execution_count": 17,
   "metadata": {},
   "outputs": [
    {
     "name": "stderr",
     "output_type": "stream",
     "text": [
      "/opt/anaconda3/lib/python3.8/site-packages/ipykernel/ipkernel.py:287: DeprecationWarning: `should_run_async` will not call `transform_cell` automatically in the future. Please pass the result to `transformed_cell` argument and any exception that happen during thetransform in `preprocessing_exc_tuple` in IPython 7.17 and above.\n",
      "  and should_run_async(code)\n"
     ]
    },
    {
     "data": {
      "text/plain": [
       "<matplotlib.image.AxesImage at 0x7f907e519b80>"
      ]
     },
     "execution_count": 17,
     "metadata": {},
     "output_type": "execute_result"
    },
    {
     "data": {
      "image/png": "[encoded data removed]",
      "text/plain": [
       "<Figure size 720x720 with 1 Axes>"
      ]
     },
     "metadata": {
      "needs_background": "light"
     },
     "output_type": "display_data"
    }
   ],
   "source": [
    "fig, ax = plt.subplots(figsize=(10, 10))\n",
    "plt.imshow(sf_rsp.get_slice_image(1, 5000), interpolation='none')"
   ]
  },
  {
   "cell_type": "markdown",
   "metadata": {},
   "source": [
    "## Exporting\n",
    "\n",
    "if you want to work with our reference space data using tools made by vendors other than the Allen Institute for Brain Science, you may need to do some conversion work. The AllenSDK contains a few convenience functions which implement common conversions. If you don't see the one you need, mention it on [our issues page](https://github.com/alleninstitute/allensdk/issues)."
   ]
  },
  {
   "cell_type": "markdown",
   "metadata": {},
   "source": [
    "#### ITKSnap\n",
    "\n",
    "[ITKSnap](http://www.itksnap.org/pmwiki/pmwiki.php) is a tool for viewing and segmenting biological volume data. Our annotation team uses it to draw CCF annotations. If you have data aligned to one of our reference spaces, you can use the AllenSDK to export an ITKSnap compatible segmentation volume and corresponding label description file.\n",
    "\n",
    "Note: our structure ids are 32-bit unsigned integers and may exceed ITKSnap's maximum allowable label value (65535). If any of the ids in a structure tree do exceed this value, the `write_itksnap_labels` method will automatically remap the ids to a set of smaller numbers."
   ]
  },
  {
   "cell_type": "code",
   "execution_count": 18,
   "metadata": {},
   "outputs": [
    {
     "name": "stderr",
     "output_type": "stream",
     "text": [
      "/opt/anaconda3/lib/python3.8/site-packages/nrrd/writer.py:323: DeprecationWarning: tostring() is deprecated. Use tobytes() instead.\n",
      "  raw_data = data.tostring(order=index_order)\n"
     ]
    }
   ],
   "source": [
    "# using the downsampled annotations\n",
    "hm_rsp = rsp.downsample([100, 100, 100])\n",
    "hm_rsp.write_itksnap_labels('ccf_2017_itksnap.nrrd', 'ccf_2017_itksnap_labels.txt')"
   ]
  },
  {
   "cell_type": "code",
   "execution_count": null,
   "metadata": {},
   "outputs": [],
   "source": []
  }
 ],
 "metadata": {
  "celltoolbar": "Tags",
  "kernelspec": {
   "display_name": "Python 3",
   "language": "python",
   "name": "python3"
  },
  "language_info": {
   "codemirror_mode": {
    "name": "ipython",
    "version": 3
   },
   "file_extension": ".py",
   "mimetype": "text/x-python",
   "name": "python",
   "nbconvert_exporter": "python",
   "pygments_lexer": "ipython3",
   "version": "3.8.3"
  }
 },
 "nbformat": 4,
 "nbformat_minor": 1
}
