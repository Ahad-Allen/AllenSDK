{
 "cells": [
  {
   "cell_type": "markdown",
   "metadata": {
    "papermill": {
     "duration": 0.005153,
     "end_time": "2022-11-22T18:27:30.724650",
     "exception": false,
     "start_time": "2022-11-22T18:27:30.719497",
     "status": "completed"
    },
    "tags": []
   },
   "source": [
    "# Reference Space\n",
    "\n",
    "This notebook contains example code demonstrating the use of the StructureTree and ReferenceSpace classes. These classes provide methods for interacting with the 3D spaces to which Allen Institute data and atlases are registered.\n",
    "\n",
    "The main entry point will be through the `ReferenceSpaceCache` class. The `ReferenceSpaceCache` class has methods for downloading, storing, and constructing StructureTrees, annotations, and ReferenceSpaces.\n",
    "\n",
    "* <a href='#Constructing-a-StructureTree'>Constructing a StructureTree</a>\n",
    "* <a href='#Using-a-StructureTree'>Using a StructureTree</a>\n",
    "* <a href='#Downloading-an-annotation-volume'>Downloading an annotation volume</a>\n",
    "* <a href='#Constructing-a-ReferenceSpace'>Constructing a ReferenceSpace</a>\n",
    "* <a href='#Using-a-ReferenceSpace'>Using a ReferenceSpace</a>\n",
    "* <a href='#Exporting'>Exporting</a>"
   ]
  },
  {
   "cell_type": "markdown",
   "metadata": {
    "papermill": {
     "duration": 0.004063,
     "end_time": "2022-11-22T18:27:30.733040",
     "exception": false,
     "start_time": "2022-11-22T18:27:30.728977",
     "status": "completed"
    },
    "tags": []
   },
   "source": [
    "## Constructing a StructureTree\n",
    "\n",
    "A StructureTree object is a wrapper around a structure graph - a list of dictionaries documenting brain structures and their containment relationships. To build a structure tree, you will first need to obtain a structure graph. The `ReferenceSpaceCache` takes care of that for you.\n",
    "\n",
    "For a list of atlases and corresponding structure graph ids, see [here](http://help.brain-map.org/display/api/Atlas+Drawings+and+Ontologies)."
   ]
  },
  {
   "cell_type": "code",
   "execution_count": 1,
   "metadata": {
    "execution": {
     "iopub.execute_input": "2022-11-22T18:27:30.743091Z",
     "iopub.status.busy": "2022-11-22T18:27:30.742309Z",
     "iopub.status.idle": "2022-11-22T18:27:30.749179Z",
     "shell.execute_reply": "2022-11-22T18:27:30.748625Z"
    },
    "papermill": {
     "duration": 0.013362,
     "end_time": "2022-11-22T18:27:30.750558",
     "exception": false,
     "start_time": "2022-11-22T18:27:30.737196",
     "status": "completed"
    },
    "tags": []
   },
   "outputs": [],
   "source": [
    "from pathlib import Path\n",
    "import os\n",
    "\n",
    "from allensdk.core.reference_space_cache import ReferenceSpaceCache"
   ]
  },
  {
   "cell_type": "code",
   "execution_count": 2,
   "metadata": {
    "execution": {
     "iopub.execute_input": "2022-11-22T18:27:30.760132Z",
     "iopub.status.busy": "2022-11-22T18:27:30.759924Z",
     "iopub.status.idle": "2022-11-22T18:27:30.762837Z",
     "shell.execute_reply": "2022-11-22T18:27:30.762139Z"
    },
    "papermill": {
     "duration": 0.009711,
     "end_time": "2022-11-22T18:27:30.764193",
     "exception": false,
     "start_time": "2022-11-22T18:27:30.754482",
     "status": "completed"
    },
    "tags": [
     "parameters"
    ]
   },
   "outputs": [],
   "source": [
    "output_dir = '.'"
   ]
  },
  {
   "cell_type": "code",
   "execution_count": 3,
   "metadata": {
    "execution": {
     "iopub.execute_input": "2022-11-22T18:27:30.787386Z",
     "iopub.status.busy": "2022-11-22T18:27:30.787179Z",
     "iopub.status.idle": "2022-11-22T18:27:37.952528Z",
     "shell.execute_reply": "2022-11-22T18:27:37.951874Z"
    },
    "papermill": {
     "duration": 7.17235,
     "end_time": "2022-11-22T18:27:37.954653",
     "exception": false,
     "start_time": "2022-11-22T18:27:30.782303",
     "status": "completed"
    },
    "tags": []
   },
   "outputs": [
    {
     "ename": "ManifestVersionError",
     "evalue": "Your manifest file (manifest.json) version did not match the expected version (its version is '1.1', but version '1.2' is expected).  Please remove this file and it will be regenerated for you the next time you instantiate this class. WARNING: There may be new data files available that replace the ones you already have downloaded. Read the notes for this release for more details on what has changed (https://github.com/alleninstitute/allensdk/wiki).",
     "output_type": "error",
     "traceback": [
      "\u001b[0;31m---------------------------------------------------------------------------\u001b[0m",
      "\u001b[0;31mManifestVersionError\u001b[0m                      Traceback (most recent call last)",
      "\u001b[0;32m/opt/anaconda3/lib/python3.8/site-packages/allensdk/api/warehouse_cache/cache.py\u001b[0m in \u001b[0;36mload_manifest\u001b[0;34m(self, file_name, version)\u001b[0m\n\u001b[1;32m    151\u001b[0m             \u001b[0;32mtry\u001b[0m\u001b[0;34m:\u001b[0m\u001b[0;34m\u001b[0m\u001b[0;34m\u001b[0m\u001b[0m\n\u001b[0;32m--> 152\u001b[0;31m                 self.manifest = Manifest(\n\u001b[0m\u001b[1;32m    153\u001b[0m                     \u001b[0mju\u001b[0m\u001b[0;34m.\u001b[0m\u001b[0mread\u001b[0m\u001b[0;34m(\u001b[0m\u001b[0mfile_name\u001b[0m\u001b[0;34m)\u001b[0m\u001b[0;34m[\u001b[0m\u001b[0;34m'manifest'\u001b[0m\u001b[0;34m]\u001b[0m\u001b[0;34m,\u001b[0m\u001b[0;34m\u001b[0m\u001b[0;34m\u001b[0m\u001b[0m\n",
      "\u001b[0;32m/opt/anaconda3/lib/python3.8/site-packages/allensdk/config/manifest.py\u001b[0m in \u001b[0;36m__init__\u001b[0;34m(self, config, relative_base_dir, version)\u001b[0m\n\u001b[1;32m     75\u001b[0m         \u001b[0;32mif\u001b[0m \u001b[0mconfig\u001b[0m \u001b[0;32mis\u001b[0m \u001b[0;32mnot\u001b[0m \u001b[0;32mNone\u001b[0m\u001b[0;34m:\u001b[0m\u001b[0;34m\u001b[0m\u001b[0;34m\u001b[0m\u001b[0m\n\u001b[0;32m---> 76\u001b[0;31m             \u001b[0mself\u001b[0m\u001b[0;34m.\u001b[0m\u001b[0mload_config\u001b[0m\u001b[0;34m(\u001b[0m\u001b[0mconfig\u001b[0m\u001b[0;34m,\u001b[0m \u001b[0mversion\u001b[0m\u001b[0;34m=\u001b[0m\u001b[0mversion\u001b[0m\u001b[0;34m)\u001b[0m\u001b[0;34m\u001b[0m\u001b[0;34m\u001b[0m\u001b[0m\n\u001b[0m\u001b[1;32m     77\u001b[0m \u001b[0;34m\u001b[0m\u001b[0m\n",
      "\u001b[0;32m/opt/anaconda3/lib/python3.8/site-packages/allensdk/config/manifest.py\u001b[0m in \u001b[0;36mload_config\u001b[0;34m(self, config, version)\u001b[0m\n\u001b[1;32m    127\u001b[0m         \u001b[0;32mif\u001b[0m \u001b[0mfound_version\u001b[0m \u001b[0;34m!=\u001b[0m \u001b[0mversion\u001b[0m\u001b[0;34m:\u001b[0m\u001b[0;34m\u001b[0m\u001b[0;34m\u001b[0m\u001b[0m\n\u001b[0;32m--> 128\u001b[0;31m             \u001b[0;32mraise\u001b[0m \u001b[0mManifestVersionError\u001b[0m\u001b[0;34m(\u001b[0m\u001b[0;34m\"\"\u001b[0m\u001b[0;34m,\u001b[0m \u001b[0mversion\u001b[0m\u001b[0;34m,\u001b[0m \u001b[0mfound_version\u001b[0m\u001b[0;34m)\u001b[0m\u001b[0;34m\u001b[0m\u001b[0;34m\u001b[0m\u001b[0m\n\u001b[0m\u001b[1;32m    129\u001b[0m         \u001b[0mself\u001b[0m\u001b[0;34m.\u001b[0m\u001b[0mversion\u001b[0m \u001b[0;34m=\u001b[0m \u001b[0mversion\u001b[0m\u001b[0;34m\u001b[0m\u001b[0;34m\u001b[0m\u001b[0m\n",
      "\u001b[0;31mManifestVersionError\u001b[0m: ",
      "\nDuring handling of the above exception, another exception occurred:\n",
      "\u001b[0;31mManifestVersionError\u001b[0m                      Traceback (most recent call last)",
      "\u001b[0;32m<ipython-input-3-6e184aa03fca>\u001b[0m in \u001b[0;36m<module>\u001b[0;34m\u001b[0m\n\u001b[1;32m      1\u001b[0m \u001b[0mreference_space_key\u001b[0m \u001b[0;34m=\u001b[0m \u001b[0mos\u001b[0m\u001b[0;34m.\u001b[0m\u001b[0mpath\u001b[0m\u001b[0;34m.\u001b[0m\u001b[0mjoin\u001b[0m\u001b[0;34m(\u001b[0m\u001b[0;34m'annotation'\u001b[0m\u001b[0;34m,\u001b[0m \u001b[0;34m'ccf_2017'\u001b[0m\u001b[0;34m)\u001b[0m\u001b[0;34m\u001b[0m\u001b[0;34m\u001b[0m\u001b[0m\n\u001b[1;32m      2\u001b[0m \u001b[0mresolution\u001b[0m \u001b[0;34m=\u001b[0m \u001b[0;36m25\u001b[0m\u001b[0;34m\u001b[0m\u001b[0;34m\u001b[0m\u001b[0m\n\u001b[0;32m----> 3\u001b[0;31m \u001b[0mrspc\u001b[0m \u001b[0;34m=\u001b[0m \u001b[0mReferenceSpaceCache\u001b[0m\u001b[0;34m(\u001b[0m\u001b[0mresolution\u001b[0m\u001b[0;34m,\u001b[0m \u001b[0mreference_space_key\u001b[0m\u001b[0;34m,\u001b[0m \u001b[0mmanifest\u001b[0m\u001b[0;34m=\u001b[0m\u001b[0mPath\u001b[0m\u001b[0;34m(\u001b[0m\u001b[0moutput_dir\u001b[0m\u001b[0;34m)\u001b[0m \u001b[0;34m/\u001b[0m \u001b[0;34m'manifest.json'\u001b[0m\u001b[0;34m)\u001b[0m\u001b[0;34m\u001b[0m\u001b[0;34m\u001b[0m\u001b[0m\n\u001b[0m\u001b[1;32m      4\u001b[0m \u001b[0;31m# ID 1 is the adult mouse structure graph\u001b[0m\u001b[0;34m\u001b[0m\u001b[0;34m\u001b[0m\u001b[0;34m\u001b[0m\u001b[0m\n\u001b[1;32m      5\u001b[0m \u001b[0mtree\u001b[0m \u001b[0;34m=\u001b[0m \u001b[0mrspc\u001b[0m\u001b[0;34m.\u001b[0m\u001b[0mget_structure_tree\u001b[0m\u001b[0;34m(\u001b[0m\u001b[0mstructure_graph_id\u001b[0m\u001b[0;34m=\u001b[0m\u001b[0;36m1\u001b[0m\u001b[0;34m)\u001b[0m\u001b[0;34m\u001b[0m\u001b[0;34m\u001b[0m\u001b[0m\n",
      "\u001b[0;32m/opt/anaconda3/lib/python3.8/site-packages/allensdk/core/reference_space_cache.py\u001b[0m in \u001b[0;36m__init__\u001b[0;34m(self, resolution, reference_space_key, **kwargs)\u001b[0m\n\u001b[1;32m     68\u001b[0m             \u001b[0mkwargs\u001b[0m\u001b[0;34m[\u001b[0m\u001b[0;34m'base_uri'\u001b[0m\u001b[0;34m]\u001b[0m \u001b[0;34m=\u001b[0m \u001b[0;32mNone\u001b[0m\u001b[0;34m\u001b[0m\u001b[0;34m\u001b[0m\u001b[0m\n\u001b[1;32m     69\u001b[0m \u001b[0;34m\u001b[0m\u001b[0m\n\u001b[0;32m---> 70\u001b[0;31m         \u001b[0msuper\u001b[0m\u001b[0;34m(\u001b[0m\u001b[0mReferenceSpaceCache\u001b[0m\u001b[0;34m,\u001b[0m \u001b[0mself\u001b[0m\u001b[0;34m)\u001b[0m\u001b[0;34m.\u001b[0m\u001b[0m__init__\u001b[0m\u001b[0;34m(\u001b[0m\u001b[0;34m**\u001b[0m\u001b[0mkwargs\u001b[0m\u001b[0;34m)\u001b[0m\u001b[0;34m\u001b[0m\u001b[0;34m\u001b[0m\u001b[0m\n\u001b[0m\u001b[1;32m     71\u001b[0m \u001b[0;34m\u001b[0m\u001b[0m\n\u001b[1;32m     72\u001b[0m         \u001b[0mself\u001b[0m\u001b[0;34m.\u001b[0m\u001b[0mresolution\u001b[0m \u001b[0;34m=\u001b[0m \u001b[0mresolution\u001b[0m\u001b[0;34m\u001b[0m\u001b[0;34m\u001b[0m\u001b[0m\n",
      "\u001b[0;32m/opt/anaconda3/lib/python3.8/site-packages/allensdk/api/warehouse_cache/cache.py\u001b[0m in \u001b[0;36m__init__\u001b[0;34m(self, manifest, cache, version, **kwargs)\u001b[0m\n\u001b[1;32m    103\u001b[0m         \u001b[0;32mif\u001b[0m \u001b[0mversion\u001b[0m \u001b[0;32mis\u001b[0m \u001b[0;32mNone\u001b[0m \u001b[0;32mand\u001b[0m \u001b[0mhasattr\u001b[0m\u001b[0;34m(\u001b[0m\u001b[0mself\u001b[0m\u001b[0;34m,\u001b[0m \u001b[0;34m'MANIFEST_VERSION'\u001b[0m\u001b[0;34m)\u001b[0m\u001b[0;34m:\u001b[0m\u001b[0;34m\u001b[0m\u001b[0;34m\u001b[0m\u001b[0m\n\u001b[1;32m    104\u001b[0m             \u001b[0mversion\u001b[0m \u001b[0;34m=\u001b[0m \u001b[0mself\u001b[0m\u001b[0;34m.\u001b[0m\u001b[0mMANIFEST_VERSION\u001b[0m\u001b[0;34m\u001b[0m\u001b[0;34m\u001b[0m\u001b[0m\n\u001b[0;32m--> 105\u001b[0;31m         \u001b[0mself\u001b[0m\u001b[0;34m.\u001b[0m\u001b[0mload_manifest\u001b[0m\u001b[0;34m(\u001b[0m\u001b[0mmanifest\u001b[0m\u001b[0;34m,\u001b[0m \u001b[0mversion\u001b[0m\u001b[0;34m)\u001b[0m\u001b[0;34m\u001b[0m\u001b[0;34m\u001b[0m\u001b[0m\n\u001b[0m\u001b[1;32m    106\u001b[0m \u001b[0;34m\u001b[0m\u001b[0m\n\u001b[1;32m    107\u001b[0m     \u001b[0;32mdef\u001b[0m \u001b[0mget_cache_path\u001b[0m\u001b[0;34m(\u001b[0m\u001b[0mself\u001b[0m\u001b[0;34m,\u001b[0m \u001b[0mfile_name\u001b[0m\u001b[0;34m,\u001b[0m \u001b[0mmanifest_key\u001b[0m\u001b[0;34m,\u001b[0m \u001b[0;34m*\u001b[0m\u001b[0margs\u001b[0m\u001b[0;34m)\u001b[0m\u001b[0;34m:\u001b[0m\u001b[0;34m\u001b[0m\u001b[0;34m\u001b[0m\u001b[0m\n",
      "\u001b[0;32m/opt/anaconda3/lib/python3.8/site-packages/allensdk/api/warehouse_cache/cache.py\u001b[0m in \u001b[0;36mload_manifest\u001b[0;34m(self, file_name, version)\u001b[0m\n\u001b[1;32m    163\u001b[0m \u001b[0;34m\u001b[0m\u001b[0m\n\u001b[1;32m    164\u001b[0m                 \u001b[0mref_url\u001b[0m \u001b[0;34m=\u001b[0m \u001b[0;34m\"https://github.com/alleninstitute/allensdk/wiki\"\u001b[0m\u001b[0;34m\u001b[0m\u001b[0;34m\u001b[0m\u001b[0m\n\u001b[0;32m--> 165\u001b[0;31m                 raise ManifestVersionError((\"Your manifest file (%s) %s\" +\n\u001b[0m\u001b[1;32m    166\u001b[0m                                             \u001b[0;34m\" (its version is '%s', but\"\u001b[0m \u001b[0;34m+\u001b[0m\u001b[0;34m\u001b[0m\u001b[0;34m\u001b[0m\u001b[0m\n\u001b[1;32m    167\u001b[0m                                             \u001b[0;34m\" version '%s' is expected). \"\u001b[0m \u001b[0;34m+\u001b[0m\u001b[0;34m\u001b[0m\u001b[0;34m\u001b[0m\u001b[0m\n",
      "\u001b[0;31mManifestVersionError\u001b[0m: Your manifest file (manifest.json) version did not match the expected version (its version is '1.1', but version '1.2' is expected).  Please remove this file and it will be regenerated for you the next time you instantiate this class. WARNING: There may be new data files available that replace the ones you already have downloaded. Read the notes for this release for more details on what has changed (https://github.com/alleninstitute/allensdk/wiki)."
     ]
    }
   ],
   "source": [
    "reference_space_key = os.path.join('annotation', 'ccf_2017')\n",
    "resolution = 25\n",
    "rspc = ReferenceSpaceCache(resolution, reference_space_key, manifest=Path(output_dir) / 'manifest.json')\n",
    "# ID 1 is the adult mouse structure graph\n",
    "tree = rspc.get_structure_tree(structure_graph_id=1) "
   ]
  },
  {
   "cell_type": "code",
   "execution_count": null,
   "metadata": {
    "execution": {
     "iopub.execute_input": "2022-11-22T18:27:37.964650Z",
     "iopub.status.busy": "2022-11-22T18:27:37.964285Z",
     "iopub.status.idle": "2022-11-22T18:27:37.973615Z",
     "shell.execute_reply": "2022-11-22T18:27:37.973033Z"
    },
    "papermill": {
     "duration": 0.01599,
     "end_time": "2022-11-22T18:27:37.975066",
     "exception": false,
     "start_time": "2022-11-22T18:27:37.959076",
     "status": "completed"
    },
    "tags": []
   },
   "outputs": [],
   "source": [
    "# now let's take a look at a structure\n",
    "tree.get_structures_by_name(['Dorsal auditory area'])"
   ]
  },
  {
   "cell_type": "markdown",
   "metadata": {
    "papermill": {
     "duration": 0.004236,
     "end_time": "2022-11-22T18:27:37.983507",
     "exception": false,
     "start_time": "2022-11-22T18:27:37.979271",
     "status": "completed"
    },
    "tags": []
   },
   "source": [
    "The fields are:\n",
    "    * acronym: a shortened name for the structure\n",
    "    * rgb_triplet: each structure is assigned a consistent color for visualizations\n",
    "    * graph_id: the structure graph to which this structure belongs\n",
    "    * graph_order: each structure is assigned a consistent position in the flattened graph\n",
    "    * id: a unique integer identifier\n",
    "    * name: the full name of the structure\n",
    "    * structure_id_path: traces a path from the root node of the tree to this structure\n",
    "    * structure_set_ids: the structure belongs to these predefined groups"
   ]
  },
  {
   "cell_type": "markdown",
   "metadata": {
    "papermill": {
     "duration": 0.004202,
     "end_time": "2022-11-22T18:27:37.991952",
     "exception": false,
     "start_time": "2022-11-22T18:27:37.987750",
     "status": "completed"
    },
    "tags": []
   },
   "source": [
    "## Using a StructureTree"
   ]
  },
  {
   "cell_type": "code",
   "execution_count": null,
   "metadata": {
    "execution": {
     "iopub.execute_input": "2022-11-22T18:27:38.001715Z",
     "iopub.status.busy": "2022-11-22T18:27:38.001161Z",
     "iopub.status.idle": "2022-11-22T18:27:38.005643Z",
     "shell.execute_reply": "2022-11-22T18:27:38.005078Z"
    },
    "papermill": {
     "duration": 0.010863,
     "end_time": "2022-11-22T18:27:38.006958",
     "exception": false,
     "start_time": "2022-11-22T18:27:37.996095",
     "status": "completed"
    },
    "tags": []
   },
   "outputs": [],
   "source": [
    "# get a structure's parent\n",
    "tree.parents([1011])"
   ]
  },
  {
   "cell_type": "code",
   "execution_count": null,
   "metadata": {
    "execution": {
     "iopub.execute_input": "2022-11-22T18:27:38.017071Z",
     "iopub.status.busy": "2022-11-22T18:27:38.016682Z",
     "iopub.status.idle": "2022-11-22T18:27:38.021111Z",
     "shell.execute_reply": "2022-11-22T18:27:38.020567Z"
    },
    "papermill": {
     "duration": 0.01115,
     "end_time": "2022-11-22T18:27:38.022401",
     "exception": false,
     "start_time": "2022-11-22T18:27:38.011251",
     "status": "completed"
    },
    "tags": []
   },
   "outputs": [],
   "source": [
    "# get a dictionary mapping structure ids to names\n",
    "\n",
    "name_map = tree.get_name_map()\n",
    "name_map[247]"
   ]
  },
  {
   "cell_type": "code",
   "execution_count": null,
   "metadata": {
    "execution": {
     "iopub.execute_input": "2022-11-22T18:27:38.033027Z",
     "iopub.status.busy": "2022-11-22T18:27:38.031996Z",
     "iopub.status.idle": "2022-11-22T18:27:38.036460Z",
     "shell.execute_reply": "2022-11-22T18:27:38.035882Z"
    },
    "papermill": {
     "duration": 0.010891,
     "end_time": "2022-11-22T18:27:38.037814",
     "exception": false,
     "start_time": "2022-11-22T18:27:38.026923",
     "status": "completed"
    },
    "tags": []
   },
   "outputs": [],
   "source": [
    "# ask whether one structure is contained within another\n",
    "\n",
    "structure_id_a = 385\n",
    "structure_id_b = 247\n",
    "\n",
    "is_desc = '' if tree.structure_descends_from(structure_id_a, structure_id_b) else ' not'\n",
    "print( '{0} is{1} in {2}'.format(name_map[structure_id_a], is_desc, name_map[structure_id_b]) )"
   ]
  },
  {
   "cell_type": "code",
   "execution_count": null,
   "metadata": {
    "execution": {
     "iopub.execute_input": "2022-11-22T18:27:38.047850Z",
     "iopub.status.busy": "2022-11-22T18:27:38.047648Z",
     "iopub.status.idle": "2022-11-22T18:27:38.051565Z",
     "shell.execute_reply": "2022-11-22T18:27:38.050997Z"
    },
    "papermill": {
     "duration": 0.010619,
     "end_time": "2022-11-22T18:27:38.052861",
     "exception": false,
     "start_time": "2022-11-22T18:27:38.042242",
     "status": "completed"
    },
    "tags": []
   },
   "outputs": [],
   "source": [
    "# build a custom map that looks up acronyms by ids\n",
    "# the syntax here is just a pair of node-wise functions. \n",
    "# The first one returns keys while the second one returns values\n",
    "\n",
    "acronym_map = tree.value_map(lambda x: x['id'], lambda y: y['acronym'])\n",
    "print( acronym_map[structure_id_a] )"
   ]
  },
  {
   "cell_type": "markdown",
   "metadata": {
    "papermill": {
     "duration": 0.00456,
     "end_time": "2022-11-22T18:27:38.061904",
     "exception": false,
     "start_time": "2022-11-22T18:27:38.057344",
     "status": "completed"
    },
    "tags": []
   },
   "source": [
    "## Downloading an annotation volume\n",
    "\n",
    "You can obtain annotation volumes through the `ReferenceSpaceCache` which stores a nrrd file containing the Allen Common Coordinate Framework annotation on your hard drive. Above we set the resolution for annotations when we initialized the `ReferenceSpaceCache` to 25-micron isometric spacing. The orientation of this space is:\n",
    "    * Anterior -> Posterior\n",
    "    * Superior -> Inferior\n",
    "    * Left -> Right"
   ]
  },
  {
   "cell_type": "code",
   "execution_count": null,
   "metadata": {
    "execution": {
     "iopub.execute_input": "2022-11-22T18:27:38.072534Z",
     "iopub.status.busy": "2022-11-22T18:27:38.071968Z",
     "iopub.status.idle": "2022-11-22T18:27:42.158195Z",
     "shell.execute_reply": "2022-11-22T18:27:42.157597Z"
    },
    "papermill": {
     "duration": 4.093038,
     "end_time": "2022-11-22T18:27:42.159638",
     "exception": false,
     "start_time": "2022-11-22T18:27:38.066600",
     "status": "completed"
    },
    "tags": []
   },
   "outputs": [],
   "source": [
    "import os\n",
    "\n",
    "annotation, meta = rspc.get_annotation_volume()\n",
    "# The file should appear in the reference space key directory\n",
    "os.listdir(Path(output_dir) / reference_space_key)"
   ]
  },
  {
   "cell_type": "markdown",
   "metadata": {
    "papermill": {
     "duration": 0.004797,
     "end_time": "2022-11-22T18:27:42.169440",
     "exception": false,
     "start_time": "2022-11-22T18:27:42.164643",
     "status": "completed"
    },
    "tags": []
   },
   "source": [
    "## Constructing a ReferenceSpace\n",
    "\n",
    "A reference space is built from a structure tree and an annotation volume. We can obtain our ReferenceSpace object using `ReferenceSpaceCache` which will load everything from the cache since we have already downloaded the files for use above."
   ]
  },
  {
   "cell_type": "code",
   "execution_count": null,
   "metadata": {
    "execution": {
     "iopub.execute_input": "2022-11-22T18:27:42.180498Z",
     "iopub.status.busy": "2022-11-22T18:27:42.179967Z",
     "iopub.status.idle": "2022-11-22T18:27:43.612414Z",
     "shell.execute_reply": "2022-11-22T18:27:43.611779Z"
    },
    "papermill": {
     "duration": 1.439777,
     "end_time": "2022-11-22T18:27:43.614074",
     "exception": false,
     "start_time": "2022-11-22T18:27:42.174297",
     "status": "completed"
    },
    "tags": []
   },
   "outputs": [],
   "source": [
    "rsp = rspc.get_reference_space()"
   ]
  },
  {
   "cell_type": "markdown",
   "metadata": {
    "papermill": {
     "duration": 0.004885,
     "end_time": "2022-11-22T18:27:43.624331",
     "exception": false,
     "start_time": "2022-11-22T18:27:43.619446",
     "status": "completed"
    },
    "tags": []
   },
   "source": [
    "## Using a ReferenceSpace"
   ]
  },
  {
   "cell_type": "markdown",
   "metadata": {
    "papermill": {
     "duration": 0.004954,
     "end_time": "2022-11-22T18:27:43.634242",
     "exception": false,
     "start_time": "2022-11-22T18:27:43.629288",
     "status": "completed"
    },
    "tags": []
   },
   "source": [
    "#### making structure masks\n",
    "\n",
    "The simplest use of a Reference space is to build binary indicator masks for structures or groups of structures."
   ]
  },
  {
   "cell_type": "code",
   "execution_count": null,
   "metadata": {
    "execution": {
     "iopub.execute_input": "2022-11-22T18:27:43.645167Z",
     "iopub.status.busy": "2022-11-22T18:27:43.644554Z",
     "iopub.status.idle": "2022-11-22T18:28:02.826705Z",
     "shell.execute_reply": "2022-11-22T18:28:02.826112Z"
    },
    "papermill": {
     "duration": 19.189315,
     "end_time": "2022-11-22T18:28:02.828167",
     "exception": false,
     "start_time": "2022-11-22T18:27:43.638852",
     "status": "completed"
    },
    "tags": []
   },
   "outputs": [],
   "source": [
    "import matplotlib.pyplot as plt\n",
    "%matplotlib inline\n",
    "\n",
    "# A complete mask for one structure\n",
    "whole_cortex_mask = rsp.make_structure_mask([315])\n",
    "\n",
    "# view in coronal section\n",
    "fig, ax = plt.subplots(figsize=(10, 10))\n",
    "plt.imshow(whole_cortex_mask[150, :], interpolation='none', cmap=plt.cm.afmhot)"
   ]
  },
  {
   "cell_type": "markdown",
   "metadata": {
    "papermill": {
     "duration": 0.005944,
     "end_time": "2022-11-22T18:28:02.839583",
     "exception": false,
     "start_time": "2022-11-22T18:28:02.833639",
     "status": "completed"
    },
    "tags": []
   },
   "source": [
    "What if you want a mask for a whole collection of ontologically disparate structures? Just pass more structure ids to make_structure_masks:"
   ]
  },
  {
   "cell_type": "code",
   "execution_count": null,
   "metadata": {
    "execution": {
     "iopub.execute_input": "2022-11-22T18:28:02.851367Z",
     "iopub.status.busy": "2022-11-22T18:28:02.850602Z",
     "iopub.status.idle": "2022-11-22T18:28:05.415467Z",
     "shell.execute_reply": "2022-11-22T18:28:05.414799Z"
    },
    "papermill": {
     "duration": 2.572316,
     "end_time": "2022-11-22T18:28:05.416956",
     "exception": false,
     "start_time": "2022-11-22T18:28:02.844640",
     "status": "completed"
    },
    "tags": []
   },
   "outputs": [],
   "source": [
    "# This gets all of the structures targeted by the Allen Brain Observatory project\n",
    "brain_observatory_structures = rsp.structure_tree.get_structures_by_set_id([514166994])\n",
    "brain_observatory_ids = [st['id'] for st in brain_observatory_structures]\n",
    "\n",
    "brain_observatory_mask = rsp.make_structure_mask(brain_observatory_ids)\n",
    "\n",
    "# view in horizontal section\n",
    "fig, ax = plt.subplots(figsize=(10, 10))\n",
    "plt.imshow(brain_observatory_mask[:, 40, :], interpolation='none', cmap=plt.cm.afmhot)"
   ]
  },
  {
   "cell_type": "markdown",
   "metadata": {
    "papermill": {
     "duration": 0.005483,
     "end_time": "2022-11-22T18:28:05.428413",
     "exception": false,
     "start_time": "2022-11-22T18:28:05.422930",
     "status": "completed"
    },
    "tags": []
   },
   "source": [
    "You can also make and store a number of structure_masks at once, however this is only accessible using the `ReferenceSpace` class directly:"
   ]
  },
  {
   "cell_type": "code",
   "execution_count": null,
   "metadata": {
    "execution": {
     "iopub.execute_input": "2022-11-22T18:28:05.440725Z",
     "iopub.status.busy": "2022-11-22T18:28:05.440249Z",
     "iopub.status.idle": "2022-11-22T18:28:10.923496Z",
     "shell.execute_reply": "2022-11-22T18:28:10.922881Z"
    },
    "papermill": {
     "duration": 5.491061,
     "end_time": "2022-11-22T18:28:10.924892",
     "exception": false,
     "start_time": "2022-11-22T18:28:05.433831",
     "status": "completed"
    },
    "scrolled": true,
    "tags": []
   },
   "outputs": [],
   "source": [
    "import functools\n",
    "from allensdk.core.reference_space import ReferenceSpace\n",
    "\n",
    "# Define a wrapper function that will control the mask generation. \n",
    "# This one checks for a nrrd file in the specified base directory \n",
    "# and builds/writes the mask only if one does not exist\n",
    "annotation_dir = Path(output_dir) / 'annotation'\n",
    "mask_writer = functools.partial(ReferenceSpace.check_and_write, annotation_dir)\n",
    "    \n",
    "# many_structure_masks is a generator - nothing has actrually been run yet\n",
    "mask_generator = rsp.many_structure_masks([385, 1097], mask_writer)\n",
    "\n",
    "# consume the resulting iterator to make and write the masks\n",
    "for structure_id in mask_generator:\n",
    "    print( 'made mask for structure {0}.'.format(structure_id) ) \n",
    "\n",
    "os.listdir(annotation_dir)"
   ]
  },
  {
   "cell_type": "markdown",
   "metadata": {
    "papermill": {
     "duration": 0.005971,
     "end_time": "2022-11-22T18:28:10.937306",
     "exception": false,
     "start_time": "2022-11-22T18:28:10.931335",
     "status": "completed"
    },
    "tags": []
   },
   "source": [
    "#### Removing unassigned structures"
   ]
  },
  {
   "cell_type": "markdown",
   "metadata": {
    "papermill": {
     "duration": 0.005609,
     "end_time": "2022-11-22T18:28:10.948572",
     "exception": false,
     "start_time": "2022-11-22T18:28:10.942963",
     "status": "completed"
    },
    "tags": []
   },
   "source": [
    "A structure graph may contain structures that are not used in a particular reference space. Having these around can complicate use of the reference space, so we generally want to remove them.\n",
    "\n",
    "We'll try this using \"Somatosensory areas, layer 6a\" as a test case. In the 2016 ccf space, this structure is unused in favor of finer distinctions (e.g. \"Primary somatosensory area, barrel field, layer 6a\")."
   ]
  },
  {
   "cell_type": "code",
   "execution_count": null,
   "metadata": {
    "execution": {
     "iopub.execute_input": "2022-11-22T18:28:10.961215Z",
     "iopub.status.busy": "2022-11-22T18:28:10.960712Z",
     "iopub.status.idle": "2022-11-22T18:28:10.981428Z",
     "shell.execute_reply": "2022-11-22T18:28:10.980809Z"
    },
    "papermill": {
     "duration": 0.028715,
     "end_time": "2022-11-22T18:28:10.982912",
     "exception": false,
     "start_time": "2022-11-22T18:28:10.954197",
     "status": "completed"
    },
    "tags": []
   },
   "outputs": [],
   "source": [
    "# Double-check the voxel counts\n",
    "no_voxel_id = rsp.structure_tree.get_structures_by_name(['Somatosensory areas, layer 6a'])[0]['id']\n",
    "print( 'voxel count for structure {0}: {1}'.format(no_voxel_id, rsp.total_voxel_map[no_voxel_id]) )\n",
    "\n",
    "# remove unassigned structures from the ReferenceSpace's StructureTree\n",
    "rsp.remove_unassigned()\n",
    "\n",
    "# check the structure tree\n",
    "no_voxel_id in rsp.structure_tree.node_ids()"
   ]
  },
  {
   "cell_type": "markdown",
   "metadata": {
    "papermill": {
     "duration": 0.005731,
     "end_time": "2022-11-22T18:28:10.994388",
     "exception": false,
     "start_time": "2022-11-22T18:28:10.988657",
     "status": "completed"
    },
    "tags": []
   },
   "source": [
    "#### View a slice from the annotation"
   ]
  },
  {
   "cell_type": "code",
   "execution_count": null,
   "metadata": {
    "execution": {
     "iopub.execute_input": "2022-11-22T18:28:11.006898Z",
     "iopub.status.busy": "2022-11-22T18:28:11.006684Z",
     "iopub.status.idle": "2022-11-22T18:28:11.582999Z",
     "shell.execute_reply": "2022-11-22T18:28:11.582395Z"
    },
    "papermill": {
     "duration": 0.584541,
     "end_time": "2022-11-22T18:28:11.584630",
     "exception": false,
     "start_time": "2022-11-22T18:28:11.000089",
     "status": "completed"
    },
    "tags": []
   },
   "outputs": [],
   "source": [
    "import numpy as np\n",
    "\n",
    "fig, ax = plt.subplots(figsize=(10, 10))\n",
    "plt.imshow(rsp.get_slice_image(1, 5000), interpolation='none')"
   ]
  },
  {
   "cell_type": "markdown",
   "metadata": {
    "papermill": {
     "duration": 0.0064,
     "end_time": "2022-11-22T18:28:11.597875",
     "exception": false,
     "start_time": "2022-11-22T18:28:11.591475",
     "status": "completed"
    },
    "tags": []
   },
   "source": [
    "#### Downsample the space\n",
    "\n",
    "If you want an annotation at a resolution we don't provide, you can make one with the downsample method."
   ]
  },
  {
   "cell_type": "code",
   "execution_count": null,
   "metadata": {
    "execution": {
     "iopub.execute_input": "2022-11-22T18:28:11.611850Z",
     "iopub.status.busy": "2022-11-22T18:28:11.611458Z",
     "iopub.status.idle": "2022-11-22T18:28:11.660922Z",
     "shell.execute_reply": "2022-11-22T18:28:11.660284Z"
    },
    "papermill": {
     "duration": 0.058234,
     "end_time": "2022-11-22T18:28:11.662458",
     "exception": false,
     "start_time": "2022-11-22T18:28:11.604224",
     "status": "completed"
    },
    "tags": []
   },
   "outputs": [],
   "source": [
    "import warnings\n",
    "\n",
    "target_resolution = [75, 75, 75]\n",
    "\n",
    "# in some versions of scipy, scipy.ndimage.zoom raises a helpful but distracting \n",
    "# warning about the method used to truncate integers. \n",
    "warnings.simplefilter('ignore')\n",
    "\n",
    "sf_rsp = rsp.downsample(target_resolution)\n",
    "\n",
    "# re-enable warnings\n",
    "warnings.simplefilter('default')\n",
    "\n",
    "print( rsp.annotation.shape )\n",
    "print( sf_rsp.annotation.shape )"
   ]
  },
  {
   "cell_type": "markdown",
   "metadata": {
    "papermill": {
     "duration": 0.006494,
     "end_time": "2022-11-22T18:28:11.675565",
     "exception": false,
     "start_time": "2022-11-22T18:28:11.669071",
     "status": "completed"
    },
    "tags": []
   },
   "source": [
    "Now view the downsampled space:"
   ]
  },
  {
   "cell_type": "code",
   "execution_count": null,
   "metadata": {
    "execution": {
     "iopub.execute_input": "2022-11-22T18:28:11.689810Z",
     "iopub.status.busy": "2022-11-22T18:28:11.689236Z",
     "iopub.status.idle": "2022-11-22T18:28:11.875394Z",
     "shell.execute_reply": "2022-11-22T18:28:11.874726Z"
    },
    "papermill": {
     "duration": 0.194898,
     "end_time": "2022-11-22T18:28:11.876867",
     "exception": false,
     "start_time": "2022-11-22T18:28:11.681969",
     "status": "completed"
    },
    "tags": []
   },
   "outputs": [],
   "source": [
    "fig, ax = plt.subplots(figsize=(10, 10))\n",
    "plt.imshow(sf_rsp.get_slice_image(1, 5000), interpolation='none')"
   ]
  },
  {
   "cell_type": "markdown",
   "metadata": {
    "papermill": {
     "duration": 0.0072,
     "end_time": "2022-11-22T18:28:11.891795",
     "exception": false,
     "start_time": "2022-11-22T18:28:11.884595",
     "status": "completed"
    },
    "tags": []
   },
   "source": [
    "## Exporting\n",
    "\n",
    "if you want to work with our reference space data using tools made by vendors other than the Allen Institute for Brain Science, you may need to do some conversion work. The AllenSDK contains a few convenience functions which implement common conversions. If you don't see the one you need, mention it on [our issues page](https://github.com/alleninstitute/allensdk/issues)."
   ]
  },
  {
   "cell_type": "markdown",
   "metadata": {
    "papermill": {
     "duration": 0.006823,
     "end_time": "2022-11-22T18:28:11.905567",
     "exception": false,
     "start_time": "2022-11-22T18:28:11.898744",
     "status": "completed"
    },
    "tags": []
   },
   "source": [
    "#### ITKSnap\n",
    "\n",
    "[ITKSnap](http://www.itksnap.org/pmwiki/pmwiki.php) is a tool for viewing and segmenting biological volume data. Our annotation team uses it to draw CCF annotations. If you have data aligned to one of our reference spaces, you can use the AllenSDK to export an ITKSnap compatible segmentation volume and corresponding label description file.\n",
    "\n",
    "Note: our structure ids are 32-bit unsigned integers and may exceed ITKSnap's maximum allowable label value (65535). If any of the ids in a structure tree do exceed this value, the `write_itksnap_labels` method will automatically remap the ids to a set of smaller numbers."
   ]
  },
  {
   "cell_type": "code",
   "execution_count": null,
   "metadata": {
    "execution": {
     "iopub.execute_input": "2022-11-22T18:28:11.920955Z",
     "iopub.status.busy": "2022-11-22T18:28:11.920459Z",
     "iopub.status.idle": "2022-11-22T18:28:12.431805Z",
     "shell.execute_reply": "2022-11-22T18:28:12.431182Z"
    },
    "papermill": {
     "duration": 0.520914,
     "end_time": "2022-11-22T18:28:12.433396",
     "exception": false,
     "start_time": "2022-11-22T18:28:11.912482",
     "status": "completed"
    },
    "tags": []
   },
   "outputs": [],
   "source": [
    "# using the downsampled annotations\n",
    "hm_rsp = rsp.downsample([100, 100, 100])\n",
    "hm_rsp.write_itksnap_labels('ccf_2017_itksnap.nrrd', 'ccf_2017_itksnap_labels.txt')"
   ]
  },
  {
   "cell_type": "code",
   "execution_count": null,
   "metadata": {
    "papermill": {
     "duration": 0.0073,
     "end_time": "2022-11-22T18:28:12.448087",
     "exception": false,
     "start_time": "2022-11-22T18:28:12.440787",
     "status": "completed"
    },
    "tags": []
   },
   "outputs": [],
   "source": []
  }
 ],
 "metadata": {
  "celltoolbar": "Tags",
  "kernelspec": {
   "display_name": "Python 3",
   "language": "python",
   "name": "python3"
  },
  "language_info": {
   "codemirror_mode": {
    "name": "ipython",
    "version": 3
   },
   "file_extension": ".py",
   "mimetype": "text/x-python",
   "name": "python",
   "nbconvert_exporter": "python",
   "pygments_lexer": "ipython3",
   "version": "3.8.3"
  },
  "papermill": {
   "default_parameters": {},
   "duration": 42.925203,
   "end_time": "2022-11-22T18:28:12.771572",
   "environment_variables": {},
   "exception": null,
   "input_path": "doc_template/examples_root/examples/nb/reference_space.ipynb",
   "output_path": "/tmp/tmp5neyt2ej/scratch_nb.ipynb",
   "parameters": {
    "output_dir": "/tmp/tmp5neyt2ej",
    "resources_dir": "/home/runner/work/AllenSDK/AllenSDK/allensdk/internal/notebooks/resources"
   },
   "start_time": "2022-11-22T18:27:29.846369",
   "version": "2.4.0"
  }
 },
 "nbformat": 4,
 "nbformat_minor": 5
}
