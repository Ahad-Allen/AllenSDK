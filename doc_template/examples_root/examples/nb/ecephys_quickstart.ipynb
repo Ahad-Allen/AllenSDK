{
 "cells": [
  {
   "cell_type": "markdown",
   "metadata": {},
   "source": [
    "# Extracellular Electrophysiology Data Quick Start\n",
    "\n",
    "A short introduction to the Visual Coding Neuropixels data and SDK. For more information, see the full reference notebook.\n",
    "\n",
    "Contents\n",
    "-------------\n",
    "* <a href='#peristimulus time histograms'>peristimulus time histograms</a>\n",
    "* <a href='#image-decoding'>image decoding</a>"
   ]
  },
  {
   "cell_type": "code",
   "execution_count": 1,
   "metadata": {},
   "outputs": [],
   "source": [
    "import os\n",
    "\n",
    "import numpy as np\n",
    "import pandas as pd\n",
    "import matplotlib.pyplot as plt\n",
    "\n",
    "from allensdk.brain_observatory.ecephys.ecephys_project_cache import EcephysProjectCache"
   ]
  },
  {
   "cell_type": "markdown",
   "metadata": {},
   "source": [
    "The `EcephysProjectCache` is the main entry point to the Visual Coding Neuropixels dataset. It allows you to download data for individual recording sessions and view cross-session summary information."
   ]
  },
  {
   "cell_type": "code",
   "execution_count": 2,
   "metadata": {
    "scrolled": false
   },
   "outputs": [
    {
     "name": "stdout",
     "output_type": "stream",
     "text": [
      "['brain_observatory_1.1', 'functional_connectivity']\n"
     ]
    }
   ],
   "source": [
    "# this path determines where downloaded data will be stored\n",
    "manifest_path = os.path.join(\"example_ecephys_project_cache\", \"manifest.json\")\n",
    "\n",
    "cache = EcephysProjectCache.from_warehouse(\n",
    "    manifest=manifest_path, \n",
    "    warehouse_kwargs={\"host\": \"iwarehouse\"}\n",
    ")\n",
    "\n",
    "print(cache.get_all_session_types())"
   ]
  },
  {
   "cell_type": "markdown",
   "metadata": {},
   "source": [
    "This dataset contains sessions in which two sets of stimuli were presented. The `\"brain_observatory_1.1\"` sessions are (almost exactly) the same as Visual Coding 2P sessions."
   ]
  },
  {
   "cell_type": "code",
   "execution_count": 3,
   "metadata": {},
   "outputs": [
    {
     "data": {
      "text/html": [
       "<div>\n",
       "<style scoped>\n",
       "    .dataframe tbody tr th:only-of-type {\n",
       "        vertical-align: middle;\n",
       "    }\n",
       "\n",
       "    .dataframe tbody tr th {\n",
       "        vertical-align: top;\n",
       "    }\n",
       "\n",
       "    .dataframe thead th {\n",
       "        text-align: right;\n",
       "    }\n",
       "</style>\n",
       "<table border=\"1\" class=\"dataframe\">\n",
       "  <thead>\n",
       "    <tr style=\"text-align: right;\">\n",
       "      <th></th>\n",
       "      <th>date_of_acquisition</th>\n",
       "      <th>isi_experiment_id</th>\n",
       "      <th>published_at</th>\n",
       "      <th>specimen_id</th>\n",
       "      <th>session_type</th>\n",
       "      <th>age_in_days</th>\n",
       "      <th>sex</th>\n",
       "      <th>genotype</th>\n",
       "      <th>unit_count</th>\n",
       "      <th>channel_count</th>\n",
       "      <th>probe_count</th>\n",
       "      <th>structure_acronyms</th>\n",
       "    </tr>\n",
       "    <tr>\n",
       "      <th>id</th>\n",
       "      <th></th>\n",
       "      <th></th>\n",
       "      <th></th>\n",
       "      <th></th>\n",
       "      <th></th>\n",
       "      <th></th>\n",
       "      <th></th>\n",
       "      <th></th>\n",
       "      <th></th>\n",
       "      <th></th>\n",
       "      <th></th>\n",
       "      <th></th>\n",
       "    </tr>\n",
       "  </thead>\n",
       "  <tbody>\n",
       "    <tr>\n",
       "      <td>773418906</td>\n",
       "      <td>2018-12-10T23:16:20Z</td>\n",
       "      <td>762398689</td>\n",
       "      <td>2019-10-03T00:00:00Z</td>\n",
       "      <td>757329624</td>\n",
       "      <td>brain_observatory_1.1</td>\n",
       "      <td>124.0</td>\n",
       "      <td>F</td>\n",
       "      <td>Pvalb-IRES-Cre/wt;Ai32(RCL-ChR2(H134R)_EYFP)/wt</td>\n",
       "      <td>546</td>\n",
       "      <td>2232</td>\n",
       "      <td>6</td>\n",
       "      <td>[PPT, NOT, SUB, ProS, CA1, VISam, nan, APN, DG...</td>\n",
       "    </tr>\n",
       "    <tr>\n",
       "      <td>791319847</td>\n",
       "      <td>2019-01-08T21:55:01Z</td>\n",
       "      <td>779428997</td>\n",
       "      <td>2019-10-03T00:00:00Z</td>\n",
       "      <td>769360779</td>\n",
       "      <td>brain_observatory_1.1</td>\n",
       "      <td>116.0</td>\n",
       "      <td>M</td>\n",
       "      <td>Vip-IRES-Cre/wt;Ai32(RCL-ChR2(H134R)_EYFP)/wt</td>\n",
       "      <td>555</td>\n",
       "      <td>2229</td>\n",
       "      <td>6</td>\n",
       "      <td>[APN, DG, CA1, VISam, nan, LP, TH, VISpm, POL,...</td>\n",
       "    </tr>\n",
       "    <tr>\n",
       "      <td>797828357</td>\n",
       "      <td>2019-01-08T21:26:13Z</td>\n",
       "      <td>787643635</td>\n",
       "      <td>2019-10-03T00:00:00Z</td>\n",
       "      <td>776061251</td>\n",
       "      <td>brain_observatory_1.1</td>\n",
       "      <td>107.0</td>\n",
       "      <td>M</td>\n",
       "      <td>Pvalb-IRES-Cre/wt;Ai32(RCL-ChR2(H134R)_EYFP)/wt</td>\n",
       "      <td>611</td>\n",
       "      <td>2232</td>\n",
       "      <td>6</td>\n",
       "      <td>[PPT, MB, APN, NOT, HPF, ProS, CA1, VISam, nan...</td>\n",
       "    </tr>\n",
       "    <tr>\n",
       "      <td>798911424</td>\n",
       "      <td>2018-12-21T08:02:57Z</td>\n",
       "      <td>785726931</td>\n",
       "      <td>2019-10-03T00:00:00Z</td>\n",
       "      <td>775876828</td>\n",
       "      <td>brain_observatory_1.1</td>\n",
       "      <td>110.0</td>\n",
       "      <td>F</td>\n",
       "      <td>Vip-IRES-Cre/wt;Ai32(RCL-ChR2(H134R)_EYFP)/wt</td>\n",
       "      <td>825</td>\n",
       "      <td>2233</td>\n",
       "      <td>6</td>\n",
       "      <td>[APN, TH, Eth, LP, DG, HPF, CA3, CA1, VISrl, n...</td>\n",
       "    </tr>\n",
       "    <tr>\n",
       "      <td>799864342</td>\n",
       "      <td>2019-01-08T21:26:07Z</td>\n",
       "      <td>785352181</td>\n",
       "      <td>2019-10-03T00:00:00Z</td>\n",
       "      <td>772616823</td>\n",
       "      <td>brain_observatory_1.1</td>\n",
       "      <td>129.0</td>\n",
       "      <td>M</td>\n",
       "      <td>wt/wt</td>\n",
       "      <td>604</td>\n",
       "      <td>2233</td>\n",
       "      <td>6</td>\n",
       "      <td>[APN, POL, LP, DG, CA1, VISrl, nan, LGd, CA3, ...</td>\n",
       "    </tr>\n",
       "  </tbody>\n",
       "</table>\n",
       "</div>"
      ],
      "text/plain": [
       "            date_of_acquisition  isi_experiment_id          published_at  \\\n",
       "id                                                                         \n",
       "773418906  2018-12-10T23:16:20Z          762398689  2019-10-03T00:00:00Z   \n",
       "791319847  2019-01-08T21:55:01Z          779428997  2019-10-03T00:00:00Z   \n",
       "797828357  2019-01-08T21:26:13Z          787643635  2019-10-03T00:00:00Z   \n",
       "798911424  2018-12-21T08:02:57Z          785726931  2019-10-03T00:00:00Z   \n",
       "799864342  2019-01-08T21:26:07Z          785352181  2019-10-03T00:00:00Z   \n",
       "\n",
       "           specimen_id           session_type  age_in_days sex  \\\n",
       "id                                                               \n",
       "773418906    757329624  brain_observatory_1.1        124.0   F   \n",
       "791319847    769360779  brain_observatory_1.1        116.0   M   \n",
       "797828357    776061251  brain_observatory_1.1        107.0   M   \n",
       "798911424    775876828  brain_observatory_1.1        110.0   F   \n",
       "799864342    772616823  brain_observatory_1.1        129.0   M   \n",
       "\n",
       "                                                  genotype  unit_count  \\\n",
       "id                                                                       \n",
       "773418906  Pvalb-IRES-Cre/wt;Ai32(RCL-ChR2(H134R)_EYFP)/wt         546   \n",
       "791319847    Vip-IRES-Cre/wt;Ai32(RCL-ChR2(H134R)_EYFP)/wt         555   \n",
       "797828357  Pvalb-IRES-Cre/wt;Ai32(RCL-ChR2(H134R)_EYFP)/wt         611   \n",
       "798911424    Vip-IRES-Cre/wt;Ai32(RCL-ChR2(H134R)_EYFP)/wt         825   \n",
       "799864342                                            wt/wt         604   \n",
       "\n",
       "           channel_count  probe_count  \\\n",
       "id                                      \n",
       "773418906           2232            6   \n",
       "791319847           2229            6   \n",
       "797828357           2232            6   \n",
       "798911424           2233            6   \n",
       "799864342           2233            6   \n",
       "\n",
       "                                          structure_acronyms  \n",
       "id                                                            \n",
       "773418906  [PPT, NOT, SUB, ProS, CA1, VISam, nan, APN, DG...  \n",
       "791319847  [APN, DG, CA1, VISam, nan, LP, TH, VISpm, POL,...  \n",
       "797828357  [PPT, MB, APN, NOT, HPF, ProS, CA1, VISam, nan...  \n",
       "798911424  [APN, TH, Eth, LP, DG, HPF, CA3, CA1, VISrl, n...  \n",
       "799864342  [APN, POL, LP, DG, CA1, VISrl, nan, LGd, CA3, ...  "
      ]
     },
     "execution_count": 3,
     "metadata": {},
     "output_type": "execute_result"
    }
   ],
   "source": [
    "sessions = cache.get_sessions()\n",
    "brain_observatory_type_sessions = sessions[sessions[\"session_type\"] == \"brain_observatory_1.1\"]\n",
    "brain_observatory_type_sessions.tail()"
   ]
  },
  {
   "cell_type": "markdown",
   "metadata": {},
   "source": [
    "### peristimulus time histograms"
   ]
  },
  {
   "cell_type": "markdown",
   "metadata": {},
   "source": [
    "We are going to pick a session arbitrarily and download its spike data."
   ]
  },
  {
   "cell_type": "code",
   "execution_count": null,
   "metadata": {},
   "outputs": [
    {
     "name": "stderr",
     "output_type": "stream",
     "text": [
      "WARNING:root:downloading a 2.23e+03mb file from http://iwarehouse//api/v2/well_known_file_download/953132404\n"
     ]
    }
   ],
   "source": [
    "session_id = 791319847\n",
    "session = cache.get_session_data(session_id)\n",
    "\n",
    "print(f\"stimuli presented in session {session_id}:\\n{session.stimulus_names}\\n\")\n",
    "\n",
    "unit_counts = session.units[\"manual_structure_acronym\"].value_counts()\n",
    "print(f\"units per brain structure in session {session_id}:\\n{unit_counts}\")\n"
   ]
  },
  {
   "cell_type": "markdown",
   "metadata": {},
   "source": [
    "Now that we've gotten spike data, we can create peristimulus time histograms."
   ]
  },
  {
   "cell_type": "code",
   "execution_count": null,
   "metadata": {},
   "outputs": [],
   "source": [
    "presentations = session.get_presentations_for_stimulus(\"flashes\")\n",
    "units = session.units[session.units[\"manual_structure_acronym\"] == 'VISp']\n",
    "\n",
    "time_step = 0.01\n",
    "time_bins = np.arange(-0.1, 0.5 + time_step, time_step)\n",
    "\n",
    "histograms = session.presentationwise_spike_counts(\n",
    "    stimulus_presentation_ids=presentations.index.values,  \n",
    "    bin_edges=time_bins,\n",
    "    unit_ids=units.index.values\n",
    ")\n",
    "\n",
    "histograms.coords"
   ]
  },
  {
   "cell_type": "code",
   "execution_count": null,
   "metadata": {},
   "outputs": [],
   "source": [
    "mean_histograms = histograms.mean(dim=\"stimulus_presentation_id\")\n",
    "\n",
    "fig, ax = plt.subplots(figsize=(8, 8))\n",
    "ax.pcolormesh(\n",
    "    mean_histograms[\"time_relative_to_stimulus_onset\"], \n",
    "    np.arange(mean_histograms[\"unit_id\"].size),\n",
    "    mean_histograms.T, \n",
    "    vmin=0,\n",
    "    vmax=1\n",
    ")\n",
    "\n",
    "ax.set_ylabel(\"unit\", fontsize=24)\n",
    "ax.set_xlabel(\"time relative to stimulus onset (s)\", fontsize=24)\n",
    "ax.set_title(\"peristimulus time histograms for VISp units on flash presentations\", fontsize=24)\n",
    "\n",
    "plt.show()"
   ]
  },
  {
   "cell_type": "markdown",
   "metadata": {},
   "source": [
    "### image classification"
   ]
  },
  {
   "cell_type": "markdown",
   "metadata": {},
   "source": [
    "First, we need to extract spikes. We will do using `EcephysSession.presentationwise_spike_times`, which returns spikes annotated by the unit that emitted them and the stimulus presentation during which they were emitted."
   ]
  },
  {
   "cell_type": "code",
   "execution_count": null,
   "metadata": {},
   "outputs": [],
   "source": [
    "scene_presentations = session.get_presentations_for_stimulus(\"natural_scenes\")\n",
    "visp_units = session.units[session.units[\"manual_structure_acronym\"] == \"VISp\"]\n",
    "\n",
    "spikes = session.presentationwise_spike_times(\n",
    "    stimulus_presentation_ids=scene_presentations.index.values,\n",
    "    unit_ids=visp_units.index.values[:]\n",
    ")\n",
    "\n",
    "spikes"
   ]
  },
  {
   "cell_type": "markdown",
   "metadata": {},
   "source": [
    "Next, we will convert these into a num_presentations X num_units matrix, which will serve as our input data."
   ]
  },
  {
   "cell_type": "code",
   "execution_count": null,
   "metadata": {},
   "outputs": [],
   "source": [
    "spikes[\"count\"] = np.zeros(spikes.shape[0])\n",
    "spikes = spikes.groupby([\"stimulus_presentation_id\", \"unit_id\"]).count()\n",
    "\n",
    "design = pd.pivot_table(\n",
    "    spikes, \n",
    "    values=\"count\", \n",
    "    index=\"stimulus_presentation_id\", \n",
    "    columns=\"unit_id\", \n",
    "    fill_value=0.0,\n",
    "    aggfunc=np.sum\n",
    ")\n",
    "\n",
    "design"
   ]
  },
  {
   "cell_type": "markdown",
   "metadata": {},
   "source": [
    "... with targets being the numeric identifiers of the images presented."
   ]
  },
  {
   "cell_type": "code",
   "execution_count": null,
   "metadata": {},
   "outputs": [],
   "source": [
    "targets = scene_presentations.loc[design.index.values, \"frame\"]\n",
    "targets"
   ]
  },
  {
   "cell_type": "code",
   "execution_count": null,
   "metadata": {},
   "outputs": [],
   "source": [
    "from sklearn import svm\n",
    "from sklearn.model_selection import KFold\n",
    "from sklearn.metrics import confusion_matrix"
   ]
  },
  {
   "cell_type": "code",
   "execution_count": null,
   "metadata": {},
   "outputs": [],
   "source": [
    "design_arr = design.values.astype(float)\n",
    "targets_arr = targets.values.astype(int)\n",
    "\n",
    "labels = np.unique(targets_arr)"
   ]
  },
  {
   "cell_type": "code",
   "execution_count": null,
   "metadata": {},
   "outputs": [],
   "source": [
    "accuracies = []\n",
    "confusions = []\n",
    "\n",
    "for train_indices, test_indices in KFold(n_splits=5).split(design_arr):\n",
    "    \n",
    "    clf = svm.SVC(gamma=\"scale\", kernel=\"rbf\")\n",
    "    clf.fit(design_arr[train_indices], targets_arr[train_indices])\n",
    "    \n",
    "    test_targets = targets_arr[test_indices]\n",
    "    test_predictions = clf.predict(design_arr[test_indices])\n",
    "    \n",
    "    accuracy = 1 - (np.count_nonzero(test_predictions - test_targets) / test_predictions.size)\n",
    "    print(accuracy)\n",
    "    \n",
    "    accuracies.append(accuracy)\n",
    "    confusions.append(confusion_matrix(test_targets, test_predictions, labels))"
   ]
  },
  {
   "cell_type": "code",
   "execution_count": null,
   "metadata": {},
   "outputs": [],
   "source": [
    "print(f\"mean accuracy: {np.mean(accuracy)}\")\n",
    "print(f\"chance: {1/labels.size}\")"
   ]
  },
  {
   "cell_type": "markdown",
   "metadata": {},
   "source": [
    "###### imagewise performance"
   ]
  },
  {
   "cell_type": "code",
   "execution_count": null,
   "metadata": {},
   "outputs": [],
   "source": [
    "mean_confusion = np.mean(confusions, axis=0)\n",
    "\n",
    "fig, ax = plt.subplots(figsize=(8, 8))\n",
    "\n",
    "img = ax.imshow(mean_confusion)\n",
    "fig.colorbar(img)\n",
    "\n",
    "ax.set_ylabel(\"actual\")\n",
    "ax.set_xlabel(\"predicted\")\n",
    "\n",
    "plt.show()"
   ]
  },
  {
   "cell_type": "code",
   "execution_count": null,
   "metadata": {},
   "outputs": [],
   "source": [
    "best = labels[np.argmax(np.diag(mean_confusion))]\n",
    "worst = labels[np.argmin(np.diag(mean_confusion))]\n",
    "\n",
    "fig, ax = plt.subplots(1, 2, figsize=(16, 8))\n",
    "\n",
    "best_image = cache.get_natural_scene_template(best)\n",
    "ax[0].imshow(best_image, cmap=plt.cm.gray)\n",
    "\n",
    "worst_image = cache.get_natural_scene_template(worst)\n",
    "ax[1].imshow(worst_image, cmap=plt.cm.gray)\n",
    "\n",
    "plt.show()"
   ]
  }
 ],
 "metadata": {
  "kernelspec": {
   "display_name": "py37",
   "language": "python",
   "name": "py37"
  },
  "language_info": {
   "codemirror_mode": {
    "name": "ipython",
    "version": 3
   },
   "file_extension": ".py",
   "mimetype": "text/x-python",
   "name": "python",
   "nbconvert_exporter": "python",
   "pygments_lexer": "ipython3",
   "version": "3.6.9"
  }
 },
 "nbformat": 4,
 "nbformat_minor": 2
}
