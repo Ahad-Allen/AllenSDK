{
 "cells": [
  {
   "cell_type": "markdown",
   "metadata": {
    "pycharm": {
     "name": "#%% md\n"
    }
   },
   "source": [
    "# Identifying experiments and sessions of interest using the data manifest"
   ]
  },
  {
   "cell_type": "markdown",
   "metadata": {
    "pycharm": {
     "name": "#%% md\n"
    }
   },
   "source": [
    "This Jupyter notebook illustrates what data is available as part of the <b>Visual Behavior - 2P dataset</b>, and helps you to understand the experimental design and dimensions of the dataset. The notebook will demonstrate how to identify experiments and sessions that you may be interested in analyzing using the data manifests provided by the `VisualBehaviorOphysProjectCache`, and exploring the metadata columns that describe the experimental conditions including transgenic lines, targeted areas, imaging depths, microscopes that were used, session types, and dataset variants. \n",
    "\n",
    "We will first install allensdk into your environment by running the appropriate commands below. "
   ]
  },
  {
   "cell_type": "markdown",
   "metadata": {
    "pycharm": {
     "name": "#%% md\n"
    }
   },
   "source": [
    "## Install AllenSDK into your local environment"
   ]
  },
  {
   "cell_type": "markdown",
   "metadata": {
    "pycharm": {
     "name": "#%% md\n"
    }
   },
   "source": [
    "You can install AllenSDK locally with:"
   ]
  },
  {
   "cell_type": "code",
   "execution_count": 1,
   "metadata": {
    "pycharm": {
     "name": "#%%\n"
    }
   },
   "outputs": [
    {
     "name": "stdout",
     "output_type": "stream",
     "text": [
      "Requirement already satisfied: allensdk in /opt/anaconda3/lib/python3.8/site-packages (2.13.9)\n",
      "Requirement already satisfied: nest-asyncio in /opt/anaconda3/lib/python3.8/site-packages (from allensdk) (1.5.5)\n",
      "Requirement already satisfied: simplejson<4.0.0,>=3.10.0 in /opt/anaconda3/lib/python3.8/site-packages (from allensdk) (3.17.2)\n",
      "Requirement already satisfied: scikit-image<0.17.0,>=0.14.0 in /opt/anaconda3/lib/python3.8/site-packages (from allensdk) (0.16.2)\n",
      "Requirement already satisfied: tqdm>=4.27 in /opt/anaconda3/lib/python3.8/site-packages (from allensdk) (4.64.1)\n",
      "Requirement already satisfied: psycopg2-binary in /opt/anaconda3/lib/python3.8/site-packages (from allensdk) (2.8.6)\n",
      "Requirement already satisfied: scipy<2.0.0,>=1.4.0 in /opt/anaconda3/lib/python3.8/site-packages (from allensdk) (1.6.2)\n",
      "Requirement already satisfied: glymur==0.8.19 in /opt/anaconda3/lib/python3.8/site-packages (from allensdk) (0.8.19)\n",
      "Requirement already satisfied: pynwb in /opt/anaconda3/lib/python3.8/site-packages (from allensdk) (1.4.0)\n",
      "Requirement already satisfied: argschema<4.0.0,>=3.0.1 in /opt/anaconda3/lib/python3.8/site-packages (from allensdk) (3.0.4)\n",
      "Requirement already satisfied: statsmodels<=0.13.0 in /opt/anaconda3/lib/python3.8/site-packages (from allensdk) (0.12.2)\n",
      "Requirement already satisfied: pynrrd<1.0.0,>=0.2.1 in /opt/anaconda3/lib/python3.8/site-packages (from allensdk) (0.4.2)\n",
      "Requirement already satisfied: pandas>=1.1.5 in /opt/anaconda3/lib/python3.8/site-packages (from allensdk) (1.4.4)\n",
      "Requirement already satisfied: tables<3.7.0,>=3.6.0 in /opt/anaconda3/lib/python3.8/site-packages (from allensdk) (3.6.1)\n",
      "Requirement already satisfied: requests-toolbelt<1.0.0 in /opt/anaconda3/lib/python3.8/site-packages (from allensdk) (0.9.1)\n",
      "Requirement already satisfied: matplotlib<3.4.3,>=1.4.3 in /opt/anaconda3/lib/python3.8/site-packages (from allensdk) (3.4.2)\n",
      "Requirement already satisfied: seaborn<1.0.0 in /opt/anaconda3/lib/python3.8/site-packages (from allensdk) (0.11.2)\n",
      "Requirement already satisfied: semver in /opt/anaconda3/lib/python3.8/site-packages (from allensdk) (2.13.0)\n",
      "Requirement already satisfied: future<1.0.0,>=0.14.3 in /opt/anaconda3/lib/python3.8/site-packages (from allensdk) (0.18.2)\n",
      "Requirement already satisfied: simpleitk<3.0.0,>=2.0.2 in /opt/anaconda3/lib/python3.8/site-packages (from allensdk) (2.1.1.2)\n",
      "Requirement already satisfied: hdmf>=2.5.8 in /opt/anaconda3/lib/python3.8/site-packages (from allensdk) (2.5.8)\n",
      "Requirement already satisfied: aiohttp==3.7.4 in /opt/anaconda3/lib/python3.8/site-packages (from allensdk) (3.7.4)\n",
      "Requirement already satisfied: h5py in /opt/anaconda3/lib/python3.8/site-packages (from allensdk) (2.10.0)\n",
      "Requirement already satisfied: six<2.0.0,>=1.9.0 in /opt/anaconda3/lib/python3.8/site-packages (from allensdk) (1.16.0)\n",
      "Requirement already satisfied: jinja2>=3.0.0 in /opt/anaconda3/lib/python3.8/site-packages (from allensdk) (3.0.3)\n",
      "Requirement already satisfied: cachetools<5.0.0,>=4.2.1 in /opt/anaconda3/lib/python3.8/site-packages (from allensdk) (4.2.4)\n",
      "Requirement already satisfied: boto3==1.17.21 in /opt/anaconda3/lib/python3.8/site-packages (from allensdk) (1.17.21)\n",
      "Requirement already satisfied: sqlalchemy in /opt/anaconda3/lib/python3.8/site-packages (from allensdk) (1.4.41)\n",
      "Requirement already satisfied: xarray in /opt/anaconda3/lib/python3.8/site-packages (from allensdk) (0.15.1)\n",
      "Requirement already satisfied: requests<3.0.0 in /opt/anaconda3/lib/python3.8/site-packages (from allensdk) (2.28.1)\n",
      "Requirement already satisfied: ndx-events<=0.2.0 in /opt/anaconda3/lib/python3.8/site-packages (from allensdk) (0.2.0)\n",
      "Requirement already satisfied: numpy in /opt/anaconda3/lib/python3.8/site-packages (from allensdk) (1.20.3)\n",
      "Requirement already satisfied: scikit-build<1.0.0 in /opt/anaconda3/lib/python3.8/site-packages (from allensdk) (0.11.1)\n",
      "Requirement already satisfied: typing-extensions>=3.6.5 in /opt/anaconda3/lib/python3.8/site-packages (from aiohttp==3.7.4->allensdk) (4.3.0)\n",
      "Requirement already satisfied: async-timeout<4.0,>=3.0 in /opt/anaconda3/lib/python3.8/site-packages (from aiohttp==3.7.4->allensdk) (3.0.1)\n",
      "Requirement already satisfied: multidict<7.0,>=4.5 in /opt/anaconda3/lib/python3.8/site-packages (from aiohttp==3.7.4->allensdk) (5.0.0)\n",
      "Requirement already satisfied: attrs>=17.3.0 in /opt/anaconda3/lib/python3.8/site-packages (from aiohttp==3.7.4->allensdk) (21.4.0)\n",
      "Requirement already satisfied: yarl<2.0,>=1.0 in /opt/anaconda3/lib/python3.8/site-packages (from aiohttp==3.7.4->allensdk) (1.6.2)\n",
      "Requirement already satisfied: chardet<4.0,>=2.0 in /opt/anaconda3/lib/python3.8/site-packages (from aiohttp==3.7.4->allensdk) (3.0.4)\n",
      "Requirement already satisfied: s3transfer<0.4.0,>=0.3.0 in /opt/anaconda3/lib/python3.8/site-packages (from boto3==1.17.21->allensdk) (0.3.7)\n",
      "Requirement already satisfied: jmespath<1.0.0,>=0.7.1 in /opt/anaconda3/lib/python3.8/site-packages (from boto3==1.17.21->allensdk) (0.10.0)\n",
      "Requirement already satisfied: botocore<1.21.0,>=1.20.21 in /opt/anaconda3/lib/python3.8/site-packages (from boto3==1.17.21->allensdk) (1.20.112)\n",
      "Requirement already satisfied: setuptools in /opt/anaconda3/lib/python3.8/site-packages (from glymur==0.8.19->allensdk) (63.4.1)\n",
      "Requirement already satisfied: pyyaml in /opt/anaconda3/lib/python3.8/site-packages (from argschema<4.0.0,>=3.0.1->allensdk) (6.0)\n",
      "Requirement already satisfied: marshmallow<4.0,>=3.0.0 in /opt/anaconda3/lib/python3.8/site-packages (from argschema<4.0.0,>=3.0.1->allensdk) (3.19.0)\n",
      "Requirement already satisfied: jsonschema<4,>=2.6.0 in /opt/anaconda3/lib/python3.8/site-packages (from hdmf>=2.5.8->allensdk) (3.2.0)\n",
      "Requirement already satisfied: ruamel.yaml<1,>=0.15 in /opt/anaconda3/lib/python3.8/site-packages (from hdmf>=2.5.8->allensdk) (0.17.4)\n",
      "Requirement already satisfied: MarkupSafe>=2.0 in /opt/anaconda3/lib/python3.8/site-packages (from jinja2>=3.0.0->allensdk) (2.0.1)\n",
      "Requirement already satisfied: pyparsing>=2.2.1 in /opt/anaconda3/lib/python3.8/site-packages (from matplotlib<3.4.3,>=1.4.3->allensdk) (3.0.9)\n",
      "Requirement already satisfied: pillow>=6.2.0 in /opt/anaconda3/lib/python3.8/site-packages (from matplotlib<3.4.3,>=1.4.3->allensdk) (9.2.0)\n",
      "Requirement already satisfied: python-dateutil>=2.7 in /opt/anaconda3/lib/python3.8/site-packages (from matplotlib<3.4.3,>=1.4.3->allensdk) (2.8.2)\n",
      "Requirement already satisfied: kiwisolver>=1.0.1 in /opt/anaconda3/lib/python3.8/site-packages (from matplotlib<3.4.3,>=1.4.3->allensdk) (1.4.2)\n",
      "Requirement already satisfied: cycler>=0.10 in /opt/anaconda3/lib/python3.8/site-packages (from matplotlib<3.4.3,>=1.4.3->allensdk) (0.11.0)\n",
      "Requirement already satisfied: pytz>=2020.1 in /opt/anaconda3/lib/python3.8/site-packages (from pandas>=1.1.5->allensdk) (2022.1)\n",
      "Requirement already satisfied: urllib3<1.27,>=1.21.1 in /opt/anaconda3/lib/python3.8/site-packages (from requests<3.0.0->allensdk) (1.26.11)\n",
      "Requirement already satisfied: certifi>=2017.4.17 in /opt/anaconda3/lib/python3.8/site-packages (from requests<3.0.0->allensdk) (2022.9.14)\n",
      "Requirement already satisfied: idna<4,>=2.5 in /opt/anaconda3/lib/python3.8/site-packages (from requests<3.0.0->allensdk) (3.3)\n",
      "Requirement already satisfied: charset-normalizer<3,>=2 in /opt/anaconda3/lib/python3.8/site-packages (from requests<3.0.0->allensdk) (2.0.12)\n",
      "Requirement already satisfied: wheel>=0.29.0 in /opt/anaconda3/lib/python3.8/site-packages (from scikit-build<1.0.0->allensdk) (0.37.1)\n",
      "Requirement already satisfied: packaging in /opt/anaconda3/lib/python3.8/site-packages (from scikit-build<1.0.0->allensdk) (21.3)\n",
      "Requirement already satisfied: distro in /opt/anaconda3/lib/python3.8/site-packages (from scikit-build<1.0.0->allensdk) (1.5.0)\n",
      "Requirement already satisfied: PyWavelets>=0.4.0 in /opt/anaconda3/lib/python3.8/site-packages (from scikit-image<0.17.0,>=0.14.0->allensdk) (1.1.1)\n",
      "Requirement already satisfied: imageio>=2.3.0 in /opt/anaconda3/lib/python3.8/site-packages (from scikit-image<0.17.0,>=0.14.0->allensdk) (2.9.0)\n",
      "Requirement already satisfied: networkx>=2.0 in /opt/anaconda3/lib/python3.8/site-packages (from scikit-image<0.17.0,>=0.14.0->allensdk) (2.8.4)\n",
      "Requirement already satisfied: patsy>=0.5 in /opt/anaconda3/lib/python3.8/site-packages (from statsmodels<=0.13.0->allensdk) (0.5.1)\n",
      "Requirement already satisfied: numexpr>=2.6.2 in /opt/anaconda3/lib/python3.8/site-packages (from tables<3.7.0,>=3.6.0->allensdk) (2.7.3)\n"
     ]
    },
    {
     "name": "stdout",
     "output_type": "stream",
     "text": [
      "Requirement already satisfied: greenlet!=0.4.17 in /opt/anaconda3/lib/python3.8/site-packages (from sqlalchemy->allensdk) (1.1.1)\n",
      "Requirement already satisfied: pyrsistent>=0.14.0 in /opt/anaconda3/lib/python3.8/site-packages (from jsonschema<4,>=2.6.0->hdmf>=2.5.8->allensdk) (0.18.0)\n",
      "Requirement already satisfied: ruamel.yaml.clib>=0.1.2 in /opt/anaconda3/lib/python3.8/site-packages (from ruamel.yaml<1,>=0.15->hdmf>=2.5.8->allensdk) (0.2.2)\n"
     ]
    }
   ],
   "source": [
    "!pip install allensdk"
   ]
  },
  {
   "cell_type": "markdown",
   "metadata": {
    "pycharm": {
     "name": "#%% md\n"
    }
   },
   "source": [
    "## Install AllenSDK into your notebook environment (good for Google Colab)"
   ]
  },
  {
   "cell_type": "markdown",
   "metadata": {
    "pycharm": {
     "name": "#%% md\n"
    }
   },
   "source": [
    "You can install AllenSDK into your notebook environment by executing the cell below.\n",
    "\n",
    "If using Google Colab, click on the RESTART RUNTIME button that appears at the end of the output when this cell is complete,. Note that running this cell will produce a long list of outputs and some error messages. Clicking RESTART RUNTIME at the end will resolve these issues.\n",
    "You can minimize the cell after you are done to hide the output."
   ]
  },
  {
   "cell_type": "code",
   "execution_count": 2,
   "metadata": {
    "pycharm": {
     "name": "#%%\n"
    }
   },
   "outputs": [
    {
     "name": "stdout",
     "output_type": "stream",
     "text": [
      "Requirement already satisfied: pip in /opt/anaconda3/lib/python3.8/site-packages (22.3.1)\n",
      "Requirement already satisfied: allensdk in /opt/anaconda3/lib/python3.8/site-packages (2.13.9)\n",
      "Requirement already satisfied: statsmodels<=0.13.0 in /opt/anaconda3/lib/python3.8/site-packages (from allensdk) (0.12.2)\n",
      "Requirement already satisfied: scikit-build<1.0.0 in /opt/anaconda3/lib/python3.8/site-packages (from allensdk) (0.11.1)\n",
      "Requirement already satisfied: ndx-events<=0.2.0 in /opt/anaconda3/lib/python3.8/site-packages (from allensdk) (0.2.0)\n",
      "Requirement already satisfied: matplotlib<3.4.3,>=1.4.3 in /opt/anaconda3/lib/python3.8/site-packages (from allensdk) (3.4.2)\n",
      "Requirement already satisfied: sqlalchemy in /opt/anaconda3/lib/python3.8/site-packages (from allensdk) (1.4.41)\n",
      "Requirement already satisfied: argschema<4.0.0,>=3.0.1 in /opt/anaconda3/lib/python3.8/site-packages (from allensdk) (3.0.4)\n",
      "Requirement already satisfied: nest-asyncio in /opt/anaconda3/lib/python3.8/site-packages (from allensdk) (1.5.5)\n",
      "Requirement already satisfied: future<1.0.0,>=0.14.3 in /opt/anaconda3/lib/python3.8/site-packages (from allensdk) (0.18.2)\n",
      "Requirement already satisfied: aiohttp==3.7.4 in /opt/anaconda3/lib/python3.8/site-packages (from allensdk) (3.7.4)\n",
      "Requirement already satisfied: requests-toolbelt<1.0.0 in /opt/anaconda3/lib/python3.8/site-packages (from allensdk) (0.9.1)\n",
      "Requirement already satisfied: scikit-image<0.17.0,>=0.14.0 in /opt/anaconda3/lib/python3.8/site-packages (from allensdk) (0.16.2)\n",
      "Requirement already satisfied: seaborn<1.0.0 in /opt/anaconda3/lib/python3.8/site-packages (from allensdk) (0.11.2)\n",
      "Requirement already satisfied: tables<3.7.0,>=3.6.0 in /opt/anaconda3/lib/python3.8/site-packages (from allensdk) (3.6.1)\n",
      "Requirement already satisfied: pynrrd<1.0.0,>=0.2.1 in /opt/anaconda3/lib/python3.8/site-packages (from allensdk) (0.4.2)\n",
      "Requirement already satisfied: simpleitk<3.0.0,>=2.0.2 in /opt/anaconda3/lib/python3.8/site-packages (from allensdk) (2.1.1.2)\n",
      "Requirement already satisfied: requests<3.0.0 in /opt/anaconda3/lib/python3.8/site-packages (from allensdk) (2.28.1)\n",
      "Requirement already satisfied: glymur==0.8.19 in /opt/anaconda3/lib/python3.8/site-packages (from allensdk) (0.8.19)\n",
      "Requirement already satisfied: numpy in /opt/anaconda3/lib/python3.8/site-packages (from allensdk) (1.20.3)\n",
      "Requirement already satisfied: semver in /opt/anaconda3/lib/python3.8/site-packages (from allensdk) (2.13.0)\n",
      "Requirement already satisfied: psycopg2-binary in /opt/anaconda3/lib/python3.8/site-packages (from allensdk) (2.8.6)\n",
      "Requirement already satisfied: h5py in /opt/anaconda3/lib/python3.8/site-packages (from allensdk) (2.10.0)\n",
      "Requirement already satisfied: pandas>=1.1.5 in /opt/anaconda3/lib/python3.8/site-packages (from allensdk) (1.4.4)\n",
      "Requirement already satisfied: six<2.0.0,>=1.9.0 in /opt/anaconda3/lib/python3.8/site-packages (from allensdk) (1.16.0)\n",
      "Requirement already satisfied: hdmf>=2.5.8 in /opt/anaconda3/lib/python3.8/site-packages (from allensdk) (2.5.8)\n",
      "Requirement already satisfied: pynwb in /opt/anaconda3/lib/python3.8/site-packages (from allensdk) (1.4.0)\n",
      "Requirement already satisfied: scipy<2.0.0,>=1.4.0 in /opt/anaconda3/lib/python3.8/site-packages (from allensdk) (1.6.2)\n",
      "Requirement already satisfied: jinja2>=3.0.0 in /opt/anaconda3/lib/python3.8/site-packages (from allensdk) (3.0.3)\n",
      "Requirement already satisfied: boto3==1.17.21 in /opt/anaconda3/lib/python3.8/site-packages (from allensdk) (1.17.21)\n",
      "Requirement already satisfied: cachetools<5.0.0,>=4.2.1 in /opt/anaconda3/lib/python3.8/site-packages (from allensdk) (4.2.4)\n",
      "Requirement already satisfied: xarray in /opt/anaconda3/lib/python3.8/site-packages (from allensdk) (0.15.1)\n",
      "Requirement already satisfied: simplejson<4.0.0,>=3.10.0 in /opt/anaconda3/lib/python3.8/site-packages (from allensdk) (3.17.2)\n",
      "Requirement already satisfied: tqdm>=4.27 in /opt/anaconda3/lib/python3.8/site-packages (from allensdk) (4.64.1)\n",
      "Requirement already satisfied: yarl<2.0,>=1.0 in /opt/anaconda3/lib/python3.8/site-packages (from aiohttp==3.7.4->allensdk) (1.6.2)\n",
      "Requirement already satisfied: multidict<7.0,>=4.5 in /opt/anaconda3/lib/python3.8/site-packages (from aiohttp==3.7.4->allensdk) (5.0.0)\n",
      "Requirement already satisfied: attrs>=17.3.0 in /opt/anaconda3/lib/python3.8/site-packages (from aiohttp==3.7.4->allensdk) (21.4.0)\n",
      "Requirement already satisfied: typing-extensions>=3.6.5 in /opt/anaconda3/lib/python3.8/site-packages (from aiohttp==3.7.4->allensdk) (4.3.0)\n",
      "Requirement already satisfied: chardet<4.0,>=2.0 in /opt/anaconda3/lib/python3.8/site-packages (from aiohttp==3.7.4->allensdk) (3.0.4)\n",
      "Requirement already satisfied: async-timeout<4.0,>=3.0 in /opt/anaconda3/lib/python3.8/site-packages (from aiohttp==3.7.4->allensdk) (3.0.1)\n",
      "Requirement already satisfied: s3transfer<0.4.0,>=0.3.0 in /opt/anaconda3/lib/python3.8/site-packages (from boto3==1.17.21->allensdk) (0.3.7)\n",
      "Requirement already satisfied: jmespath<1.0.0,>=0.7.1 in /opt/anaconda3/lib/python3.8/site-packages (from boto3==1.17.21->allensdk) (0.10.0)\n",
      "Requirement already satisfied: botocore<1.21.0,>=1.20.21 in /opt/anaconda3/lib/python3.8/site-packages (from boto3==1.17.21->allensdk) (1.20.112)\n",
      "Requirement already satisfied: setuptools in /opt/anaconda3/lib/python3.8/site-packages (from glymur==0.8.19->allensdk) (63.4.1)\n",
      "Requirement already satisfied: marshmallow<4.0,>=3.0.0 in /opt/anaconda3/lib/python3.8/site-packages (from argschema<4.0.0,>=3.0.1->allensdk) (3.19.0)\n",
      "Requirement already satisfied: pyyaml in /opt/anaconda3/lib/python3.8/site-packages (from argschema<4.0.0,>=3.0.1->allensdk) (6.0)\n",
      "Requirement already satisfied: ruamel.yaml<1,>=0.15 in /opt/anaconda3/lib/python3.8/site-packages (from hdmf>=2.5.8->allensdk) (0.17.4)\n",
      "Requirement already satisfied: jsonschema<4,>=2.6.0 in /opt/anaconda3/lib/python3.8/site-packages (from hdmf>=2.5.8->allensdk) (3.2.0)\n",
      "Requirement already satisfied: MarkupSafe>=2.0 in /opt/anaconda3/lib/python3.8/site-packages (from jinja2>=3.0.0->allensdk) (2.0.1)\n",
      "Requirement already satisfied: pillow>=6.2.0 in /opt/anaconda3/lib/python3.8/site-packages (from matplotlib<3.4.3,>=1.4.3->allensdk) (9.2.0)\n",
      "Requirement already satisfied: python-dateutil>=2.7 in /opt/anaconda3/lib/python3.8/site-packages (from matplotlib<3.4.3,>=1.4.3->allensdk) (2.8.2)\n",
      "Requirement already satisfied: kiwisolver>=1.0.1 in /opt/anaconda3/lib/python3.8/site-packages (from matplotlib<3.4.3,>=1.4.3->allensdk) (1.4.2)\n",
      "Requirement already satisfied: cycler>=0.10 in /opt/anaconda3/lib/python3.8/site-packages (from matplotlib<3.4.3,>=1.4.3->allensdk) (0.11.0)\n",
      "Requirement already satisfied: pyparsing>=2.2.1 in /opt/anaconda3/lib/python3.8/site-packages (from matplotlib<3.4.3,>=1.4.3->allensdk) (3.0.9)\n",
      "Requirement already satisfied: pytz>=2020.1 in /opt/anaconda3/lib/python3.8/site-packages (from pandas>=1.1.5->allensdk) (2022.1)\n",
      "Requirement already satisfied: certifi>=2017.4.17 in /opt/anaconda3/lib/python3.8/site-packages (from requests<3.0.0->allensdk) (2022.9.14)\n",
      "Requirement already satisfied: idna<4,>=2.5 in /opt/anaconda3/lib/python3.8/site-packages (from requests<3.0.0->allensdk) (3.3)\n",
      "Requirement already satisfied: charset-normalizer<3,>=2 in /opt/anaconda3/lib/python3.8/site-packages (from requests<3.0.0->allensdk) (2.0.12)\n",
      "Requirement already satisfied: urllib3<1.27,>=1.21.1 in /opt/anaconda3/lib/python3.8/site-packages (from requests<3.0.0->allensdk) (1.26.11)\n",
      "Requirement already satisfied: distro in /opt/anaconda3/lib/python3.8/site-packages (from scikit-build<1.0.0->allensdk) (1.5.0)\n",
      "Requirement already satisfied: packaging in /opt/anaconda3/lib/python3.8/site-packages (from scikit-build<1.0.0->allensdk) (21.3)\n",
      "Requirement already satisfied: wheel>=0.29.0 in /opt/anaconda3/lib/python3.8/site-packages (from scikit-build<1.0.0->allensdk) (0.37.1)\n",
      "Requirement already satisfied: networkx>=2.0 in /opt/anaconda3/lib/python3.8/site-packages (from scikit-image<0.17.0,>=0.14.0->allensdk) (2.8.4)\n",
      "Requirement already satisfied: PyWavelets>=0.4.0 in /opt/anaconda3/lib/python3.8/site-packages (from scikit-image<0.17.0,>=0.14.0->allensdk) (1.1.1)\n",
      "Requirement already satisfied: imageio>=2.3.0 in /opt/anaconda3/lib/python3.8/site-packages (from scikit-image<0.17.0,>=0.14.0->allensdk) (2.9.0)\n"
     ]
    },
    {
     "name": "stdout",
     "output_type": "stream",
     "text": [
      "Requirement already satisfied: patsy>=0.5 in /opt/anaconda3/lib/python3.8/site-packages (from statsmodels<=0.13.0->allensdk) (0.5.1)\n",
      "Requirement already satisfied: numexpr>=2.6.2 in /opt/anaconda3/lib/python3.8/site-packages (from tables<3.7.0,>=3.6.0->allensdk) (2.7.3)\n",
      "Requirement already satisfied: greenlet!=0.4.17 in /opt/anaconda3/lib/python3.8/site-packages (from sqlalchemy->allensdk) (1.1.1)\n",
      "Requirement already satisfied: pyrsistent>=0.14.0 in /opt/anaconda3/lib/python3.8/site-packages (from jsonschema<4,>=2.6.0->hdmf>=2.5.8->allensdk) (0.18.0)\n",
      "Requirement already satisfied: ruamel.yaml.clib>=0.1.2 in /opt/anaconda3/lib/python3.8/site-packages (from ruamel.yaml<1,>=0.15->hdmf>=2.5.8->allensdk) (0.2.2)\n"
     ]
    }
   ],
   "source": [
    "!pip install --upgrade pip\n",
    "!pip install allensdk"
   ]
  },
  {
   "cell_type": "markdown",
   "metadata": {
    "pycharm": {
     "name": "#%% md\n"
    }
   },
   "source": [
    "## Import necessary packages"
   ]
  },
  {
   "cell_type": "code",
   "execution_count": 3,
   "metadata": {
    "pycharm": {
     "is_executing": true,
     "name": "#%%\n"
    }
   },
   "outputs": [],
   "source": [
    "import numpy as np\n",
    "\n",
    "from allensdk.brain_observatory.behavior.behavior_project_cache import VisualBehaviorOphysProjectCache"
   ]
  },
  {
   "cell_type": "markdown",
   "metadata": {
    "pycharm": {
     "name": "#%% md\n"
    }
   },
   "source": [
    "## First, load the project cache - your access point for all tables and data"
   ]
  },
  {
   "cell_type": "code",
   "execution_count": 4,
   "metadata": {
    "pycharm": {
     "name": "#%%\n"
    },
    "tags": [
     "parameters"
    ]
   },
   "outputs": [],
   "source": [
    "# Update this to a valid directory in your filesystem\n",
    "output_dir = r\"\\Data\\visual_behavior_ophys_cache_dir\""
   ]
  },
  {
   "cell_type": "code",
   "execution_count": 5,
   "metadata": {
    "pycharm": {
     "name": "#%%\n"
    }
   },
   "outputs": [
    {
     "name": "stderr",
     "output_type": "stream",
     "text": [
      "ophys_session_table.csv: 100%|██████████| 227k/227k [00:00<00:00, 946kMB/s]  \n",
      "behavior_session_table.csv: 100%|██████████| 1.21M/1.21M [00:00<00:00, 1.45MMB/s]\n",
      "ophys_experiment_table.csv: 100%|██████████| 610k/610k [00:00<00:00, 1.41MMB/s] \n",
      "ophys_cells_table.csv: 100%|██████████| 4.29M/4.29M [00:01<00:00, 2.79MMB/s]\n"
     ]
    }
   ],
   "source": [
    "cache = VisualBehaviorOphysProjectCache.from_s3_cache(cache_dir=output_dir)"
   ]
  },
  {
   "cell_type": "markdown",
   "metadata": {
    "pycharm": {
     "name": "#%% md\n"
    }
   },
   "source": [
    "The data manifest is comprised of three types of tables: \n",
    "\n",
    "1. `behavior_session_table` \n",
    "2. `ophys_session_table` \n",
    "3. `ophys_experiment_table` \n",
    "\n",
    "The `behavior_session_table` contains metadata for every <b>behavior session</b> in the dataset. Some behavior sessions have 2-photon data associated with them, while others took place during training in the behavior facility. The different training stages that mice are progressed through are described by the `session_type`. \n",
    "\n",
    "The `ophys_session_table` contains metadata for every 2-photon imaging (aka optical physiology, or ophys) session in the dataset, associated with a unique `ophys_session_id`. An <b>ophys session</b> is one continuous recording session under the microscope, and can contain different numbers of imaging planes (aka experiments) depending on which microscope was used. For Scientifica sessions, there will only be one experiment (aka imaging plane) per session. For Multiscope sessions, there can be up to eight imaging planes per session. Quality Control (QC) is performed on each individual imaging plane within a session, so each can fail QC independent of the others. This means that a Multiscope session may not have exactly eight experiments (imaging planes). \n",
    "\n",
    "The `ophys_experiment_table` contains metadata for every <b>ophys experiment</b> in the dataset, which corresponds to a single imaging plane recorded in a single session, and associated with a unique `ophys_experiment_id`. A key part of our experimental design is targeting a given population of neurons, contained in one imaging plane, across multiple `session_types` (further described below) to examine the impact of varying sensory and behavioral conditions on single cell responses. The collection of all imaging sessions for a given imaging plane is referred to as an <b>ophys container</b>, associated with a unique `ophys_container_id`. Each ophys container may contain different numbers of sessions, depending on which experiments passed QC, and how many retakes occured (when a given `session_type` fails QC on the first try, an attempt is made to re-acquire the session_type on a different recording day - this is called a retake, also described further below). "
   ]
  },
  {
   "cell_type": "markdown",
   "metadata": {
    "pycharm": {
     "name": "#%% md\n"
    }
   },
   "source": [
    "### To understand the difference between an `ophys_experiment`, an `ophys_session`, and an `ophys_container`, the following schematic can be helpful"
   ]
  },
  {
   "cell_type": "markdown",
   "metadata": {
    "pycharm": {
     "name": "#%% md\n"
    }
   },
   "source": [
    "<div>\n",
    "<img src=\"https://allensdk.readthedocs.io/en/latest/_static/visual_behavior_2p/data_structure.png\", width=\"900\"/>\n",
    "</div>"
   ]
  },
  {
   "cell_type": "markdown",
   "metadata": {
    "pycharm": {
     "name": "#%% md\n"
    }
   },
   "source": [
    "Note that this represents a multi-plane imaging dataset. For single-plane imaging, there will only be one plane, corresponding to one row of this diagram."
   ]
  },
  {
   "cell_type": "markdown",
   "metadata": {
    "pycharm": {
     "name": "#%% md\n"
    }
   },
   "source": [
    "## Lets go through each table and examine what metadata columns are available"
   ]
  },
  {
   "cell_type": "markdown",
   "metadata": {
    "pycharm": {
     "name": "#%% md\n"
    }
   },
   "source": [
    "# Behavior Sessions Table"
   ]
  },
  {
   "cell_type": "markdown",
   "metadata": {
    "pycharm": {
     "name": "#%% md\n"
    }
   },
   "source": [
    "In this dataset, mice are trained on a visual change detection task. This task involves a continuous stream of stimuli, and mice learn to lick in response to a change in the stimulus identity to earn a water reward. There are different stages of training in this task, described below. The metadata for each behavior session in the dataset can be found in the `behavior_sessions_table` and can be used to identify behavior sessions you may want to analyze. "
   ]
  },
  {
   "cell_type": "markdown",
   "metadata": {
    "pycharm": {
     "name": "#%% md\n"
    }
   },
   "source": [
    "### Load the `behavior_sessions_table` from the cache"
   ]
  },
  {
   "cell_type": "code",
   "execution_count": 6,
   "metadata": {
    "pycharm": {
     "name": "#%%\n"
    }
   },
   "outputs": [
    {
     "name": "stdout",
     "output_type": "stream",
     "text": [
      "Total number of behavior sessions: 4787\n"
     ]
    },
    {
     "data": {
      "text/html": [
       "<div>\n",
       "<style scoped>\n",
       "    .dataframe tbody tr th:only-of-type {\n",
       "        vertical-align: middle;\n",
       "    }\n",
       "\n",
       "    .dataframe tbody tr th {\n",
       "        vertical-align: top;\n",
       "    }\n",
       "\n",
       "    .dataframe thead th {\n",
       "        text-align: right;\n",
       "    }\n",
       "</style>\n",
       "<table border=\"1\" class=\"dataframe\">\n",
       "  <thead>\n",
       "    <tr style=\"text-align: right;\">\n",
       "      <th></th>\n",
       "      <th>equipment_name</th>\n",
       "      <th>full_genotype</th>\n",
       "      <th>mouse_id</th>\n",
       "      <th>reporter_line</th>\n",
       "      <th>driver_line</th>\n",
       "      <th>sex</th>\n",
       "      <th>age_in_days</th>\n",
       "      <th>cre_line</th>\n",
       "      <th>indicator</th>\n",
       "      <th>session_number</th>\n",
       "      <th>prior_exposures_to_session_type</th>\n",
       "      <th>prior_exposures_to_image_set</th>\n",
       "      <th>prior_exposures_to_omissions</th>\n",
       "      <th>ophys_session_id</th>\n",
       "      <th>ophys_experiment_id</th>\n",
       "      <th>ophys_container_id</th>\n",
       "      <th>project_code</th>\n",
       "      <th>date_of_acquisition</th>\n",
       "      <th>session_type</th>\n",
       "      <th>file_id</th>\n",
       "    </tr>\n",
       "    <tr>\n",
       "      <th>behavior_session_id</th>\n",
       "      <th></th>\n",
       "      <th></th>\n",
       "      <th></th>\n",
       "      <th></th>\n",
       "      <th></th>\n",
       "      <th></th>\n",
       "      <th></th>\n",
       "      <th></th>\n",
       "      <th></th>\n",
       "      <th></th>\n",
       "      <th></th>\n",
       "      <th></th>\n",
       "      <th></th>\n",
       "      <th></th>\n",
       "      <th></th>\n",
       "      <th></th>\n",
       "      <th></th>\n",
       "      <th></th>\n",
       "      <th></th>\n",
       "      <th></th>\n",
       "    </tr>\n",
       "  </thead>\n",
       "  <tbody>\n",
       "    <tr>\n",
       "      <th>870987812</th>\n",
       "      <td>BEH.D-Box1</td>\n",
       "      <td>Sst-IRES-Cre/wt;Ai148(TIT2L-GC6f-ICL-tTA2)/wt</td>\n",
       "      <td>457841</td>\n",
       "      <td>Ai148(TIT2L-GC6f-ICL-tTA2)</td>\n",
       "      <td>[Sst-IRES-Cre]</td>\n",
       "      <td>F</td>\n",
       "      <td>80.0</td>\n",
       "      <td>Sst-IRES-Cre</td>\n",
       "      <td>GCaMP6f</td>\n",
       "      <td>NaN</td>\n",
       "      <td>0.0</td>\n",
       "      <td>NaN</td>\n",
       "      <td>0.0</td>\n",
       "      <td>NaN</td>\n",
       "      <td>NaN</td>\n",
       "      <td>NaN</td>\n",
       "      <td>NaN</td>\n",
       "      <td>2019-05-17 14:46:33.550</td>\n",
       "      <td>TRAINING_0_gratings_autorewards_15min</td>\n",
       "      <td>1.085368e+09</td>\n",
       "    </tr>\n",
       "    <tr>\n",
       "      <th>872953842</th>\n",
       "      <td>BEH.D-Box1</td>\n",
       "      <td>Sst-IRES-Cre/wt;Ai148(TIT2L-GC6f-ICL-tTA2)/wt</td>\n",
       "      <td>457841</td>\n",
       "      <td>Ai148(TIT2L-GC6f-ICL-tTA2)</td>\n",
       "      <td>[Sst-IRES-Cre]</td>\n",
       "      <td>F</td>\n",
       "      <td>84.0</td>\n",
       "      <td>Sst-IRES-Cre</td>\n",
       "      <td>GCaMP6f</td>\n",
       "      <td>NaN</td>\n",
       "      <td>0.0</td>\n",
       "      <td>NaN</td>\n",
       "      <td>0.0</td>\n",
       "      <td>NaN</td>\n",
       "      <td>NaN</td>\n",
       "      <td>NaN</td>\n",
       "      <td>NaN</td>\n",
       "      <td>2019-05-21 13:22:20.613</td>\n",
       "      <td>TRAINING_1_gratings</td>\n",
       "      <td>1.085368e+09</td>\n",
       "    </tr>\n",
       "    <tr>\n",
       "      <th>873774125</th>\n",
       "      <td>BEH.D-Box1</td>\n",
       "      <td>Sst-IRES-Cre/wt;Ai148(TIT2L-GC6f-ICL-tTA2)/wt</td>\n",
       "      <td>457841</td>\n",
       "      <td>Ai148(TIT2L-GC6f-ICL-tTA2)</td>\n",
       "      <td>[Sst-IRES-Cre]</td>\n",
       "      <td>F</td>\n",
       "      <td>85.0</td>\n",
       "      <td>Sst-IRES-Cre</td>\n",
       "      <td>GCaMP6f</td>\n",
       "      <td>NaN</td>\n",
       "      <td>1.0</td>\n",
       "      <td>NaN</td>\n",
       "      <td>0.0</td>\n",
       "      <td>NaN</td>\n",
       "      <td>NaN</td>\n",
       "      <td>NaN</td>\n",
       "      <td>NaN</td>\n",
       "      <td>2019-05-22 13:19:52.005</td>\n",
       "      <td>TRAINING_1_gratings</td>\n",
       "      <td>1.085368e+09</td>\n",
       "    </tr>\n",
       "    <tr>\n",
       "      <th>874790261</th>\n",
       "      <td>BEH.D-Box1</td>\n",
       "      <td>Sst-IRES-Cre/wt;Ai148(TIT2L-GC6f-ICL-tTA2)/wt</td>\n",
       "      <td>457841</td>\n",
       "      <td>Ai148(TIT2L-GC6f-ICL-tTA2)</td>\n",
       "      <td>[Sst-IRES-Cre]</td>\n",
       "      <td>F</td>\n",
       "      <td>86.0</td>\n",
       "      <td>Sst-IRES-Cre</td>\n",
       "      <td>GCaMP6f</td>\n",
       "      <td>NaN</td>\n",
       "      <td>2.0</td>\n",
       "      <td>NaN</td>\n",
       "      <td>0.0</td>\n",
       "      <td>NaN</td>\n",
       "      <td>NaN</td>\n",
       "      <td>NaN</td>\n",
       "      <td>NaN</td>\n",
       "      <td>2019-05-23 13:40:31.405</td>\n",
       "      <td>TRAINING_1_gratings</td>\n",
       "      <td>1.085368e+09</td>\n",
       "    </tr>\n",
       "    <tr>\n",
       "      <th>875207834</th>\n",
       "      <td>BEH.D-Box1</td>\n",
       "      <td>Sst-IRES-Cre/wt;Ai148(TIT2L-GC6f-ICL-tTA2)/wt</td>\n",
       "      <td>457841</td>\n",
       "      <td>Ai148(TIT2L-GC6f-ICL-tTA2)</td>\n",
       "      <td>[Sst-IRES-Cre]</td>\n",
       "      <td>F</td>\n",
       "      <td>87.0</td>\n",
       "      <td>Sst-IRES-Cre</td>\n",
       "      <td>GCaMP6f</td>\n",
       "      <td>NaN</td>\n",
       "      <td>3.0</td>\n",
       "      <td>NaN</td>\n",
       "      <td>0.0</td>\n",
       "      <td>NaN</td>\n",
       "      <td>NaN</td>\n",
       "      <td>NaN</td>\n",
       "      <td>NaN</td>\n",
       "      <td>2019-05-24 11:06:39.332</td>\n",
       "      <td>TRAINING_1_gratings</td>\n",
       "      <td>1.085368e+09</td>\n",
       "    </tr>\n",
       "  </tbody>\n",
       "</table>\n",
       "</div>"
      ],
      "text/plain": [
       "                    equipment_name  \\\n",
       "behavior_session_id                  \n",
       "870987812               BEH.D-Box1   \n",
       "872953842               BEH.D-Box1   \n",
       "873774125               BEH.D-Box1   \n",
       "874790261               BEH.D-Box1   \n",
       "875207834               BEH.D-Box1   \n",
       "\n",
       "                                                     full_genotype mouse_id  \\\n",
       "behavior_session_id                                                           \n",
       "870987812            Sst-IRES-Cre/wt;Ai148(TIT2L-GC6f-ICL-tTA2)/wt   457841   \n",
       "872953842            Sst-IRES-Cre/wt;Ai148(TIT2L-GC6f-ICL-tTA2)/wt   457841   \n",
       "873774125            Sst-IRES-Cre/wt;Ai148(TIT2L-GC6f-ICL-tTA2)/wt   457841   \n",
       "874790261            Sst-IRES-Cre/wt;Ai148(TIT2L-GC6f-ICL-tTA2)/wt   457841   \n",
       "875207834            Sst-IRES-Cre/wt;Ai148(TIT2L-GC6f-ICL-tTA2)/wt   457841   \n",
       "\n",
       "                                  reporter_line     driver_line sex  \\\n",
       "behavior_session_id                                                   \n",
       "870987812            Ai148(TIT2L-GC6f-ICL-tTA2)  [Sst-IRES-Cre]   F   \n",
       "872953842            Ai148(TIT2L-GC6f-ICL-tTA2)  [Sst-IRES-Cre]   F   \n",
       "873774125            Ai148(TIT2L-GC6f-ICL-tTA2)  [Sst-IRES-Cre]   F   \n",
       "874790261            Ai148(TIT2L-GC6f-ICL-tTA2)  [Sst-IRES-Cre]   F   \n",
       "875207834            Ai148(TIT2L-GC6f-ICL-tTA2)  [Sst-IRES-Cre]   F   \n",
       "\n",
       "                     age_in_days      cre_line indicator  session_number  \\\n",
       "behavior_session_id                                                        \n",
       "870987812                   80.0  Sst-IRES-Cre   GCaMP6f             NaN   \n",
       "872953842                   84.0  Sst-IRES-Cre   GCaMP6f             NaN   \n",
       "873774125                   85.0  Sst-IRES-Cre   GCaMP6f             NaN   \n",
       "874790261                   86.0  Sst-IRES-Cre   GCaMP6f             NaN   \n",
       "875207834                   87.0  Sst-IRES-Cre   GCaMP6f             NaN   \n",
       "\n",
       "                     prior_exposures_to_session_type  \\\n",
       "behavior_session_id                                    \n",
       "870987812                                        0.0   \n",
       "872953842                                        0.0   \n",
       "873774125                                        1.0   \n",
       "874790261                                        2.0   \n",
       "875207834                                        3.0   \n",
       "\n",
       "                     prior_exposures_to_image_set  \\\n",
       "behavior_session_id                                 \n",
       "870987812                                     NaN   \n",
       "872953842                                     NaN   \n",
       "873774125                                     NaN   \n",
       "874790261                                     NaN   \n",
       "875207834                                     NaN   \n",
       "\n",
       "                     prior_exposures_to_omissions  ophys_session_id  \\\n",
       "behavior_session_id                                                   \n",
       "870987812                                     0.0               NaN   \n",
       "872953842                                     0.0               NaN   \n",
       "873774125                                     0.0               NaN   \n",
       "874790261                                     0.0               NaN   \n",
       "875207834                                     0.0               NaN   \n",
       "\n",
       "                    ophys_experiment_id ophys_container_id project_code  \\\n",
       "behavior_session_id                                                       \n",
       "870987812                           NaN                NaN          NaN   \n",
       "872953842                           NaN                NaN          NaN   \n",
       "873774125                           NaN                NaN          NaN   \n",
       "874790261                           NaN                NaN          NaN   \n",
       "875207834                           NaN                NaN          NaN   \n",
       "\n",
       "                        date_of_acquisition  \\\n",
       "behavior_session_id                           \n",
       "870987812           2019-05-17 14:46:33.550   \n",
       "872953842           2019-05-21 13:22:20.613   \n",
       "873774125           2019-05-22 13:19:52.005   \n",
       "874790261           2019-05-23 13:40:31.405   \n",
       "875207834           2019-05-24 11:06:39.332   \n",
       "\n",
       "                                              session_type       file_id  \n",
       "behavior_session_id                                                       \n",
       "870987812            TRAINING_0_gratings_autorewards_15min  1.085368e+09  \n",
       "872953842                              TRAINING_1_gratings  1.085368e+09  \n",
       "873774125                              TRAINING_1_gratings  1.085368e+09  \n",
       "874790261                              TRAINING_1_gratings  1.085368e+09  \n",
       "875207834                              TRAINING_1_gratings  1.085368e+09  "
      ]
     },
     "execution_count": 6,
     "metadata": {},
     "output_type": "execute_result"
    }
   ],
   "source": [
    "behavior_sessions = cache.get_behavior_session_table()\n",
    "\n",
    "print(f\"Total number of behavior sessions: {len(behavior_sessions)}\")\n",
    "\n",
    "behavior_sessions.head()"
   ]
  },
  {
   "cell_type": "markdown",
   "metadata": {
    "pycharm": {
     "name": "#%% md\n"
    }
   },
   "source": [
    "### What columns does the behavior_session table have and what values can they take?"
   ]
  },
  {
   "cell_type": "code",
   "execution_count": 7,
   "metadata": {
    "pycharm": {
     "name": "#%%\n"
    }
   },
   "outputs": [
    {
     "data": {
      "text/plain": [
       "Index(['equipment_name', 'full_genotype', 'mouse_id', 'reporter_line',\n",
       "       'driver_line', 'sex', 'age_in_days', 'cre_line', 'indicator',\n",
       "       'session_number', 'prior_exposures_to_session_type',\n",
       "       'prior_exposures_to_image_set', 'prior_exposures_to_omissions',\n",
       "       'ophys_session_id', 'ophys_experiment_id', 'ophys_container_id',\n",
       "       'project_code', 'date_of_acquisition', 'session_type', 'file_id'],\n",
       "      dtype='object')"
      ]
     },
     "execution_count": 7,
     "metadata": {},
     "output_type": "execute_result"
    }
   ],
   "source": [
    "behavior_sessions.columns"
   ]
  },
  {
   "cell_type": "markdown",
   "metadata": {
    "pycharm": {
     "name": "#%% md\n"
    }
   },
   "source": [
    "### behavior sessions can take place on different experimental systems"
   ]
  },
  {
   "cell_type": "code",
   "execution_count": 8,
   "metadata": {
    "pycharm": {
     "name": "#%%\n"
    }
   },
   "outputs": [
    {
     "name": "stdout",
     "output_type": "stream",
     "text": [
      "behavior data could be recorded on these experimental systems:\n",
      "\n",
      "['BEH.B' 'BEH.B-Box1' 'BEH.B-Box2' 'BEH.B-Box3' 'BEH.B-Box4' 'BEH.B-Box5'\n",
      " 'BEH.B-Box6' 'BEH.D' 'BEH.D-Box1' 'BEH.D-Box2' 'BEH.D-Box3' 'BEH.D-Box4'\n",
      " 'BEH.D-Box5' 'BEH.D-Box6' 'BEH.F' 'BEH.F-Box1' 'BEH.F-Box2' 'BEH.F-Box3'\n",
      " 'BEH.F-Box4' 'BEH.F-Box5' 'BEH.F-Box6' 'BEH.G' 'BEH.G-Box1' 'BEH.G-Box2'\n",
      " 'BEH.G-Box3' 'BEH.G-Box4' 'BEH.G-Box5' 'BEH.G-Box6' 'CAM2P.3' 'CAM2P.4'\n",
      " 'CAM2P.5' 'MESO.1']\n"
     ]
    }
   ],
   "source": [
    "print('behavior data could be recorded on these experimental systems:\\n')\n",
    "print(np.sort(behavior_sessions.equipment_name.unique()))"
   ]
  },
  {
   "cell_type": "markdown",
   "metadata": {
    "pycharm": {
     "name": "#%% md\n"
    }
   },
   "source": [
    "`equipment_name` values starting with 'BEH' indicate behavioral training in the behavior facility, while values starting with 'CAM2P' or 'MESO' indicate behavior sessions that took place under a 2-photon microscope - either a Scientifica single plane imaging system ('CAMP2P.4', 'CAM2P.4', or 'CAM2P.5') or a modified Mesoscope system, also called Multiscope, for multi-plane imaging ('MESO.1')."
   ]
  },
  {
   "cell_type": "markdown",
   "metadata": {
    "pycharm": {
     "name": "#%% md\n"
    }
   },
   "source": [
    "## Mouse specific metadata"
   ]
  },
  {
   "cell_type": "markdown",
   "metadata": {
    "pycharm": {
     "name": "#%% md\n"
    }
   },
   "source": [
    "The `mouse_id` is a 6-digit unique identifier for each experimental animal in the dataset"
   ]
  },
  {
   "cell_type": "code",
   "execution_count": 9,
   "metadata": {
    "pycharm": {
     "name": "#%%\n"
    }
   },
   "outputs": [
    {
     "name": "stdout",
     "output_type": "stream",
     "text": [
      "there are  107 mice in the dataset\n"
     ]
    }
   ],
   "source": [
    "print('there are ', len(behavior_sessions.mouse_id.unique()), 'mice in the dataset')"
   ]
  },
  {
   "cell_type": "markdown",
   "metadata": {
    "pycharm": {
     "name": "#%% md\n"
    }
   },
   "source": [
    "#### The transgenic line determines which neurons are labeled in a given mouse, and what they are labeled with"
   ]
  },
  {
   "cell_type": "code",
   "execution_count": 10,
   "metadata": {
    "pycharm": {
     "name": "#%%\n"
    }
   },
   "outputs": [
    {
     "name": "stdout",
     "output_type": "stream",
     "text": [
      "the different transgenic lines included in this dataset are:\n",
      "\n",
      "['Slc17a7-IRES2-Cre/wt;Camk2a-tTA/wt;Ai93(TITL-GCaMP6f)/wt'\n",
      " 'Slc17a7-IRES2-Cre/wt;Camk2a-tTA/wt;Ai94(TITL-GCaMP6s)/wt'\n",
      " 'Sst-IRES-Cre/wt;Ai148(TIT2L-GC6f-ICL-tTA2)/wt'\n",
      " 'Vip-IRES-Cre/wt;Ai148(TIT2L-GC6f-ICL-tTA2)/wt']\n"
     ]
    }
   ],
   "source": [
    "print('the different transgenic lines included in this dataset are:\\n')\n",
    "print(np.sort(behavior_sessions.full_genotype.unique()))"
   ]
  },
  {
   "cell_type": "markdown",
   "metadata": {
    "pycharm": {
     "name": "#%% md\n"
    }
   },
   "source": [
    "`full_genotype` refers to the full name of the transgenic mouse line, including all driver and reporter lines in the cross. `driver_line` and `reporter_line` have their own unique columns in the table. The first element of the `full_genotype` is the `cre_line` (which also has its own column in the table, and is a subset of `driver_line`). The `cre_line` determines which genetically identified neuron type will be labeled by the `reporter_line`. "
   ]
  },
  {
   "cell_type": "code",
   "execution_count": 11,
   "metadata": {
    "pycharm": {
     "name": "#%%\n"
    }
   },
   "outputs": [
    {
     "name": "stdout",
     "output_type": "stream",
     "text": [
      "the different cre lines used in this dataset are:\n",
      "\n",
      "['Slc17a7-IRES2-Cre' 'Sst-IRES-Cre' 'Vip-IRES-Cre']\n"
     ]
    }
   ],
   "source": [
    "print('the different cre lines used in this dataset are:\\n')\n",
    "print(np.sort(behavior_sessions.cre_line.unique()))"
   ]
  },
  {
   "cell_type": "markdown",
   "metadata": {
    "pycharm": {
     "name": "#%% md\n"
    }
   },
   "source": [
    "<div>\n",
    "<img src=\"https://allensdk.readthedocs.io/en/latest/_static/visual_behavior_2p/cre_lines2.png\" width=\"900\"/>\n",
    "</div>"
   ]
  },
  {
   "cell_type": "markdown",
   "metadata": {
    "pycharm": {
     "name": "#%% md\n"
    }
   },
   "source": [
    "In this dataset, we have 3 `cre_lines`, 'Slc17a7-IRES2-Cre', which labels excitatory neurons across all cortical layers, 'Sst-IRES-Cre' which labels somatostatin expressing inhibitory interneurons, and 'Vip-IRES-Cre', which labels vasoactive intestinal peptide expressing inhibitory interneurons. There are also 3 `reporter_lines`, 'Ai93(TITL-GCaMP6f)' which expresses the genetically encoded calcium indicator GCaMP6f (f is for 'fast', this reporter has fast offset kinetics, but is only moderately sensitive to calcium relative to other sensors) in cre labeled neurons, 'Ai94(TITL-GCaMP6s)' which expresses the indicator GCaMP6s (s is for 'slow', this reporter is very sensitive to calcium but has slow offset kinetics), and 'Ai148(TIT2L-GC6f-ICL-tTA2', which  expresses GCaMP6f using a self-enhancing system to achieve higher expression than other reporter lines (which proved necessary to label inhibitory neurons specifically). The specific `indicator` expressed by each `reporter_line` also has its own column in the table."
   ]
  },
  {
   "cell_type": "code",
   "execution_count": 12,
   "metadata": {
    "pycharm": {
     "name": "#%%\n"
    }
   },
   "outputs": [
    {
     "name": "stdout",
     "output_type": "stream",
     "text": [
      "the different reporter lines used in this dataset are:\n",
      "\n",
      "['Ai148(TIT2L-GC6f-ICL-tTA2)' 'Ai93(TITL-GCaMP6f)' 'Ai94(TITL-GCaMP6s)']\n"
     ]
    }
   ],
   "source": [
    "print('the different reporter lines used in this dataset are:\\n')\n",
    "print(np.sort(behavior_sessions.reporter_line.unique()))"
   ]
  },
  {
   "cell_type": "code",
   "execution_count": 13,
   "metadata": {
    "pycharm": {
     "name": "#%%\n"
    }
   },
   "outputs": [
    {
     "name": "stdout",
     "output_type": "stream",
     "text": [
      "the different indicators used in this dataset are:\n",
      "\n",
      "['GCaMP6f' 'GCaMP6s']\n"
     ]
    }
   ],
   "source": [
    "print('the different indicators used in this dataset are:\\n')\n",
    "print(np.sort(behavior_sessions.indicator.unique()))"
   ]
  },
  {
   "cell_type": "markdown",
   "metadata": {
    "pycharm": {
     "name": "#%% md\n"
    }
   },
   "source": [
    "* For more information about transgenic lines, see characterization data here: https://observatory.brain-map.org/visualcoding/transgenic\n",
    "* for more information on GCaMP6, see this paper: https://www.nature.com/articles/nature12354\n",
    "* For more information on reporter lines, see these papers: https://doi.org/10.1016/j.neuron.2015.02.022, https://www.sciencedirect.com/science/article/pii/S0092867418308031"
   ]
  },
  {
   "cell_type": "markdown",
   "metadata": {
    "pycharm": {
     "name": "#%% md\n"
    }
   },
   "source": [
    "#### how many mice per transgenic line?"
   ]
  },
  {
   "cell_type": "code",
   "execution_count": 14,
   "metadata": {
    "pycharm": {
     "name": "#%%\n"
    }
   },
   "outputs": [
    {
     "data": {
      "text/html": [
       "<div>\n",
       "<style scoped>\n",
       "    .dataframe tbody tr th:only-of-type {\n",
       "        vertical-align: middle;\n",
       "    }\n",
       "\n",
       "    .dataframe tbody tr th {\n",
       "        vertical-align: top;\n",
       "    }\n",
       "\n",
       "    .dataframe thead th {\n",
       "        text-align: right;\n",
       "    }\n",
       "</style>\n",
       "<table border=\"1\" class=\"dataframe\">\n",
       "  <thead>\n",
       "    <tr style=\"text-align: right;\">\n",
       "      <th></th>\n",
       "      <th>mouse_id</th>\n",
       "    </tr>\n",
       "    <tr>\n",
       "      <th>full_genotype</th>\n",
       "      <th></th>\n",
       "    </tr>\n",
       "  </thead>\n",
       "  <tbody>\n",
       "    <tr>\n",
       "      <th>Slc17a7-IRES2-Cre/wt;Camk2a-tTA/wt;Ai93(TITL-GCaMP6f)/wt</th>\n",
       "      <td>47</td>\n",
       "    </tr>\n",
       "    <tr>\n",
       "      <th>Slc17a7-IRES2-Cre/wt;Camk2a-tTA/wt;Ai94(TITL-GCaMP6s)/wt</th>\n",
       "      <td>8</td>\n",
       "    </tr>\n",
       "    <tr>\n",
       "      <th>Sst-IRES-Cre/wt;Ai148(TIT2L-GC6f-ICL-tTA2)/wt</th>\n",
       "      <td>24</td>\n",
       "    </tr>\n",
       "    <tr>\n",
       "      <th>Vip-IRES-Cre/wt;Ai148(TIT2L-GC6f-ICL-tTA2)/wt</th>\n",
       "      <td>28</td>\n",
       "    </tr>\n",
       "  </tbody>\n",
       "</table>\n",
       "</div>"
      ],
      "text/plain": [
       "                                                    mouse_id\n",
       "full_genotype                                               \n",
       "Slc17a7-IRES2-Cre/wt;Camk2a-tTA/wt;Ai93(TITL-GC...        47\n",
       "Slc17a7-IRES2-Cre/wt;Camk2a-tTA/wt;Ai94(TITL-GC...         8\n",
       "Sst-IRES-Cre/wt;Ai148(TIT2L-GC6f-ICL-tTA2)/wt             24\n",
       "Vip-IRES-Cre/wt;Ai148(TIT2L-GC6f-ICL-tTA2)/wt             28"
      ]
     },
     "execution_count": 14,
     "metadata": {},
     "output_type": "execute_result"
    }
   ],
   "source": [
    "behavior_sessions.groupby(['full_genotype', 'mouse_id']).count().reset_index().groupby('full_genotype').count()[['mouse_id']]"
   ]
  },
  {
   "cell_type": "markdown",
   "metadata": {
    "pycharm": {
     "name": "#%% md\n"
    }
   },
   "source": [
    "Other mouse specific metadata includes `sex` and `age_in_days`"
   ]
  },
  {
   "cell_type": "markdown",
   "metadata": {
    "pycharm": {
     "name": "#%% md\n"
    }
   },
   "source": [
    "## Session Type - a very important piece of information"
   ]
  },
  {
   "cell_type": "markdown",
   "metadata": {
    "pycharm": {
     "name": "#%% md\n"
    }
   },
   "source": [
    "The `session_type` for each behavior session indicates the behavioral training stage or 2-photon imaging conditions for that particular session. This determines what stimuli were shown and what task parameters were used.  "
   ]
  },
  {
   "cell_type": "code",
   "execution_count": 15,
   "metadata": {
    "pycharm": {
     "name": "#%%\n"
    }
   },
   "outputs": [
    {
     "name": "stdout",
     "output_type": "stream",
     "text": [
      "the session_types available in this dataset are:\n",
      "\n",
      "['OPHYS_0_images_A_habituation' 'OPHYS_0_images_B_habituation'\n",
      " 'OPHYS_0_images_G_habituation' 'OPHYS_1_images_A' 'OPHYS_1_images_B'\n",
      " 'OPHYS_1_images_G' 'OPHYS_2_images_A_passive' 'OPHYS_2_images_B_passive'\n",
      " 'OPHYS_2_images_G_passive' 'OPHYS_3_images_A' 'OPHYS_3_images_B'\n",
      " 'OPHYS_3_images_G' 'OPHYS_4_images_A' 'OPHYS_4_images_B'\n",
      " 'OPHYS_4_images_H' 'OPHYS_5_images_A_passive' 'OPHYS_5_images_B_passive'\n",
      " 'OPHYS_5_images_H_passive' 'OPHYS_6_images_A' 'OPHYS_6_images_B'\n",
      " 'OPHYS_6_images_H' 'TRAINING_0_gratings_autorewards_15min'\n",
      " 'TRAINING_1_gratings' 'TRAINING_2_gratings_flashed'\n",
      " 'TRAINING_3_images_A_10uL_reward' 'TRAINING_3_images_B_10uL_reward'\n",
      " 'TRAINING_3_images_G_10uL_reward' 'TRAINING_4_images_A_handoff_lapsed'\n",
      " 'TRAINING_4_images_A_handoff_ready' 'TRAINING_4_images_A_training'\n",
      " 'TRAINING_4_images_B_training' 'TRAINING_4_images_G_training'\n",
      " 'TRAINING_5_images_A_epilogue' 'TRAINING_5_images_A_handoff_lapsed'\n",
      " 'TRAINING_5_images_A_handoff_ready' 'TRAINING_5_images_B_epilogue'\n",
      " 'TRAINING_5_images_B_handoff_lapsed' 'TRAINING_5_images_B_handoff_ready'\n",
      " 'TRAINING_5_images_G_epilogue' 'TRAINING_5_images_G_handoff_lapsed'\n",
      " 'TRAINING_5_images_G_handoff_ready']\n"
     ]
    }
   ],
   "source": [
    "print('the session_types available in this dataset are:\\n')\n",
    "print(np.sort(behavior_sessions.session_type[\n",
    "                  ~behavior_sessions.session_type.isna()].unique()))"
   ]
  },
  {
   "cell_type": "markdown",
   "metadata": {
    "pycharm": {
     "name": "#%% md\n"
    }
   },
   "source": [
    "Mice are progressed through a series of training stages to shape their behavior prior to 2-photon imaging. Mice are automatically advanced between stages depending on their behavioral performance. For a detailed description of the change detection task and advancement criteria, please see the technical whitepaper: LINK"
   ]
  },
  {
   "cell_type": "markdown",
   "metadata": {
    "pycharm": {
     "name": "#%% md\n"
    }
   },
   "source": [
    "<div>\n",
    "<img src=\"https://allensdk.readthedocs.io/en/latest/_static/visual_behavior_2p/automated_training.png\" width=\"900\"/>\n",
    "</div>"
   ]
  },
  {
   "cell_type": "markdown",
   "metadata": {
    "pycharm": {
     "name": "#%% md\n"
    }
   },
   "source": [
    "Training with the change detection task begins with simple static grating stimuli, changing between 0 and 90 degrees in orientation. On the very first day, mice are automatically given a water reward when the orientation of the stimulus changes (`TRAINING_0_gratings_autorewards_15min`). On subsequent days, mice must lick following the change in order to receive a water reward (`TRAINING_1_gratings`). In the next stage, stimuli are flashed, with a 500ms inter stimulus interal of mean luminance gray screen (`TRAINING_2_gratings_flashed`). "
   ]
  },
  {
   "cell_type": "markdown",
   "metadata": {
    "pycharm": {
     "name": "#%% md\n"
    }
   },
   "source": [
    "Once mice perform the task well with gratings, they are transitioned to natural image stimuli. Different groups of mice are trained with different sets of images, image set A or image set B (described further below). In the following description, we use `X` as a placeholder for image set `A` or `B` in the `session_type` name. Training with images begins with a 10ul water reward volume (`TRAINING_3_images_X_10uL_reward`), which is then decreased to 7ul once mice perform the task consistently with images (`TRAINING_4_images_X_training`). When mice have reached criterion to be transferred to the 2-photon imaging portion of the experiment, they are labeled as 'handoff_ready' (`TRAINING_4_images_X_handoff_ready`.) If behavior performance returns to below criterion level, they are labeled as 'handoff_lapsed'(`TRAINING_4_images_X_handoff_lapsed`). "
   ]
  },
  {
   "cell_type": "code",
   "execution_count": 16,
   "metadata": {
    "pycharm": {
     "name": "#%%\n"
    }
   },
   "outputs": [
    {
     "name": "stdout",
     "output_type": "stream",
     "text": [
      "the different session_types available in this dataset are:\n",
      "\n",
      "['OPHYS_0_images_A_habituation' 'OPHYS_0_images_B_habituation'\n",
      " 'OPHYS_0_images_G_habituation' 'OPHYS_1_images_A' 'OPHYS_1_images_B'\n",
      " 'OPHYS_1_images_G' 'OPHYS_2_images_A_passive' 'OPHYS_2_images_B_passive'\n",
      " 'OPHYS_2_images_G_passive' 'OPHYS_3_images_A' 'OPHYS_3_images_B'\n",
      " 'OPHYS_3_images_G' 'OPHYS_4_images_A' 'OPHYS_4_images_B'\n",
      " 'OPHYS_4_images_H' 'OPHYS_5_images_A_passive' 'OPHYS_5_images_B_passive'\n",
      " 'OPHYS_5_images_H_passive' 'OPHYS_6_images_A' 'OPHYS_6_images_B'\n",
      " 'OPHYS_6_images_H' 'TRAINING_0_gratings_autorewards_15min'\n",
      " 'TRAINING_1_gratings' 'TRAINING_2_gratings_flashed'\n",
      " 'TRAINING_3_images_A_10uL_reward' 'TRAINING_3_images_B_10uL_reward'\n",
      " 'TRAINING_3_images_G_10uL_reward' 'TRAINING_4_images_A_handoff_lapsed'\n",
      " 'TRAINING_4_images_A_handoff_ready' 'TRAINING_4_images_A_training'\n",
      " 'TRAINING_4_images_B_training' 'TRAINING_4_images_G_training'\n",
      " 'TRAINING_5_images_A_epilogue' 'TRAINING_5_images_A_handoff_lapsed'\n",
      " 'TRAINING_5_images_A_handoff_ready' 'TRAINING_5_images_B_epilogue'\n",
      " 'TRAINING_5_images_B_handoff_lapsed' 'TRAINING_5_images_B_handoff_ready'\n",
      " 'TRAINING_5_images_G_epilogue' 'TRAINING_5_images_G_handoff_lapsed'\n",
      " 'TRAINING_5_images_G_handoff_ready']\n"
     ]
    }
   ],
   "source": [
    "# reminder about possible session types \n",
    "print('the different session_types available in this dataset are:\\n')\n",
    "print(np.sort(behavior_sessions.session_type[\n",
    "                  ~behavior_sessions.session_type.isna()].unique()))"
   ]
  },
  {
   "cell_type": "markdown",
   "metadata": {
    "pycharm": {
     "name": "#%% md\n"
    }
   },
   "source": [
    " You will notice that some mice only go up to `TRAINING_4`, while others have the final training stage labeled `TRAINING_5`. This is due to a minor change made partway through data collection, where an `epilogue` stimulus was introduced during the final training stage prior to 2-photon imaging in order to habituate the mice to this stimulus, which is used during 2-photon imaging to aid in session to session registration. The `epilogue` is a 30 minute movie clip repeated 10 times, for a total of 5 minutes, and occurs at the end of the 60 minute behavioral session, followed by 5 minutes of blank gray screen. Training sessions with an epilogue movie include `TRAINING_5_images_X_epilogue`, `TRAINING_5_images_X_handoff_ready` , `TRAINING_5_images_X_handoff_lapsed`. "
   ]
  },
  {
   "cell_type": "markdown",
   "metadata": {
    "pycharm": {
     "name": "#%% md\n"
    }
   },
   "source": [
    "### `session_types` during 2-photon imaging"
   ]
  },
  {
   "cell_type": "markdown",
   "metadata": {
    "pycharm": {
     "name": "#%% md\n"
    }
   },
   "source": [
    "When mice are transferred to the 2-photon rig for the imaging portion of the experiment, they first undergo 1-3 habituation sessions to get accustomed to the new experimental environment (`OPHYS_0_images_X_habituation`). During these sessions, mice perform the task under the microscope, but no experimental data is recorded. "
   ]
  },
  {
   "cell_type": "markdown",
   "metadata": {
    "pycharm": {
     "name": "#%% md\n"
    }
   },
   "source": [
    "<div>\n",
    "<img src=\"https://allensdk.readthedocs.io/en/latest/_static/visual_behavior_2p/experiment_design.png\" width=\"900\"/>\n",
    "</div>"
   ]
  },
  {
   "cell_type": "markdown",
   "metadata": {
    "pycharm": {
     "name": "#%% md\n"
    }
   },
   "source": [
    "During the 2-photon imaging portion of the experiment, mice perform the task with the same set of images they saw during training (either image set `A` or `B`), as well as an additional novel set of images (whichever of `A` or `B` that they did not see during training). This allows evaluation of the impact of different sensory contexts on neural activity - familiarity versus novelty. Sessions with <b>familiar images</b> include those starting with `OPHYS_0`, `OPHYS_1`, `OPHYS_2`, and `OPHYS_3`. Sessions with <b>novel images</b> include those starting with `OPHYS_4`, `OPHYS_5`, and `OPHYS_6`. "
   ]
  },
  {
   "cell_type": "markdown",
   "metadata": {
    "pycharm": {
     "name": "#%% md\n"
    }
   },
   "source": [
    "Interleaved between active behavior sessions are <b>passive viewing</b> sessions where mice are given their daily water ahead of the sesssion (and are thus satiated) and view the stimulus with the lick spout retracted so they are unable to earn water rewards. This allows comparison of neural activity in response to stimuli under different behavioral context - active task engagement and passive viewing without reward. Passive sessions include `OPHYS_2_images_A_passive` (passive session with familiar images), and `OPHYS_5_images_A_passive` (passive session with novel images)."
   ]
  },
  {
   "cell_type": "markdown",
   "metadata": {
    "pycharm": {
     "name": "#%% md\n"
    }
   },
   "source": [
    "The final session during the 2-photon imaging phase is `OPHYS_7_receptive_field_mapping`, however 2-photon data is not available for these sessions in this data release (but will be made available in a subsequent release)."
   ]
  },
  {
   "cell_type": "markdown",
   "metadata": {
    "pycharm": {
     "name": "#%% md\n"
    }
   },
   "source": [
    "## Dataset variants - different mice were subject to different experimental conditions"
   ]
  },
  {
   "cell_type": "markdown",
   "metadata": {
    "pycharm": {
     "name": "#%% md\n"
    }
   },
   "source": [
    "As hinted to above, some mice were trained with image set A, and others with image set B. Including these two groups of mice, with swapped stimulus conditions, was included in the dataset as a control for the effects of novelty, to ensure that any observed changes were truly due to lack of familiarity with the novel image set, rather than a result of specific features of the image set that was used. In addition, some mice were imaged on the Scientifica single plane imaging systems, and other mice were imaged on Multiscope for multi-plane imaging. These distinct groups of mice are referred to as <b>dataset variants</b> and can be identified using the `project_code` column"
   ]
  },
  {
   "cell_type": "markdown",
   "metadata": {
    "pycharm": {
     "name": "#%% md\n"
    }
   },
   "source": [
    "<div>\n",
    "<img src=\"https://allensdk.readthedocs.io/en/latest/_static/visual_behavior_2p/datasets.png\" width=\"900\"/>\n",
    "</div>"
   ]
  },
  {
   "cell_type": "markdown",
   "metadata": {
    "pycharm": {
     "name": "#%% md\n"
    }
   },
   "source": [
    "Project_code is only defined for ophys sessions, for technical reasons, so let's fill in the gaps so that all mice have a project_code"
   ]
  },
  {
   "cell_type": "code",
   "execution_count": 17,
   "metadata": {
    "pycharm": {
     "name": "#%%\n"
    }
   },
   "outputs": [
    {
     "data": {
      "text/html": [
       "<div>\n",
       "<style scoped>\n",
       "    .dataframe tbody tr th:only-of-type {\n",
       "        vertical-align: middle;\n",
       "    }\n",
       "\n",
       "    .dataframe tbody tr th {\n",
       "        vertical-align: top;\n",
       "    }\n",
       "\n",
       "    .dataframe thead th {\n",
       "        text-align: right;\n",
       "    }\n",
       "</style>\n",
       "<table border=\"1\" class=\"dataframe\">\n",
       "  <thead>\n",
       "    <tr style=\"text-align: right;\">\n",
       "      <th></th>\n",
       "      <th>mouse_id</th>\n",
       "      <th>project_code</th>\n",
       "    </tr>\n",
       "  </thead>\n",
       "  <tbody>\n",
       "    <tr>\n",
       "      <th>0</th>\n",
       "      <td>457841</td>\n",
       "      <td>VisualBehaviorMultiscope</td>\n",
       "    </tr>\n",
       "    <tr>\n",
       "      <th>8</th>\n",
       "      <td>476970</td>\n",
       "      <td>VisualBehaviorTask1B</td>\n",
       "    </tr>\n",
       "    <tr>\n",
       "      <th>16</th>\n",
       "      <td>412036</td>\n",
       "      <td>VisualBehavior</td>\n",
       "    </tr>\n",
       "    <tr>\n",
       "      <th>22</th>\n",
       "      <td>429952</td>\n",
       "      <td>VisualBehavior</td>\n",
       "    </tr>\n",
       "    <tr>\n",
       "      <th>29</th>\n",
       "      <td>449441</td>\n",
       "      <td>VisualBehavior</td>\n",
       "    </tr>\n",
       "    <tr>\n",
       "      <th>...</th>\n",
       "      <td>...</td>\n",
       "      <td>...</td>\n",
       "    </tr>\n",
       "    <tr>\n",
       "      <th>671</th>\n",
       "      <td>550603</td>\n",
       "      <td>VisualBehaviorMultiscope4areasx2d</td>\n",
       "    </tr>\n",
       "    <tr>\n",
       "      <th>677</th>\n",
       "      <td>547266</td>\n",
       "      <td>VisualBehaviorMultiscope</td>\n",
       "    </tr>\n",
       "    <tr>\n",
       "      <th>683</th>\n",
       "      <td>533162</td>\n",
       "      <td>VisualBehaviorTask1B</td>\n",
       "    </tr>\n",
       "    <tr>\n",
       "      <th>689</th>\n",
       "      <td>467954</td>\n",
       "      <td>VisualBehaviorTask1B</td>\n",
       "    </tr>\n",
       "    <tr>\n",
       "      <th>696</th>\n",
       "      <td>468866</td>\n",
       "      <td>VisualBehavior</td>\n",
       "    </tr>\n",
       "  </tbody>\n",
       "</table>\n",
       "<p>107 rows × 2 columns</p>\n",
       "</div>"
      ],
      "text/plain": [
       "    mouse_id                       project_code\n",
       "0     457841           VisualBehaviorMultiscope\n",
       "8     476970               VisualBehaviorTask1B\n",
       "16    412036                     VisualBehavior\n",
       "22    429952                     VisualBehavior\n",
       "29    449441                     VisualBehavior\n",
       "..       ...                                ...\n",
       "671   550603  VisualBehaviorMultiscope4areasx2d\n",
       "677   547266           VisualBehaviorMultiscope\n",
       "683   533162               VisualBehaviorTask1B\n",
       "689   467954               VisualBehaviorTask1B\n",
       "696   468866                     VisualBehavior\n",
       "\n",
       "[107 rows x 2 columns]"
      ]
     },
     "execution_count": 17,
     "metadata": {},
     "output_type": "execute_result"
    }
   ],
   "source": [
    "# get a table of the project code for each mouse\n",
    "project_code_lookup = behavior_sessions[behavior_sessions.project_code.isnull()==False].reset_index().drop_duplicates('mouse_id')[['mouse_id','project_code']]\n",
    "project_code_lookup"
   ]
  },
  {
   "cell_type": "code",
   "execution_count": 18,
   "metadata": {
    "pycharm": {
     "name": "#%%\n"
    }
   },
   "outputs": [],
   "source": [
    "behavior_sessions = behavior_sessions.merge(project_code_lookup, on='mouse_id',\n",
    "                                            how='left', suffixes=('_session', '_mouse'))\n",
    "behavior_sessions = behavior_sessions.drop(columns='project_code_session')\n",
    "behavior_sessions = behavior_sessions.rename(columns={'project_code_mouse': 'project_code'})"
   ]
  },
  {
   "cell_type": "markdown",
   "metadata": {
    "pycharm": {
     "name": "#%% md\n"
    }
   },
   "source": [
    "#### What `project_codes` are available? What  `session_types` belong to each? "
   ]
  },
  {
   "cell_type": "code",
   "execution_count": 19,
   "metadata": {
    "pycharm": {
     "name": "#%%\n"
    }
   },
   "outputs": [
    {
     "data": {
      "text/plain": [
       "array(['VisualBehaviorMultiscope', 'VisualBehaviorTask1B',\n",
       "       'VisualBehavior', 'VisualBehaviorMultiscope4areasx2d'],\n",
       "      dtype=object)"
      ]
     },
     "execution_count": 19,
     "metadata": {},
     "output_type": "execute_result"
    }
   ],
   "source": [
    "behavior_sessions.project_code.unique()"
   ]
  },
  {
   "cell_type": "code",
   "execution_count": 20,
   "metadata": {
    "pycharm": {
     "name": "#%%\n"
    }
   },
   "outputs": [
    {
     "name": "stdout",
     "output_type": "stream",
     "text": [
      "\n",
      " project_code: VisualBehaviorMultiscope\n",
      "\n",
      " has these session types:\n",
      " ['OPHYS_0_images_A_habituation' 'OPHYS_1_images_A'\n",
      " 'OPHYS_2_images_A_passive' 'OPHYS_2_images_B_passive' 'OPHYS_3_images_A'\n",
      " 'OPHYS_3_images_B' 'OPHYS_4_images_B' 'OPHYS_5_images_A_passive'\n",
      " 'OPHYS_5_images_B_passive' 'OPHYS_6_images_A' 'OPHYS_6_images_B'\n",
      " 'TRAINING_0_gratings_autorewards_15min' 'TRAINING_1_gratings'\n",
      " 'TRAINING_2_gratings_flashed' 'TRAINING_3_images_A_10uL_reward'\n",
      " 'TRAINING_4_images_A_training' 'TRAINING_5_images_A_epilogue'\n",
      " 'TRAINING_5_images_A_handoff_lapsed' 'TRAINING_5_images_A_handoff_ready']\n",
      "\n",
      "\n",
      "\n",
      " project_code: VisualBehaviorTask1B\n",
      "\n",
      " has these session types:\n",
      " ['OPHYS_0_images_A_habituation' 'OPHYS_0_images_B_habituation'\n",
      " 'OPHYS_1_images_B' 'OPHYS_2_images_B_passive' 'OPHYS_3_images_B'\n",
      " 'OPHYS_4_images_A' 'OPHYS_4_images_B' 'OPHYS_5_images_A_passive'\n",
      " 'OPHYS_6_images_A' 'TRAINING_0_gratings_autorewards_15min'\n",
      " 'TRAINING_1_gratings' 'TRAINING_2_gratings_flashed'\n",
      " 'TRAINING_3_images_B_10uL_reward' 'TRAINING_4_images_B_training'\n",
      " 'TRAINING_5_images_B_epilogue' 'TRAINING_5_images_B_handoff_lapsed'\n",
      " 'TRAINING_5_images_B_handoff_ready']\n",
      "\n",
      "\n",
      "\n",
      " project_code: VisualBehavior\n",
      "\n",
      " has these session types:\n",
      " ['OPHYS_0_images_A_habituation' 'OPHYS_1_images_A'\n",
      " 'OPHYS_2_images_A_passive' 'OPHYS_3_images_A' 'OPHYS_4_images_B'\n",
      " 'OPHYS_5_images_B_passive' 'OPHYS_6_images_B'\n",
      " 'TRAINING_0_gratings_autorewards_15min' 'TRAINING_1_gratings'\n",
      " 'TRAINING_2_gratings_flashed' 'TRAINING_3_images_A_10uL_reward'\n",
      " 'TRAINING_4_images_A_handoff_lapsed' 'TRAINING_4_images_A_handoff_ready'\n",
      " 'TRAINING_4_images_A_training' 'TRAINING_5_images_A_epilogue'\n",
      " 'TRAINING_5_images_A_handoff_lapsed' 'TRAINING_5_images_A_handoff_ready']\n",
      "\n",
      "\n",
      "\n",
      " project_code: VisualBehaviorMultiscope4areasx2d\n",
      "\n",
      " has these session types:\n",
      " ['OPHYS_0_images_G_habituation' 'OPHYS_1_images_G'\n",
      " 'OPHYS_2_images_G_passive' 'OPHYS_3_images_G' 'OPHYS_4_images_H'\n",
      " 'OPHYS_5_images_H_passive' 'OPHYS_6_images_H'\n",
      " 'TRAINING_0_gratings_autorewards_15min' 'TRAINING_1_gratings'\n",
      " 'TRAINING_2_gratings_flashed' 'TRAINING_3_images_G_10uL_reward'\n",
      " 'TRAINING_4_images_G_training' 'TRAINING_5_images_G_epilogue'\n",
      " 'TRAINING_5_images_G_handoff_lapsed' 'TRAINING_5_images_G_handoff_ready']\n",
      "\n",
      "\n"
     ]
    }
   ],
   "source": [
    "for project_code in behavior_sessions.project_code.unique(): \n",
    "    project_sessions = behavior_sessions[behavior_sessions.project_code==project_code]\n",
    "    print('\\n project_code:', project_code)\n",
    "    print('\\n has these session types:\\n', np.sort(\n",
    "        project_sessions.session_type[~project_sessions.session_type.isna()].unique()))\n",
    "    print('\\n')"
   ]
  },
  {
   "cell_type": "markdown",
   "metadata": {
    "pycharm": {
     "name": "#%% md\n"
    }
   },
   "source": [
    "Notice that for `project_codes` `VisualBehavior` and `VisualBehaviorMultiscope`, mice are trained on image set A, while for `VisualBehaviorTask1B`, mice are trained on image set B"
   ]
  },
  {
   "cell_type": "code",
   "execution_count": null,
   "metadata": {
    "pycharm": {
     "name": "#%%\n"
    }
   },
   "outputs": [],
   "source": []
  },
  {
   "cell_type": "markdown",
   "metadata": {
    "pycharm": {
     "name": "#%% md\n"
    }
   },
   "source": [
    "## Ophys Sessions Table"
   ]
  },
  {
   "cell_type": "markdown",
   "metadata": {
    "pycharm": {
     "name": "#%% md\n"
    }
   },
   "source": [
    "The `ophys_session_table` includes all of the metadata columns available in the `behavior_session_table`, as well as additional information specific to 2-photon imaging, namely the list of `ophys_experiment_ids` and `ophys_container_ids` associated with each `ophys_session_id`. "
   ]
  },
  {
   "cell_type": "code",
   "execution_count": 21,
   "metadata": {
    "pycharm": {
     "name": "#%%\n"
    }
   },
   "outputs": [
    {
     "name": "stdout",
     "output_type": "stream",
     "text": [
      "Total number of ophys sessions: 705\n",
      "\n",
      "Index(['equipment_name', 'full_genotype', 'mouse_id', 'reporter_line',\n",
      "       'driver_line', 'sex', 'age_in_days', 'cre_line', 'indicator',\n",
      "       'session_number', 'prior_exposures_to_session_type',\n",
      "       'prior_exposures_to_image_set', 'prior_exposures_to_omissions',\n",
      "       'behavior_session_id', 'ophys_experiment_id', 'ophys_container_id',\n",
      "       'project_code', 'date_of_acquisition', 'session_type'],\n",
      "      dtype='object')\n"
     ]
    },
    {
     "data": {
      "text/html": [
       "<div>\n",
       "<style scoped>\n",
       "    .dataframe tbody tr th:only-of-type {\n",
       "        vertical-align: middle;\n",
       "    }\n",
       "\n",
       "    .dataframe tbody tr th {\n",
       "        vertical-align: top;\n",
       "    }\n",
       "\n",
       "    .dataframe thead th {\n",
       "        text-align: right;\n",
       "    }\n",
       "</style>\n",
       "<table border=\"1\" class=\"dataframe\">\n",
       "  <thead>\n",
       "    <tr style=\"text-align: right;\">\n",
       "      <th></th>\n",
       "      <th>equipment_name</th>\n",
       "      <th>full_genotype</th>\n",
       "      <th>mouse_id</th>\n",
       "      <th>reporter_line</th>\n",
       "      <th>driver_line</th>\n",
       "      <th>sex</th>\n",
       "      <th>age_in_days</th>\n",
       "      <th>cre_line</th>\n",
       "      <th>indicator</th>\n",
       "      <th>session_number</th>\n",
       "      <th>prior_exposures_to_session_type</th>\n",
       "      <th>prior_exposures_to_image_set</th>\n",
       "      <th>prior_exposures_to_omissions</th>\n",
       "      <th>behavior_session_id</th>\n",
       "      <th>ophys_experiment_id</th>\n",
       "      <th>ophys_container_id</th>\n",
       "      <th>project_code</th>\n",
       "      <th>date_of_acquisition</th>\n",
       "      <th>session_type</th>\n",
       "    </tr>\n",
       "    <tr>\n",
       "      <th>ophys_session_id</th>\n",
       "      <th></th>\n",
       "      <th></th>\n",
       "      <th></th>\n",
       "      <th></th>\n",
       "      <th></th>\n",
       "      <th></th>\n",
       "      <th></th>\n",
       "      <th></th>\n",
       "      <th></th>\n",
       "      <th></th>\n",
       "      <th></th>\n",
       "      <th></th>\n",
       "      <th></th>\n",
       "      <th></th>\n",
       "      <th></th>\n",
       "      <th></th>\n",
       "      <th></th>\n",
       "      <th></th>\n",
       "      <th></th>\n",
       "    </tr>\n",
       "  </thead>\n",
       "  <tbody>\n",
       "    <tr>\n",
       "      <th>951410079</th>\n",
       "      <td>MESO.1</td>\n",
       "      <td>Sst-IRES-Cre/wt;Ai148(TIT2L-GC6f-ICL-tTA2)/wt</td>\n",
       "      <td>457841</td>\n",
       "      <td>Ai148(TIT2L-GC6f-ICL-tTA2)</td>\n",
       "      <td>[Sst-IRES-Cre]</td>\n",
       "      <td>F</td>\n",
       "      <td>206.0</td>\n",
       "      <td>Sst-IRES-Cre</td>\n",
       "      <td>GCaMP6f</td>\n",
       "      <td>1.0</td>\n",
       "      <td>0.0</td>\n",
       "      <td>65.0</td>\n",
       "      <td>0.0</td>\n",
       "      <td>951520319</td>\n",
       "      <td>[951980471, 951980473, 951980475, 951980479, 9...</td>\n",
       "      <td>[1018028360, 1018028345, 1018028357, 101802834...</td>\n",
       "      <td>VisualBehaviorMultiscope</td>\n",
       "      <td>2019-09-20 09:45:29.897856</td>\n",
       "      <td>OPHYS_1_images_A</td>\n",
       "    </tr>\n",
       "    <tr>\n",
       "      <th>952430817</th>\n",
       "      <td>MESO.1</td>\n",
       "      <td>Sst-IRES-Cre/wt;Ai148(TIT2L-GC6f-ICL-tTA2)/wt</td>\n",
       "      <td>457841</td>\n",
       "      <td>Ai148(TIT2L-GC6f-ICL-tTA2)</td>\n",
       "      <td>[Sst-IRES-Cre]</td>\n",
       "      <td>F</td>\n",
       "      <td>209.0</td>\n",
       "      <td>Sst-IRES-Cre</td>\n",
       "      <td>GCaMP6f</td>\n",
       "      <td>2.0</td>\n",
       "      <td>0.0</td>\n",
       "      <td>66.0</td>\n",
       "      <td>1.0</td>\n",
       "      <td>952554548</td>\n",
       "      <td>[953659743, 953659745, 953659749, 953659752]</td>\n",
       "      <td>[1018028357, 1018028345, 1018028339, 1018028354]</td>\n",
       "      <td>VisualBehaviorMultiscope</td>\n",
       "      <td>2019-09-23 08:13:07.627573</td>\n",
       "      <td>OPHYS_2_images_A_passive</td>\n",
       "    </tr>\n",
       "    <tr>\n",
       "      <th>954954402</th>\n",
       "      <td>MESO.1</td>\n",
       "      <td>Sst-IRES-Cre/wt;Ai148(TIT2L-GC6f-ICL-tTA2)/wt</td>\n",
       "      <td>457841</td>\n",
       "      <td>Ai148(TIT2L-GC6f-ICL-tTA2)</td>\n",
       "      <td>[Sst-IRES-Cre]</td>\n",
       "      <td>F</td>\n",
       "      <td>210.0</td>\n",
       "      <td>Sst-IRES-Cre</td>\n",
       "      <td>GCaMP6f</td>\n",
       "      <td>3.0</td>\n",
       "      <td>0.0</td>\n",
       "      <td>67.0</td>\n",
       "      <td>2.0</td>\n",
       "      <td>953982960</td>\n",
       "      <td>[958527464, 958527471, 958527474, 958527479, 9...</td>\n",
       "      <td>[1018028360, 1018028342, 1018028357, 101802835...</td>\n",
       "      <td>VisualBehaviorMultiscope</td>\n",
       "      <td>2019-09-24 16:00:00.000000</td>\n",
       "      <td>OPHYS_3_images_A</td>\n",
       "    </tr>\n",
       "    <tr>\n",
       "      <th>955775716</th>\n",
       "      <td>MESO.1</td>\n",
       "      <td>Sst-IRES-Cre/wt;Ai148(TIT2L-GC6f-ICL-tTA2)/wt</td>\n",
       "      <td>457841</td>\n",
       "      <td>Ai148(TIT2L-GC6f-ICL-tTA2)</td>\n",
       "      <td>[Sst-IRES-Cre]</td>\n",
       "      <td>F</td>\n",
       "      <td>212.0</td>\n",
       "      <td>Sst-IRES-Cre</td>\n",
       "      <td>GCaMP6f</td>\n",
       "      <td>3.0</td>\n",
       "      <td>1.0</td>\n",
       "      <td>68.0</td>\n",
       "      <td>3.0</td>\n",
       "      <td>956010809</td>\n",
       "      <td>[956941841, 956941844, 956941846]</td>\n",
       "      <td>[1018028342, 1018028339, 1018028345]</td>\n",
       "      <td>VisualBehaviorMultiscope</td>\n",
       "      <td>2019-09-26 08:44:37.199778</td>\n",
       "      <td>OPHYS_3_images_A</td>\n",
       "    </tr>\n",
       "    <tr>\n",
       "      <th>957020350</th>\n",
       "      <td>MESO.1</td>\n",
       "      <td>Sst-IRES-Cre/wt;Ai148(TIT2L-GC6f-ICL-tTA2)/wt</td>\n",
       "      <td>457841</td>\n",
       "      <td>Ai148(TIT2L-GC6f-ICL-tTA2)</td>\n",
       "      <td>[Sst-IRES-Cre]</td>\n",
       "      <td>F</td>\n",
       "      <td>213.0</td>\n",
       "      <td>Sst-IRES-Cre</td>\n",
       "      <td>GCaMP6f</td>\n",
       "      <td>4.0</td>\n",
       "      <td>0.0</td>\n",
       "      <td>0.0</td>\n",
       "      <td>4.0</td>\n",
       "      <td>957032492</td>\n",
       "      <td>[957759562, 957759564, 957759566, 957759570, 9...</td>\n",
       "      <td>[1018028354, 1018028345, 1018028360, 101802834...</td>\n",
       "      <td>VisualBehaviorMultiscope</td>\n",
       "      <td>2019-09-27 08:28:05.415005</td>\n",
       "      <td>OPHYS_4_images_B</td>\n",
       "    </tr>\n",
       "  </tbody>\n",
       "</table>\n",
       "</div>"
      ],
      "text/plain": [
       "                 equipment_name  \\\n",
       "ophys_session_id                  \n",
       "951410079                MESO.1   \n",
       "952430817                MESO.1   \n",
       "954954402                MESO.1   \n",
       "955775716                MESO.1   \n",
       "957020350                MESO.1   \n",
       "\n",
       "                                                  full_genotype mouse_id  \\\n",
       "ophys_session_id                                                           \n",
       "951410079         Sst-IRES-Cre/wt;Ai148(TIT2L-GC6f-ICL-tTA2)/wt   457841   \n",
       "952430817         Sst-IRES-Cre/wt;Ai148(TIT2L-GC6f-ICL-tTA2)/wt   457841   \n",
       "954954402         Sst-IRES-Cre/wt;Ai148(TIT2L-GC6f-ICL-tTA2)/wt   457841   \n",
       "955775716         Sst-IRES-Cre/wt;Ai148(TIT2L-GC6f-ICL-tTA2)/wt   457841   \n",
       "957020350         Sst-IRES-Cre/wt;Ai148(TIT2L-GC6f-ICL-tTA2)/wt   457841   \n",
       "\n",
       "                               reporter_line     driver_line sex  age_in_days  \\\n",
       "ophys_session_id                                                                \n",
       "951410079         Ai148(TIT2L-GC6f-ICL-tTA2)  [Sst-IRES-Cre]   F        206.0   \n",
       "952430817         Ai148(TIT2L-GC6f-ICL-tTA2)  [Sst-IRES-Cre]   F        209.0   \n",
       "954954402         Ai148(TIT2L-GC6f-ICL-tTA2)  [Sst-IRES-Cre]   F        210.0   \n",
       "955775716         Ai148(TIT2L-GC6f-ICL-tTA2)  [Sst-IRES-Cre]   F        212.0   \n",
       "957020350         Ai148(TIT2L-GC6f-ICL-tTA2)  [Sst-IRES-Cre]   F        213.0   \n",
       "\n",
       "                      cre_line indicator  session_number  \\\n",
       "ophys_session_id                                           \n",
       "951410079         Sst-IRES-Cre   GCaMP6f             1.0   \n",
       "952430817         Sst-IRES-Cre   GCaMP6f             2.0   \n",
       "954954402         Sst-IRES-Cre   GCaMP6f             3.0   \n",
       "955775716         Sst-IRES-Cre   GCaMP6f             3.0   \n",
       "957020350         Sst-IRES-Cre   GCaMP6f             4.0   \n",
       "\n",
       "                  prior_exposures_to_session_type  \\\n",
       "ophys_session_id                                    \n",
       "951410079                                     0.0   \n",
       "952430817                                     0.0   \n",
       "954954402                                     0.0   \n",
       "955775716                                     1.0   \n",
       "957020350                                     0.0   \n",
       "\n",
       "                  prior_exposures_to_image_set  prior_exposures_to_omissions  \\\n",
       "ophys_session_id                                                               \n",
       "951410079                                 65.0                           0.0   \n",
       "952430817                                 66.0                           1.0   \n",
       "954954402                                 67.0                           2.0   \n",
       "955775716                                 68.0                           3.0   \n",
       "957020350                                  0.0                           4.0   \n",
       "\n",
       "                  behavior_session_id  \\\n",
       "ophys_session_id                        \n",
       "951410079                   951520319   \n",
       "952430817                   952554548   \n",
       "954954402                   953982960   \n",
       "955775716                   956010809   \n",
       "957020350                   957032492   \n",
       "\n",
       "                                                ophys_experiment_id  \\\n",
       "ophys_session_id                                                      \n",
       "951410079         [951980471, 951980473, 951980475, 951980479, 9...   \n",
       "952430817              [953659743, 953659745, 953659749, 953659752]   \n",
       "954954402         [958527464, 958527471, 958527474, 958527479, 9...   \n",
       "955775716                         [956941841, 956941844, 956941846]   \n",
       "957020350         [957759562, 957759564, 957759566, 957759570, 9...   \n",
       "\n",
       "                                                 ophys_container_id  \\\n",
       "ophys_session_id                                                      \n",
       "951410079         [1018028360, 1018028345, 1018028357, 101802834...   \n",
       "952430817          [1018028357, 1018028345, 1018028339, 1018028354]   \n",
       "954954402         [1018028360, 1018028342, 1018028357, 101802835...   \n",
       "955775716                      [1018028342, 1018028339, 1018028345]   \n",
       "957020350         [1018028354, 1018028345, 1018028360, 101802834...   \n",
       "\n",
       "                              project_code        date_of_acquisition  \\\n",
       "ophys_session_id                                                        \n",
       "951410079         VisualBehaviorMultiscope 2019-09-20 09:45:29.897856   \n",
       "952430817         VisualBehaviorMultiscope 2019-09-23 08:13:07.627573   \n",
       "954954402         VisualBehaviorMultiscope 2019-09-24 16:00:00.000000   \n",
       "955775716         VisualBehaviorMultiscope 2019-09-26 08:44:37.199778   \n",
       "957020350         VisualBehaviorMultiscope 2019-09-27 08:28:05.415005   \n",
       "\n",
       "                              session_type  \n",
       "ophys_session_id                            \n",
       "951410079                 OPHYS_1_images_A  \n",
       "952430817         OPHYS_2_images_A_passive  \n",
       "954954402                 OPHYS_3_images_A  \n",
       "955775716                 OPHYS_3_images_A  \n",
       "957020350                 OPHYS_4_images_B  "
      ]
     },
     "execution_count": 21,
     "metadata": {},
     "output_type": "execute_result"
    }
   ],
   "source": [
    "ophys_sessions = cache.get_ophys_session_table()\n",
    "\n",
    "print(f\"Total number of ophys sessions: {len(ophys_sessions)}\\n\")\n",
    "\n",
    "print(ophys_sessions.columns)\n",
    "\n",
    "ophys_sessions.head()"
   ]
  },
  {
   "cell_type": "code",
   "execution_count": 22,
   "metadata": {
    "pycharm": {
     "name": "#%%\n"
    }
   },
   "outputs": [
    {
     "data": {
      "text/html": [
       "<div>\n",
       "<style scoped>\n",
       "    .dataframe tbody tr th:only-of-type {\n",
       "        vertical-align: middle;\n",
       "    }\n",
       "\n",
       "    .dataframe tbody tr th {\n",
       "        vertical-align: top;\n",
       "    }\n",
       "\n",
       "    .dataframe thead th {\n",
       "        text-align: right;\n",
       "    }\n",
       "</style>\n",
       "<table border=\"1\" class=\"dataframe\">\n",
       "  <thead>\n",
       "    <tr style=\"text-align: right;\">\n",
       "      <th></th>\n",
       "      <th>ophys_experiment_id</th>\n",
       "      <th>ophys_container_id</th>\n",
       "      <th>equipment_name</th>\n",
       "    </tr>\n",
       "    <tr>\n",
       "      <th>ophys_session_id</th>\n",
       "      <th></th>\n",
       "      <th></th>\n",
       "      <th></th>\n",
       "    </tr>\n",
       "  </thead>\n",
       "  <tbody>\n",
       "    <tr>\n",
       "      <th>951410079</th>\n",
       "      <td>[951980471, 951980473, 951980475, 951980479, 9...</td>\n",
       "      <td>[1018028360, 1018028345, 1018028357, 101802834...</td>\n",
       "      <td>MESO.1</td>\n",
       "    </tr>\n",
       "    <tr>\n",
       "      <th>952430817</th>\n",
       "      <td>[953659743, 953659745, 953659749, 953659752]</td>\n",
       "      <td>[1018028357, 1018028345, 1018028339, 1018028354]</td>\n",
       "      <td>MESO.1</td>\n",
       "    </tr>\n",
       "    <tr>\n",
       "      <th>954954402</th>\n",
       "      <td>[958527464, 958527471, 958527474, 958527479, 9...</td>\n",
       "      <td>[1018028360, 1018028342, 1018028357, 101802835...</td>\n",
       "      <td>MESO.1</td>\n",
       "    </tr>\n",
       "    <tr>\n",
       "      <th>955775716</th>\n",
       "      <td>[956941841, 956941844, 956941846]</td>\n",
       "      <td>[1018028342, 1018028339, 1018028345]</td>\n",
       "      <td>MESO.1</td>\n",
       "    </tr>\n",
       "    <tr>\n",
       "      <th>957020350</th>\n",
       "      <td>[957759562, 957759564, 957759566, 957759570, 9...</td>\n",
       "      <td>[1018028354, 1018028345, 1018028360, 101802834...</td>\n",
       "      <td>MESO.1</td>\n",
       "    </tr>\n",
       "    <tr>\n",
       "      <th>958105827</th>\n",
       "      <td>[958741219, 958741222, 958741230, 958741232, 9...</td>\n",
       "      <td>[1018028357, 1018028342, 1018028345, 101802835...</td>\n",
       "      <td>MESO.1</td>\n",
       "    </tr>\n",
       "    <tr>\n",
       "      <th>958772311</th>\n",
       "      <td>[959388788, 959388790, 959388792, 959388796, 9...</td>\n",
       "      <td>[1018028354, 1018028345, 1018028351, 101802835...</td>\n",
       "      <td>MESO.1</td>\n",
       "    </tr>\n",
       "    <tr>\n",
       "      <th>959458018</th>\n",
       "      <td>[960410023, 960410026, 960410028, 960410038, 9...</td>\n",
       "      <td>[1018028360, 1018028342, 1018028357, 101802833...</td>\n",
       "      <td>MESO.1</td>\n",
       "    </tr>\n",
       "    <tr>\n",
       "      <th>993727065</th>\n",
       "      <td>[993862620]</td>\n",
       "      <td>[991913453]</td>\n",
       "      <td>CAM2P.4</td>\n",
       "    </tr>\n",
       "    <tr>\n",
       "      <th>993984066</th>\n",
       "      <td>[994053903]</td>\n",
       "      <td>[991913453]</td>\n",
       "      <td>CAM2P.4</td>\n",
       "    </tr>\n",
       "    <tr>\n",
       "      <th>994199725</th>\n",
       "      <td>[994278281]</td>\n",
       "      <td>[991913453]</td>\n",
       "      <td>CAM2P.4</td>\n",
       "    </tr>\n",
       "    <tr>\n",
       "      <th>994731371</th>\n",
       "      <td>[994790561]</td>\n",
       "      <td>[991913453]</td>\n",
       "      <td>CAM2P.4</td>\n",
       "    </tr>\n",
       "    <tr>\n",
       "      <th>994883056</th>\n",
       "      <td>[994955425]</td>\n",
       "      <td>[991913453]</td>\n",
       "      <td>CAM2P.4</td>\n",
       "    </tr>\n",
       "    <tr>\n",
       "      <th>995115654</th>\n",
       "      <td>[995280513]</td>\n",
       "      <td>[991913453]</td>\n",
       "      <td>CAM2P.4</td>\n",
       "    </tr>\n",
       "    <tr>\n",
       "      <th>995359867</th>\n",
       "      <td>[995439942]</td>\n",
       "      <td>[991913453]</td>\n",
       "      <td>CAM2P.4</td>\n",
       "    </tr>\n",
       "  </tbody>\n",
       "</table>\n",
       "</div>"
      ],
      "text/plain": [
       "                                                ophys_experiment_id  \\\n",
       "ophys_session_id                                                      \n",
       "951410079         [951980471, 951980473, 951980475, 951980479, 9...   \n",
       "952430817              [953659743, 953659745, 953659749, 953659752]   \n",
       "954954402         [958527464, 958527471, 958527474, 958527479, 9...   \n",
       "955775716                         [956941841, 956941844, 956941846]   \n",
       "957020350         [957759562, 957759564, 957759566, 957759570, 9...   \n",
       "958105827         [958741219, 958741222, 958741230, 958741232, 9...   \n",
       "958772311         [959388788, 959388790, 959388792, 959388796, 9...   \n",
       "959458018         [960410023, 960410026, 960410028, 960410038, 9...   \n",
       "993727065                                               [993862620]   \n",
       "993984066                                               [994053903]   \n",
       "994199725                                               [994278281]   \n",
       "994731371                                               [994790561]   \n",
       "994883056                                               [994955425]   \n",
       "995115654                                               [995280513]   \n",
       "995359867                                               [995439942]   \n",
       "\n",
       "                                                 ophys_container_id  \\\n",
       "ophys_session_id                                                      \n",
       "951410079         [1018028360, 1018028345, 1018028357, 101802834...   \n",
       "952430817          [1018028357, 1018028345, 1018028339, 1018028354]   \n",
       "954954402         [1018028360, 1018028342, 1018028357, 101802835...   \n",
       "955775716                      [1018028342, 1018028339, 1018028345]   \n",
       "957020350         [1018028354, 1018028345, 1018028360, 101802834...   \n",
       "958105827         [1018028357, 1018028342, 1018028345, 101802835...   \n",
       "958772311         [1018028354, 1018028345, 1018028351, 101802835...   \n",
       "959458018         [1018028360, 1018028342, 1018028357, 101802833...   \n",
       "993727065                                               [991913453]   \n",
       "993984066                                               [991913453]   \n",
       "994199725                                               [991913453]   \n",
       "994731371                                               [991913453]   \n",
       "994883056                                               [991913453]   \n",
       "995115654                                               [991913453]   \n",
       "995359867                                               [991913453]   \n",
       "\n",
       "                 equipment_name  \n",
       "ophys_session_id                 \n",
       "951410079                MESO.1  \n",
       "952430817                MESO.1  \n",
       "954954402                MESO.1  \n",
       "955775716                MESO.1  \n",
       "957020350                MESO.1  \n",
       "958105827                MESO.1  \n",
       "958772311                MESO.1  \n",
       "959458018                MESO.1  \n",
       "993727065               CAM2P.4  \n",
       "993984066               CAM2P.4  \n",
       "994199725               CAM2P.4  \n",
       "994731371               CAM2P.4  \n",
       "994883056               CAM2P.4  \n",
       "995115654               CAM2P.4  \n",
       "995359867               CAM2P.4  "
      ]
     },
     "execution_count": 22,
     "metadata": {},
     "output_type": "execute_result"
    }
   ],
   "source": [
    "# what do the ophys_experiment_id and ophys_container_id columns look like? \n",
    "# are there always the same number of experiments and containers in different sessions? \n",
    "# does the number of experiments and containers depend on the microscope used? \n",
    "ophys_sessions[['ophys_experiment_id', 'ophys_container_id', 'equipment_name']][:15]"
   ]
  },
  {
   "cell_type": "markdown",
   "metadata": {
    "pycharm": {
     "name": "#%% md\n"
    }
   },
   "source": [
    "## Session order "
   ]
  },
  {
   "cell_type": "markdown",
   "metadata": {
    "pycharm": {
     "name": "#%% md\n"
    }
   },
   "source": [
    "###  The `ophys_session_table` only includes sessions that pass ophys QC "
   ]
  },
  {
   "cell_type": "markdown",
   "metadata": {
    "pycharm": {
     "name": "#%% md\n"
    }
   },
   "source": [
    "#### (but the `behavior_session_table` includes all the sessions)"
   ]
  },
  {
   "cell_type": "markdown",
   "metadata": {
    "pycharm": {
     "name": "#%% md\n"
    }
   },
   "source": [
    "The `ophys_session_table` only includes sessions with 2-photon imaging data that passed our QC criteria. Importantly, sessions that took place during 2-photon imaging, but did NOT pass QC, can be found in the `behavior_session_table`, as it includes the full training history for every mouse. In the `behavior_session_table`, only sessions with passing ophys data will have an `ophys_session_id`. We can use this to identify ophys sessions that didnt pass QC, but still have behavior data. "
   ]
  },
  {
   "cell_type": "markdown",
   "metadata": {
    "pycharm": {
     "name": "#%% md\n"
    }
   },
   "source": [
    "#### Let's look at all the behavior sessions that took place on a 2-photon rig for one mouse, in order of acquisition date"
   ]
  },
  {
   "cell_type": "code",
   "execution_count": 23,
   "metadata": {
    "pycharm": {
     "name": "#%%\n"
    },
    "scrolled": false
   },
   "outputs": [
    {
     "data": {
      "text/html": [
       "<div>\n",
       "<style scoped>\n",
       "    .dataframe tbody tr th:only-of-type {\n",
       "        vertical-align: middle;\n",
       "    }\n",
       "\n",
       "    .dataframe tbody tr th {\n",
       "        vertical-align: top;\n",
       "    }\n",
       "\n",
       "    .dataframe thead th {\n",
       "        text-align: right;\n",
       "    }\n",
       "</style>\n",
       "<table border=\"1\" class=\"dataframe\">\n",
       "  <thead>\n",
       "    <tr style=\"text-align: right;\">\n",
       "      <th></th>\n",
       "      <th>session_type</th>\n",
       "      <th>date_of_acquisition</th>\n",
       "      <th>ophys_session_id</th>\n",
       "    </tr>\n",
       "  </thead>\n",
       "  <tbody>\n",
       "  </tbody>\n",
       "</table>\n",
       "</div>"
      ],
      "text/plain": [
       "Empty DataFrame\n",
       "Columns: [session_type, date_of_acquisition, ophys_session_id]\n",
       "Index: []"
      ]
     },
     "execution_count": 23,
     "metadata": {},
     "output_type": "execute_result"
    }
   ],
   "source": [
    "# pick a mouse\n",
    "mouse_id = 445002 \n",
    "# get behavior sessions that took place on the microscope\n",
    "mouse_ophys_sessions = behavior_sessions[(behavior_sessions.mouse_id==mouse_id)&\n",
    "                                         (behavior_sessions.equipment_name=='CAM2P.3')]\n",
    "# only look at the relevant columns\n",
    "mouse_ophys_sessions.sort_values(by='date_of_acquisition')[['session_type', 'date_of_acquisition', 'ophys_session_id']]"
   ]
  },
  {
   "cell_type": "markdown",
   "metadata": {
    "pycharm": {
     "name": "#%% md\n"
    }
   },
   "source": [
    "Notice that only a subset of all OPHYS sessions have an `ophys_session_id` - these are the sessions that passed QC. Sessions with NaN as the `ophys_session_id` either do not have 2P data recorded (as in habituation sessions), or failed QC and were retaken on a subsequent day, such as `OPHYS_5_images_B_passive` in this case"
   ]
  },
  {
   "cell_type": "code",
   "execution_count": 24,
   "metadata": {
    "pycharm": {
     "name": "#%%\n"
    }
   },
   "outputs": [
    {
     "name": "stdout",
     "output_type": "stream",
     "text": [
      "there are 0 ophys sessions in the behavior_session_table for this mouse\n",
      "this includes ophys sessions that failed QC for ophys, but still have behavior data\n"
     ]
    }
   ],
   "source": [
    "print('there are', len(mouse_ophys_sessions), 'ophys sessions in the behavior_session_table for this mouse')\n",
    "print('this includes ophys sessions that failed QC for ophys, but still have behavior data')"
   ]
  },
  {
   "cell_type": "markdown",
   "metadata": {
    "pycharm": {
     "name": "#%% md\n"
    }
   },
   "source": [
    "#### What is available in the `ophys_session_table` for this mouse? "
   ]
  },
  {
   "cell_type": "code",
   "execution_count": 25,
   "metadata": {
    "pycharm": {
     "name": "#%%\n"
    },
    "scrolled": true
   },
   "outputs": [
    {
     "name": "stdout",
     "output_type": "stream",
     "text": [
      "there are 0 sessions in the ophys_session_table for this mouse\n",
      "these are the sessions with valid ophys data\n"
     ]
    }
   ],
   "source": [
    "print('there are', len(ophys_sessions[ophys_sessions.mouse_id==mouse_id]), 'sessions in the ophys_session_table for this mouse')\n",
    "print('these are the sessions with valid ophys data')"
   ]
  },
  {
   "cell_type": "code",
   "execution_count": 26,
   "metadata": {
    "pycharm": {
     "name": "#%%\n"
    }
   },
   "outputs": [
    {
     "data": {
      "text/html": [
       "<div>\n",
       "<style scoped>\n",
       "    .dataframe tbody tr th:only-of-type {\n",
       "        vertical-align: middle;\n",
       "    }\n",
       "\n",
       "    .dataframe tbody tr th {\n",
       "        vertical-align: top;\n",
       "    }\n",
       "\n",
       "    .dataframe thead th {\n",
       "        text-align: right;\n",
       "    }\n",
       "</style>\n",
       "<table border=\"1\" class=\"dataframe\">\n",
       "  <thead>\n",
       "    <tr style=\"text-align: right;\">\n",
       "      <th></th>\n",
       "      <th>date_of_acquisition</th>\n",
       "      <th>session_type</th>\n",
       "    </tr>\n",
       "    <tr>\n",
       "      <th>ophys_session_id</th>\n",
       "      <th></th>\n",
       "      <th></th>\n",
       "    </tr>\n",
       "  </thead>\n",
       "  <tbody>\n",
       "  </tbody>\n",
       "</table>\n",
       "</div>"
      ],
      "text/plain": [
       "Empty DataFrame\n",
       "Columns: [date_of_acquisition, session_type]\n",
       "Index: []"
      ]
     },
     "execution_count": 26,
     "metadata": {},
     "output_type": "execute_result"
    }
   ],
   "source": [
    "ophys_sessions[ophys_sessions.mouse_id==mouse_id][['date_of_acquisition', 'session_type']]"
   ]
  },
  {
   "cell_type": "markdown",
   "metadata": {
    "pycharm": {
     "name": "#%% md\n"
    }
   },
   "source": [
    "### Due to QC failures and retakes, session types in the `ophys_session_table` do not always occur in sequential order"
   ]
  },
  {
   "cell_type": "markdown",
   "metadata": {
    "pycharm": {
     "name": "#%% md\n"
    }
   },
   "source": [
    "The schematic above depicts ophys sessions OPHYS1-6 in a specific order, however this order is rarely perfectly maintained due to QC failures. The example above shows OPHYS_1-4 in the correct order, but then OPHYS_5 comes after OPHYS_6 because the first attempt at OPHYS_5 failed (as we can see from the behavior_sessions for this mouse), and had to be retaken after OPHYS_6. "
   ]
  },
  {
   "cell_type": "markdown",
   "metadata": {
    "pycharm": {
     "name": "#%% md\n"
    }
   },
   "source": [
    "#### Let's look at the session order for a different mouse, imaged on the Multiscope"
   ]
  },
  {
   "cell_type": "code",
   "execution_count": 27,
   "metadata": {
    "pycharm": {
     "name": "#%%\n"
    }
   },
   "outputs": [
    {
     "data": {
      "text/html": [
       "<div>\n",
       "<style scoped>\n",
       "    .dataframe tbody tr th:only-of-type {\n",
       "        vertical-align: middle;\n",
       "    }\n",
       "\n",
       "    .dataframe tbody tr th {\n",
       "        vertical-align: top;\n",
       "    }\n",
       "\n",
       "    .dataframe thead th {\n",
       "        text-align: right;\n",
       "    }\n",
       "</style>\n",
       "<table border=\"1\" class=\"dataframe\">\n",
       "  <thead>\n",
       "    <tr style=\"text-align: right;\">\n",
       "      <th></th>\n",
       "      <th>date_of_acquisition</th>\n",
       "      <th>session_type</th>\n",
       "      <th>ophys_session_id</th>\n",
       "    </tr>\n",
       "  </thead>\n",
       "  <tbody>\n",
       "  </tbody>\n",
       "</table>\n",
       "</div>"
      ],
      "text/plain": [
       "Empty DataFrame\n",
       "Columns: [date_of_acquisition, session_type, ophys_session_id]\n",
       "Index: []"
      ]
     },
     "execution_count": 27,
     "metadata": {},
     "output_type": "execute_result"
    }
   ],
   "source": [
    "# pick a mouse\n",
    "mouse_id = 453911\n",
    "# get behavior sessions that took place on the microscope\n",
    "mouse_ophys_sessions = behavior_sessions[(behavior_sessions.mouse_id==mouse_id)&\n",
    "                                         (behavior_sessions.equipment_name=='MESO.1')]\n",
    "# only look at the relevant columns\n",
    "mouse_ophys_sessions.sort_values(by='date_of_acquisition')[['date_of_acquisition', 'session_type', 'ophys_session_id']]"
   ]
  },
  {
   "cell_type": "markdown",
   "metadata": {
    "pycharm": {
     "name": "#%% md\n"
    }
   },
   "source": [
    "Looks like lots of retakes for this one (where `ophys_session_id` = NaN). Also note that there are multiple retakes for some `session_types`. This can happen for mice imaged on Multiscope, because retakes can be triggered by QC failure of any one of the 8 imaging planes in the session. "
   ]
  },
  {
   "cell_type": "markdown",
   "metadata": {
    "pycharm": {
     "name": "#%% md\n"
    }
   },
   "source": [
    "#### Let's look at how failures and retakes affects the session order in the `ophys_sessions` table for this mouse"
   ]
  },
  {
   "cell_type": "code",
   "execution_count": 28,
   "metadata": {
    "pycharm": {
     "name": "#%%\n"
    }
   },
   "outputs": [
    {
     "data": {
      "text/html": [
       "<div>\n",
       "<style scoped>\n",
       "    .dataframe tbody tr th:only-of-type {\n",
       "        vertical-align: middle;\n",
       "    }\n",
       "\n",
       "    .dataframe tbody tr th {\n",
       "        vertical-align: top;\n",
       "    }\n",
       "\n",
       "    .dataframe thead th {\n",
       "        text-align: right;\n",
       "    }\n",
       "</style>\n",
       "<table border=\"1\" class=\"dataframe\">\n",
       "  <thead>\n",
       "    <tr style=\"text-align: right;\">\n",
       "      <th></th>\n",
       "      <th>date_of_acquisition</th>\n",
       "      <th>session_type</th>\n",
       "    </tr>\n",
       "    <tr>\n",
       "      <th>ophys_session_id</th>\n",
       "      <th></th>\n",
       "      <th></th>\n",
       "    </tr>\n",
       "  </thead>\n",
       "  <tbody>\n",
       "  </tbody>\n",
       "</table>\n",
       "</div>"
      ],
      "text/plain": [
       "Empty DataFrame\n",
       "Columns: [date_of_acquisition, session_type]\n",
       "Index: []"
      ]
     },
     "execution_count": 28,
     "metadata": {},
     "output_type": "execute_result"
    }
   ],
   "source": [
    "ophys_sessions[ophys_sessions.mouse_id==mouse_id][['date_of_acquisition', 'session_type']]"
   ]
  },
  {
   "cell_type": "markdown",
   "metadata": {
    "pycharm": {
     "name": "#%% md\n"
    }
   },
   "source": [
    "It looks like the first set of sessions are taken in sequential order, but after that there are a few retakes of some of the `session_types`. This suggests that some of the imaging planes for this Multiscope mouse passed QC on the first time around, but retakes were needed to get passing ophys data for other imaging planes. "
   ]
  },
  {
   "cell_type": "markdown",
   "metadata": {
    "pycharm": {
     "name": "#%% md\n"
    }
   },
   "source": [
    "#### But they're not always out of order, sometimes things go perfectly! "
   ]
  },
  {
   "cell_type": "code",
   "execution_count": 29,
   "metadata": {
    "pycharm": {
     "name": "#%%\n"
    }
   },
   "outputs": [
    {
     "data": {
      "text/html": [
       "<div>\n",
       "<style scoped>\n",
       "    .dataframe tbody tr th:only-of-type {\n",
       "        vertical-align: middle;\n",
       "    }\n",
       "\n",
       "    .dataframe tbody tr th {\n",
       "        vertical-align: top;\n",
       "    }\n",
       "\n",
       "    .dataframe thead th {\n",
       "        text-align: right;\n",
       "    }\n",
       "</style>\n",
       "<table border=\"1\" class=\"dataframe\">\n",
       "  <thead>\n",
       "    <tr style=\"text-align: right;\">\n",
       "      <th></th>\n",
       "      <th>date_of_acquisition</th>\n",
       "      <th>session_type</th>\n",
       "      <th>ophys_session_id</th>\n",
       "    </tr>\n",
       "  </thead>\n",
       "  <tbody>\n",
       "  </tbody>\n",
       "</table>\n",
       "</div>"
      ],
      "text/plain": [
       "Empty DataFrame\n",
       "Columns: [date_of_acquisition, session_type, ophys_session_id]\n",
       "Index: []"
      ]
     },
     "execution_count": 29,
     "metadata": {},
     "output_type": "execute_result"
    }
   ],
   "source": [
    "# pick a mouse\n",
    "mouse_id = 438912\n",
    "# get behavior sessions that took place on the microscope\n",
    "mouse_ophys_sessions = behavior_sessions[(behavior_sessions.mouse_id==mouse_id)&\n",
    "                                         (behavior_sessions.equipment_name=='MESO.1')]\n",
    "# only look at the relevant columns\n",
    "mouse_ophys_sessions.sort_values(by='date_of_acquisition')[['date_of_acquisition', 'session_type', 'ophys_session_id']]"
   ]
  },
  {
   "cell_type": "markdown",
   "metadata": {
    "pycharm": {
     "name": "#%% md\n"
    }
   },
   "source": [
    "Well, nearly perfectly, OPHYS_5 came after OPHYS_6"
   ]
  },
  {
   "cell_type": "markdown",
   "metadata": {
    "pycharm": {
     "name": "#%% md\n"
    }
   },
   "source": [
    "### Prior Exposures"
   ]
  },
  {
   "cell_type": "markdown",
   "metadata": {
    "pycharm": {
     "name": "#%% md\n"
    }
   },
   "source": [
    "Because the session types can be out of order due to retakes, and because of some of our other experimental design decisions, it is helpful to know some information about the history of the mouse relative to a given session. To serve this purpose, we have included metadata describing the `prior_exposures_to_image_set`, `prior_exposures_to_session_type`, and `prior_exposures_to_omissions` as columns in all the manifest data tables. "
   ]
  },
  {
   "cell_type": "markdown",
   "metadata": {
    "pycharm": {
     "name": "#%% md\n"
    }
   },
   "source": [
    "### `prior_exposures_to_image_set`"
   ]
  },
  {
   "cell_type": "markdown",
   "metadata": {
    "pycharm": {
     "name": "#%% md\n"
    }
   },
   "source": [
    "A key aspect of our experimental design is the inclusion of novel stimuli during the imaging phase of the experiment. However, after the very first session with these novel images, they actually start to become more and more familiar. So, it is important to know whether a given session is truly the first exposure to that image set. In addition, it is useful to know whether subsequent sessions are the second, third, fourth, etc. exposure to that image set, for analysis of changes in activity with experience following novelty. The `prior_exposures_to_image_set` column describes the number of sessions that a given mouse has observed the stimulus set that was shown in that session, prior to the start of that session. For the very first exposure to a novel image set, the value of `prior_exposures_to_image_set` will be 0. "
   ]
  },
  {
   "cell_type": "markdown",
   "metadata": {
    "pycharm": {
     "name": "#%% md\n"
    }
   },
   "source": [
    "#### Let's look at the `prior_exposures_to_image_set` column for one of the mice we looked at above, first in the `behavior_session_table`, which contains all sessions the mouse experienced, then in the `ophys_session_table`, which only includes sessions that passed ophys QC"
   ]
  },
  {
   "cell_type": "code",
   "execution_count": 30,
   "metadata": {
    "pycharm": {
     "name": "#%%\n"
    }
   },
   "outputs": [
    {
     "data": {
      "text/html": [
       "<div>\n",
       "<style scoped>\n",
       "    .dataframe tbody tr th:only-of-type {\n",
       "        vertical-align: middle;\n",
       "    }\n",
       "\n",
       "    .dataframe tbody tr th {\n",
       "        vertical-align: top;\n",
       "    }\n",
       "\n",
       "    .dataframe thead th {\n",
       "        text-align: right;\n",
       "    }\n",
       "</style>\n",
       "<table border=\"1\" class=\"dataframe\">\n",
       "  <thead>\n",
       "    <tr style=\"text-align: right;\">\n",
       "      <th></th>\n",
       "      <th>session_type</th>\n",
       "      <th>date_of_acquisition</th>\n",
       "      <th>ophys_session_id</th>\n",
       "      <th>prior_exposures_to_image_set</th>\n",
       "    </tr>\n",
       "  </thead>\n",
       "  <tbody>\n",
       "  </tbody>\n",
       "</table>\n",
       "</div>"
      ],
      "text/plain": [
       "Empty DataFrame\n",
       "Columns: [session_type, date_of_acquisition, ophys_session_id, prior_exposures_to_image_set]\n",
       "Index: []"
      ]
     },
     "execution_count": 30,
     "metadata": {},
     "output_type": "execute_result"
    }
   ],
   "source": [
    "mouse_id = 445002 \n",
    "# get behavior sessions that took place on the microscope\n",
    "mouse_ophys_sessions = behavior_sessions[(behavior_sessions.mouse_id==mouse_id)&\n",
    "                                         (behavior_sessions.equipment_name=='CAM2P.3')]\n",
    "# only look at the relevant columns\n",
    "mouse_ophys_sessions.sort_values(by='date_of_acquisition')[['session_type', 'date_of_acquisition', 'ophys_session_id', 'prior_exposures_to_image_set']]"
   ]
  },
  {
   "cell_type": "markdown",
   "metadata": {
    "pycharm": {
     "name": "#%% md\n"
    }
   },
   "source": [
    "Note that `prior_exposures_to_image_set` is a high number for `OPHYS_0-3`, because that is the image set the mouse was trained on, and that it re-sets to zero for the first exposure to the novel image set in `OPHYS_4`"
   ]
  },
  {
   "cell_type": "markdown",
   "metadata": {
    "pycharm": {
     "name": "#%% md\n"
    }
   },
   "source": [
    "#### Let's double check the full training history for this mouse"
   ]
  },
  {
   "cell_type": "code",
   "execution_count": 31,
   "metadata": {
    "pycharm": {
     "name": "#%%\n"
    }
   },
   "outputs": [
    {
     "data": {
      "text/html": [
       "<div>\n",
       "<style scoped>\n",
       "    .dataframe tbody tr th:only-of-type {\n",
       "        vertical-align: middle;\n",
       "    }\n",
       "\n",
       "    .dataframe tbody tr th {\n",
       "        vertical-align: top;\n",
       "    }\n",
       "\n",
       "    .dataframe thead th {\n",
       "        text-align: right;\n",
       "    }\n",
       "</style>\n",
       "<table border=\"1\" class=\"dataframe\">\n",
       "  <thead>\n",
       "    <tr style=\"text-align: right;\">\n",
       "      <th></th>\n",
       "      <th>session_type</th>\n",
       "      <th>date_of_acquisition</th>\n",
       "      <th>ophys_session_id</th>\n",
       "      <th>prior_exposures_to_image_set</th>\n",
       "    </tr>\n",
       "  </thead>\n",
       "  <tbody>\n",
       "  </tbody>\n",
       "</table>\n",
       "</div>"
      ],
      "text/plain": [
       "Empty DataFrame\n",
       "Columns: [session_type, date_of_acquisition, ophys_session_id, prior_exposures_to_image_set]\n",
       "Index: []"
      ]
     },
     "execution_count": 31,
     "metadata": {},
     "output_type": "execute_result"
    }
   ],
   "source": [
    "mouse_id = 445002 \n",
    "# get behavior sessions that took place on the microscope\n",
    "mouse_ophys_sessions = behavior_sessions[(behavior_sessions.mouse_id==mouse_id)]\n",
    "# only look at the relevant columns\n",
    "mouse_ophys_sessions.sort_values(by='date_of_acquisition')[['session_type', 'date_of_acquisition', 'ophys_session_id', 'prior_exposures_to_image_set']]"
   ]
  },
  {
   "cell_type": "markdown",
   "metadata": {
    "pycharm": {
     "name": "#%% md\n"
    }
   },
   "source": [
    "Knowing the prior exposures number is especially important for the `ophys_session_table`, because the sessions that failed ophys QC are not visible there, so it is difficult to know whether a given session was the first of its type or a retake. "
   ]
  },
  {
   "cell_type": "code",
   "execution_count": 32,
   "metadata": {
    "pycharm": {
     "name": "#%%\n"
    }
   },
   "outputs": [
    {
     "data": {
      "text/html": [
       "<div>\n",
       "<style scoped>\n",
       "    .dataframe tbody tr th:only-of-type {\n",
       "        vertical-align: middle;\n",
       "    }\n",
       "\n",
       "    .dataframe tbody tr th {\n",
       "        vertical-align: top;\n",
       "    }\n",
       "\n",
       "    .dataframe thead th {\n",
       "        text-align: right;\n",
       "    }\n",
       "</style>\n",
       "<table border=\"1\" class=\"dataframe\">\n",
       "  <thead>\n",
       "    <tr style=\"text-align: right;\">\n",
       "      <th></th>\n",
       "      <th>date_of_acquisition</th>\n",
       "      <th>session_type</th>\n",
       "      <th>prior_exposures_to_image_set</th>\n",
       "    </tr>\n",
       "    <tr>\n",
       "      <th>ophys_session_id</th>\n",
       "      <th></th>\n",
       "      <th></th>\n",
       "      <th></th>\n",
       "    </tr>\n",
       "  </thead>\n",
       "  <tbody>\n",
       "  </tbody>\n",
       "</table>\n",
       "</div>"
      ],
      "text/plain": [
       "Empty DataFrame\n",
       "Columns: [date_of_acquisition, session_type, prior_exposures_to_image_set]\n",
       "Index: []"
      ]
     },
     "execution_count": 32,
     "metadata": {},
     "output_type": "execute_result"
    }
   ],
   "source": [
    "ophys_sessions[ophys_sessions.mouse_id==mouse_id][['date_of_acquisition', 'session_type', 'prior_exposures_to_image_set']]"
   ]
  },
  {
   "cell_type": "markdown",
   "metadata": {
    "pycharm": {
     "name": "#%% md\n"
    }
   },
   "source": [
    "### `prior_exposures_to_session_type`"
   ]
  },
  {
   "cell_type": "markdown",
   "metadata": {
    "pycharm": {
     "name": "#%% md\n"
    }
   },
   "source": [
    "In some cases, you may want to know how many times a given `session_type` was seen by the mouse. For example, to know whether a passive viewing session was the very first time the mouse experienced a passive session with no lick spout, as there may be a difference in expectation of reward between the first passive session and a later one where the mouse has become accustomed to sometimes having the lick spout removed. "
   ]
  },
  {
   "cell_type": "markdown",
   "metadata": {
    "pycharm": {
     "name": "#%% md\n"
    }
   },
   "source": [
    "#### compare `prior_exposures_to_session_type` in the `behavior_session_table` with the `ophys_session_table` for a given mouse"
   ]
  },
  {
   "cell_type": "code",
   "execution_count": 33,
   "metadata": {
    "pycharm": {
     "name": "#%%\n"
    }
   },
   "outputs": [
    {
     "data": {
      "text/html": [
       "<div>\n",
       "<style scoped>\n",
       "    .dataframe tbody tr th:only-of-type {\n",
       "        vertical-align: middle;\n",
       "    }\n",
       "\n",
       "    .dataframe tbody tr th {\n",
       "        vertical-align: top;\n",
       "    }\n",
       "\n",
       "    .dataframe thead th {\n",
       "        text-align: right;\n",
       "    }\n",
       "</style>\n",
       "<table border=\"1\" class=\"dataframe\">\n",
       "  <thead>\n",
       "    <tr style=\"text-align: right;\">\n",
       "      <th></th>\n",
       "      <th>date_of_acquisition</th>\n",
       "      <th>session_type</th>\n",
       "      <th>ophys_session_id</th>\n",
       "      <th>prior_exposures_to_session_type</th>\n",
       "    </tr>\n",
       "  </thead>\n",
       "  <tbody>\n",
       "  </tbody>\n",
       "</table>\n",
       "</div>"
      ],
      "text/plain": [
       "Empty DataFrame\n",
       "Columns: [date_of_acquisition, session_type, ophys_session_id, prior_exposures_to_session_type]\n",
       "Index: []"
      ]
     },
     "execution_count": 33,
     "metadata": {},
     "output_type": "execute_result"
    }
   ],
   "source": [
    "# pick a mouse\n",
    "mouse_id = 456915\n",
    "# get behavior sessions that took place on the microscope\n",
    "mouse_ophys_sessions = behavior_sessions[(behavior_sessions.mouse_id==mouse_id)&\n",
    "                                         (behavior_sessions.equipment_name=='MESO.1')]\n",
    "# only look at the relevant columns\n",
    "mouse_ophys_sessions.sort_values(by='date_of_acquisition')[['date_of_acquisition', 'session_type', 'ophys_session_id', 'prior_exposures_to_session_type']]"
   ]
  },
  {
   "cell_type": "code",
   "execution_count": 34,
   "metadata": {
    "pycharm": {
     "name": "#%%\n"
    }
   },
   "outputs": [
    {
     "data": {
      "text/html": [
       "<div>\n",
       "<style scoped>\n",
       "    .dataframe tbody tr th:only-of-type {\n",
       "        vertical-align: middle;\n",
       "    }\n",
       "\n",
       "    .dataframe tbody tr th {\n",
       "        vertical-align: top;\n",
       "    }\n",
       "\n",
       "    .dataframe thead th {\n",
       "        text-align: right;\n",
       "    }\n",
       "</style>\n",
       "<table border=\"1\" class=\"dataframe\">\n",
       "  <thead>\n",
       "    <tr style=\"text-align: right;\">\n",
       "      <th></th>\n",
       "      <th>date_of_acquisition</th>\n",
       "      <th>session_type</th>\n",
       "      <th>prior_exposures_to_session_type</th>\n",
       "    </tr>\n",
       "    <tr>\n",
       "      <th>ophys_session_id</th>\n",
       "      <th></th>\n",
       "      <th></th>\n",
       "      <th></th>\n",
       "    </tr>\n",
       "  </thead>\n",
       "  <tbody>\n",
       "  </tbody>\n",
       "</table>\n",
       "</div>"
      ],
      "text/plain": [
       "Empty DataFrame\n",
       "Columns: [date_of_acquisition, session_type, prior_exposures_to_session_type]\n",
       "Index: []"
      ]
     },
     "execution_count": 34,
     "metadata": {},
     "output_type": "execute_result"
    }
   ],
   "source": [
    "ophys_sessions[ophys_sessions.mouse_id==mouse_id][['date_of_acquisition', 'session_type', 'prior_exposures_to_session_type']]"
   ]
  },
  {
   "cell_type": "markdown",
   "metadata": {
    "pycharm": {
     "name": "#%% md\n"
    }
   },
   "source": [
    "Without the `prior_exposures_to_session_type` column in the `ophys_session_table`, it would be difficult to know that `OPHYS_2_images_A_passive` was actually the second time (1 prior exposure) that the mouse had experienced a passive vieweing session"
   ]
  },
  {
   "cell_type": "markdown",
   "metadata": {
    "pycharm": {
     "name": "#%% md\n"
    }
   },
   "source": [
    "### `prior_exposures_to_omissions`"
   ]
  },
  {
   "cell_type": "markdown",
   "metadata": {
    "pycharm": {
     "name": "#%% md\n"
    }
   },
   "source": [
    "Another unique aspect of the experimental design of this dataset is the inclusion of stimulus omissions in the 2-photon portion of the experiment. During behavioral training, mice experience a highly regular cadence of himage presentations, with 250ms per stimulus presentation, with a 500ms gray screen in between. During imaging sessions, stimulus presentations (other than the change and pre-change images) are omitted with a 5% probability, resulting in some inter stimlus intervals appearing as an extended gray screen period. This allows exploration of potential effects of temporal expectation on neural activity. "
   ]
  },
  {
   "cell_type": "markdown",
   "metadata": {
    "pycharm": {
     "name": "#%% md\n"
    }
   },
   "source": [
    "<div>\n",
    "<img src=\"https://allensdk.readthedocs.io/en/latest/_static/visual_behavior_2p/omissions.png\" width=\"900\"/>\n",
    "</div>"
   ]
  },
  {
   "cell_type": "markdown",
   "metadata": {
    "pycharm": {
     "name": "#%% md\n"
    }
   },
   "source": [
    "#### Let's look at `prior_exposures_to_omissions` in a few mice"
   ]
  },
  {
   "cell_type": "code",
   "execution_count": 35,
   "metadata": {
    "pycharm": {
     "name": "#%%\n"
    }
   },
   "outputs": [
    {
     "data": {
      "text/plain": [
       "array(['412036', '412366', '423606', '425493', '425496', '429952',\n",
       "       '431252', '436662', '442709', '447663', '448900', '453913',\n",
       "       '456564', '462468', '467953', '468866', '476970', '479458',\n",
       "       '480753', '489066', '492395', '523927', '524274', '533161',\n",
       "       '533162', '538219', '539518', '544261', '549976'], dtype=object)"
      ]
     },
     "execution_count": 35,
     "metadata": {},
     "output_type": "execute_result"
    }
   ],
   "source": [
    "np.sort(behavior_sessions[behavior_sessions.equipment_name=='CAM2P.4'].mouse_id.unique())"
   ]
  },
  {
   "cell_type": "code",
   "execution_count": 36,
   "metadata": {
    "pycharm": {
     "name": "#%%\n"
    }
   },
   "outputs": [
    {
     "data": {
      "text/html": [
       "<div>\n",
       "<style scoped>\n",
       "    .dataframe tbody tr th:only-of-type {\n",
       "        vertical-align: middle;\n",
       "    }\n",
       "\n",
       "    .dataframe tbody tr th {\n",
       "        vertical-align: top;\n",
       "    }\n",
       "\n",
       "    .dataframe thead th {\n",
       "        text-align: right;\n",
       "    }\n",
       "</style>\n",
       "<table border=\"1\" class=\"dataframe\">\n",
       "  <thead>\n",
       "    <tr style=\"text-align: right;\">\n",
       "      <th></th>\n",
       "      <th>date_of_acquisition</th>\n",
       "      <th>session_type</th>\n",
       "      <th>ophys_session_id</th>\n",
       "      <th>equipment_name</th>\n",
       "      <th>prior_exposures_to_omissions</th>\n",
       "    </tr>\n",
       "  </thead>\n",
       "  <tbody>\n",
       "  </tbody>\n",
       "</table>\n",
       "</div>"
      ],
      "text/plain": [
       "Empty DataFrame\n",
       "Columns: [date_of_acquisition, session_type, ophys_session_id, equipment_name, prior_exposures_to_omissions]\n",
       "Index: []"
      ]
     },
     "execution_count": 36,
     "metadata": {},
     "output_type": "execute_result"
    }
   ],
   "source": [
    "# pick a mouse\n",
    "mouse_id = 436662\n",
    "# get behavior sessions that took place on the microscope\n",
    "mouse_ophys_sessions = behavior_sessions[(behavior_sessions.mouse_id==mouse_id)&\n",
    "                                        (behavior_sessions.equipment_name=='CAM2P.4')]\n",
    "# only look at the relevant columns\n",
    "mouse_ophys_sessions.sort_values(by='date_of_acquisition')[['date_of_acquisition', 'session_type', 'ophys_session_id', 'equipment_name',  'prior_exposures_to_omissions']]"
   ]
  },
  {
   "cell_type": "markdown",
   "metadata": {
    "pycharm": {
     "name": "#%% md\n"
    }
   },
   "source": [
    "In this case (and in most cases), omissions do not occur until the first true imaging session on the 2-photon rig, `OPHYS_1`, i.e. they are not included in habituation sessions. However, in a small number of mice from the beginning of our data collection process, omissions did occur in habituation sessions (but never during training). This is something to be careful of if you are looking at something like the change in omission related activity with experience. "
   ]
  },
  {
   "cell_type": "markdown",
   "metadata": {
    "pycharm": {
     "name": "#%% md\n"
    }
   },
   "source": [
    "Here is a mouse that saw omissions during habituation sessions. Also note that the first two habituation sessions took place on different microscopes (this is extremely rare, every effort is made to image a given mouse on the same 2-photon rig during its entire lifetime). "
   ]
  },
  {
   "cell_type": "code",
   "execution_count": 37,
   "metadata": {
    "pycharm": {
     "name": "#%%\n"
    }
   },
   "outputs": [
    {
     "data": {
      "text/html": [
       "<div>\n",
       "<style scoped>\n",
       "    .dataframe tbody tr th:only-of-type {\n",
       "        vertical-align: middle;\n",
       "    }\n",
       "\n",
       "    .dataframe tbody tr th {\n",
       "        vertical-align: top;\n",
       "    }\n",
       "\n",
       "    .dataframe thead th {\n",
       "        text-align: right;\n",
       "    }\n",
       "</style>\n",
       "<table border=\"1\" class=\"dataframe\">\n",
       "  <thead>\n",
       "    <tr style=\"text-align: right;\">\n",
       "      <th></th>\n",
       "      <th>date_of_acquisition</th>\n",
       "      <th>session_type</th>\n",
       "      <th>ophys_session_id</th>\n",
       "      <th>equipment_name</th>\n",
       "      <th>prior_exposures_to_omissions</th>\n",
       "    </tr>\n",
       "  </thead>\n",
       "  <tbody>\n",
       "  </tbody>\n",
       "</table>\n",
       "</div>"
      ],
      "text/plain": [
       "Empty DataFrame\n",
       "Columns: [date_of_acquisition, session_type, ophys_session_id, equipment_name, prior_exposures_to_omissions]\n",
       "Index: []"
      ]
     },
     "execution_count": 37,
     "metadata": {},
     "output_type": "execute_result"
    }
   ],
   "source": [
    "# pick a mouse\n",
    "mouse_id = 423606\n",
    "# get behavior sessions - include training as well\n",
    "mouse_ophys_sessions = behavior_sessions[(behavior_sessions.mouse_id==mouse_id)]\n",
    "# only look at the relevant columns\n",
    "mouse_ophys_sessions.sort_values(by='date_of_acquisition')[['date_of_acquisition', 'session_type', 'ophys_session_id', 'equipment_name',  'prior_exposures_to_omissions']]"
   ]
  },
  {
   "cell_type": "markdown",
   "metadata": {
    "pycharm": {
     "name": "#%% md\n"
    }
   },
   "source": [
    "### Here is how to identify all mice that saw omissions during habituation sessions"
   ]
  },
  {
   "cell_type": "code",
   "execution_count": 38,
   "metadata": {
    "pycharm": {
     "name": "#%%\n"
    }
   },
   "outputs": [
    {
     "name": "stdout",
     "output_type": "stream",
     "text": [
      "14  mice had omissions during habituation\n"
     ]
    }
   ],
   "source": [
    "# get all behavior sessions that were habituation sessions (image set A or B) \n",
    "# where the prior exposures to omissions was not zero\n",
    "habituation_with_omission = behavior_sessions[((behavior_sessions.session_type=='OPHYS_0_images_A_habituation')|\n",
    "                              (behavior_sessions.session_type=='OPHYS_0_images_B_habituation'))&\n",
    "                              (behavior_sessions.prior_exposures_to_omissions>0)]\n",
    "\n",
    "mice_with_omission_during_habituation = habituation_with_omission.mouse_id.unique()\n",
    "\n",
    "print(len(mice_with_omission_during_habituation), ' mice had omissions during habituation')"
   ]
  },
  {
   "cell_type": "code",
   "execution_count": null,
   "metadata": {
    "pycharm": {
     "name": "#%%\n"
    }
   },
   "outputs": [],
   "source": []
  },
  {
   "cell_type": "markdown",
   "metadata": {
    "pycharm": {
     "name": "#%% md\n"
    }
   },
   "source": [
    "## Ophys Experiment Table"
   ]
  },
  {
   "cell_type": "markdown",
   "metadata": {
    "pycharm": {
     "name": "#%% md\n"
    }
   },
   "source": [
    "The `ophys_experiment_table` contains all ophys data that passes QC, organized according to individual imaging planes in individual sessions, each associated with an `ophys_experiment_id`. The `ophys_experiment_table` contains all the columns in `ophys_session_table`, plus a few additional ones specific to individual imaging planes, namely `imaging_depth` and `targeted_structure`."
   ]
  },
  {
   "cell_type": "code",
   "execution_count": 39,
   "metadata": {
    "pycharm": {
     "name": "#%%\n"
    }
   },
   "outputs": [
    {
     "name": "stdout",
     "output_type": "stream",
     "text": [
      "Total number of ophys experiments: 1941\n",
      "\n"
     ]
    },
    {
     "data": {
      "text/html": [
       "<div>\n",
       "<style scoped>\n",
       "    .dataframe tbody tr th:only-of-type {\n",
       "        vertical-align: middle;\n",
       "    }\n",
       "\n",
       "    .dataframe tbody tr th {\n",
       "        vertical-align: top;\n",
       "    }\n",
       "\n",
       "    .dataframe thead th {\n",
       "        text-align: right;\n",
       "    }\n",
       "</style>\n",
       "<table border=\"1\" class=\"dataframe\">\n",
       "  <thead>\n",
       "    <tr style=\"text-align: right;\">\n",
       "      <th></th>\n",
       "      <th>equipment_name</th>\n",
       "      <th>full_genotype</th>\n",
       "      <th>mouse_id</th>\n",
       "      <th>reporter_line</th>\n",
       "      <th>driver_line</th>\n",
       "      <th>sex</th>\n",
       "      <th>age_in_days</th>\n",
       "      <th>cre_line</th>\n",
       "      <th>indicator</th>\n",
       "      <th>session_number</th>\n",
       "      <th>...</th>\n",
       "      <th>ophys_container_id</th>\n",
       "      <th>project_code</th>\n",
       "      <th>imaging_depth</th>\n",
       "      <th>targeted_structure</th>\n",
       "      <th>date_of_acquisition</th>\n",
       "      <th>session_type</th>\n",
       "      <th>experience_level</th>\n",
       "      <th>passive</th>\n",
       "      <th>image_set</th>\n",
       "      <th>file_id</th>\n",
       "    </tr>\n",
       "    <tr>\n",
       "      <th>ophys_experiment_id</th>\n",
       "      <th></th>\n",
       "      <th></th>\n",
       "      <th></th>\n",
       "      <th></th>\n",
       "      <th></th>\n",
       "      <th></th>\n",
       "      <th></th>\n",
       "      <th></th>\n",
       "      <th></th>\n",
       "      <th></th>\n",
       "      <th></th>\n",
       "      <th></th>\n",
       "      <th></th>\n",
       "      <th></th>\n",
       "      <th></th>\n",
       "      <th></th>\n",
       "      <th></th>\n",
       "      <th></th>\n",
       "      <th></th>\n",
       "      <th></th>\n",
       "      <th></th>\n",
       "    </tr>\n",
       "  </thead>\n",
       "  <tbody>\n",
       "    <tr>\n",
       "      <th>951980486</th>\n",
       "      <td>MESO.1</td>\n",
       "      <td>Sst-IRES-Cre/wt;Ai148(TIT2L-GC6f-ICL-tTA2)/wt</td>\n",
       "      <td>457841</td>\n",
       "      <td>Ai148(TIT2L-GC6f-ICL-tTA2)</td>\n",
       "      <td>[Sst-IRES-Cre]</td>\n",
       "      <td>F</td>\n",
       "      <td>206.0</td>\n",
       "      <td>Sst-IRES-Cre</td>\n",
       "      <td>GCaMP6f</td>\n",
       "      <td>1.0</td>\n",
       "      <td>...</td>\n",
       "      <td>1018028360</td>\n",
       "      <td>VisualBehaviorMultiscope</td>\n",
       "      <td>300</td>\n",
       "      <td>VISl</td>\n",
       "      <td>2019-09-20 09:45:29.897856</td>\n",
       "      <td>OPHYS_1_images_A</td>\n",
       "      <td>Familiar</td>\n",
       "      <td>False</td>\n",
       "      <td>A</td>\n",
       "      <td>1085400869</td>\n",
       "    </tr>\n",
       "    <tr>\n",
       "      <th>951980473</th>\n",
       "      <td>MESO.1</td>\n",
       "      <td>Sst-IRES-Cre/wt;Ai148(TIT2L-GC6f-ICL-tTA2)/wt</td>\n",
       "      <td>457841</td>\n",
       "      <td>Ai148(TIT2L-GC6f-ICL-tTA2)</td>\n",
       "      <td>[Sst-IRES-Cre]</td>\n",
       "      <td>F</td>\n",
       "      <td>206.0</td>\n",
       "      <td>Sst-IRES-Cre</td>\n",
       "      <td>GCaMP6f</td>\n",
       "      <td>1.0</td>\n",
       "      <td>...</td>\n",
       "      <td>1018028345</td>\n",
       "      <td>VisualBehaviorMultiscope</td>\n",
       "      <td>225</td>\n",
       "      <td>VISp</td>\n",
       "      <td>2019-09-20 09:45:29.897856</td>\n",
       "      <td>OPHYS_1_images_A</td>\n",
       "      <td>Familiar</td>\n",
       "      <td>False</td>\n",
       "      <td>A</td>\n",
       "      <td>1085400919</td>\n",
       "    </tr>\n",
       "    <tr>\n",
       "      <th>951980481</th>\n",
       "      <td>MESO.1</td>\n",
       "      <td>Sst-IRES-Cre/wt;Ai148(TIT2L-GC6f-ICL-tTA2)/wt</td>\n",
       "      <td>457841</td>\n",
       "      <td>Ai148(TIT2L-GC6f-ICL-tTA2)</td>\n",
       "      <td>[Sst-IRES-Cre]</td>\n",
       "      <td>F</td>\n",
       "      <td>206.0</td>\n",
       "      <td>Sst-IRES-Cre</td>\n",
       "      <td>GCaMP6f</td>\n",
       "      <td>1.0</td>\n",
       "      <td>...</td>\n",
       "      <td>1018028357</td>\n",
       "      <td>VisualBehaviorMultiscope</td>\n",
       "      <td>225</td>\n",
       "      <td>VISl</td>\n",
       "      <td>2019-09-20 09:45:29.897856</td>\n",
       "      <td>OPHYS_1_images_A</td>\n",
       "      <td>Familiar</td>\n",
       "      <td>False</td>\n",
       "      <td>A</td>\n",
       "      <td>1085400972</td>\n",
       "    </tr>\n",
       "    <tr>\n",
       "      <th>951980471</th>\n",
       "      <td>MESO.1</td>\n",
       "      <td>Sst-IRES-Cre/wt;Ai148(TIT2L-GC6f-ICL-tTA2)/wt</td>\n",
       "      <td>457841</td>\n",
       "      <td>Ai148(TIT2L-GC6f-ICL-tTA2)</td>\n",
       "      <td>[Sst-IRES-Cre]</td>\n",
       "      <td>F</td>\n",
       "      <td>206.0</td>\n",
       "      <td>Sst-IRES-Cre</td>\n",
       "      <td>GCaMP6f</td>\n",
       "      <td>1.0</td>\n",
       "      <td>...</td>\n",
       "      <td>1018028342</td>\n",
       "      <td>VisualBehaviorMultiscope</td>\n",
       "      <td>150</td>\n",
       "      <td>VISp</td>\n",
       "      <td>2019-09-20 09:45:29.897856</td>\n",
       "      <td>OPHYS_1_images_A</td>\n",
       "      <td>Familiar</td>\n",
       "      <td>False</td>\n",
       "      <td>A</td>\n",
       "      <td>1085394308</td>\n",
       "    </tr>\n",
       "    <tr>\n",
       "      <th>951980475</th>\n",
       "      <td>MESO.1</td>\n",
       "      <td>Sst-IRES-Cre/wt;Ai148(TIT2L-GC6f-ICL-tTA2)/wt</td>\n",
       "      <td>457841</td>\n",
       "      <td>Ai148(TIT2L-GC6f-ICL-tTA2)</td>\n",
       "      <td>[Sst-IRES-Cre]</td>\n",
       "      <td>F</td>\n",
       "      <td>206.0</td>\n",
       "      <td>Sst-IRES-Cre</td>\n",
       "      <td>GCaMP6f</td>\n",
       "      <td>1.0</td>\n",
       "      <td>...</td>\n",
       "      <td>1018028339</td>\n",
       "      <td>VisualBehaviorMultiscope</td>\n",
       "      <td>75</td>\n",
       "      <td>VISp</td>\n",
       "      <td>2019-09-20 09:45:29.897856</td>\n",
       "      <td>OPHYS_1_images_A</td>\n",
       "      <td>Familiar</td>\n",
       "      <td>False</td>\n",
       "      <td>A</td>\n",
       "      <td>1085400920</td>\n",
       "    </tr>\n",
       "  </tbody>\n",
       "</table>\n",
       "<p>5 rows × 25 columns</p>\n",
       "</div>"
      ],
      "text/plain": [
       "                    equipment_name  \\\n",
       "ophys_experiment_id                  \n",
       "951980486                   MESO.1   \n",
       "951980473                   MESO.1   \n",
       "951980481                   MESO.1   \n",
       "951980471                   MESO.1   \n",
       "951980475                   MESO.1   \n",
       "\n",
       "                                                     full_genotype mouse_id  \\\n",
       "ophys_experiment_id                                                           \n",
       "951980486            Sst-IRES-Cre/wt;Ai148(TIT2L-GC6f-ICL-tTA2)/wt   457841   \n",
       "951980473            Sst-IRES-Cre/wt;Ai148(TIT2L-GC6f-ICL-tTA2)/wt   457841   \n",
       "951980481            Sst-IRES-Cre/wt;Ai148(TIT2L-GC6f-ICL-tTA2)/wt   457841   \n",
       "951980471            Sst-IRES-Cre/wt;Ai148(TIT2L-GC6f-ICL-tTA2)/wt   457841   \n",
       "951980475            Sst-IRES-Cre/wt;Ai148(TIT2L-GC6f-ICL-tTA2)/wt   457841   \n",
       "\n",
       "                                  reporter_line     driver_line sex  \\\n",
       "ophys_experiment_id                                                   \n",
       "951980486            Ai148(TIT2L-GC6f-ICL-tTA2)  [Sst-IRES-Cre]   F   \n",
       "951980473            Ai148(TIT2L-GC6f-ICL-tTA2)  [Sst-IRES-Cre]   F   \n",
       "951980481            Ai148(TIT2L-GC6f-ICL-tTA2)  [Sst-IRES-Cre]   F   \n",
       "951980471            Ai148(TIT2L-GC6f-ICL-tTA2)  [Sst-IRES-Cre]   F   \n",
       "951980475            Ai148(TIT2L-GC6f-ICL-tTA2)  [Sst-IRES-Cre]   F   \n",
       "\n",
       "                     age_in_days      cre_line indicator  session_number  ...  \\\n",
       "ophys_experiment_id                                                       ...   \n",
       "951980486                  206.0  Sst-IRES-Cre   GCaMP6f             1.0  ...   \n",
       "951980473                  206.0  Sst-IRES-Cre   GCaMP6f             1.0  ...   \n",
       "951980481                  206.0  Sst-IRES-Cre   GCaMP6f             1.0  ...   \n",
       "951980471                  206.0  Sst-IRES-Cre   GCaMP6f             1.0  ...   \n",
       "951980475                  206.0  Sst-IRES-Cre   GCaMP6f             1.0  ...   \n",
       "\n",
       "                     ophys_container_id              project_code  \\\n",
       "ophys_experiment_id                                                 \n",
       "951980486                    1018028360  VisualBehaviorMultiscope   \n",
       "951980473                    1018028345  VisualBehaviorMultiscope   \n",
       "951980481                    1018028357  VisualBehaviorMultiscope   \n",
       "951980471                    1018028342  VisualBehaviorMultiscope   \n",
       "951980475                    1018028339  VisualBehaviorMultiscope   \n",
       "\n",
       "                     imaging_depth  targeted_structure  \\\n",
       "ophys_experiment_id                                      \n",
       "951980486                      300                VISl   \n",
       "951980473                      225                VISp   \n",
       "951980481                      225                VISl   \n",
       "951980471                      150                VISp   \n",
       "951980475                       75                VISp   \n",
       "\n",
       "                           date_of_acquisition      session_type  \\\n",
       "ophys_experiment_id                                                \n",
       "951980486           2019-09-20 09:45:29.897856  OPHYS_1_images_A   \n",
       "951980473           2019-09-20 09:45:29.897856  OPHYS_1_images_A   \n",
       "951980481           2019-09-20 09:45:29.897856  OPHYS_1_images_A   \n",
       "951980471           2019-09-20 09:45:29.897856  OPHYS_1_images_A   \n",
       "951980475           2019-09-20 09:45:29.897856  OPHYS_1_images_A   \n",
       "\n",
       "                    experience_level  passive image_set     file_id  \n",
       "ophys_experiment_id                                                  \n",
       "951980486                   Familiar    False         A  1085400869  \n",
       "951980473                   Familiar    False         A  1085400919  \n",
       "951980481                   Familiar    False         A  1085400972  \n",
       "951980471                   Familiar    False         A  1085394308  \n",
       "951980475                   Familiar    False         A  1085400920  \n",
       "\n",
       "[5 rows x 25 columns]"
      ]
     },
     "execution_count": 39,
     "metadata": {},
     "output_type": "execute_result"
    }
   ],
   "source": [
    "ophys_experiments = cache.get_ophys_experiment_table()\n",
    "\n",
    "print(f\"Total number of ophys experiments: {len(ophys_experiments)}\\n\")\n",
    "\n",
    "ophys_experiments.head()"
   ]
  },
  {
   "cell_type": "markdown",
   "metadata": {
    "pycharm": {
     "name": "#%% md\n"
    }
   },
   "source": [
    "#### Compare the columns of `ophys_sessions_table` with `ophys_experiments_table`"
   ]
  },
  {
   "cell_type": "code",
   "execution_count": 40,
   "metadata": {
    "pycharm": {
     "name": "#%%\n"
    }
   },
   "outputs": [
    {
     "data": {
      "text/plain": [
       "Index(['equipment_name', 'full_genotype', 'mouse_id', 'reporter_line',\n",
       "       'driver_line', 'sex', 'age_in_days', 'cre_line', 'indicator',\n",
       "       'session_number', 'prior_exposures_to_session_type',\n",
       "       'prior_exposures_to_image_set', 'prior_exposures_to_omissions',\n",
       "       'behavior_session_id', 'ophys_experiment_id', 'ophys_container_id',\n",
       "       'project_code', 'date_of_acquisition', 'session_type'],\n",
       "      dtype='object')"
      ]
     },
     "execution_count": 40,
     "metadata": {},
     "output_type": "execute_result"
    }
   ],
   "source": [
    "ophys_sessions.columns"
   ]
  },
  {
   "cell_type": "code",
   "execution_count": 41,
   "metadata": {
    "pycharm": {
     "name": "#%%\n"
    }
   },
   "outputs": [
    {
     "data": {
      "text/plain": [
       "Index(['equipment_name', 'full_genotype', 'mouse_id', 'reporter_line',\n",
       "       'driver_line', 'sex', 'age_in_days', 'cre_line', 'indicator',\n",
       "       'session_number', 'prior_exposures_to_session_type',\n",
       "       'prior_exposures_to_image_set', 'prior_exposures_to_omissions',\n",
       "       'ophys_session_id', 'behavior_session_id', 'ophys_container_id',\n",
       "       'project_code', 'imaging_depth', 'targeted_structure',\n",
       "       'date_of_acquisition', 'session_type', 'experience_level', 'passive',\n",
       "       'image_set', 'file_id'],\n",
       "      dtype='object')"
      ]
     },
     "execution_count": 41,
     "metadata": {},
     "output_type": "execute_result"
    }
   ],
   "source": [
    "ophys_experiments.columns"
   ]
  },
  {
   "cell_type": "markdown",
   "metadata": {
    "pycharm": {
     "name": "#%% md\n"
    }
   },
   "source": [
    "#### What `imaging_depths` and `targeted_structures` are available? Are they different depending on `project_code`?"
   ]
  },
  {
   "cell_type": "code",
   "execution_count": 42,
   "metadata": {
    "pycharm": {
     "name": "#%%\n"
    }
   },
   "outputs": [
    {
     "name": "stdout",
     "output_type": "stream",
     "text": [
      "\n",
      "imaging_depths available for VisualBehaviorMultiscope include:  [300 225 150  75  85 169 263  73 359 271  79 275 267 363 361 167 365 367\n",
      " 269 177 283 175 371 373  81 165 369 171  77  83 377 279 259 274 146 152\n",
      " 227  71 144 158 276 142  69 160 217  87  51 140 219 215 156 162 211 221\n",
      " 148 166 223 231  93 282 174 213 320 306 229 298 218 232 285 179 270 272\n",
      " 251 273 145 154 302 308 278 312 383 161 381 265 261 230 290 228 284  61\n",
      " 233 292 304  65 289 235 310 375 280 281 295 197  91 187 277 355 183 181\n",
      " 291 185  95 173  67 321 149 287 220 322 226 222 315 294 147 286 132 316\n",
      " 296 350 348 379 340 345]\n",
      "\n",
      "targeted_structures available for VisualBehaviorMultiscope include:  ['VISl' 'VISp']\n",
      "\n",
      "\n",
      "\n",
      "imaging_depths available for VisualBehaviorTask1B include:  [275 175 375]\n",
      "\n",
      "targeted_structures available for VisualBehaviorTask1B include:  ['VISp']\n",
      "\n",
      "\n",
      "\n",
      "imaging_depths available for VisualBehavior include:  [175 375 290 275]\n",
      "\n",
      "targeted_structures available for VisualBehavior include:  ['VISp']\n",
      "\n",
      "\n",
      "\n",
      "imaging_depths available for VisualBehaviorMultiscope4areasx2d include:  [179 187 163 263 265 167 267 271 169 171 183 255 181 277 175 273 275 269\n",
      " 185 193 283 189 165 177 173 159 279 281 240 150 260 160 205 155 210 145\n",
      " 270 125 295 170 289 191 300 182 257 174 285 245 195 250 297 251 249 156\n",
      " 190 176 305 244 310 200 107 123 157 227 153 103 111 139 225 161 109 110\n",
      " 137 221 101 219 135 121 151 105 261 213 217 211 143 133 117 241 223 147\n",
      " 287 308 178 180 286 290 268 280 141 253 201 254 235 128 230 132 224 222\n",
      " 233 130 229 124 236 134]\n",
      "\n",
      "targeted_structures available for VisualBehaviorMultiscope4areasx2d include:  ['VISal' 'VISp' 'VISl' 'VISam']\n",
      "\n",
      "\n"
     ]
    }
   ],
   "source": [
    "# loop through project codes and print the available imaging_depths and targeted_structures\n",
    "for project_code in ophys_experiments.project_code.unique():\n",
    "    \n",
    "    project_experiments = ophys_experiments[ophys_experiments.project_code==project_code]\n",
    "    print('\\nimaging_depths available for', project_code, 'include: ', project_experiments.imaging_depth.unique())\n",
    "    print('\\ntargeted_structures available for', project_code, 'include: ', project_experiments.targeted_structure.unique())\n",
    "    print('\\n')"
   ]
  },
  {
   "cell_type": "markdown",
   "metadata": {
    "pycharm": {
     "name": "#%% md\n"
    }
   },
   "source": [
    "### `ophys_experiment_table` is useful for identifying `ophys_containers` to analyze"
   ]
  },
  {
   "cell_type": "markdown",
   "metadata": {
    "pycharm": {
     "name": "#%% md\n"
    }
   },
   "source": [
    "Compare the `ophys_container_id` column of the `ophys_experiment_table` with the `ophys_session_table`. In `ophys_session_table`, each `ophys_session_id` is associated with one or more imaging planes (`ophys_experiment_ids`), while in the `ophys_experiment_table`, you can evaluate each of those imaging planes indepdently. This is particularly helpful for identifying `ophys_containers` that you want to analyze - the set of all imaging sessions for a given imaging plane. "
   ]
  },
  {
   "cell_type": "markdown",
   "metadata": {
    "pycharm": {
     "name": "#%% md\n"
    }
   },
   "source": [
    "The `ophys_experient_table` has all the same columns as `ophys_session_table`, just reorgnized by `ophys_experiment_id`"
   ]
  },
  {
   "cell_type": "code",
   "execution_count": 43,
   "metadata": {
    "pycharm": {
     "name": "#%%\n"
    }
   },
   "outputs": [
    {
     "name": "stdout",
     "output_type": "stream",
     "text": [
      "Index(['equipment_name', 'full_genotype', 'mouse_id', 'reporter_line',\n",
      "       'driver_line', 'sex', 'age_in_days', 'cre_line', 'indicator',\n",
      "       'session_number', 'prior_exposures_to_session_type',\n",
      "       'prior_exposures_to_image_set', 'prior_exposures_to_omissions',\n",
      "       'ophys_session_id', 'behavior_session_id', 'ophys_container_id',\n",
      "       'project_code', 'imaging_depth', 'targeted_structure',\n",
      "       'date_of_acquisition', 'session_type', 'experience_level', 'passive',\n",
      "       'image_set', 'file_id'],\n",
      "      dtype='object')\n"
     ]
    }
   ],
   "source": [
    "print(ophys_experiments.columns)"
   ]
  },
  {
   "cell_type": "markdown",
   "metadata": {
    "pycharm": {
     "name": "#%% md\n"
    }
   },
   "source": [
    "This means that each `ophys_experiment_id` has a single `ophys_container_id`."
   ]
  },
  {
   "cell_type": "markdown",
   "metadata": {
    "pycharm": {
     "name": "#%% md\n"
    }
   },
   "source": [
    "#### Let's pick an `ophys_container_id` and see what `ophys_experiments` it contains? "
   ]
  },
  {
   "cell_type": "code",
   "execution_count": 44,
   "metadata": {
    "pycharm": {
     "name": "#%%\n"
    }
   },
   "outputs": [],
   "source": [
    "ophys_container_id = ophys_experiments.ophys_container_id.unique()[50]"
   ]
  },
  {
   "cell_type": "code",
   "execution_count": 45,
   "metadata": {
    "pycharm": {
     "name": "#%%\n"
    }
   },
   "outputs": [
    {
     "data": {
      "text/html": [
       "<div>\n",
       "<style scoped>\n",
       "    .dataframe tbody tr th:only-of-type {\n",
       "        vertical-align: middle;\n",
       "    }\n",
       "\n",
       "    .dataframe tbody tr th {\n",
       "        vertical-align: top;\n",
       "    }\n",
       "\n",
       "    .dataframe thead th {\n",
       "        text-align: right;\n",
       "    }\n",
       "</style>\n",
       "<table border=\"1\" class=\"dataframe\">\n",
       "  <thead>\n",
       "    <tr style=\"text-align: right;\">\n",
       "      <th></th>\n",
       "      <th>equipment_name</th>\n",
       "      <th>full_genotype</th>\n",
       "      <th>mouse_id</th>\n",
       "      <th>reporter_line</th>\n",
       "      <th>driver_line</th>\n",
       "      <th>sex</th>\n",
       "      <th>age_in_days</th>\n",
       "      <th>cre_line</th>\n",
       "      <th>indicator</th>\n",
       "      <th>session_number</th>\n",
       "      <th>...</th>\n",
       "      <th>ophys_container_id</th>\n",
       "      <th>project_code</th>\n",
       "      <th>imaging_depth</th>\n",
       "      <th>targeted_structure</th>\n",
       "      <th>date_of_acquisition</th>\n",
       "      <th>session_type</th>\n",
       "      <th>experience_level</th>\n",
       "      <th>passive</th>\n",
       "      <th>image_set</th>\n",
       "      <th>file_id</th>\n",
       "    </tr>\n",
       "    <tr>\n",
       "      <th>ophys_experiment_id</th>\n",
       "      <th></th>\n",
       "      <th></th>\n",
       "      <th></th>\n",
       "      <th></th>\n",
       "      <th></th>\n",
       "      <th></th>\n",
       "      <th></th>\n",
       "      <th></th>\n",
       "      <th></th>\n",
       "      <th></th>\n",
       "      <th></th>\n",
       "      <th></th>\n",
       "      <th></th>\n",
       "      <th></th>\n",
       "      <th></th>\n",
       "      <th></th>\n",
       "      <th></th>\n",
       "      <th></th>\n",
       "      <th></th>\n",
       "      <th></th>\n",
       "      <th></th>\n",
       "    </tr>\n",
       "  </thead>\n",
       "  <tbody>\n",
       "    <tr>\n",
       "      <th>975608416</th>\n",
       "      <td>MESO.1</td>\n",
       "      <td>Slc17a7-IRES2-Cre/wt;Camk2a-tTA/wt;Ai93(TITL-G...</td>\n",
       "      <td>484408</td>\n",
       "      <td>Ai93(TITL-GCaMP6f)</td>\n",
       "      <td>[Slc17a7-IRES2-Cre, Camk2a-tTA]</td>\n",
       "      <td>M</td>\n",
       "      <td>116.0</td>\n",
       "      <td>Slc17a7-IRES2-Cre</td>\n",
       "      <td>GCaMP6f</td>\n",
       "      <td>1.0</td>\n",
       "      <td>...</td>\n",
       "      <td>1018027762</td>\n",
       "      <td>VisualBehaviorMultiscope4areasx2d</td>\n",
       "      <td>269</td>\n",
       "      <td>VISal</td>\n",
       "      <td>2019-11-01 08:45:55.294593</td>\n",
       "      <td>OPHYS_1_images_G</td>\n",
       "      <td>Familiar</td>\n",
       "      <td>False</td>\n",
       "      <td>G</td>\n",
       "      <td>1120141220</td>\n",
       "    </tr>\n",
       "    <tr>\n",
       "      <th>976300321</th>\n",
       "      <td>MESO.1</td>\n",
       "      <td>Slc17a7-IRES2-Cre/wt;Camk2a-tTA/wt;Ai93(TITL-G...</td>\n",
       "      <td>484408</td>\n",
       "      <td>Ai93(TITL-GCaMP6f)</td>\n",
       "      <td>[Slc17a7-IRES2-Cre, Camk2a-tTA]</td>\n",
       "      <td>M</td>\n",
       "      <td>119.0</td>\n",
       "      <td>Slc17a7-IRES2-Cre</td>\n",
       "      <td>GCaMP6f</td>\n",
       "      <td>2.0</td>\n",
       "      <td>...</td>\n",
       "      <td>1018027762</td>\n",
       "      <td>VisualBehaviorMultiscope4areasx2d</td>\n",
       "      <td>271</td>\n",
       "      <td>VISal</td>\n",
       "      <td>2019-11-04 08:32:36.235453</td>\n",
       "      <td>OPHYS_2_images_G_passive</td>\n",
       "      <td>Familiar</td>\n",
       "      <td>True</td>\n",
       "      <td>G</td>\n",
       "      <td>1120140964</td>\n",
       "    </tr>\n",
       "    <tr>\n",
       "      <th>977220491</th>\n",
       "      <td>MESO.1</td>\n",
       "      <td>Slc17a7-IRES2-Cre/wt;Camk2a-tTA/wt;Ai93(TITL-G...</td>\n",
       "      <td>484408</td>\n",
       "      <td>Ai93(TITL-GCaMP6f)</td>\n",
       "      <td>[Slc17a7-IRES2-Cre, Camk2a-tTA]</td>\n",
       "      <td>M</td>\n",
       "      <td>120.0</td>\n",
       "      <td>Slc17a7-IRES2-Cre</td>\n",
       "      <td>GCaMP6f</td>\n",
       "      <td>3.0</td>\n",
       "      <td>...</td>\n",
       "      <td>1018027762</td>\n",
       "      <td>VisualBehaviorMultiscope4areasx2d</td>\n",
       "      <td>279</td>\n",
       "      <td>VISal</td>\n",
       "      <td>2019-11-05 13:17:13.145749</td>\n",
       "      <td>OPHYS_3_images_G</td>\n",
       "      <td>Familiar</td>\n",
       "      <td>False</td>\n",
       "      <td>G</td>\n",
       "      <td>1120141255</td>\n",
       "    </tr>\n",
       "    <tr>\n",
       "      <th>977975800</th>\n",
       "      <td>MESO.1</td>\n",
       "      <td>Slc17a7-IRES2-Cre/wt;Camk2a-tTA/wt;Ai93(TITL-G...</td>\n",
       "      <td>484408</td>\n",
       "      <td>Ai93(TITL-GCaMP6f)</td>\n",
       "      <td>[Slc17a7-IRES2-Cre, Camk2a-tTA]</td>\n",
       "      <td>M</td>\n",
       "      <td>121.0</td>\n",
       "      <td>Slc17a7-IRES2-Cre</td>\n",
       "      <td>GCaMP6f</td>\n",
       "      <td>4.0</td>\n",
       "      <td>...</td>\n",
       "      <td>1018027762</td>\n",
       "      <td>VisualBehaviorMultiscope4areasx2d</td>\n",
       "      <td>267</td>\n",
       "      <td>VISal</td>\n",
       "      <td>2019-11-06 08:27:13.524215</td>\n",
       "      <td>OPHYS_4_images_H</td>\n",
       "      <td>Novel 1</td>\n",
       "      <td>False</td>\n",
       "      <td>H</td>\n",
       "      <td>1120141293</td>\n",
       "    </tr>\n",
       "    <tr>\n",
       "      <th>978284060</th>\n",
       "      <td>MESO.1</td>\n",
       "      <td>Slc17a7-IRES2-Cre/wt;Camk2a-tTA/wt;Ai93(TITL-G...</td>\n",
       "      <td>484408</td>\n",
       "      <td>Ai93(TITL-GCaMP6f)</td>\n",
       "      <td>[Slc17a7-IRES2-Cre, Camk2a-tTA]</td>\n",
       "      <td>M</td>\n",
       "      <td>122.0</td>\n",
       "      <td>Slc17a7-IRES2-Cre</td>\n",
       "      <td>GCaMP6f</td>\n",
       "      <td>5.0</td>\n",
       "      <td>...</td>\n",
       "      <td>1018027762</td>\n",
       "      <td>VisualBehaviorMultiscope4areasx2d</td>\n",
       "      <td>265</td>\n",
       "      <td>VISal</td>\n",
       "      <td>2019-11-07 10:50:28.679567</td>\n",
       "      <td>OPHYS_5_images_H_passive</td>\n",
       "      <td>Novel &gt;1</td>\n",
       "      <td>True</td>\n",
       "      <td>H</td>\n",
       "      <td>1120141065</td>\n",
       "    </tr>\n",
       "    <tr>\n",
       "      <th>978866906</th>\n",
       "      <td>MESO.1</td>\n",
       "      <td>Slc17a7-IRES2-Cre/wt;Camk2a-tTA/wt;Ai93(TITL-G...</td>\n",
       "      <td>484408</td>\n",
       "      <td>Ai93(TITL-GCaMP6f)</td>\n",
       "      <td>[Slc17a7-IRES2-Cre, Camk2a-tTA]</td>\n",
       "      <td>M</td>\n",
       "      <td>123.0</td>\n",
       "      <td>Slc17a7-IRES2-Cre</td>\n",
       "      <td>GCaMP6f</td>\n",
       "      <td>6.0</td>\n",
       "      <td>...</td>\n",
       "      <td>1018027762</td>\n",
       "      <td>VisualBehaviorMultiscope4areasx2d</td>\n",
       "      <td>273</td>\n",
       "      <td>VISal</td>\n",
       "      <td>2019-11-08 08:16:50.612003</td>\n",
       "      <td>OPHYS_6_images_H</td>\n",
       "      <td>Novel &gt;1</td>\n",
       "      <td>False</td>\n",
       "      <td>H</td>\n",
       "      <td>1120141177</td>\n",
       "    </tr>\n",
       "  </tbody>\n",
       "</table>\n",
       "<p>6 rows × 25 columns</p>\n",
       "</div>"
      ],
      "text/plain": [
       "                    equipment_name  \\\n",
       "ophys_experiment_id                  \n",
       "975608416                   MESO.1   \n",
       "976300321                   MESO.1   \n",
       "977220491                   MESO.1   \n",
       "977975800                   MESO.1   \n",
       "978284060                   MESO.1   \n",
       "978866906                   MESO.1   \n",
       "\n",
       "                                                         full_genotype  \\\n",
       "ophys_experiment_id                                                      \n",
       "975608416            Slc17a7-IRES2-Cre/wt;Camk2a-tTA/wt;Ai93(TITL-G...   \n",
       "976300321            Slc17a7-IRES2-Cre/wt;Camk2a-tTA/wt;Ai93(TITL-G...   \n",
       "977220491            Slc17a7-IRES2-Cre/wt;Camk2a-tTA/wt;Ai93(TITL-G...   \n",
       "977975800            Slc17a7-IRES2-Cre/wt;Camk2a-tTA/wt;Ai93(TITL-G...   \n",
       "978284060            Slc17a7-IRES2-Cre/wt;Camk2a-tTA/wt;Ai93(TITL-G...   \n",
       "978866906            Slc17a7-IRES2-Cre/wt;Camk2a-tTA/wt;Ai93(TITL-G...   \n",
       "\n",
       "                    mouse_id       reporter_line  \\\n",
       "ophys_experiment_id                                \n",
       "975608416             484408  Ai93(TITL-GCaMP6f)   \n",
       "976300321             484408  Ai93(TITL-GCaMP6f)   \n",
       "977220491             484408  Ai93(TITL-GCaMP6f)   \n",
       "977975800             484408  Ai93(TITL-GCaMP6f)   \n",
       "978284060             484408  Ai93(TITL-GCaMP6f)   \n",
       "978866906             484408  Ai93(TITL-GCaMP6f)   \n",
       "\n",
       "                                         driver_line sex  age_in_days  \\\n",
       "ophys_experiment_id                                                     \n",
       "975608416            [Slc17a7-IRES2-Cre, Camk2a-tTA]   M        116.0   \n",
       "976300321            [Slc17a7-IRES2-Cre, Camk2a-tTA]   M        119.0   \n",
       "977220491            [Slc17a7-IRES2-Cre, Camk2a-tTA]   M        120.0   \n",
       "977975800            [Slc17a7-IRES2-Cre, Camk2a-tTA]   M        121.0   \n",
       "978284060            [Slc17a7-IRES2-Cre, Camk2a-tTA]   M        122.0   \n",
       "978866906            [Slc17a7-IRES2-Cre, Camk2a-tTA]   M        123.0   \n",
       "\n",
       "                              cre_line indicator  session_number  ...  \\\n",
       "ophys_experiment_id                                               ...   \n",
       "975608416            Slc17a7-IRES2-Cre   GCaMP6f             1.0  ...   \n",
       "976300321            Slc17a7-IRES2-Cre   GCaMP6f             2.0  ...   \n",
       "977220491            Slc17a7-IRES2-Cre   GCaMP6f             3.0  ...   \n",
       "977975800            Slc17a7-IRES2-Cre   GCaMP6f             4.0  ...   \n",
       "978284060            Slc17a7-IRES2-Cre   GCaMP6f             5.0  ...   \n",
       "978866906            Slc17a7-IRES2-Cre   GCaMP6f             6.0  ...   \n",
       "\n",
       "                     ophys_container_id                       project_code  \\\n",
       "ophys_experiment_id                                                          \n",
       "975608416                    1018027762  VisualBehaviorMultiscope4areasx2d   \n",
       "976300321                    1018027762  VisualBehaviorMultiscope4areasx2d   \n",
       "977220491                    1018027762  VisualBehaviorMultiscope4areasx2d   \n",
       "977975800                    1018027762  VisualBehaviorMultiscope4areasx2d   \n",
       "978284060                    1018027762  VisualBehaviorMultiscope4areasx2d   \n",
       "978866906                    1018027762  VisualBehaviorMultiscope4areasx2d   \n",
       "\n",
       "                     imaging_depth  targeted_structure  \\\n",
       "ophys_experiment_id                                      \n",
       "975608416                      269               VISal   \n",
       "976300321                      271               VISal   \n",
       "977220491                      279               VISal   \n",
       "977975800                      267               VISal   \n",
       "978284060                      265               VISal   \n",
       "978866906                      273               VISal   \n",
       "\n",
       "                           date_of_acquisition              session_type  \\\n",
       "ophys_experiment_id                                                        \n",
       "975608416           2019-11-01 08:45:55.294593          OPHYS_1_images_G   \n",
       "976300321           2019-11-04 08:32:36.235453  OPHYS_2_images_G_passive   \n",
       "977220491           2019-11-05 13:17:13.145749          OPHYS_3_images_G   \n",
       "977975800           2019-11-06 08:27:13.524215          OPHYS_4_images_H   \n",
       "978284060           2019-11-07 10:50:28.679567  OPHYS_5_images_H_passive   \n",
       "978866906           2019-11-08 08:16:50.612003          OPHYS_6_images_H   \n",
       "\n",
       "                    experience_level  passive image_set     file_id  \n",
       "ophys_experiment_id                                                  \n",
       "975608416                   Familiar    False         G  1120141220  \n",
       "976300321                   Familiar     True         G  1120140964  \n",
       "977220491                   Familiar    False         G  1120141255  \n",
       "977975800                    Novel 1    False         H  1120141293  \n",
       "978284060                   Novel >1     True         H  1120141065  \n",
       "978866906                   Novel >1    False         H  1120141177  \n",
       "\n",
       "[6 rows x 25 columns]"
      ]
     },
     "execution_count": 45,
     "metadata": {},
     "output_type": "execute_result"
    }
   ],
   "source": [
    "container_experiments = ophys_experiments[ophys_experiments.ophys_container_id==ophys_container_id]\n",
    "container_experiments"
   ]
  },
  {
   "cell_type": "markdown",
   "metadata": {
    "pycharm": {
     "name": "#%% md\n"
    }
   },
   "source": [
    "Thats 7 different recording sessions for this single imaging plane. Remember that one `ophys_container_id` is linked to one imaging plane, recorded in multiple sessions"
   ]
  },
  {
   "cell_type": "markdown",
   "metadata": {
    "pycharm": {
     "name": "#%% md\n"
    }
   },
   "source": [
    "#### What are the session types for this container? "
   ]
  },
  {
   "cell_type": "code",
   "execution_count": 46,
   "metadata": {
    "pycharm": {
     "name": "#%%\n"
    }
   },
   "outputs": [
    {
     "data": {
      "text/plain": [
       "array(['OPHYS_1_images_G', 'OPHYS_2_images_G_passive', 'OPHYS_3_images_G',\n",
       "       'OPHYS_4_images_H', 'OPHYS_5_images_H_passive', 'OPHYS_6_images_H'],\n",
       "      dtype=object)"
      ]
     },
     "execution_count": 46,
     "metadata": {},
     "output_type": "execute_result"
    }
   ],
   "source": [
    "container_experiments.session_type.unique()"
   ]
  },
  {
   "cell_type": "markdown",
   "metadata": {
    "pycharm": {
     "name": "#%% md\n"
    }
   },
   "source": [
    "### Reminder about structure & terminology of the dataset"
   ]
  },
  {
   "cell_type": "markdown",
   "metadata": {
    "pycharm": {
     "name": "#%% md\n"
    }
   },
   "source": [
    "<div>\n",
    "<img src=\"https://allensdk.readthedocs.io/en/latest/_static/visual_behavior_2p/data_structure.png\" width=\"900\"/>\n",
    "</div>"
   ]
  },
  {
   "cell_type": "markdown",
   "metadata": {
    "pycharm": {
     "name": "#%% md\n"
    }
   },
   "source": [
    "### Reminder about cre lines"
   ]
  },
  {
   "cell_type": "markdown",
   "metadata": {
    "pycharm": {
     "name": "#%% md\n"
    }
   },
   "source": [
    "<div>\n",
    "<img src=\"https://allensdk.readthedocs.io/en/latest/_static/visual_behavior_2p/cre_lines2.png\" width=\"900\"/>\n",
    "</div>"
   ]
  },
  {
   "cell_type": "markdown",
   "metadata": {
    "pycharm": {
     "name": "#%% md\n"
    }
   },
   "source": [
    "### Reminder about dataset variants aka project_codes"
   ]
  },
  {
   "cell_type": "markdown",
   "metadata": {
    "pycharm": {
     "name": "#%% md\n"
    }
   },
   "source": [
    "<div>\n",
    "<img src=\"https://allensdk.readthedocs.io/en/latest/_static/visual_behavior_2p/datasets.png\" width=\"900\"/>\n",
    "</div>"
   ]
  },
  {
   "cell_type": "markdown",
   "metadata": {
    "pycharm": {
     "name": "#%% md\n"
    }
   },
   "source": [
    "### Reminder about session types"
   ]
  },
  {
   "cell_type": "markdown",
   "metadata": {
    "pycharm": {
     "name": "#%% md\n"
    }
   },
   "source": [
    "<div>\n",
    "<img src=\"https://allensdk.readthedocs.io/en/latest/_static/visual_behavior_2p/automated_training.png\" width=\"900\"/>\n",
    "</div>"
   ]
  },
  {
   "cell_type": "markdown",
   "metadata": {
    "pycharm": {
     "name": "#%% md\n"
    }
   },
   "source": [
    "<div>\n",
    "<img src=\"https://allensdk.readthedocs.io/en/latest/_static/visual_behavior_2p/experiment_design.png\" width=\"900\"/>\n",
    "</div>"
   ]
  },
  {
   "cell_type": "code",
   "execution_count": null,
   "metadata": {
    "pycharm": {
     "name": "#%%\n"
    }
   },
   "outputs": [],
   "source": []
  },
  {
   "cell_type": "markdown",
   "metadata": {
    "pycharm": {
     "name": "#%% md\n"
    }
   },
   "source": [
    "## Identifying experiments and sessions of interest"
   ]
  },
  {
   "cell_type": "markdown",
   "metadata": {
    "pycharm": {
     "name": "#%% md\n"
    }
   },
   "source": [
    "### Get all experiments for one container from an Sst-IRES-Cre mouse in the VisualBehaviorTask1B project code "
   ]
  },
  {
   "cell_type": "code",
   "execution_count": 47,
   "metadata": {
    "pycharm": {
     "name": "#%%\n"
    }
   },
   "outputs": [
    {
     "name": "stdout",
     "output_type": "stream",
     "text": [
      "941373529\n"
     ]
    }
   ],
   "source": [
    "# get all Sst experiments in the relevant project code\n",
    "sst_experiments = ophys_experiments[(ophys_experiments.cre_line=='Sst-IRES-Cre')&\n",
    "                 (ophys_experiments.project_code=='VisualBehaviorTask1B')]\n",
    "\n",
    "# pick some container from this set\n",
    "ophys_container_id = sst_experiments.ophys_container_id.unique()[1]\n",
    "print(ophys_container_id)"
   ]
  },
  {
   "cell_type": "code",
   "execution_count": 48,
   "metadata": {
    "pycharm": {
     "name": "#%%\n"
    }
   },
   "outputs": [
    {
     "data": {
      "text/html": [
       "<div>\n",
       "<style scoped>\n",
       "    .dataframe tbody tr th:only-of-type {\n",
       "        vertical-align: middle;\n",
       "    }\n",
       "\n",
       "    .dataframe tbody tr th {\n",
       "        vertical-align: top;\n",
       "    }\n",
       "\n",
       "    .dataframe thead th {\n",
       "        text-align: right;\n",
       "    }\n",
       "</style>\n",
       "<table border=\"1\" class=\"dataframe\">\n",
       "  <thead>\n",
       "    <tr style=\"text-align: right;\">\n",
       "      <th></th>\n",
       "      <th>equipment_name</th>\n",
       "      <th>full_genotype</th>\n",
       "      <th>mouse_id</th>\n",
       "      <th>reporter_line</th>\n",
       "      <th>driver_line</th>\n",
       "      <th>sex</th>\n",
       "      <th>age_in_days</th>\n",
       "      <th>cre_line</th>\n",
       "      <th>indicator</th>\n",
       "      <th>session_number</th>\n",
       "      <th>...</th>\n",
       "      <th>ophys_container_id</th>\n",
       "      <th>project_code</th>\n",
       "      <th>imaging_depth</th>\n",
       "      <th>targeted_structure</th>\n",
       "      <th>date_of_acquisition</th>\n",
       "      <th>session_type</th>\n",
       "      <th>experience_level</th>\n",
       "      <th>passive</th>\n",
       "      <th>image_set</th>\n",
       "      <th>file_id</th>\n",
       "    </tr>\n",
       "    <tr>\n",
       "      <th>ophys_experiment_id</th>\n",
       "      <th></th>\n",
       "      <th></th>\n",
       "      <th></th>\n",
       "      <th></th>\n",
       "      <th></th>\n",
       "      <th></th>\n",
       "      <th></th>\n",
       "      <th></th>\n",
       "      <th></th>\n",
       "      <th></th>\n",
       "      <th></th>\n",
       "      <th></th>\n",
       "      <th></th>\n",
       "      <th></th>\n",
       "      <th></th>\n",
       "      <th></th>\n",
       "      <th></th>\n",
       "      <th></th>\n",
       "      <th></th>\n",
       "      <th></th>\n",
       "      <th></th>\n",
       "    </tr>\n",
       "  </thead>\n",
       "  <tbody>\n",
       "    <tr>\n",
       "      <th>955276580</th>\n",
       "      <td>CAM2P.5</td>\n",
       "      <td>Sst-IRES-Cre/wt;Ai148(TIT2L-GC6f-ICL-tTA2)/wt</td>\n",
       "      <td>470784</td>\n",
       "      <td>Ai148(TIT2L-GC6f-ICL-tTA2)</td>\n",
       "      <td>[Sst-IRES-Cre]</td>\n",
       "      <td>F</td>\n",
       "      <td>149.0</td>\n",
       "      <td>Sst-IRES-Cre</td>\n",
       "      <td>GCaMP6f</td>\n",
       "      <td>1.0</td>\n",
       "      <td>...</td>\n",
       "      <td>941373529</td>\n",
       "      <td>VisualBehaviorTask1B</td>\n",
       "      <td>275</td>\n",
       "      <td>VISp</td>\n",
       "      <td>2019-09-25 20:06:45</td>\n",
       "      <td>OPHYS_1_images_B</td>\n",
       "      <td>Familiar</td>\n",
       "      <td>False</td>\n",
       "      <td>B</td>\n",
       "      <td>957317925</td>\n",
       "    </tr>\n",
       "    <tr>\n",
       "      <th>956903375</th>\n",
       "      <td>CAM2P.5</td>\n",
       "      <td>Sst-IRES-Cre/wt;Ai148(TIT2L-GC6f-ICL-tTA2)/wt</td>\n",
       "      <td>470784</td>\n",
       "      <td>Ai148(TIT2L-GC6f-ICL-tTA2)</td>\n",
       "      <td>[Sst-IRES-Cre]</td>\n",
       "      <td>F</td>\n",
       "      <td>150.0</td>\n",
       "      <td>Sst-IRES-Cre</td>\n",
       "      <td>GCaMP6f</td>\n",
       "      <td>2.0</td>\n",
       "      <td>...</td>\n",
       "      <td>941373529</td>\n",
       "      <td>VisualBehaviorTask1B</td>\n",
       "      <td>275</td>\n",
       "      <td>VISp</td>\n",
       "      <td>2019-09-26 17:34:33</td>\n",
       "      <td>OPHYS_2_images_B_passive</td>\n",
       "      <td>Familiar</td>\n",
       "      <td>True</td>\n",
       "      <td>B</td>\n",
       "      <td>957356891</td>\n",
       "    </tr>\n",
       "    <tr>\n",
       "      <th>957652800</th>\n",
       "      <td>CAM2P.5</td>\n",
       "      <td>Sst-IRES-Cre/wt;Ai148(TIT2L-GC6f-ICL-tTA2)/wt</td>\n",
       "      <td>470784</td>\n",
       "      <td>Ai148(TIT2L-GC6f-ICL-tTA2)</td>\n",
       "      <td>[Sst-IRES-Cre]</td>\n",
       "      <td>F</td>\n",
       "      <td>151.0</td>\n",
       "      <td>Sst-IRES-Cre</td>\n",
       "      <td>GCaMP6f</td>\n",
       "      <td>3.0</td>\n",
       "      <td>...</td>\n",
       "      <td>941373529</td>\n",
       "      <td>VisualBehaviorTask1B</td>\n",
       "      <td>275</td>\n",
       "      <td>VISp</td>\n",
       "      <td>2019-09-27 18:37:17</td>\n",
       "      <td>OPHYS_3_images_B</td>\n",
       "      <td>Familiar</td>\n",
       "      <td>False</td>\n",
       "      <td>B</td>\n",
       "      <td>957800643</td>\n",
       "    </tr>\n",
       "    <tr>\n",
       "      <th>959337347</th>\n",
       "      <td>CAM2P.5</td>\n",
       "      <td>Sst-IRES-Cre/wt;Ai148(TIT2L-GC6f-ICL-tTA2)/wt</td>\n",
       "      <td>470784</td>\n",
       "      <td>Ai148(TIT2L-GC6f-ICL-tTA2)</td>\n",
       "      <td>[Sst-IRES-Cre]</td>\n",
       "      <td>F</td>\n",
       "      <td>155.0</td>\n",
       "      <td>Sst-IRES-Cre</td>\n",
       "      <td>GCaMP6f</td>\n",
       "      <td>4.0</td>\n",
       "      <td>...</td>\n",
       "      <td>941373529</td>\n",
       "      <td>VisualBehaviorTask1B</td>\n",
       "      <td>275</td>\n",
       "      <td>VISp</td>\n",
       "      <td>2019-10-01 17:57:39</td>\n",
       "      <td>OPHYS_4_images_A</td>\n",
       "      <td>Novel &gt;1</td>\n",
       "      <td>False</td>\n",
       "      <td>A</td>\n",
       "      <td>959436242</td>\n",
       "    </tr>\n",
       "    <tr>\n",
       "      <th>960351917</th>\n",
       "      <td>CAM2P.5</td>\n",
       "      <td>Sst-IRES-Cre/wt;Ai148(TIT2L-GC6f-ICL-tTA2)/wt</td>\n",
       "      <td>470784</td>\n",
       "      <td>Ai148(TIT2L-GC6f-ICL-tTA2)</td>\n",
       "      <td>[Sst-IRES-Cre]</td>\n",
       "      <td>F</td>\n",
       "      <td>156.0</td>\n",
       "      <td>Sst-IRES-Cre</td>\n",
       "      <td>GCaMP6f</td>\n",
       "      <td>5.0</td>\n",
       "      <td>...</td>\n",
       "      <td>941373529</td>\n",
       "      <td>VisualBehaviorTask1B</td>\n",
       "      <td>275</td>\n",
       "      <td>VISp</td>\n",
       "      <td>2019-10-02 18:23:56</td>\n",
       "      <td>OPHYS_5_images_A_passive</td>\n",
       "      <td>Novel &gt;1</td>\n",
       "      <td>True</td>\n",
       "      <td>A</td>\n",
       "      <td>960425985</td>\n",
       "    </tr>\n",
       "    <tr>\n",
       "      <th>960960480</th>\n",
       "      <td>CAM2P.5</td>\n",
       "      <td>Sst-IRES-Cre/wt;Ai148(TIT2L-GC6f-ICL-tTA2)/wt</td>\n",
       "      <td>470784</td>\n",
       "      <td>Ai148(TIT2L-GC6f-ICL-tTA2)</td>\n",
       "      <td>[Sst-IRES-Cre]</td>\n",
       "      <td>F</td>\n",
       "      <td>157.0</td>\n",
       "      <td>Sst-IRES-Cre</td>\n",
       "      <td>GCaMP6f</td>\n",
       "      <td>6.0</td>\n",
       "      <td>...</td>\n",
       "      <td>941373529</td>\n",
       "      <td>VisualBehaviorTask1B</td>\n",
       "      <td>275</td>\n",
       "      <td>VISp</td>\n",
       "      <td>2019-10-03 18:01:02</td>\n",
       "      <td>OPHYS_6_images_A</td>\n",
       "      <td>Novel &gt;1</td>\n",
       "      <td>False</td>\n",
       "      <td>A</td>\n",
       "      <td>961030683</td>\n",
       "    </tr>\n",
       "  </tbody>\n",
       "</table>\n",
       "<p>6 rows × 25 columns</p>\n",
       "</div>"
      ],
      "text/plain": [
       "                    equipment_name  \\\n",
       "ophys_experiment_id                  \n",
       "955276580                  CAM2P.5   \n",
       "956903375                  CAM2P.5   \n",
       "957652800                  CAM2P.5   \n",
       "959337347                  CAM2P.5   \n",
       "960351917                  CAM2P.5   \n",
       "960960480                  CAM2P.5   \n",
       "\n",
       "                                                     full_genotype mouse_id  \\\n",
       "ophys_experiment_id                                                           \n",
       "955276580            Sst-IRES-Cre/wt;Ai148(TIT2L-GC6f-ICL-tTA2)/wt   470784   \n",
       "956903375            Sst-IRES-Cre/wt;Ai148(TIT2L-GC6f-ICL-tTA2)/wt   470784   \n",
       "957652800            Sst-IRES-Cre/wt;Ai148(TIT2L-GC6f-ICL-tTA2)/wt   470784   \n",
       "959337347            Sst-IRES-Cre/wt;Ai148(TIT2L-GC6f-ICL-tTA2)/wt   470784   \n",
       "960351917            Sst-IRES-Cre/wt;Ai148(TIT2L-GC6f-ICL-tTA2)/wt   470784   \n",
       "960960480            Sst-IRES-Cre/wt;Ai148(TIT2L-GC6f-ICL-tTA2)/wt   470784   \n",
       "\n",
       "                                  reporter_line     driver_line sex  \\\n",
       "ophys_experiment_id                                                   \n",
       "955276580            Ai148(TIT2L-GC6f-ICL-tTA2)  [Sst-IRES-Cre]   F   \n",
       "956903375            Ai148(TIT2L-GC6f-ICL-tTA2)  [Sst-IRES-Cre]   F   \n",
       "957652800            Ai148(TIT2L-GC6f-ICL-tTA2)  [Sst-IRES-Cre]   F   \n",
       "959337347            Ai148(TIT2L-GC6f-ICL-tTA2)  [Sst-IRES-Cre]   F   \n",
       "960351917            Ai148(TIT2L-GC6f-ICL-tTA2)  [Sst-IRES-Cre]   F   \n",
       "960960480            Ai148(TIT2L-GC6f-ICL-tTA2)  [Sst-IRES-Cre]   F   \n",
       "\n",
       "                     age_in_days      cre_line indicator  session_number  ...  \\\n",
       "ophys_experiment_id                                                       ...   \n",
       "955276580                  149.0  Sst-IRES-Cre   GCaMP6f             1.0  ...   \n",
       "956903375                  150.0  Sst-IRES-Cre   GCaMP6f             2.0  ...   \n",
       "957652800                  151.0  Sst-IRES-Cre   GCaMP6f             3.0  ...   \n",
       "959337347                  155.0  Sst-IRES-Cre   GCaMP6f             4.0  ...   \n",
       "960351917                  156.0  Sst-IRES-Cre   GCaMP6f             5.0  ...   \n",
       "960960480                  157.0  Sst-IRES-Cre   GCaMP6f             6.0  ...   \n",
       "\n",
       "                     ophys_container_id          project_code  imaging_depth  \\\n",
       "ophys_experiment_id                                                            \n",
       "955276580                     941373529  VisualBehaviorTask1B            275   \n",
       "956903375                     941373529  VisualBehaviorTask1B            275   \n",
       "957652800                     941373529  VisualBehaviorTask1B            275   \n",
       "959337347                     941373529  VisualBehaviorTask1B            275   \n",
       "960351917                     941373529  VisualBehaviorTask1B            275   \n",
       "960960480                     941373529  VisualBehaviorTask1B            275   \n",
       "\n",
       "                     targeted_structure  date_of_acquisition  \\\n",
       "ophys_experiment_id                                            \n",
       "955276580                          VISp  2019-09-25 20:06:45   \n",
       "956903375                          VISp  2019-09-26 17:34:33   \n",
       "957652800                          VISp  2019-09-27 18:37:17   \n",
       "959337347                          VISp  2019-10-01 17:57:39   \n",
       "960351917                          VISp  2019-10-02 18:23:56   \n",
       "960960480                          VISp  2019-10-03 18:01:02   \n",
       "\n",
       "                                 session_type experience_level  passive  \\\n",
       "ophys_experiment_id                                                       \n",
       "955276580                    OPHYS_1_images_B         Familiar    False   \n",
       "956903375            OPHYS_2_images_B_passive         Familiar     True   \n",
       "957652800                    OPHYS_3_images_B         Familiar    False   \n",
       "959337347                    OPHYS_4_images_A         Novel >1    False   \n",
       "960351917            OPHYS_5_images_A_passive         Novel >1     True   \n",
       "960960480                    OPHYS_6_images_A         Novel >1    False   \n",
       "\n",
       "                    image_set    file_id  \n",
       "ophys_experiment_id                       \n",
       "955276580                   B  957317925  \n",
       "956903375                   B  957356891  \n",
       "957652800                   B  957800643  \n",
       "959337347                   A  959436242  \n",
       "960351917                   A  960425985  \n",
       "960960480                   A  961030683  \n",
       "\n",
       "[6 rows x 25 columns]"
      ]
     },
     "execution_count": 48,
     "metadata": {},
     "output_type": "execute_result"
    }
   ],
   "source": [
    "# what experiments are there for this container? \n",
    "sst_container_experiments = sst_experiments[sst_experiments.ophys_container_id==ophys_container_id]\n",
    "sst_container_experiments"
   ]
  },
  {
   "cell_type": "markdown",
   "metadata": {
    "pycharm": {
     "name": "#%% md\n"
    }
   },
   "source": [
    "### Load the BehaviorOphysExperiment dataset for each ophys_experiment_id in the container and plot the max intensity projection - are they well aligned across sessions? can you identify the same neurons?  "
   ]
  },
  {
   "cell_type": "code",
   "execution_count": 49,
   "metadata": {
    "pycharm": {
     "name": "#%%\n"
    }
   },
   "outputs": [],
   "source": [
    "import matplotlib.pyplot as plt"
   ]
  },
  {
   "cell_type": "code",
   "execution_count": 50,
   "metadata": {
    "pycharm": {
     "name": "#%%\n"
    }
   },
   "outputs": [
    {
     "name": "stderr",
     "output_type": "stream",
     "text": [
      "behavior_ophys_experiment_955276580.nwb: 100%|██████████| 280M/280M [00:25<00:00, 10.8MMB/s]    \n",
      "/opt/anaconda3/lib/python3.8/site-packages/hdmf/spec/namespace.py:532: UserWarning: Ignoring cached namespace 'hdmf-common' version 1.3.0 because version 1.5.0 is already loaded.\n",
      "  warn(\"Ignoring cached namespace '%s' version %s because version %s is already loaded.\"\n"
     ]
    },
    {
     "ename": "KeyError",
     "evalue": "'demixed_trace'",
     "output_type": "error",
     "traceback": [
      "\u001b[0;31m---------------------------------------------------------------------------\u001b[0m",
      "\u001b[0;31mKeyError\u001b[0m                                  Traceback (most recent call last)",
      "\u001b[0;32m<ipython-input-50-c53f86912562>\u001b[0m in \u001b[0;36m<module>\u001b[0;34m\u001b[0m\n\u001b[1;32m      7\u001b[0m \u001b[0;32mfor\u001b[0m \u001b[0mi\u001b[0m\u001b[0;34m,\u001b[0m \u001b[0mophys_experiment_id\u001b[0m \u001b[0;32min\u001b[0m \u001b[0menumerate\u001b[0m\u001b[0;34m(\u001b[0m\u001b[0mophys_experiment_ids\u001b[0m\u001b[0;34m)\u001b[0m\u001b[0;34m:\u001b[0m\u001b[0;34m\u001b[0m\u001b[0;34m\u001b[0m\u001b[0m\n\u001b[1;32m      8\u001b[0m     \u001b[0;31m# get the dataset object\u001b[0m\u001b[0;34m\u001b[0m\u001b[0;34m\u001b[0m\u001b[0;34m\u001b[0m\u001b[0m\n\u001b[0;32m----> 9\u001b[0;31m     \u001b[0mdataset\u001b[0m \u001b[0;34m=\u001b[0m \u001b[0mcache\u001b[0m\u001b[0;34m.\u001b[0m\u001b[0mget_behavior_ophys_experiment\u001b[0m\u001b[0;34m(\u001b[0m\u001b[0mophys_experiment_id\u001b[0m\u001b[0;34m=\u001b[0m\u001b[0mophys_experiment_id\u001b[0m\u001b[0;34m)\u001b[0m\u001b[0;34m\u001b[0m\u001b[0;34m\u001b[0m\u001b[0m\n\u001b[0m\u001b[1;32m     10\u001b[0m     \u001b[0;31m# get the max intensity projection and plot on the appropriate axis\u001b[0m\u001b[0;34m\u001b[0m\u001b[0;34m\u001b[0m\u001b[0;34m\u001b[0m\u001b[0m\n\u001b[1;32m     11\u001b[0m     \u001b[0max\u001b[0m\u001b[0;34m[\u001b[0m\u001b[0mi\u001b[0m\u001b[0;34m]\u001b[0m\u001b[0;34m.\u001b[0m\u001b[0mimshow\u001b[0m\u001b[0;34m(\u001b[0m\u001b[0mdataset\u001b[0m\u001b[0;34m.\u001b[0m\u001b[0mmax_projection\u001b[0m\u001b[0;34m.\u001b[0m\u001b[0mdata\u001b[0m\u001b[0;34m,\u001b[0m \u001b[0mcmap\u001b[0m\u001b[0;34m=\u001b[0m\u001b[0;34m'gray'\u001b[0m\u001b[0;34m)\u001b[0m\u001b[0;34m\u001b[0m\u001b[0;34m\u001b[0m\u001b[0m\n",
      "\u001b[0;32m/opt/anaconda3/lib/python3.8/site-packages/allensdk/brain_observatory/behavior/behavior_project_cache/behavior_project_cache.py\u001b[0m in \u001b[0;36mget_behavior_ophys_experiment\u001b[0;34m(self, ophys_experiment_id)\u001b[0m\n\u001b[1;32m    322\u001b[0m         \u001b[0mBehaviorOphysExperiment\u001b[0m\u001b[0;34m\u001b[0m\u001b[0;34m\u001b[0m\u001b[0m\n\u001b[1;32m    323\u001b[0m         \"\"\"\n\u001b[0;32m--> 324\u001b[0;31m         return self.fetch_api.get_behavior_ophys_experiment(\n\u001b[0m\u001b[1;32m    325\u001b[0m             ophys_experiment_id=ophys_experiment_id)\n\u001b[1;32m    326\u001b[0m \u001b[0;34m\u001b[0m\u001b[0m\n",
      "\u001b[0;32m/opt/anaconda3/lib/python3.8/site-packages/allensdk/brain_observatory/behavior/behavior_project_cache/project_apis/data_io/behavior_project_cloud_api.py\u001b[0m in \u001b[0;36mget_behavior_ophys_experiment\u001b[0;34m(self, ophys_experiment_id)\u001b[0m\n\u001b[1;32m    121\u001b[0m         \u001b[0mfile_id\u001b[0m \u001b[0;34m=\u001b[0m \u001b[0mstr\u001b[0m\u001b[0;34m(\u001b[0m\u001b[0mint\u001b[0m\u001b[0;34m(\u001b[0m\u001b[0mrow\u001b[0m\u001b[0;34m[\u001b[0m\u001b[0mself\u001b[0m\u001b[0;34m.\u001b[0m\u001b[0mcache\u001b[0m\u001b[0;34m.\u001b[0m\u001b[0mfile_id_column\u001b[0m\u001b[0;34m]\u001b[0m\u001b[0;34m)\u001b[0m\u001b[0;34m)\u001b[0m\u001b[0;34m\u001b[0m\u001b[0;34m\u001b[0m\u001b[0m\n\u001b[1;32m    122\u001b[0m         \u001b[0mdata_path\u001b[0m \u001b[0;34m=\u001b[0m \u001b[0mself\u001b[0m\u001b[0;34m.\u001b[0m\u001b[0m_get_data_path\u001b[0m\u001b[0;34m(\u001b[0m\u001b[0mfile_id\u001b[0m\u001b[0;34m=\u001b[0m\u001b[0mfile_id\u001b[0m\u001b[0;34m)\u001b[0m\u001b[0;34m\u001b[0m\u001b[0;34m\u001b[0m\u001b[0m\n\u001b[0;32m--> 123\u001b[0;31m         return BehaviorOphysExperiment.from_nwb_path(\n\u001b[0m\u001b[1;32m    124\u001b[0m             str(data_path))\n\u001b[1;32m    125\u001b[0m \u001b[0;34m\u001b[0m\u001b[0m\n",
      "\u001b[0;32m/opt/anaconda3/lib/python3.8/site-packages/allensdk/brain_observatory/behavior/behavior_session.py\u001b[0m in \u001b[0;36mfrom_nwb_path\u001b[0;34m(cls, nwb_path, **kwargs)\u001b[0m\n\u001b[1;32m    550\u001b[0m         \u001b[0;32mwith\u001b[0m \u001b[0mpynwb\u001b[0m\u001b[0;34m.\u001b[0m\u001b[0mNWBHDF5IO\u001b[0m\u001b[0;34m(\u001b[0m\u001b[0mnwb_path\u001b[0m\u001b[0;34m,\u001b[0m \u001b[0;34m'r'\u001b[0m\u001b[0;34m,\u001b[0m \u001b[0mload_namespaces\u001b[0m\u001b[0;34m=\u001b[0m\u001b[0;32mTrue\u001b[0m\u001b[0;34m)\u001b[0m \u001b[0;32mas\u001b[0m \u001b[0mread_io\u001b[0m\u001b[0;34m:\u001b[0m\u001b[0;34m\u001b[0m\u001b[0;34m\u001b[0m\u001b[0m\n\u001b[1;32m    551\u001b[0m             \u001b[0mnwbfile\u001b[0m \u001b[0;34m=\u001b[0m \u001b[0mread_io\u001b[0m\u001b[0;34m.\u001b[0m\u001b[0mread\u001b[0m\u001b[0;34m(\u001b[0m\u001b[0;34m)\u001b[0m\u001b[0;34m\u001b[0m\u001b[0;34m\u001b[0m\u001b[0m\n\u001b[0;32m--> 552\u001b[0;31m             return cls.from_nwb(\n\u001b[0m\u001b[1;32m    553\u001b[0m                  \u001b[0mnwbfile\u001b[0m\u001b[0;34m=\u001b[0m\u001b[0mnwbfile\u001b[0m\u001b[0;34m,\u001b[0m\u001b[0;34m\u001b[0m\u001b[0;34m\u001b[0m\u001b[0m\n\u001b[1;32m    554\u001b[0m                  **kwargs)\n",
      "\u001b[0;32m/opt/anaconda3/lib/python3.8/site-packages/allensdk/brain_observatory/behavior/behavior_ophys_experiment.py\u001b[0m in \u001b[0;36mfrom_nwb\u001b[0;34m(cls, nwbfile, eye_tracking_z_threshold, eye_tracking_dilation_frames, events_filter_scale_seconds, events_filter_n_time_steps, exclude_invalid_rois)\u001b[0m\n\u001b[1;32m    235\u001b[0m         \u001b[0mbehavior_session\u001b[0m \u001b[0;34m=\u001b[0m \u001b[0mBehaviorSession\u001b[0m\u001b[0;34m.\u001b[0m\u001b[0mfrom_nwb\u001b[0m\u001b[0;34m(\u001b[0m\u001b[0mnwbfile\u001b[0m\u001b[0;34m=\u001b[0m\u001b[0mnwbfile\u001b[0m\u001b[0;34m)\u001b[0m\u001b[0;34m\u001b[0m\u001b[0;34m\u001b[0m\u001b[0m\n\u001b[1;32m    236\u001b[0m         \u001b[0mprojections\u001b[0m \u001b[0;34m=\u001b[0m \u001b[0mProjections\u001b[0m\u001b[0;34m.\u001b[0m\u001b[0mfrom_nwb\u001b[0m\u001b[0;34m(\u001b[0m\u001b[0mnwbfile\u001b[0m\u001b[0;34m=\u001b[0m\u001b[0mnwbfile\u001b[0m\u001b[0;34m)\u001b[0m\u001b[0;34m\u001b[0m\u001b[0;34m\u001b[0m\u001b[0m\n\u001b[0;32m--> 237\u001b[0;31m         cell_specimens = CellSpecimens.from_nwb(\n\u001b[0m\u001b[1;32m    238\u001b[0m             \u001b[0mnwbfile\u001b[0m\u001b[0;34m=\u001b[0m\u001b[0mnwbfile\u001b[0m\u001b[0;34m,\u001b[0m\u001b[0;34m\u001b[0m\u001b[0;34m\u001b[0m\u001b[0m\n\u001b[1;32m    239\u001b[0m             \u001b[0msegmentation_mask_image_spacing\u001b[0m\u001b[0;34m=\u001b[0m\u001b[0mprojections\u001b[0m\u001b[0;34m.\u001b[0m\u001b[0mmax_projection\u001b[0m\u001b[0;34m.\u001b[0m\u001b[0mspacing\u001b[0m\u001b[0;34m,\u001b[0m\u001b[0;34m\u001b[0m\u001b[0;34m\u001b[0m\u001b[0m\n",
      "\u001b[0;32m/opt/anaconda3/lib/python3.8/site-packages/allensdk/brain_observatory/behavior/data_objects/cell_specimens/cell_specimens.py\u001b[0m in \u001b[0;36mfrom_nwb\u001b[0;34m(cls, nwbfile, segmentation_mask_image_spacing, events_params, exclude_invalid_rois)\u001b[0m\n\u001b[1;32m    609\u001b[0m         \u001b[0mmeta\u001b[0m \u001b[0;34m=\u001b[0m \u001b[0mCellSpecimenMeta\u001b[0m\u001b[0;34m.\u001b[0m\u001b[0mfrom_nwb\u001b[0m\u001b[0;34m(\u001b[0m\u001b[0mnwbfile\u001b[0m\u001b[0;34m=\u001b[0m\u001b[0mnwbfile\u001b[0m\u001b[0;34m)\u001b[0m\u001b[0;34m\u001b[0m\u001b[0;34m\u001b[0m\u001b[0m\n\u001b[1;32m    610\u001b[0m         \u001b[0mdff_traces\u001b[0m \u001b[0;34m=\u001b[0m \u001b[0mDFFTraces\u001b[0m\u001b[0;34m.\u001b[0m\u001b[0mfrom_nwb\u001b[0m\u001b[0;34m(\u001b[0m\u001b[0mnwbfile\u001b[0m\u001b[0;34m=\u001b[0m\u001b[0mnwbfile\u001b[0m\u001b[0;34m)\u001b[0m\u001b[0;34m\u001b[0m\u001b[0;34m\u001b[0m\u001b[0m\n\u001b[0;32m--> 611\u001b[0;31m         \u001b[0mdemixed_traces\u001b[0m \u001b[0;34m=\u001b[0m \u001b[0mDemixedTraces\u001b[0m\u001b[0;34m.\u001b[0m\u001b[0mfrom_nwb\u001b[0m\u001b[0;34m(\u001b[0m\u001b[0mnwbfile\u001b[0m\u001b[0;34m=\u001b[0m\u001b[0mnwbfile\u001b[0m\u001b[0;34m)\u001b[0m\u001b[0;34m\u001b[0m\u001b[0;34m\u001b[0m\u001b[0m\n\u001b[0m\u001b[1;32m    612\u001b[0m         \u001b[0mneuropil_traces\u001b[0m \u001b[0;34m=\u001b[0m \u001b[0mNeuropilTraces\u001b[0m\u001b[0;34m.\u001b[0m\u001b[0mfrom_nwb\u001b[0m\u001b[0;34m(\u001b[0m\u001b[0mnwbfile\u001b[0m\u001b[0;34m=\u001b[0m\u001b[0mnwbfile\u001b[0m\u001b[0;34m)\u001b[0m\u001b[0;34m\u001b[0m\u001b[0;34m\u001b[0m\u001b[0m\n\u001b[1;32m    613\u001b[0m         corrected_fluorescence_traces = CorrectedFluorescenceTraces.from_nwb(\n",
      "\u001b[0;32m/opt/anaconda3/lib/python3.8/site-packages/allensdk/brain_observatory/behavior/data_objects/cell_specimens/traces/demixed_traces.py\u001b[0m in \u001b[0;36mfrom_nwb\u001b[0;34m(cls, nwbfile)\u001b[0m\n\u001b[1;32m     42\u001b[0m     \u001b[0;32mdef\u001b[0m \u001b[0mfrom_nwb\u001b[0m\u001b[0;34m(\u001b[0m\u001b[0mcls\u001b[0m\u001b[0;34m,\u001b[0m \u001b[0mnwbfile\u001b[0m\u001b[0;34m:\u001b[0m \u001b[0mNWBFile\u001b[0m\u001b[0;34m)\u001b[0m \u001b[0;34m->\u001b[0m \u001b[0;34m\"DemixedTraces\"\u001b[0m\u001b[0;34m:\u001b[0m\u001b[0;34m\u001b[0m\u001b[0;34m\u001b[0m\u001b[0m\n\u001b[1;32m     43\u001b[0m         demixed_traces_nwb = (\n\u001b[0;32m---> 44\u001b[0;31m             \u001b[0mnwbfile\u001b[0m\u001b[0;34m.\u001b[0m\u001b[0mprocessing\u001b[0m\u001b[0;34m[\u001b[0m\u001b[0;34m\"ophys\"\u001b[0m\u001b[0;34m]\u001b[0m\u001b[0;34m\u001b[0m\u001b[0;34m\u001b[0m\u001b[0m\n\u001b[0m\u001b[1;32m     45\u001b[0m             \u001b[0;34m.\u001b[0m\u001b[0mdata_interfaces\u001b[0m\u001b[0;34m[\u001b[0m\u001b[0;34m\"demixed_trace\"\u001b[0m\u001b[0;34m]\u001b[0m\u001b[0;34m\u001b[0m\u001b[0;34m\u001b[0m\u001b[0m\n\u001b[1;32m     46\u001b[0m             \u001b[0;34m.\u001b[0m\u001b[0mroi_response_series\u001b[0m\u001b[0;34m[\u001b[0m\u001b[0;34m\"traces\"\u001b[0m\u001b[0;34m]\u001b[0m\u001b[0;34m\u001b[0m\u001b[0;34m\u001b[0m\u001b[0m\n",
      "\u001b[0;32m/opt/anaconda3/lib/python3.8/site-packages/hdmf/utils.py\u001b[0m in \u001b[0;36m__getitem__\u001b[0;34m(self, args)\u001b[0m\n\u001b[1;32m    927\u001b[0m                 \u001b[0;32mreturn\u001b[0m \u001b[0msuper\u001b[0m\u001b[0;34m(\u001b[0m\u001b[0;34m)\u001b[0m\u001b[0;34m.\u001b[0m\u001b[0m__getitem__\u001b[0m\u001b[0;34m(\u001b[0m\u001b[0mval\u001b[0m\u001b[0;34m)\u001b[0m\u001b[0;34m\u001b[0m\u001b[0;34m\u001b[0m\u001b[0m\n\u001b[1;32m    928\u001b[0m         \u001b[0;32melse\u001b[0m\u001b[0;34m:\u001b[0m\u001b[0;34m\u001b[0m\u001b[0;34m\u001b[0m\u001b[0m\n\u001b[0;32m--> 929\u001b[0;31m             \u001b[0;32mreturn\u001b[0m \u001b[0msuper\u001b[0m\u001b[0;34m(\u001b[0m\u001b[0;34m)\u001b[0m\u001b[0;34m.\u001b[0m\u001b[0m__getitem__\u001b[0m\u001b[0;34m(\u001b[0m\u001b[0mkey\u001b[0m\u001b[0;34m)\u001b[0m\u001b[0;34m\u001b[0m\u001b[0;34m\u001b[0m\u001b[0m\n\u001b[0m\u001b[1;32m    930\u001b[0m \u001b[0;34m\u001b[0m\u001b[0m\n\u001b[1;32m    931\u001b[0m     \u001b[0;32mdef\u001b[0m \u001b[0m__setitem__\u001b[0m\u001b[0;34m(\u001b[0m\u001b[0mself\u001b[0m\u001b[0;34m,\u001b[0m \u001b[0mkey\u001b[0m\u001b[0;34m,\u001b[0m \u001b[0mvalue\u001b[0m\u001b[0;34m)\u001b[0m\u001b[0;34m:\u001b[0m\u001b[0;34m\u001b[0m\u001b[0;34m\u001b[0m\u001b[0m\n",
      "\u001b[0;31mKeyError\u001b[0m: 'demixed_trace'"
     ]
    },
    {
     "data": {
      "image/png": "[encoded data removed]",
      "text/plain": [
       "<Figure size 1440x360 with 6 Axes>"
      ]
     },
     "metadata": {
      "needs_background": "light"
     },
     "output_type": "display_data"
    }
   ],
   "source": [
    "# ophys_experiment_ids are the index of the ophys_experiment_table\n",
    "ophys_experiment_ids = sst_container_experiments.index.values\n",
    "\n",
    "# create figure axis\n",
    "fig, ax = plt.subplots(1, len(ophys_experiment_ids), figsize=(20,5))\n",
    "# enumerate over experiments in this container\n",
    "for i, ophys_experiment_id in enumerate(ophys_experiment_ids): \n",
    "    # get the dataset object\n",
    "    dataset = cache.get_behavior_ophys_experiment(ophys_experiment_id=ophys_experiment_id)\n",
    "    # get the max intensity projection and plot on the appropriate axis\n",
    "    ax[i].imshow(dataset.max_projection.data, cmap='gray')\n",
    "    ax[i].set_title(ophys_experiment_id)"
   ]
  },
  {
   "cell_type": "code",
   "execution_count": null,
   "metadata": {
    "pycharm": {
     "name": "#%%\n"
    }
   },
   "outputs": [],
   "source": []
  },
  {
   "cell_type": "markdown",
   "metadata": {
    "pycharm": {
     "name": "#%% md\n"
    }
   },
   "source": [
    "### Get all imaging planes recorded during one session with novel images in a Vip mouse imaged on Multiscope"
   ]
  },
  {
   "cell_type": "code",
   "execution_count": null,
   "metadata": {
    "pycharm": {
     "name": "#%%\n"
    }
   },
   "outputs": [],
   "source": [
    "# get all Vip sessions in the Multiscope project code\n",
    "vip_sessions = ophys_sessions[(ophys_sessions.cre_line=='Vip-IRES-Cre')&\n",
    "                             (ophys_sessions.project_code=='VisualBehaviorMultiscope')&\n",
    "                             (ophys_sessions.prior_exposures_to_image_set==0)]\n",
    "\n",
    "# ophys_session_id is the index of the ophys_session_table\n",
    "ophys_session_id = vip_sessions.index.values[0]"
   ]
  },
  {
   "cell_type": "code",
   "execution_count": null,
   "metadata": {
    "pycharm": {
     "name": "#%%\n"
    }
   },
   "outputs": [],
   "source": [
    "# look at info for this ophys session\n",
    "vip_sessions.loc[ophys_session_id]"
   ]
  },
  {
   "cell_type": "markdown",
   "metadata": {
    "pycharm": {
     "name": "#%% md\n"
    }
   },
   "source": [
    "### Plot the average dF/F trace for each of the experiments in this session for a 5 minute time period "
   ]
  },
  {
   "cell_type": "code",
   "execution_count": null,
   "metadata": {
    "pycharm": {
     "name": "#%%\n"
    }
   },
   "outputs": [],
   "source": [
    "# get all the ophys_experiment_ids (corresponding to imaging planes) for this session\n",
    "ophys_experiment_ids = vip_sessions.loc[ophys_session_id].ophys_experiment_id\n",
    "print(ophys_experiment_ids)"
   ]
  },
  {
   "cell_type": "code",
   "execution_count": null,
   "metadata": {
    "pycharm": {
     "name": "#%%\n"
    }
   },
   "outputs": [],
   "source": [
    "# create figure axis\n",
    "fig, ax = plt.subplots(1,1, figsize=(15,4))\n",
    "# enumerate over experiments in this session\n",
    "for i, ophys_experiment_id in enumerate(ophys_experiment_ids): \n",
    "    # get the dataset object\n",
    "    dataset = cache.get_behavior_ophys_experiment(ophys_experiment_id=ophys_experiment_id)\n",
    "    # get ophys timestamps\n",
    "    ophys_timestamps = dataset.ophys_timestamps\n",
    "    # get the population average dF/F trace\n",
    "    dff_traces = dataset.dff_traces\n",
    "    # dff_traces is a dataframe with a column 'dff'\n",
    "    # get the values of this column and turn into a matrix of n_cells x timepoints\n",
    "    dff_traces = np.vstack(dff_traces.dff.values)\n",
    "    # take the mean over the cell axis\n",
    "    average_dFF = np.mean(dff_traces, axis=0)\n",
    "    # get the imaging_depth and targeted_structure for this experiment\n",
    "    imaging_depth = dataset.metadata['imaging_depth']\n",
    "    targeted_structure = dataset.metadata['targeted_structure']\n",
    "    # plot it, including the imaging_depth and targeted_structure in the legend label\n",
    "    ax.plot(ophys_timestamps, average_dFF, label=targeted_structure+'_'+str(imaging_depth))\n",
    "    ax.set_title(dataset.metadata['cre_line']+', ophys_session_id: '+str(ophys_session_id))\n",
    "ax.set_ylabel('dF/F')\n",
    "ax.set_xlabel('time (seconds)')\n",
    "ax.set_xlim(5*60, 10*60)\n",
    "ax.legend()"
   ]
  },
  {
   "cell_type": "markdown",
   "metadata": {
    "pycharm": {
     "name": "#%%\n"
    }
   },
   "source": [
    "## Ophys Cells Table"
   ]
  },
  {
   "cell_type": "code",
   "execution_count": 52,
   "metadata": {
    "pycharm": {
     "name": "#%%\n"
    }
   },
   "outputs": [
    {
     "data": {
      "text/html": [
       "<div>\n",
       "<style scoped>\n",
       "    .dataframe tbody tr th:only-of-type {\n",
       "        vertical-align: middle;\n",
       "    }\n",
       "\n",
       "    .dataframe tbody tr th {\n",
       "        vertical-align: top;\n",
       "    }\n",
       "\n",
       "    .dataframe thead th {\n",
       "        text-align: right;\n",
       "    }\n",
       "</style>\n",
       "<table border=\"1\" class=\"dataframe\">\n",
       "  <thead>\n",
       "    <tr style=\"text-align: right;\">\n",
       "      <th></th>\n",
       "      <th>cell_specimen_id</th>\n",
       "      <th>ophys_experiment_id</th>\n",
       "    </tr>\n",
       "    <tr>\n",
       "      <th>cell_roi_id</th>\n",
       "      <th></th>\n",
       "      <th></th>\n",
       "    </tr>\n",
       "  </thead>\n",
       "  <tbody>\n",
       "    <tr>\n",
       "      <th>1080884343</th>\n",
       "      <td>1086496928</td>\n",
       "      <td>775614751</td>\n",
       "    </tr>\n",
       "    <tr>\n",
       "      <th>1080884173</th>\n",
       "      <td>1086496914</td>\n",
       "      <td>775614751</td>\n",
       "    </tr>\n",
       "    <tr>\n",
       "      <th>1080883843</th>\n",
       "      <td>1086496838</td>\n",
       "      <td>775614751</td>\n",
       "    </tr>\n",
       "    <tr>\n",
       "      <th>1080886674</th>\n",
       "      <td>1086491756</td>\n",
       "      <td>775614751</td>\n",
       "    </tr>\n",
       "    <tr>\n",
       "      <th>1080885658</th>\n",
       "      <td>1086491699</td>\n",
       "      <td>775614751</td>\n",
       "    </tr>\n",
       "  </tbody>\n",
       "</table>\n",
       "</div>"
      ],
      "text/plain": [
       "             cell_specimen_id  ophys_experiment_id\n",
       "cell_roi_id                                       \n",
       "1080884343         1086496928            775614751\n",
       "1080884173         1086496914            775614751\n",
       "1080883843         1086496838            775614751\n",
       "1080886674         1086491756            775614751\n",
       "1080885658         1086491699            775614751"
      ]
     },
     "execution_count": 52,
     "metadata": {},
     "output_type": "execute_result"
    }
   ],
   "source": [
    "cells_table = cache.get_ophys_cells_table()\n",
    "\n",
    "cells_table.head()"
   ]
  },
  {
   "cell_type": "markdown",
   "metadata": {},
   "source": [
    "### How many cells per experiment?"
   ]
  },
  {
   "cell_type": "code",
   "execution_count": 84,
   "metadata": {},
   "outputs": [
    {
     "data": {
      "image/png": "[encoded data removed]",
      "text/plain": [
       "<Figure size 432x288 with 1 Axes>"
      ]
     },
     "metadata": {
      "needs_background": "light"
     },
     "output_type": "display_data"
    },
    {
     "data": {
      "text/plain": [
       "count    1948.000000\n",
       "mean       68.391684\n",
       "std        95.181394\n",
       "min         1.000000\n",
       "25%        11.000000\n",
       "50%        22.000000\n",
       "75%        98.000000\n",
       "max       666.000000\n",
       "dtype: float64"
      ]
     },
     "execution_count": 84,
     "metadata": {},
     "output_type": "execute_result"
    }
   ],
   "source": [
    "cell_per_exp = cells_table.groupby('ophys_experiment_id').size()\n",
    "fig = plt.hist(cell_per_exp, bins=50)\n",
    "plt.xlabel('Cell count')\n",
    "plt.ylabel('Number of experiments')\n",
    "plt.show()\n",
    "cell_per_exp.describe()"
   ]
  },
  {
   "cell_type": "markdown",
   "metadata": {},
   "source": [
    "Merge the cell counts into the ophys experiments table"
   ]
  },
  {
   "cell_type": "code",
   "execution_count": 81,
   "metadata": {},
   "outputs": [],
   "source": [
    "ophys_experiments['n_cells'] = ophys_experiments.index.map(cell_per_exp)"
   ]
  },
  {
   "cell_type": "markdown",
   "metadata": {},
   "source": [
    "Now we can look at the cell count by depth, for example"
   ]
  },
  {
   "cell_type": "code",
   "execution_count": 95,
   "metadata": {},
   "outputs": [
    {
     "data": {
      "image/png": "[encoded data removed]",
      "text/plain": [
       "<Figure size 2160x720 with 1 Axes>"
      ]
     },
     "metadata": {
      "needs_background": "light"
     },
     "output_type": "display_data"
    }
   ],
   "source": [
    "fig, ax = plt.subplots(figsize=(30, 10))\n",
    "ax.scatter(ophys_experiments['imaging_depth'], ophys_experiments['n_cells'], alpha=.3)\n",
    "ax.set_xlabel('Imaging depth (microns)')\n",
    "ax.set_ylabel('Cell count')\n",
    "plt.show()"
   ]
  },
  {
   "cell_type": "markdown",
   "metadata": {},
   "source": [
    "Or by cre-line"
   ]
  },
  {
   "cell_type": "code",
   "execution_count": 83,
   "metadata": {},
   "outputs": [
    {
     "data": {
      "text/plain": [
       "<AxesSubplot:xlabel='n_cells', ylabel='cre_line'>"
      ]
     },
     "execution_count": 83,
     "metadata": {},
     "output_type": "execute_result"
    },
    {
     "data": {
      "image/png": "[encoded data removed]",
      "text/plain": [
       "<Figure size 432x288 with 1 Axes>"
      ]
     },
     "metadata": {
      "needs_background": "light"
     },
     "output_type": "display_data"
    }
   ],
   "source": [
    "import seaborn as sns\n",
    "sns.boxplot(data=ophys_experiments, x='n_cells', y='cre_line')"
   ]
  }
 ],
 "metadata": {
  "interpreter": {
   "hash": "916dbcbb3f70747c44a77c7bcd40155683ae19c65e1c03b4aa3499c5328201f1"
  },
  "kernelspec": {
   "display_name": "Python 3",
   "language": "python",
   "name": "python3"
  },
  "language_info": {
   "codemirror_mode": {
    "name": "ipython",
    "version": 3
   },
   "file_extension": ".py",
   "mimetype": "text/x-python",
   "name": "python",
   "nbconvert_exporter": "python",
   "pygments_lexer": "ipython3",
   "version": "3.8.3"
  }
 },
 "nbformat": 4,
 "nbformat_minor": 5
}
