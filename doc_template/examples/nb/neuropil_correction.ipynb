{
 "metadata": {
  "name": "",
  "signature": "sha256:8c8487697b0b02b8ab05c4acd1a162237ef48a5889589f64fe29fbf67aff4281"
 },
 "nbformat": 3,
 "nbformat_minor": 0,
 "worksheets": [
  {
   "cells": [
    {
     "cell_type": "code",
     "collapsed": false,
     "input": [
      "from allensdk.core.cam_nwb_data_set import *\n",
      "from allensdk.cam.r_neuropil import estimate_contamination_ratios\n",
      "\n",
      "# load the cell and neuropil traces\n",
      "f = CamNwbDataSet(\"510221121.nwb\")\n",
      "\n",
      "time, roi_traces = f.get_fluorescence_traces()\n",
      "_, neuropil_traces = f.get_neuropil_traces()"
     ],
     "language": "python",
     "metadata": {},
     "outputs": [],
     "prompt_number": 8
    },
    {
     "cell_type": "code",
     "collapsed": false,
     "input": [
      "results = estimate_contamination_ratios(roi_traces[0], neuropil_traces[0])\n",
      "\n",
      "print(\"r = %f\" % results['r'])\n",
      "print(\"error = %f\" % results['err'])\n"
     ],
     "language": "python",
     "metadata": {},
     "outputs": [
      {
       "output_type": "stream",
       "stream": "stdout",
       "text": [
        "r = 0.542121\n",
        "error = 0.013060\n"
       ]
      }
     ],
     "prompt_number": 14
    }
   ],
   "metadata": {}
  }
 ]
}