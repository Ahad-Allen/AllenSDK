{
 "metadata": {
  "kernelspec": {
   "display_name": "Python 2",
   "language": "python",
   "name": "python2"
  },
  "language_info": {
   "codemirror_mode": {
    "name": "ipython",
    "version": 2
   },
   "file_extension": ".py",
   "mimetype": "text/x-python",
   "name": "python",
   "nbconvert_exporter": "python",
   "pygments_lexer": "ipython2",
   "version": "2.7.10"
  },
  "name": "",
  "signature": "sha256:604b69458bdd1b9ac1283b2ba6886c6bcf01819bd2931c47ac97e5b9e7b7b33d"
 },
 "nbformat": 3,
 "nbformat_minor": 0,
 "worksheets": [
  {
   "cells": [
    {
     "cell_type": "markdown",
     "metadata": {},
     "source": [
      "## Cell Types Database\n",
      "\n",
      "This notebook demonstrates most of the features of the AllenSDK that help manipulate data in the Cell Types Database.  The main entry point will be through the `CellTypesCache` class.\n",
      "\n",
      "`CellTypesCache` is responsible for downloading Cell Types Database data to a standard directory structure on your hard drive.  If you use this class, you will not have to keep track of where your data lives, other than a root directory.\n",
      "\n",
      "Download this file in .ipynb format <a href='cell_types.ipynb'>here</a>."
     ]
    },
    {
     "cell_type": "code",
     "collapsed": false,
     "input": [
      "from allensdk.core.cell_types_cache import CellTypesCache\n",
      "\n",
      "# Instantiate the CellTypesCache instance.  The manifest_file argument\n",
      "# tells it where to store the manifest, which is a JSON file that tracks\n",
      "# file paths.  If you supply a relative path (like this), it will go\n",
      "# into your current working directory\n",
      "ctc = CellTypesCache(manifest_file='cell_types/cell_types_manifest.json')\n",
      "\n",
      "# this saves the NWB file to 'cell_types/specimen_464212183/ephys.nwb'\n",
      "data_set = ctc.get_ephys_data(464212183)"
     ],
     "language": "python",
     "metadata": {},
     "outputs": [],
     "prompt_number": 1
    },
    {
     "cell_type": "markdown",
     "metadata": {},
     "source": [
      "The `data_set` variable is an `NwbDataSet` instance, which has some methods we can use to access the injected current stimulus waveform and the voltage response waveform for all experimental sweeps.  Let's pull one sweep out and plot it."
     ]
    },
    {
     "cell_type": "code",
     "collapsed": false,
     "input": [
      "%matplotlib inline\n",
      "import numpy as np\n",
      "import matplotlib.pyplot as plt\n",
      "\n",
      "sweep_number = 30\n",
      "sweep_data = data_set.get_sweep(sweep_number)\n",
      "\n",
      "index_range = sweep_data[\"index_range\"]\n",
      "i = sweep_data[\"stimulus\"][0:index_range[1]+1] # in A\n",
      "v = sweep_data[\"response\"][0:index_range[1]+1] # in V\n",
      "i *= 1e12 # to pA\n",
      "v *= 1e3 # to mV\n",
      "\n",
      "sampling_rate = sweep_data[\"sampling_rate\"] # in Hz\n",
      "t = np.arange(0, len(v)) * (1.0 / sampling_rate)\n",
      "\n",
      "plt.style.use('ggplot')\n",
      "fig, axes = plt.subplots(2, 1, sharex=True)\n",
      "axes[0].plot(t, v, color='black')\n",
      "axes[1].plot(t, i, color='gray')\n",
      "axes[0].set_ylabel(\"mV\")\n",
      "axes[1].set_ylabel(\"pA\")\n",
      "axes[1].set_xlabel(\"seconds\")\n",
      "plt.show()"
     ],
     "language": "python",
     "metadata": {
      "scrolled": true
     },
     "outputs": [
      {
       "metadata": {},
       "output_type": "display_data",
       "png": "[encoded data removed]",
       "text": [
        "<matplotlib.figure.Figure at 0x7f3a419d7e90>"
       ]
      }
     ],
     "prompt_number": 2
    },
    {
     "cell_type": "markdown",
     "metadata": {},
     "source": [
      "## Filtering Cells via Metadata\n",
      "\n",
      "Cell records in the Cell Types Database come with a large amount of metadata.  We have exposed the most commonly used of these are arguments to CellTypesCache.get_cells.  "
     ]
    },
    {
     "cell_type": "code",
     "collapsed": false,
     "input": [
      "from allensdk.core.cell_types_cache import CellTypesCache\n",
      "from allensdk.core.cell_types_cache import ReporterStatus as RS\n",
      "\n",
      "# download all cells\n",
      "cells = ctc.get_cells()\n",
      "print \"Total cells: \", len(cells)\n",
      "\n",
      "# download metadata for all cells with morphology images\n",
      "cells = ctc.get_cells(require_morphology = True)\n",
      "print \"Cells with morphology images: \", len(cells)\n",
      "\n",
      "# cells with reconstructions\n",
      "cells = ctc.get_cells(require_reconstruction = True)\n",
      "print \"Cells with reconstructions: \", len(cells)\n",
      "\n",
      "# all cre positive cells\n",
      "cells = ctc.get_cells(reporter_status = RS.POSITIVE)\n",
      "print \"Cre-positive cells: \", len(cells)\n",
      "\n",
      "# cre negative cells with reconstructions\n",
      "cells = ctc.get_cells(require_reconstruction = True, \n",
      "                      reporter_status = RS.NEGATIVE)\n",
      "print \"Cre-negative cells with reconstructions: \", len(cells)"
     ],
     "language": "python",
     "metadata": {
      "scrolled": true
     },
     "outputs": [
      {
       "output_type": "stream",
       "stream": "stdout",
       "text": [
        "Total cells:  844\n",
        "Cells with morphology images: "
       ]
      },
      {
       "output_type": "stream",
       "stream": "stdout",
       "text": [
        " 578\n",
        "Cells with reconstructions: "
       ]
      },
      {
       "output_type": "stream",
       "stream": "stdout",
       "text": [
        " 295\n",
        "Cre-positive cells: "
       ]
      },
      {
       "output_type": "stream",
       "stream": "stdout",
       "text": [
        " 755\n",
        "Cre-negative cells with reconstructions: "
       ]
      },
      {
       "output_type": "stream",
       "stream": "stdout",
       "text": [
        " 35\n"
       ]
      }
     ],
     "prompt_number": 3
    },
    {
     "cell_type": "markdown",
     "metadata": {},
     "source": [
      "## Cell Morphology Reconstructions\n",
      "\n",
      "The Cell Types Database also contains 3D reconstructions of neuronal morphologies. The data are presented in the SWC format. We'll download a particular cell's reconstrution here.\n",
      "\n",
      "The AllenSDK contains a module that makes it easier to work with the SWC files. We'll see how the data is contained in the file by looking at the first node."
     ]
    },
    {
     "cell_type": "code",
     "collapsed": false,
     "input": [
      "import pprint\n",
      "\n",
      "# download and open an SWC file\n",
      "cell_id = 480114344\n",
      "morphology = ctc.get_reconstruction(cell_id) \n",
      "\n",
      "# the compartment list has all of the nodes in the file\n",
      "pprint.pprint(morphology.compartment_list[0])"
     ],
     "language": "python",
     "metadata": {},
     "outputs": [
      {
       "output_type": "stream",
       "stream": "stdout",
       "text": [
        "{'children': [1,\n",
        "              1763,\n",
        "              2012,\n",
        "              2089,\n",
        "              2421,\n",
        "              2604,\n",
        "              2821,\n",
        "              3147,\n",
        "              3440,\n",
        "              3491,\n",
        "              3552,\n",
        "              4015],\n",
        " 'id': 0,\n",
        " 'parent': -1,\n",
        " 'radius': 7.6078,\n",
        " 'tree_id': 0,\n",
        " 'type': 1,\n",
        " 'x': 444.3296,\n",
        " 'y': 503.0168,\n",
        " 'z': 31.92}\n"
       ]
      }
     ],
     "prompt_number": 4
    },
    {
     "cell_type": "markdown",
     "metadata": {},
     "source": [
      "Note that the `type` field refers to the type of neuronal compartment. The values can be 1 for the soma, 2 for the axon, 3 for dendrites, and 4 for apical dendrites (if present).\n",
      "\n",
      "Morphologies now also come with marker files, which contains points of interest in the reconstruction.  The marker file contains locations where dendrites have been truncated due to slicing and when axons were not reconstructed.  The `name` field indicates the type of marker (10 for dendrite truncation, 20 for no reconstruction)."
     ]
    },
    {
     "cell_type": "code",
     "collapsed": false,
     "input": [
      "# download and open a marker file\n",
      "markers = ctc.get_reconstruction_markers(cell_id) \n",
      "print len(markers)\n",
      "pprint.pprint(markers[0])"
     ],
     "language": "python",
     "metadata": {},
     "outputs": [
      {
       "output_type": "stream",
       "stream": "stdout",
       "text": [
        "21\n",
        "{'name': 10, 'x': 527.5029999999999, 'y': 496.4319, 'z': 12.4555}\n"
       ]
      }
     ],
     "prompt_number": 5
    },
    {
     "cell_type": "markdown",
     "metadata": {},
     "source": [
      "We can use this data to draw lines between each node and all its children to get a drawing of the cell. We'll do it looking at it from the front and from the side."
     ]
    },
    {
     "cell_type": "code",
     "collapsed": false,
     "input": [
      "from allensdk.core.swc import Marker\n",
      "fig, axes = plt.subplots(1, 2, sharey=True, sharex=True)\n",
      "axes[0].set_aspect('equal', 'box-forced')\n",
      "axes[1].set_aspect('equal', 'box-forced')\n",
      "\n",
      "# Make a line drawing of x-y and y-z views\n",
      "for n in morphology.compartment_list:\n",
      "    for c in morphology.children_of(n):\n",
      "        axes[0].plot([n['x'], c['x']], [n['y'], c['y']], color='black')\n",
      "        axes[1].plot([n['z'], c['z']], [n['y'], c['y']], color='black')\n",
      "\n",
      "# cut dendrite markers\n",
      "dm = [ m for m in markers if m['name'] == Marker.CUT_DENDRITE ]\n",
      "\n",
      "axes[0].scatter([m['x'] for m in dm], [m['y'] for m in dm], color='#3333ff')\n",
      "axes[1].scatter([m['z'] for m in dm], [m['y'] for m in dm], color='#3333ff')\n",
      "\n",
      "# no reconstruction markers\n",
      "nm = [ m for m in markers if m['name'] == Marker.NO_RECONSTRUCTION ]\n",
      "\n",
      "axes[0].scatter([m['x'] for m in nm], [m['y'] for m in nm], color='#333333')\n",
      "axes[1].scatter([m['z'] for m in nm], [m['y'] for m in nm], color='#333333')\n",
      "\n",
      "axes[0].set_ylabel('y')\n",
      "axes[0].set_xlabel('x')\n",
      "axes[1].set_xlabel('z')\n",
      "plt.show()"
     ],
     "language": "python",
     "metadata": {},
     "outputs": [
      {
       "metadata": {},
       "output_type": "display_data",
       "png": "[encoded data removed]",
       "text": [
        "<matplotlib.figure.Figure at 0x7f3a3f59a1d0>"
       ]
      }
     ],
     "prompt_number": 6
    },
    {
     "cell_type": "markdown",
     "metadata": {},
     "source": [
      "## Electrophysiology Features\n",
      "\n",
      "The Cell Types Database contains a set of features that have already been computed, which could serve as good starting points for analysis. We can query the database using the SDK to get these features."
     ]
    },
    {
     "cell_type": "code",
     "collapsed": false,
     "input": [
      "import pprint\n",
      "pp = pprint.PrettyPrinter(indent=2)\n",
      "\n",
      "# download all electrophysiology features for all cells\n",
      "ephys_features = ctc.get_ephys_features()\n",
      "\n",
      "print(\"Ephys. features available for %d cells\" % len(ephys_features))\n",
      "\n",
      "\n",
      "# filter down to a specific cell\n",
      "specimen_id = 464212183\n",
      "cell_ephys_features = [f for f in ephys_features if f['specimen_id'] == specimen_id]\n",
      "\n",
      "pp.pprint(cell_ephys_features)"
     ],
     "language": "python",
     "metadata": {},
     "outputs": [
      {
       "output_type": "stream",
       "stream": "stdout",
       "text": [
        "Ephys. features available for 844 cells\n",
        "[ { 'adaptation': 0.010660191695700002,\n",
        "    'avg_isi': 50.9122222222,\n",
        "    'electrode_0_pa': -73.0906168922,\n",
        "    'f_i_curve_slope': 0.385990848293,\n",
        "    'fast_trough_t_long_square': 1.243575,\n",
        "    'fast_trough_t_ramp': 3.872615,\n",
        "    'fast_trough_t_short_square': 1.0257983333299998,\n",
        "    'fast_trough_v_long_square': -58.4062538147,\n",
        "    'fast_trough_v_ramp': -56.364584604899996,\n",
        "    'fast_trough_v_short_square': -61.026043574,\n",
        "    'has_burst': False,\n",
        "    'has_delay': False,\n",
        "    'has_pause': False,\n",
        "    'id': 464366365,\n",
        "    'input_resistance_mohm': 129.36264,\n",
        "    'latency': 0.030780000000000002,\n",
        "    'peak_t_long_square': 1.24139,\n",
        "    'peak_t_ramp': 3.87071,\n",
        "    'peak_t_short_square': 1.02364916667,\n",
        "    'peak_v_long_square': 10.71875,\n",
        "    'peak_v_ramp': 26.4895833333,\n",
        "    'peak_v_short_square': 16.0000006358,\n",
        "    'rheobase_sweep_id': 464306919,\n",
        "    'rheobase_sweep_number': 45,\n",
        "    'ri': 223.43757748599998,\n",
        "    'sag': 0.196279138327,\n",
        "    'seal_gohm': 1.80903808,\n",
        "    'slow_trough_t_long_square': nan,\n",
        "    'slow_trough_t_ramp': nan,\n",
        "    'slow_trough_t_short_square': 1.273295,\n",
        "    'slow_trough_v_long_square': nan,\n",
        "    'slow_trough_v_ramp': nan,\n",
        "    'slow_trough_v_short_square': -65.72916793819999,\n",
        "    'specimen_id': 464212183,\n",
        "    'tau': 19.0825501891,\n",
        "    'threshold_i_long_square': 70.0,\n",
        "    'threshold_i_ramp': 71.25,\n",
        "    'threshold_i_short_square': 0.0,\n",
        "    'threshold_t_long_square': 1.240845,\n",
        "    'threshold_t_ramp': 3.87010166667,\n",
        "    'threshold_t_short_square': 1.02313833333,\n",
        "    'threshold_v_long_square': -40.53125,\n",
        "    'threshold_v_ramp': -39.395834604899996,\n",
        "    'threshold_v_short_square': -40.3802083333,\n",
        "    'thumbnail_sweep_id': 464306887,\n",
        "    'trough_t_long_square': 1.243855,\n",
        "    'trough_t_ramp': 3.8729699999999996,\n",
        "    'trough_t_short_square': 1.273295,\n",
        "    'trough_v_long_square': -58.59375,\n",
        "    'trough_v_ramp': -56.6354192098,\n",
        "    'trough_v_short_square': -65.72916793819999,\n",
        "    'upstroke_downstroke_ratio_long_square': 1.91568368871,\n",
        "    'upstroke_downstroke_ratio_ramp': 2.0455410248700003,\n",
        "    'upstroke_downstroke_ratio_short_square': 1.8211783878099999,\n",
        "    'vm_for_sag': -90.46875,\n",
        "    'vrest': -65.7717208862}]\n"
       ]
      }
     ],
     "prompt_number": 7
    },
    {
     "cell_type": "markdown",
     "metadata": {},
     "source": [
      "That's how to get all the ephys features for a given specimen - what if we want a particular feature for all cells?"
     ]
    },
    {
     "cell_type": "code",
     "collapsed": false,
     "input": [
      "updown = np.array([f['upstroke_downstroke_ratio_long_square'] for f in ephys_features], dtype=float)\n",
      "fasttrough = np.array([f['fast_trough_v_long_square'] for f in ephys_features], dtype=float)\n",
      "\n",
      "plt.figure()\n",
      "plt.scatter(fasttrough, updown, color='#2ca25f')\n",
      "plt.ylabel(\"upstroke-downstroke ratio\")\n",
      "plt.xlabel(\"fast trough depth (mV)\")\n",
      "plt.show()"
     ],
     "language": "python",
     "metadata": {},
     "outputs": [
      {
       "metadata": {},
       "output_type": "display_data",
       "png": "[encoded data removed]",
       "text": [
        "<matplotlib.figure.Figure at 0x7f3a419d74d0>"
       ]
      }
     ],
     "prompt_number": 8
    },
    {
     "cell_type": "markdown",
     "metadata": {},
     "source": [
      "Let's use numpy to fit a regression line to these data and plot it."
     ]
    },
    {
     "cell_type": "code",
     "collapsed": false,
     "input": [
      "A = np.vstack([fasttrough, np.ones_like(updown)]).T\n",
      "print \"First 5 rows of A:\"\n",
      "print A[:5, :]\n",
      "\n",
      "m, c = np.linalg.lstsq(A, updown)[0]\n",
      "print \"m\", m, \"c\", c\n",
      "\n",
      "plt.figure()\n",
      "plt.scatter(fasttrough, updown, color='#2ca25f')\n",
      "plt.plot(fasttrough, m * fasttrough + c, c='gray')\n",
      "plt.ylabel(\"upstroke-downstroke ratio\")\n",
      "plt.xlabel(\"fast trough depth (mV)\")\n",
      "plt.show()"
     ],
     "language": "python",
     "metadata": {},
     "outputs": [
      {
       "output_type": "stream",
       "stream": "stdout",
       "text": [
        "First 5 rows of A:\n",
        "[[-59.43750381   1.        ]\n",
        " [-50.71875      1.        ]\n",
        " [-42.00000381   1.        ]\n",
        " [-51.18750381   1.        ]\n",
        " [-49.65625381   1.        ]]\n",
        "m 0.104861822959 c 8.16607395764\n"
       ]
      },
      {
       "metadata": {},
       "output_type": "display_data",
       "png": "[encoded data removed]",
       "text": [
        "<matplotlib.figure.Figure at 0x7f3a35a52c10>"
       ]
      }
     ],
     "prompt_number": 9
    },
    {
     "cell_type": "markdown",
     "metadata": {},
     "source": [
      "It looks like there may be roughly two clusters in the data above. Maybe they relate to whether the cells are presumably excitatory (spiny) cells or inhibitory (aspiny) cells. Let's query the API and split up the two sets to see."
     ]
    },
    {
     "cell_type": "code",
     "collapsed": false,
     "input": [
      "cells = ctc.get_cells()\n",
      "\n",
      "cell_index = { c['id']: c for c in cells}\n",
      "\n",
      "dendrite_types = ['spiny', 'aspiny']\n",
      "data = {}\n",
      "\n",
      "# group fast trough depth and upstroke downstroke ratio values by cell dendrite type\n",
      "for dendrite_type in dendrite_types:\n",
      "    type_features = [f for f in ephys_features if cell_index[f['specimen_id']]['dendrite_type'] == dendrite_type]\n",
      "    data[dendrite_type] = {\n",
      "        \"fasttrough\": [f['fast_trough_v_long_square'] for f in type_features],\n",
      "        \"updown\": [f['upstroke_downstroke_ratio_short_square'] for f in type_features],\n",
      "    }\n",
      "    \n",
      "plt.figure()\n",
      "for a_type, color in zip(dendrite_types, [\"#d95f02\", \"#7570b3\"]):\n",
      "    plt.scatter(data[a_type]['fasttrough'], data[a_type]['updown'], color=color, label=a_type)\n",
      "plt.legend(loc='best')\n",
      "plt.ylabel(\"upstroke-downstroke ratio\")\n",
      "plt.xlabel(\"fast trough depth (mV)\")\n",
      "plt.show()"
     ],
     "language": "python",
     "metadata": {},
     "outputs": [
      {
       "metadata": {},
       "output_type": "display_data",
       "png": "[encoded data removed]",
       "text": [
        "<matplotlib.figure.Figure at 0x7f3a33cb6990>"
       ]
      }
     ],
     "prompt_number": 10
    },
    {
     "cell_type": "markdown",
     "metadata": {},
     "source": [
      "## Morphology Features\n",
      "\n",
      "The Cell Types Database contains a set of precomputed morphological features for cells that have reconstructions.  You can access morphology features by themselves, or combined with the electrophysiology features."
     ]
    },
    {
     "cell_type": "code",
     "collapsed": false,
     "input": [
      "# download all morphology features for cells with reconstructions\n",
      "morphology_features = ctc.get_morphology_features()\n",
      "\n",
      "# or download both morphology and ephys features\n",
      "# this time we'll ask the cache to return a pandas dataframe\n",
      "all_features = ctc.get_all_features(dataframe=True, require_reconstruction=True)\n",
      "\n",
      "print(\"All features available for %d cells\" % len(all_features))\n",
      "\n",
      "all_features.head()"
     ],
     "language": "python",
     "metadata": {},
     "outputs": [
      {
       "output_type": "stream",
       "stream": "stdout",
       "text": [
        "All features available for 295 cells\n"
       ]
      },
      {
       "html": [
        "<div style=\"max-width:1500px;overflow:auto;\">\n",
        "<table border=\"1\" class=\"dataframe\">\n",
        "  <thead>\n",
        "    <tr style=\"text-align: right;\">\n",
        "      <th></th>\n",
        "      <th>adaptation</th>\n",
        "      <th>avg_isi</th>\n",
        "      <th>electrode_0_pa</th>\n",
        "      <th>f_i_curve_slope</th>\n",
        "      <th>fast_trough_t_long_square</th>\n",
        "      <th>fast_trough_t_ramp</th>\n",
        "      <th>fast_trough_t_short_square</th>\n",
        "      <th>fast_trough_v_long_square</th>\n",
        "      <th>fast_trough_v_ramp</th>\n",
        "      <th>fast_trough_v_short_square</th>\n",
        "      <th>...</th>\n",
        "      <th>overall_depth</th>\n",
        "      <th>overall_height</th>\n",
        "      <th>overall_width</th>\n",
        "      <th>scale_factor_x</th>\n",
        "      <th>scale_factor_y</th>\n",
        "      <th>scale_factor_z</th>\n",
        "      <th>soma_surface</th>\n",
        "      <th>total_length</th>\n",
        "      <th>total_surface</th>\n",
        "      <th>total_volume</th>\n",
        "    </tr>\n",
        "  </thead>\n",
        "  <tbody>\n",
        "    <tr>\n",
        "      <th>0</th>\n",
        "      <td>0.003198</td>\n",
        "      <td>17.355714</td>\n",
        "      <td>11.163750</td>\n",
        "      <td>0.716402</td>\n",
        "      <td>1.042980</td>\n",
        "      <td>11.896130</td>\n",
        "      <td>1.024289</td>\n",
        "      <td>-59.437504</td>\n",
        "      <td>-59.125004</td>\n",
        "      <td>-61.731253</td>\n",
        "      <td>...</td>\n",
        "      <td>43.0688</td>\n",
        "      <td>235.861005</td>\n",
        "      <td>141.499081</td>\n",
        "      <td>0.1144</td>\n",
        "      <td>0.1144</td>\n",
        "      <td>0.28</td>\n",
        "      <td>107.832836</td>\n",
        "      <td>1025.353436</td>\n",
        "      <td>469.552049</td>\n",
        "      <td>18.281305</td>\n",
        "    </tr>\n",
        "    <tr>\n",
        "      <th>1</th>\n",
        "      <td>0.046079</td>\n",
        "      <td>97.000000</td>\n",
        "      <td>23.797500</td>\n",
        "      <td>0.124640</td>\n",
        "      <td>1.156475</td>\n",
        "      <td>6.003742</td>\n",
        "      <td>1.025527</td>\n",
        "      <td>-42.000004</td>\n",
        "      <td>-42.354168</td>\n",
        "      <td>-46.335939</td>\n",
        "      <td>...</td>\n",
        "      <td>109.1720</td>\n",
        "      <td>659.103582</td>\n",
        "      <td>289.640509</td>\n",
        "      <td>0.1144</td>\n",
        "      <td>0.1144</td>\n",
        "      <td>0.28</td>\n",
        "      <td>434.308088</td>\n",
        "      <td>4095.398650</td>\n",
        "      <td>3591.495699</td>\n",
        "      <td>267.298723</td>\n",
        "    </tr>\n",
        "    <tr>\n",
        "      <th>2</th>\n",
        "      <td>0.120438</td>\n",
        "      <td>116.592500</td>\n",
        "      <td>-5.702500</td>\n",
        "      <td>0.183862</td>\n",
        "      <td>1.070635</td>\n",
        "      <td>7.693945</td>\n",
        "      <td>1.025022</td>\n",
        "      <td>-49.656254</td>\n",
        "      <td>-48.197920</td>\n",
        "      <td>-54.203127</td>\n",
        "      <td>...</td>\n",
        "      <td>175.2990</td>\n",
        "      <td>500.008589</td>\n",
        "      <td>169.855132</td>\n",
        "      <td>0.1144</td>\n",
        "      <td>0.1144</td>\n",
        "      <td>0.28</td>\n",
        "      <td>151.612880</td>\n",
        "      <td>2649.442158</td>\n",
        "      <td>1891.341263</td>\n",
        "      <td>114.968358</td>\n",
        "    </tr>\n",
        "    <tr>\n",
        "      <th>3</th>\n",
        "      <td>0.002761</td>\n",
        "      <td>14.364348</td>\n",
        "      <td>-35.132501</td>\n",
        "      <td>0.875494</td>\n",
        "      <td>1.032010</td>\n",
        "      <td>14.081735</td>\n",
        "      <td>1.024214</td>\n",
        "      <td>-65.468750</td>\n",
        "      <td>-59.968753</td>\n",
        "      <td>-67.168750</td>\n",
        "      <td>...</td>\n",
        "      <td>105.9572</td>\n",
        "      <td>413.352932</td>\n",
        "      <td>350.228862</td>\n",
        "      <td>0.1144</td>\n",
        "      <td>0.1144</td>\n",
        "      <td>0.28</td>\n",
        "      <td>1098.615900</td>\n",
        "      <td>3562.771720</td>\n",
        "      <td>5193.048665</td>\n",
        "      <td>686.785565</td>\n",
        "    </tr>\n",
        "    <tr>\n",
        "      <th>4</th>\n",
        "      <td>0.039202</td>\n",
        "      <td>94.519444</td>\n",
        "      <td>-36.572499</td>\n",
        "      <td>0.202618</td>\n",
        "      <td>1.318480</td>\n",
        "      <td>4.328548</td>\n",
        "      <td>1.024567</td>\n",
        "      <td>-38.406254</td>\n",
        "      <td>-41.270836</td>\n",
        "      <td>-46.437502</td>\n",
        "      <td>...</td>\n",
        "      <td>99.1029</td>\n",
        "      <td>562.954719</td>\n",
        "      <td>238.068745</td>\n",
        "      <td>0.1144</td>\n",
        "      <td>0.1144</td>\n",
        "      <td>0.28</td>\n",
        "      <td>96.581667</td>\n",
        "      <td>2483.051814</td>\n",
        "      <td>1669.107374</td>\n",
        "      <td>96.083230</td>\n",
        "    </tr>\n",
        "  </tbody>\n",
        "</table>\n",
        "<p>5 rows \u00d7 82 columns</p>\n",
        "</div>"
       ],
       "metadata": {},
       "output_type": "pyout",
       "prompt_number": 11,
       "text": [
        "   adaptation     avg_isi  electrode_0_pa  f_i_curve_slope  \\\n",
        "0    0.003198   17.355714       11.163750         0.716402   \n",
        "1    0.046079   97.000000       23.797500         0.124640   \n",
        "2    0.120438  116.592500       -5.702500         0.183862   \n",
        "3    0.002761   14.364348      -35.132501         0.875494   \n",
        "4    0.039202   94.519444      -36.572499         0.202618   \n",
        "\n",
        "   fast_trough_t_long_square  fast_trough_t_ramp  fast_trough_t_short_square  \\\n",
        "0                   1.042980           11.896130                    1.024289   \n",
        "1                   1.156475            6.003742                    1.025527   \n",
        "2                   1.070635            7.693945                    1.025022   \n",
        "3                   1.032010           14.081735                    1.024214   \n",
        "4                   1.318480            4.328548                    1.024567   \n",
        "\n",
        "   fast_trough_v_long_square  fast_trough_v_ramp  fast_trough_v_short_square  \\\n",
        "0                 -59.437504          -59.125004                  -61.731253   \n",
        "1                 -42.000004          -42.354168                  -46.335939   \n",
        "2                 -49.656254          -48.197920                  -54.203127   \n",
        "3                 -65.468750          -59.968753                  -67.168750   \n",
        "4                 -38.406254          -41.270836                  -46.437502   \n",
        "\n",
        "       ...      overall_depth overall_height overall_width  scale_factor_x  \\\n",
        "0      ...            43.0688     235.861005    141.499081          0.1144   \n",
        "1      ...           109.1720     659.103582    289.640509          0.1144   \n",
        "2      ...           175.2990     500.008589    169.855132          0.1144   \n",
        "3      ...           105.9572     413.352932    350.228862          0.1144   \n",
        "4      ...            99.1029     562.954719    238.068745          0.1144   \n",
        "\n",
        "   scale_factor_y  scale_factor_z  soma_surface  total_length  total_surface  \\\n",
        "0          0.1144            0.28    107.832836   1025.353436     469.552049   \n",
        "1          0.1144            0.28    434.308088   4095.398650    3591.495699   \n",
        "2          0.1144            0.28    151.612880   2649.442158    1891.341263   \n",
        "3          0.1144            0.28   1098.615900   3562.771720    5193.048665   \n",
        "4          0.1144            0.28     96.581667   2483.051814    1669.107374   \n",
        "\n",
        "   total_volume  \n",
        "0     18.281305  \n",
        "1    267.298723  \n",
        "2    114.968358  \n",
        "3    686.785565  \n",
        "4     96.083230  \n",
        "\n",
        "[5 rows x 82 columns]"
       ]
      }
     ],
     "prompt_number": 11
    },
    {
     "cell_type": "markdown",
     "metadata": {},
     "source": [
      "## Computing Electrophysiology Features\n",
      "\n",
      "The AllenSDK contains the code used to compute the electrophysiology features you accessed above.  You can run it yourself like this."
     ]
    },
    {
     "cell_type": "code",
     "collapsed": false,
     "input": [
      "from allensdk.ephys.feature_extractor import EphysFeatureExtractor\n",
      "\n",
      "sweep_number = 35\n",
      "sweep_data = data_set.get_sweep(sweep_number)\n",
      "\n",
      "index_range = sweep_data[\"index_range\"]\n",
      "i = sweep_data[\"stimulus\"][0:index_range[1]+1] # in A\n",
      "v = sweep_data[\"response\"][0:index_range[1]+1] # in V\n",
      "i *= 1e12 # to pA\n",
      "v *= 1e3 # to mV\n",
      "\n",
      "sampling_rate = sweep_data[\"sampling_rate\"] # in Hz\n",
      "t = np.arange(0, len(v)) * (1.0 / sampling_rate)\n",
      "\n",
      "fx = EphysFeatureExtractor()\n",
      "\n",
      "stim_start = 1.0\n",
      "stim_duration = 1.0\n",
      "\n",
      "fx.process_instance(\"\", v, i, t, stim_start, stim_duration, \"\")\n",
      "feature_data = fx.feature_list[0].mean\n",
      "print \"Avg spike width: {:.2f} ms\".format(feature_data['width'])\n",
      "print \"Avg spike threshold: {:.1f} mV\".format(feature_data[\"threshold\"])"
     ],
     "language": "python",
     "metadata": {},
     "outputs": [
      {
       "output_type": "stream",
       "stream": "stdout",
       "text": [
        "Avg spike width: 0.93 ms\n",
        "Avg spike threshold: -35.6 mV\n"
       ]
      }
     ],
     "prompt_number": 12
    },
    {
     "cell_type": "code",
     "collapsed": false,
     "input": [
      "import pprint\n",
      "pp = pprint.PrettyPrinter(indent=2)\n",
      "pp.pprint(feature_data[\"spikes\"][0])"
     ],
     "language": "python",
     "metadata": {},
     "outputs": [
      {
       "output_type": "stream",
       "stream": "stdout",
       "text": [
        "{ 'downstroke': -114.58815055242475,\n",
        "  'downstroke_i': 210.0,\n",
        "  'downstroke_idx': 205802,\n",
        "  'downstroke_t': 1.02901,\n",
        "  'downstroke_v': -7.9375005,\n",
        "  'f_fast_ahp': -55.5,\n",
        "  'f_fast_ahp_i': 210.0,\n",
        "  'f_fast_ahp_t': 1.0306000000000002,\n",
        "  'f_fast_ahp_v': -55.5,\n",
        "  'f_peak': 18.15625,\n",
        "  'f_peak_i': 210.0,\n",
        "  'f_peak_t': 1.02868,\n",
        "  'f_slow_ahp': -49.8125,\n",
        "  'f_slow_ahp_t': 1.0336800000000002,\n",
        "  'f_slow_ahp_time': 0.40799673602611697,\n",
        "  'f_trough': -55.5,\n",
        "  'half_height_width': 0.00059500000000012321,\n",
        "  'peak_idx': 205736,\n",
        "  'rise_time': 0.00055999999999989392,\n",
        "  't': 1.0281100000000001,\n",
        "  't_idx': 205622,\n",
        "  't_idx_n30': 205666,\n",
        "  't_n30': 1.0283300000000002,\n",
        "  'thresh_ramp': 60.584553175182101,\n",
        "  'threshold': -40.781254,\n",
        "  'threshold_i': 210.0,\n",
        "  'threshold_idx': 205622,\n",
        "  'threshold_t': 1.0281100000000001,\n",
        "  'threshold_v': -40.781254,\n",
        "  'trough_i': 210.0,\n",
        "  'trough_idx': 206120,\n",
        "  'trough_t': 1.0306000000000002,\n",
        "  'trough_v': -55.5,\n",
        "  'upstroke': 216.04000847546851,\n",
        "  'upstroke_i': 210.0,\n",
        "  'upstroke_idx': 205690,\n",
        "  'upstroke_t': 1.0284500000000001,\n",
        "  'upstroke_v': -9.937501,\n",
        "  'width': 0.69500000000011219}\n"
       ]
      }
     ],
     "prompt_number": 13
    },
    {
     "cell_type": "markdown",
     "metadata": {},
     "source": [
      "A list comprehension is an easy way to pull out the spike times."
     ]
    },
    {
     "cell_type": "code",
     "collapsed": false,
     "input": [
      "spike_times = [s[\"t\"] for s in feature_data[\"spikes\"]]\n",
      "\n",
      "print spike_times[:5] "
     ],
     "language": "python",
     "metadata": {},
     "outputs": [
      {
       "output_type": "stream",
       "stream": "stdout",
       "text": [
        "[1.0281100000000001, 1.0409350000000002, 1.0536750000000001, 1.0686450000000001, 1.082835]\n"
       ]
      }
     ],
     "prompt_number": 14
    },
    {
     "cell_type": "code",
     "collapsed": false,
     "input": [
      "plt.figure()\n",
      "plt.plot(t, v, color='black')\n",
      "\n",
      "min_v = v.min()\n",
      "\n",
      "min_v -= 5.0\n",
      "\n",
      "plt.scatter(spike_times, np.ones(len(spike_times)) * min_v, c='r')\n",
      "plt.xlim(0.9, 1.2)\n",
      "plt.show()"
     ],
     "language": "python",
     "metadata": {},
     "outputs": [
      {
       "metadata": {},
       "output_type": "display_data",
       "png": "[encoded data removed]",
       "text": [
        "<matplotlib.figure.Figure at 0x7f3a3be0c290>"
       ]
      }
     ],
     "prompt_number": 15
    }
   ],
   "metadata": {}
  }
 ]
}