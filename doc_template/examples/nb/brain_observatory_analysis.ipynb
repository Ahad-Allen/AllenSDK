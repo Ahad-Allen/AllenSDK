{
 "metadata": {
  "name": "",
  "signature": "sha256:46b2c8ee4bf6d3605a181c05648f22c8f54f530b3351a8d22ab3e674fcb59bb1"
 },
 "nbformat": 3,
 "nbformat_minor": 0,
 "worksheets": [
  {
   "cells": [
    {
     "cell_type": "markdown",
     "metadata": {},
     "source": [
      "## Brain Observatory Tuning Analysis\n",
      "This notebook demonstrates how to run the stimulus-specific tuning analysis code in the SDK.  First let's instantiate a `BrainObservatoryCache` instance."
     ]
    },
    {
     "cell_type": "code",
     "collapsed": false,
     "input": [
      "from allensdk.core.brain_observatory_cache import BrainObservatoryCache\n",
      "boc =  BrainObservatoryCache(manifest_file='boc/manifest.json', base_uri='http://testwarehouse:9000')"
     ],
     "language": "python",
     "metadata": {},
     "outputs": [],
     "prompt_number": 1
    },
    {
     "cell_type": "markdown",
     "metadata": {},
     "source": [
      "## Drifting Gratings"
     ]
    },
    {
     "cell_type": "code",
     "collapsed": false,
     "input": [
      "from allensdk.brain_observatory.drifting_gratings import DriftingGratings\n",
      "\n",
      "# example loading drifing grating data\n",
      "data_set = boc.get_ophys_experiment_data(511440894)\n",
      "dg = DriftingGratings(data_set)\n",
      "print(\"done analyzing drifting gratings\")"
     ],
     "language": "python",
     "metadata": {},
     "outputs": [
      {
       "output_type": "stream",
       "stream": "stdout",
       "text": [
        "done analyzing drifting gratings\n"
       ]
      }
     ],
     "prompt_number": 2
    },
    {
     "cell_type": "code",
     "collapsed": false,
     "input": [
      "dg.peak.head()"
     ],
     "language": "python",
     "metadata": {},
     "outputs": [
      {
       "html": [
        "<div style=\"max-width:1500px;overflow:auto;\">\n",
        "<table border=\"1\" class=\"dataframe\">\n",
        "  <thead>\n",
        "    <tr style=\"text-align: right;\">\n",
        "      <th></th>\n",
        "      <th>ori_dg</th>\n",
        "      <th>tf_dg</th>\n",
        "      <th>response_reliability_dg</th>\n",
        "      <th>osi_dg</th>\n",
        "      <th>dsi_dg</th>\n",
        "      <th>peak_dff_dg</th>\n",
        "      <th>ptest_dg</th>\n",
        "      <th>p_run_dg</th>\n",
        "      <th>run_modulation_dg</th>\n",
        "      <th>cv_dg</th>\n",
        "      <th>cell_specimen_id</th>\n",
        "    </tr>\n",
        "  </thead>\n",
        "  <tbody>\n",
        "    <tr>\n",
        "      <th>0</th>\n",
        "      <td>2</td>\n",
        "      <td>2</td>\n",
        "      <td>73.33333</td>\n",
        "      <td>0.9807748</td>\n",
        "      <td>0.9379226</td>\n",
        "      <td>23.43691</td>\n",
        "      <td>1.064602e-22</td>\n",
        "      <td>NaN</td>\n",
        "      <td>NaN</td>\n",
        "      <td>0.9241533</td>\n",
        "      <td>517399895</td>\n",
        "    </tr>\n",
        "    <tr>\n",
        "      <th>1</th>\n",
        "      <td>2</td>\n",
        "      <td>3</td>\n",
        "      <td>46.66667</td>\n",
        "      <td>0.8166485</td>\n",
        "      <td>0.7677177</td>\n",
        "      <td>7.160436</td>\n",
        "      <td>9.289697e-05</td>\n",
        "      <td>NaN</td>\n",
        "      <td>NaN</td>\n",
        "      <td>0.4790239</td>\n",
        "      <td>517399727</td>\n",
        "    </tr>\n",
        "    <tr>\n",
        "      <th>2</th>\n",
        "      <td>0</td>\n",
        "      <td>1</td>\n",
        "      <td>20</td>\n",
        "      <td>0.5830648</td>\n",
        "      <td>0.7372227</td>\n",
        "      <td>3.33036</td>\n",
        "      <td>0.3435539</td>\n",
        "      <td>0.4353102</td>\n",
        "      <td>0.1834409</td>\n",
        "      <td>0.2990284</td>\n",
        "      <td>517399421</td>\n",
        "    </tr>\n",
        "    <tr>\n",
        "      <th>3</th>\n",
        "      <td>7</td>\n",
        "      <td>2</td>\n",
        "      <td>33.33333</td>\n",
        "      <td>1.276678</td>\n",
        "      <td>0.4575081</td>\n",
        "      <td>2.935303</td>\n",
        "      <td>0.4713061</td>\n",
        "      <td>NaN</td>\n",
        "      <td>NaN</td>\n",
        "      <td>2.489806</td>\n",
        "      <td>517399683</td>\n",
        "    </tr>\n",
        "    <tr>\n",
        "      <th>4</th>\n",
        "      <td>1</td>\n",
        "      <td>1</td>\n",
        "      <td>33.33333</td>\n",
        "      <td>0.9192287</td>\n",
        "      <td>1.971021</td>\n",
        "      <td>3.717436</td>\n",
        "      <td>0.03558802</td>\n",
        "      <td>0.1354739</td>\n",
        "      <td>22.89428</td>\n",
        "      <td>0.4119766</td>\n",
        "      <td>517399327</td>\n",
        "    </tr>\n",
        "  </tbody>\n",
        "</table>\n",
        "</div>"
       ],
       "metadata": {},
       "output_type": "pyout",
       "prompt_number": 3,
       "text": [
        "  ori_dg tf_dg response_reliability_dg     osi_dg     dsi_dg peak_dff_dg  \\\n",
        "0      2     2                73.33333  0.9807748  0.9379226    23.43691   \n",
        "1      2     3                46.66667  0.8166485  0.7677177    7.160436   \n",
        "2      0     1                      20  0.5830648  0.7372227     3.33036   \n",
        "3      7     2                33.33333   1.276678  0.4575081    2.935303   \n",
        "4      1     1                33.33333  0.9192287   1.971021    3.717436   \n",
        "\n",
        "       ptest_dg   p_run_dg run_modulation_dg      cv_dg cell_specimen_id  \n",
        "0  1.064602e-22        NaN               NaN  0.9241533        517399895  \n",
        "1  9.289697e-05        NaN               NaN  0.4790239        517399727  \n",
        "2     0.3435539  0.4353102         0.1834409  0.2990284        517399421  \n",
        "3     0.4713061        NaN               NaN   2.489806        517399683  \n",
        "4    0.03558802  0.1354739          22.89428  0.4119766        517399327  "
       ]
      }
     ],
     "prompt_number": 3
    },
    {
     "cell_type": "markdown",
     "metadata": {},
     "source": [
      "## Static Gratings"
     ]
    },
    {
     "cell_type": "code",
     "collapsed": false,
     "input": [
      "from allensdk.brain_observatory.static_gratings import StaticGratings\n",
      "\n",
      "# example loading drifing grating data\n",
      "data_set = boc.get_ophys_experiment_data(510938357)\n",
      "\n",
      "sg = StaticGratings(data_set)\n",
      "print(\"done analyzing static gratings\")"
     ],
     "language": "python",
     "metadata": {},
     "outputs": [
      {
       "output_type": "stream",
       "stream": "stdout",
       "text": [
        "done analyzing static gratings\n"
       ]
      }
     ],
     "prompt_number": 4
    },
    {
     "cell_type": "code",
     "collapsed": false,
     "input": [
      "sg.peak.head()"
     ],
     "language": "python",
     "metadata": {},
     "outputs": [
      {
       "html": [
        "<div style=\"max-width:1500px;overflow:auto;\">\n",
        "<table border=\"1\" class=\"dataframe\">\n",
        "  <thead>\n",
        "    <tr style=\"text-align: right;\">\n",
        "      <th></th>\n",
        "      <th>ori_sg</th>\n",
        "      <th>sf_sg</th>\n",
        "      <th>phase_sg</th>\n",
        "      <th>response_reliability_sg</th>\n",
        "      <th>osi_sg</th>\n",
        "      <th>peak_dff_sg</th>\n",
        "      <th>ptest_sg</th>\n",
        "      <th>time_to_peak_sg</th>\n",
        "      <th>duration_sg</th>\n",
        "      <th>cell_specimen_id</th>\n",
        "    </tr>\n",
        "  </thead>\n",
        "  <tbody>\n",
        "    <tr>\n",
        "      <th>0</th>\n",
        "      <td>0</td>\n",
        "      <td>3</td>\n",
        "      <td>1</td>\n",
        "      <td>16.66667</td>\n",
        "      <td>0.7277323</td>\n",
        "      <td>3.746839</td>\n",
        "      <td>0.4700023</td>\n",
        "      <td>0.89559</td>\n",
        "      <td>0.03317</td>\n",
        "      <td>517399193</td>\n",
        "    </tr>\n",
        "    <tr>\n",
        "      <th>1</th>\n",
        "      <td>5</td>\n",
        "      <td>3</td>\n",
        "      <td>3</td>\n",
        "      <td>35.41667</td>\n",
        "      <td>0.8987844</td>\n",
        "      <td>19.08064</td>\n",
        "      <td>2.686254e-09</td>\n",
        "      <td>0.46438</td>\n",
        "      <td>0.03317</td>\n",
        "      <td>517399774</td>\n",
        "    </tr>\n",
        "    <tr>\n",
        "      <th>2</th>\n",
        "      <td>4</td>\n",
        "      <td>3</td>\n",
        "      <td>3</td>\n",
        "      <td>14.58333</td>\n",
        "      <td>0.9321128</td>\n",
        "      <td>4.549655</td>\n",
        "      <td>0.7867488</td>\n",
        "      <td>0.3317</td>\n",
        "      <td>0.3317</td>\n",
        "      <td>517399702</td>\n",
        "    </tr>\n",
        "    <tr>\n",
        "      <th>3</th>\n",
        "      <td>5</td>\n",
        "      <td>5</td>\n",
        "      <td>1</td>\n",
        "      <td>22.91667</td>\n",
        "      <td>1.089449</td>\n",
        "      <td>2.118477</td>\n",
        "      <td>0.1020908</td>\n",
        "      <td>0.3317</td>\n",
        "      <td>0.36487</td>\n",
        "      <td>517399683</td>\n",
        "    </tr>\n",
        "    <tr>\n",
        "      <th>4</th>\n",
        "      <td>3</td>\n",
        "      <td>5</td>\n",
        "      <td>0</td>\n",
        "      <td>16.66667</td>\n",
        "      <td>0.3153815</td>\n",
        "      <td>4.055015</td>\n",
        "      <td>0.05987895</td>\n",
        "      <td>0.79608</td>\n",
        "      <td>1.02827</td>\n",
        "      <td>517399421</td>\n",
        "    </tr>\n",
        "  </tbody>\n",
        "</table>\n",
        "</div>"
       ],
       "metadata": {},
       "output_type": "pyout",
       "prompt_number": 5,
       "text": [
        "  ori_sg sf_sg phase_sg response_reliability_sg     osi_sg peak_dff_sg  \\\n",
        "0      0     3        1                16.66667  0.7277323    3.746839   \n",
        "1      5     3        3                35.41667  0.8987844    19.08064   \n",
        "2      4     3        3                14.58333  0.9321128    4.549655   \n",
        "3      5     5        1                22.91667   1.089449    2.118477   \n",
        "4      3     5        0                16.66667  0.3153815    4.055015   \n",
        "\n",
        "       ptest_sg time_to_peak_sg duration_sg cell_specimen_id  \n",
        "0     0.4700023         0.89559     0.03317        517399193  \n",
        "1  2.686254e-09         0.46438     0.03317        517399774  \n",
        "2     0.7867488          0.3317      0.3317        517399702  \n",
        "3     0.1020908          0.3317     0.36487        517399683  \n",
        "4    0.05987895         0.79608     1.02827        517399421  "
       ]
      }
     ],
     "prompt_number": 5
    },
    {
     "cell_type": "markdown",
     "metadata": {},
     "source": [
      "## Natural Scenes"
     ]
    },
    {
     "cell_type": "code",
     "collapsed": false,
     "input": [
      "from allensdk.brain_observatory.natural_scenes import NaturalScenes\n",
      "\n",
      "data_set = boc.get_ophys_experiment_data(510938357)\n",
      "\n",
      "ns = NaturalScenes(data_set)\n",
      "print(\"done analyzing natural scenes\")"
     ],
     "language": "python",
     "metadata": {},
     "outputs": [
      {
       "output_type": "stream",
       "stream": "stdout",
       "text": [
        "done analyzing natural scenes\n"
       ]
      }
     ],
     "prompt_number": 6
    },
    {
     "cell_type": "code",
     "collapsed": false,
     "input": [
      "ns.peak.head()"
     ],
     "language": "python",
     "metadata": {},
     "outputs": [
      {
       "html": [
        "<div style=\"max-width:1500px;overflow:auto;\">\n",
        "<table border=\"1\" class=\"dataframe\">\n",
        "  <thead>\n",
        "    <tr style=\"text-align: right;\">\n",
        "      <th></th>\n",
        "      <th>scene_ns</th>\n",
        "      <th>response_reliability_ns</th>\n",
        "      <th>peak_dff_ns</th>\n",
        "      <th>ptest_ns</th>\n",
        "      <th>p_run_ns</th>\n",
        "      <th>run_modulation_ns</th>\n",
        "      <th>time_to_peak_ns</th>\n",
        "      <th>duration_ns</th>\n",
        "      <th>cell_specimen_id</th>\n",
        "    </tr>\n",
        "  </thead>\n",
        "  <tbody>\n",
        "    <tr>\n",
        "      <th>0</th>\n",
        "      <td>48</td>\n",
        "      <td>6</td>\n",
        "      <td>4.726091</td>\n",
        "      <td>0.166502</td>\n",
        "      <td>0.269754</td>\n",
        "      <td>-0.1073051</td>\n",
        "      <td>0.72974</td>\n",
        "      <td>0.03317</td>\n",
        "      <td>517399193</td>\n",
        "    </tr>\n",
        "    <tr>\n",
        "      <th>1</th>\n",
        "      <td>96</td>\n",
        "      <td>26</td>\n",
        "      <td>8.660661</td>\n",
        "      <td>1.18856e-09</td>\n",
        "      <td>NaN</td>\n",
        "      <td>NaN</td>\n",
        "      <td>0.3317</td>\n",
        "      <td>0.43121</td>\n",
        "      <td>517399774</td>\n",
        "    </tr>\n",
        "    <tr>\n",
        "      <th>2</th>\n",
        "      <td>103</td>\n",
        "      <td>16</td>\n",
        "      <td>2.409205</td>\n",
        "      <td>0.01520566</td>\n",
        "      <td>0.009848073</td>\n",
        "      <td>-54.77162</td>\n",
        "      <td>0.43121</td>\n",
        "      <td>0.43121</td>\n",
        "      <td>517399702</td>\n",
        "    </tr>\n",
        "    <tr>\n",
        "      <th>3</th>\n",
        "      <td>103</td>\n",
        "      <td>14</td>\n",
        "      <td>1.70591</td>\n",
        "      <td>0.6032894</td>\n",
        "      <td>0.1210459</td>\n",
        "      <td>-25.5943</td>\n",
        "      <td>0.89559</td>\n",
        "      <td>0.86242</td>\n",
        "      <td>517399683</td>\n",
        "    </tr>\n",
        "    <tr>\n",
        "      <th>4</th>\n",
        "      <td>21</td>\n",
        "      <td>4</td>\n",
        "      <td>1.537637</td>\n",
        "      <td>0.05954203</td>\n",
        "      <td>NaN</td>\n",
        "      <td>NaN</td>\n",
        "      <td>0.53072</td>\n",
        "      <td>0.36487</td>\n",
        "      <td>517399421</td>\n",
        "    </tr>\n",
        "  </tbody>\n",
        "</table>\n",
        "</div>"
       ],
       "metadata": {},
       "output_type": "pyout",
       "prompt_number": 7,
       "text": [
        "  scene_ns response_reliability_ns peak_dff_ns     ptest_ns     p_run_ns  \\\n",
        "0       48                       6    4.726091     0.166502     0.269754   \n",
        "1       96                      26    8.660661  1.18856e-09          NaN   \n",
        "2      103                      16    2.409205   0.01520566  0.009848073   \n",
        "3      103                      14     1.70591    0.6032894    0.1210459   \n",
        "4       21                       4    1.537637   0.05954203          NaN   \n",
        "\n",
        "  run_modulation_ns time_to_peak_ns duration_ns cell_specimen_id  \n",
        "0        -0.1073051         0.72974     0.03317        517399193  \n",
        "1               NaN          0.3317     0.43121        517399774  \n",
        "2         -54.77162         0.43121     0.43121        517399702  \n",
        "3          -25.5943         0.89559     0.86242        517399683  \n",
        "4               NaN         0.53072     0.36487        517399421  "
       ]
      }
     ],
     "prompt_number": 7
    },
    {
     "cell_type": "markdown",
     "metadata": {},
     "source": [
      "## Locally Sparse Noise"
     ]
    },
    {
     "cell_type": "code",
     "collapsed": false,
     "input": [
      "from allensdk.brain_observatory.locally_sparse_noise import LocallySparseNoise\n",
      "\n",
      "data_set = boc.get_ophys_experiment_data(510656082)\n",
      "lsn = LocallySparseNoise(data_set)\n",
      "print(\"done analyzing locally sparse noise\")"
     ],
     "language": "python",
     "metadata": {},
     "outputs": [
      {
       "output_type": "stream",
       "stream": "stdout",
       "text": [
        "Calculating mean responses\n",
        "done analyzing locally sparse noise"
       ]
      },
      {
       "output_type": "stream",
       "stream": "stdout",
       "text": [
        "\n"
       ]
      }
     ],
     "prompt_number": 8
    },
    {
     "cell_type": "code",
     "collapsed": false,
     "input": [
      "import matplotlib.pyplot as plt\n",
      "%matplotlib inline\n",
      "receptive_field = lsn.get_receptive_field()\n",
      "plt.imshow(receptive_field[:,:,0,0], interpolation='nearest', cmap='hot')\n",
      "plt.show()"
     ],
     "language": "python",
     "metadata": {},
     "outputs": [
      {
       "output_type": "stream",
       "stream": "stdout",
       "text": [
        "Calculating mean responses\n"
       ]
      },
      {
       "metadata": {},
       "output_type": "display_data",
       "png": "[encoded data removed]",
       "text": [
        "<matplotlib.figure.Figure at 0x7f40807d2310>"
       ]
      }
     ],
     "prompt_number": 9
    }
   ],
   "metadata": {}
  }
 ]
}