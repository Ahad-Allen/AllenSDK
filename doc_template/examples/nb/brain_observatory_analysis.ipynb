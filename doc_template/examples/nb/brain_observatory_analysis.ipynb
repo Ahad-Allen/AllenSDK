{
 "metadata": {
  "name": "",
  "signature": "sha256:4fdfb7fe35fb6354edcafaac568b8743fa39b6bc787b09a3c0350254f4773ede"
 },
 "nbformat": 3,
 "nbformat_minor": 0,
 "worksheets": [
  {
   "cells": [
    {
     "cell_type": "markdown",
     "metadata": {},
     "source": [
      "## Brain Observatory Tuning Analysis\n",
      "This notebook demonstrates how to run the stimulus-specific tuning analysis code in the SDK.  First let's instantiate a `BrainObservatoryCache` instance."
     ]
    },
    {
     "cell_type": "code",
     "collapsed": false,
     "input": [
      "from allensdk.core.brain_observatory_cache import BrainObservatoryCache\n",
      "boc =  BrainObservatoryCache(manifest_file='boc/manifest.json', base_uri='http://testwarehouse:9000')"
     ],
     "language": "python",
     "metadata": {},
     "outputs": [],
     "prompt_number": 1
    },
    {
     "cell_type": "markdown",
     "metadata": {},
     "source": [
      "## Drifting Gratings"
     ]
    },
    {
     "cell_type": "code",
     "collapsed": false,
     "input": [
      "from allensdk.brain_observatory.drifting_gratings import DriftingGratings\n",
      "\n",
      "# example loading drifing grating data\n",
      "data_set = boc.get_ophys_experiment_data(511440894)\n",
      "dg = DriftingGratings(data_set)\n",
      "print(\"done analyzing drifting gratings\")"
     ],
     "language": "python",
     "metadata": {},
     "outputs": []
    },
    {
     "cell_type": "code",
     "collapsed": false,
     "input": [
      "dg.peak"
     ],
     "language": "python",
     "metadata": {},
     "outputs": []
    },
    {
     "cell_type": "markdown",
     "metadata": {},
     "source": [
      "## Static Gratings"
     ]
    },
    {
     "cell_type": "code",
     "collapsed": false,
     "input": [
      "from allensdk.brain_observatory.static_gratings import StaticGratings\n",
      "\n",
      "# example loading drifing grating data\n",
      "data_set = boc.get_ophys_experiment_data(510938357)\n",
      "\n",
      "sg = StaticGratings(data_set)\n",
      "print(\"done analyzing static gratings\")"
     ],
     "language": "python",
     "metadata": {},
     "outputs": []
    },
    {
     "cell_type": "code",
     "collapsed": false,
     "input": [
      "sg.peak"
     ],
     "language": "python",
     "metadata": {},
     "outputs": []
    },
    {
     "cell_type": "markdown",
     "metadata": {},
     "source": [
      "## Natural Scenes"
     ]
    },
    {
     "cell_type": "code",
     "collapsed": false,
     "input": [
      "from allensdk.brain_observatory.natural_scenes import NaturalScenes\n",
      "\n",
      "data_set = boc.get_ophys_experiment_data(510938357)\n",
      "\n",
      "ns = NaturalScenes(data_set)\n",
      "print(\"done analyzing natural scenes\")"
     ],
     "language": "python",
     "metadata": {},
     "outputs": []
    },
    {
     "cell_type": "code",
     "collapsed": false,
     "input": [
      "ns.peak"
     ],
     "language": "python",
     "metadata": {},
     "outputs": []
    },
    {
     "cell_type": "markdown",
     "metadata": {},
     "source": [
      "## Locally Sparse Noise"
     ]
    },
    {
     "cell_type": "code",
     "collapsed": false,
     "input": [
      "from allensdk.brain_observatory.locally_sparse_noise import LocallySparseNoise\n",
      "\n",
      "data_set = boc.get_ophys_experiment_data(510656082)\n",
      "lsn = LocallySparseNoise(data_set)\n",
      "print(\"done analyzing locally sparse noise\")"
     ],
     "language": "python",
     "metadata": {},
     "outputs": []
    }
   ],
   "metadata": {}
  }
 ]
}