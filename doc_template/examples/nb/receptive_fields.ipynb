{
 "cells": [
  {
   "cell_type": "markdown",
   "metadata": {},
   "source": [
    "# Receptive Field Analysis\n",
    "This notebook demonstrates how to run the `brain_observatory.receptive_field_analysis` module.  This module uses a cell's responses to the locally sparse noise stimulus to characterize the spatial receptive field, including on and off subunits.  We highly recommend reading through the the stimulus analysis <a href='http://help.brain-map.org/display/observatory/Documentation]'>whitepaper</a> to understand the locally sparse noise stimulus and the analysis methodology.\n",
    "\n",
    "First we import packages."
   ]
  },
  {
   "cell_type": "code",
   "execution_count": 1,
   "metadata": {
    "collapsed": false
   },
   "outputs": [],
   "source": [
    "from allensdk.core.brain_observatory_cache import BrainObservatoryCache\n",
    "import allensdk.brain_observatory.receptive_field_analysis.visualization as rfvis\n",
    "import allensdk.brain_observatory.receptive_field_analysis.receptive_field as rf\n",
    "import matplotlib.pyplot as plt\n",
    "%matplotlib inline"
   ]
  },
  {
   "cell_type": "markdown",
   "metadata": {},
   "source": [
    "Given a cell of interest, we now identify the experiment that contains the locally sparse noise stimulus and download its NWB file.  We also look in the NWB file to figure out the position/index of the cell that has the ID we're interested in."
   ]
  },
  {
   "cell_type": "code",
   "execution_count": 2,
   "metadata": {
    "collapsed": false
   },
   "outputs": [
    {
     "name": "stderr",
     "output_type": "stream",
     "text": [
      "WARNING:allensdk.api.queries.brain_observatory_api:Downloading ophys_experiment 501474098 NWB. This can take some time.\n"
     ]
    },
    {
     "ename": "ValueError",
     "evalue": "Cell specimen not found (587377366 is not in list)",
     "output_type": "error",
     "traceback": [
      "\u001b[1;31m---------------------------------------------------------------------------\u001b[0m",
      "\u001b[1;31mValueError\u001b[0m                                Traceback (most recent call last)",
      "\u001b[1;32m<ipython-input-2-e02ef67cdc77>\u001b[0m in \u001b[0;36m<module>\u001b[1;34m()\u001b[0m\n\u001b[0;32m      8\u001b[0m \u001b[0mdata_set\u001b[0m \u001b[1;33m=\u001b[0m \u001b[0mboc\u001b[0m\u001b[1;33m.\u001b[0m\u001b[0mget_ophys_experiment_data\u001b[0m\u001b[1;33m(\u001b[0m\u001b[0mexps\u001b[0m\u001b[1;33m[\u001b[0m\u001b[1;36m0\u001b[0m\u001b[1;33m]\u001b[0m\u001b[1;33m[\u001b[0m\u001b[1;34m'id'\u001b[0m\u001b[1;33m]\u001b[0m\u001b[1;33m)\u001b[0m\u001b[1;33m\u001b[0m\u001b[0m\n\u001b[0;32m      9\u001b[0m \u001b[1;33m\u001b[0m\u001b[0m\n\u001b[1;32m---> 10\u001b[1;33m \u001b[0mcell_index\u001b[0m \u001b[1;33m=\u001b[0m \u001b[0mdata_set\u001b[0m\u001b[1;33m.\u001b[0m\u001b[0mget_cell_specimen_indices\u001b[0m\u001b[1;33m(\u001b[0m\u001b[1;33m[\u001b[0m\u001b[0mcell_specimen_id\u001b[0m\u001b[1;33m]\u001b[0m\u001b[1;33m)\u001b[0m\u001b[1;33m[\u001b[0m\u001b[1;36m0\u001b[0m\u001b[1;33m]\u001b[0m\u001b[1;33m\u001b[0m\u001b[0m\n\u001b[0m\u001b[0;32m     11\u001b[0m \u001b[1;33m\u001b[0m\u001b[0m\n\u001b[0;32m     12\u001b[0m \u001b[1;32mprint\u001b[0m\u001b[1;33m(\u001b[0m\u001b[1;34m\"cell %d has index %d\"\u001b[0m \u001b[1;33m%\u001b[0m \u001b[1;33m(\u001b[0m\u001b[0mcell_specimen_id\u001b[0m\u001b[1;33m,\u001b[0m \u001b[0mcell_index\u001b[0m\u001b[1;33m)\u001b[0m\u001b[1;33m)\u001b[0m\u001b[1;33m\u001b[0m\u001b[0m\n",
      "\u001b[1;32m/local1/stash/allensdk/allensdk/core/brain_observatory_nwb_data_set.pyc\u001b[0m in \u001b[0;36mget_cell_specimen_indices\u001b[1;34m(self, cell_specimen_ids)\u001b[0m\n\u001b[0;32m    268\u001b[0m                     for i in cell_specimen_ids]\n\u001b[0;32m    269\u001b[0m         \u001b[1;32mexcept\u001b[0m \u001b[0mValueError\u001b[0m \u001b[1;32mas\u001b[0m \u001b[0me\u001b[0m\u001b[1;33m:\u001b[0m\u001b[1;33m\u001b[0m\u001b[0m\n\u001b[1;32m--> 270\u001b[1;33m             \u001b[1;32mraise\u001b[0m \u001b[0mValueError\u001b[0m\u001b[1;33m(\u001b[0m\u001b[1;34m\"Cell specimen not found (%s)\"\u001b[0m \u001b[1;33m%\u001b[0m \u001b[0mstr\u001b[0m\u001b[1;33m(\u001b[0m\u001b[0me\u001b[0m\u001b[1;33m)\u001b[0m\u001b[1;33m)\u001b[0m\u001b[1;33m\u001b[0m\u001b[0m\n\u001b[0m\u001b[0;32m    271\u001b[0m \u001b[1;33m\u001b[0m\u001b[0m\n\u001b[0;32m    272\u001b[0m         \u001b[1;32mreturn\u001b[0m \u001b[0minds\u001b[0m\u001b[1;33m\u001b[0m\u001b[0m\n",
      "\u001b[1;31mValueError\u001b[0m: Cell specimen not found (587377366 is not in list)"
     ]
    }
   ],
   "source": [
    "cell_specimen_id = 587377366\n",
    "\n",
    "boc = BrainObservatoryCache(manifest_file='boc/manifest.json')\n",
    "\n",
    "exps = boc.get_ophys_experiments(cell_specimen_ids=[cell_specimen_id],\n",
    "                                 stimuli=['locally_sparse_noise'])\n",
    "\n",
    "data_set = boc.get_ophys_experiment_data(exps[0]['id'])\n",
    "\n",
    "cell_index = data_set.get_cell_specimen_indices([cell_specimen_id])[0]\n",
    "\n",
    "print(\"cell %d has index %d\" % (cell_specimen_id, cell_index))"
   ]
  },
  {
   "cell_type": "markdown",
   "metadata": {},
   "source": [
    "## Compute receptive fields\n",
    "The following method in the `receptive_field_analysis` module will run characterize receptive on and off receptive fields and perform a per-pixel significance test."
   ]
  },
  {
   "cell_type": "code",
   "execution_count": null,
   "metadata": {
    "collapsed": false
   },
   "outputs": [],
   "source": [
    "rf_data = rf.compute_receptive_field_with_postprocessing(data_set, \n",
    "                                                         cell_index, \n",
    "                                                         'locally_sparse_noise', \n",
    "                                                         alpha=0.5, \n",
    "                                                         number_of_shuffles=10000)"
   ]
  },
  {
   "cell_type": "markdown",
   "metadata": {},
   "source": [
    "## Chi^2 significance map\n",
    "Per-pixel chi-square tests identify cells that show non-uniform distributions of responses across pixels.  The `receptive_field_analysis.visualization` module has function to plot that significance as a heat map."
   ]
  },
  {
   "cell_type": "code",
   "execution_count": null,
   "metadata": {
    "collapsed": false
   },
   "outputs": [],
   "source": [
    "rfvis.plot_chi_square_summary(rf_data)\n",
    "plt.show()"
   ]
  },
  {
   "cell_type": "markdown",
   "metadata": {},
   "source": [
    "## Response-triggered stimulus field\n",
    "The response-triggered stimulus field shows, for a given pixel, how many trials contained a detected calcium event."
   ]
  },
  {
   "cell_type": "code",
   "execution_count": null,
   "metadata": {
    "collapsed": false
   },
   "outputs": [],
   "source": [
    "fig, (ax1, ax2) = plt.subplots(1,2)\n",
    "rfvis.plot_rts_summary(rf_data, ax1, ax2)"
   ]
  },
  {
   "cell_type": "markdown",
   "metadata": {},
   "source": [
    "## Blurred response-triggered stimulus field\n",
    "The RTS field is convolved with a Gaussian to pool the contributions of neighboring stimulus pixels.  "
   ]
  },
  {
   "cell_type": "code",
   "execution_count": null,
   "metadata": {
    "collapsed": false
   },
   "outputs": [],
   "source": [
    "fig, (ax1, ax2) = plt.subplots(1,2)\n",
    "rfvis.plot_rts_blur_summary(rf_data, ax1, ax2)"
   ]
  },
  {
   "cell_type": "markdown",
   "metadata": {},
   "source": [
    "## p value field\n",
    "\n",
    "Per-pixel p-values are estimated from the blurred RTS field to understand the significance of the response to each pixel.  "
   ]
  },
  {
   "cell_type": "code",
   "execution_count": null,
   "metadata": {
    "collapsed": false
   },
   "outputs": [],
   "source": [
    "fig, (ax1, ax2) = plt.subplots(1,2)\n",
    "rfvis.plot_p_values(rf_data, ax1, ax2)"
   ]
  },
  {
   "cell_type": "markdown",
   "metadata": {},
   "source": [
    "## Significance mask\n",
    "\n",
    "The significance mask is p-value field after applying a binary threshold to remove insignificant pixels."
   ]
  },
  {
   "cell_type": "code",
   "execution_count": null,
   "metadata": {
    "collapsed": false
   },
   "outputs": [],
   "source": [
    "fig, (ax1, ax2) = plt.subplots(1,2)\n",
    "rfvis.plot_mask(rf_data, ax1, ax2)"
   ]
  },
  {
   "cell_type": "markdown",
   "metadata": {},
   "source": [
    "## Gaussian fit\n",
    "Each identified subunit of the on and off receptive fields are fit with a Gaussian in the `receptive_field_analysis.postprocessing` module."
   ]
  },
  {
   "cell_type": "code",
   "execution_count": null,
   "metadata": {
    "collapsed": false
   },
   "outputs": [],
   "source": [
    "fig, (ax1, ax2) = plt.subplots(1,2)\n",
    "rfvis.plot_gaussian_fit(rf_data, ax1, ax2)"
   ]
  },
  {
   "cell_type": "markdown",
   "metadata": {},
   "source": [
    "## 4 vs 8 degree sparse noise stimuli\n",
    "Newer experiments switched from using a single locally sparse noise stimulus with 4-visual-degree pixels to two blocks of stimuli with different pixel sizes (a 4 degree block and an 8 degree block).  You can characterize the receptive fields from reponses to each stimulus block separately."
   ]
  },
  {
   "cell_type": "code",
   "execution_count": null,
   "metadata": {
    "collapsed": false
   },
   "outputs": [],
   "source": [
    "cell_specimen_id = 559109414\n",
    "exps = boc.get_ophys_experiments(cell_specimen_ids=[cell_specimen_id])\n",
    "for exp in exps:\n",
    "    print(boc.get_ophys_experiment_stimuli(exp['id']))"
   ]
  },
  {
   "cell_type": "markdown",
   "metadata": {},
   "source": [
    "This cell comes from an experiment that has the new 4 degree and 8 degree stimulus blocks.  Let's find the experiment that contains the 8 degree stimulus."
   ]
  },
  {
   "cell_type": "code",
   "execution_count": null,
   "metadata": {
    "collapsed": false
   },
   "outputs": [],
   "source": [
    "exp = boc.get_ophys_experiments(cell_specimen_ids=[cell_specimen_id],\n",
    "                                stimuli=['locally_sparse_noise_8deg'])\n",
    "data_set = boc.get_ophys_experiment_data(exps[0]['id'])\n",
    "cell_index = data_set.get_cell_specimen_indices([cell_specimen_id])[0]\n",
    "print(\"cell %d has index %d\" % (cell_specimen_id, cell_index))"
   ]
  },
  {
   "cell_type": "markdown",
   "metadata": {},
   "source": [
    "Now we can run the receptive field analysis as before and see what this looks like."
   ]
  },
  {
   "cell_type": "code",
   "execution_count": null,
   "metadata": {
    "collapsed": false
   },
   "outputs": [],
   "source": [
    "rf_data = rf.compute_receptive_field_with_postprocessing(data_set, \n",
    "                                                         cell_index, \n",
    "                                                         'locally_sparse_noise_8deg', \n",
    "                                                         alpha=0.5, \n",
    "                                                         number_of_shuffles=10000)"
   ]
  },
  {
   "cell_type": "code",
   "execution_count": null,
   "metadata": {
    "collapsed": false
   },
   "outputs": [],
   "source": [
    "rfvis.plot_chi_square_summary(rf_data)\n",
    "plt.show()"
   ]
  },
  {
   "cell_type": "code",
   "execution_count": null,
   "metadata": {
    "collapsed": false
   },
   "outputs": [],
   "source": [
    "fig, (ax1, ax2) = plt.subplots(1,2)\n",
    "rfvis.plot_rts_summary(rf_data, ax1, ax2)"
   ]
  }
 ],
 "metadata": {
  "kernelspec": {
   "display_name": "Python 2",
   "language": "python",
   "name": "python2"
  }
 },
 "nbformat": 4,
 "nbformat_minor": 0
}
