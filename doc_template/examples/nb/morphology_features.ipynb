{
 "cells": [
  {
   "cell_type": "code",
   "execution_count": null,
   "metadata": {
    "collapsed": true
   },
   "outputs": [],
   "source": [
    "## Morphology feature analysis\n",
    "\n",
    "This notebook demonstrates most of the features of the AllenSDK that read morphology data, stored in SWC files, and calculate morphological features.\n",
    "\n",
    "It uses the 'Morphology' class to read and store morphology data, and the 'morphology_analysis' module for generating feature data.\n"
   ]
  },
  {
   "cell_type": "code",
   "execution_count": 1,
   "metadata": {
    "collapsed": false
   },
   "outputs": [
    {
     "ename": "ImportError",
     "evalue": "No module named morphology.morphology_analysis",
     "output_type": "error",
     "traceback": [
      "\u001b[1;31m---------------------------------------------------------------------------\u001b[0m",
      "\u001b[1;31mImportError\u001b[0m                               Traceback (most recent call last)",
      "\u001b[1;32m<ipython-input-1-ce7f50abb85b>\u001b[0m in \u001b[0;36m<module>\u001b[1;34m()\u001b[0m\n\u001b[0;32m      1\u001b[0m \u001b[1;32mimport\u001b[0m \u001b[0mallensdk\u001b[0m\u001b[1;33m.\u001b[0m\u001b[0mcore\u001b[0m\u001b[1;33m.\u001b[0m\u001b[0mswc\u001b[0m\u001b[1;33m\u001b[0m\u001b[0m\n\u001b[1;32m----> 2\u001b[1;33m \u001b[1;32mimport\u001b[0m \u001b[0mallensdk\u001b[0m\u001b[1;33m.\u001b[0m\u001b[0mmorphology\u001b[0m\u001b[1;33m.\u001b[0m\u001b[0mmorphology_analysis\u001b[0m \u001b[1;32mas\u001b[0m \u001b[0mmorphology\u001b[0m\u001b[1;33m\u001b[0m\u001b[0m\n\u001b[0m\u001b[0;32m      3\u001b[0m \u001b[1;33m\u001b[0m\u001b[0m\n\u001b[0;32m      4\u001b[0m \u001b[1;31m# morphology file to be analyzed\u001b[0m\u001b[1;33m\u001b[0m\u001b[1;33m\u001b[0m\u001b[0m\n\u001b[0;32m      5\u001b[0m \u001b[0mswc_file\u001b[0m \u001b[1;33m=\u001b[0m \u001b[1;34m\"/projects/mousecelltypes/vol1/prod197/specimen_324257146/Sst-IRES-Cre_Ai14_IVSCC_-173191.06.01.01_397902234_m.swc\"\u001b[0m\u001b[1;33m\u001b[0m\u001b[0m\n",
      "\u001b[1;31mImportError\u001b[0m: No module named morphology.morphology_analysis"
     ]
    }
   ],
   "source": [
    "import allensdk.core.swc\n",
    "import allensdk.morphology.morphology_analysis as morphology\n",
    "\n",
    "# morphology file to be analyzed\n",
    "swc_file = \"/projects/mousecelltypes/vol1/prod197/specimen_324257146/Sst-IRES-Cre_Ai14_IVSCC_-173191.06.01.01_397902234_m.swc\"\n",
    "\n",
    "# load file\n",
    "morph = swc.read_swc(swc_file)\n",
    "\n",
    "# dendrite features were calculated on both apical and basal dendrites\n",
    "#   together\n",
    "# merge these\n",
    "morph.convert_type(swc.Morphology.APICAL_DENDRITE, swc.Morphology.BASAL_DENDRITE)\n",
    "\n",
    "# remove axons\n",
    "morph.strip_type(swc.Morphology.AXON)\n",
    "\n",
    "# compute features\n",
    "features, descriptions = morphology.computeFeature(morph)\n",
    "\n",
    "# display results\n",
    "for i in range(len(features)):\n",
    "    print(\"%35s\\t%g\" % (descriptions[i], features[i]))\n",
    "\n",
    "\n"
   ]
  },
  {
   "cell_type": "code",
   "execution_count": null,
   "metadata": {
    "collapsed": true
   },
   "outputs": [],
   "source": []
  }
 ],
 "metadata": {
  "kernelspec": {
   "display_name": "Python 2",
   "language": "python",
   "name": "python2"
  },
  "language_info": {
   "codemirror_mode": {
    "name": "ipython",
    "version": 2
   },
   "file_extension": ".py",
   "mimetype": "text/x-python",
   "name": "python",
   "nbconvert_exporter": "python",
   "pygments_lexer": "ipython2",
   "version": "2.7.11"
  }
 },
 "nbformat": 4,
 "nbformat_minor": 0
}
