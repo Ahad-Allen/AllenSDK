{
 "cells": [
  {
   "cell_type": "markdown",
   "metadata": {},
   "source": [
    "# Experiment Metadata"
   ]
  },
  {
   "cell_type": "markdown",
   "metadata": {},
   "source": [
    "# NWB Download"
   ]
  },
  {
   "cell_type": "markdown",
   "metadata": {},
   "source": [
    "# ROI Masks"
   ]
  },
  {
   "cell_type": "markdown",
   "metadata": {},
   "source": [
    "# ROI Analysis"
   ]
  },
  {
   "cell_type": "markdown",
   "metadata": {},
   "source": [
    "# Neuropil Subtraction"
   ]
  },
  {
   "cell_type": "code",
   "execution_count": null,
   "metadata": {
    "collapsed": true
   },
   "outputs": [],
   "source": [
    "from allensdk.core.cam_nwb_data_set import CamNwbDataSet\n",
    "\n",
    "# load the cell and neuropil traces\n",
    "f = CamNwbDataSet(\"510221121.nwb\")\n",
    "\n",
    "time, roi_traces = f.get_fluorescence_traces()\n",
    "_, neuropil_traces = f.get_neuropil_traces()"
   ]
  },
  {
   "cell_type": "code",
   "execution_count": null,
   "metadata": {
    "collapsed": true
   },
   "outputs": [],
   "source": [
    "from allensdk.cam.r_neuropil import estimate_contamination_ratios\n",
    "\n",
    "results = estimate_contamination_ratios(roi_traces[0], neuropil_traces[0])\n",
    "\n",
    "print(\"r = %f\" % results['r'])\n",
    "print(\"error = %f\" % results['err'])"
   ]
  }
 ],
 "metadata": {
  "kernelspec": {
   "display_name": "Python 2",
   "language": "python",
   "name": "python2"
  },
  "language_info": {
   "codemirror_mode": {
    "name": "ipython",
    "version": 2
   },
   "file_extension": ".py",
   "mimetype": "text/x-python",
   "name": "python",
   "nbconvert_exporter": "python",
   "pygments_lexer": "ipython2",
   "version": "2.7.11"
  }
 },
 "nbformat": 4,
 "nbformat_minor": 0
}
