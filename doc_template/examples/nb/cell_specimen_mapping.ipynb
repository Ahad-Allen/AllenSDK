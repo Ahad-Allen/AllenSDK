{
 "cells": [
  {
   "cell_type": "markdown",
   "metadata": {},
   "source": [
    "# Cell Specimen Mapping\n",
    "The cross-session alignment algorithm has been updated and re-run. As a result all cell specimen IDs have changed. We have built a mapping table to help map from previous cell IDs to new cell IDs. The table is available as a `WellKnownFile` and the `BrainObservatoryApi` provides a method for downloading it and loading it as a DataFrame.\n",
    "\n",
    "Download this file in .ipynb format <a href='cell_specimen_mapping.ipynb'>here</a>."
   ]
  },
  {
   "cell_type": "markdown",
   "metadata": {},
   "source": [
    "## Downloading the Mapping Table\n",
    "The `BrainObservatoryApi` provides a `get_cell_specimen_id_mapping` method for downloading the mapping table as a CSV file. The method requires a file name to save the table to, and will return the table as a DataFrame."
   ]
  },
  {
   "cell_type": "code",
   "execution_count": 1,
   "metadata": {
    "collapsed": false
   },
   "outputs": [
    {
     "name": "stdout",
     "output_type": "stream",
     "text": [
      "<class 'pandas.core.frame.DataFrame'>\n",
      "RangeIndex: 27124 entries, 0 to 27123\n",
      "Data columns (total 4 columns):\n",
      "old_cell_id              27124 non-null int64\n",
      "session_A_new_cell_id    18492 non-null float64\n",
      "session_B_new_cell_id    17674 non-null float64\n",
      "session_C_new_cell_id    16868 non-null float64\n",
      "dtypes: float64(3), int64(1)\n",
      "memory usage: 847.7 KB\n"
     ]
    }
   ],
   "source": [
    "from allensdk.api.queries.brain_observatory_api import BrainObservatoryApi\n",
    "\n",
    "api = BrainObservatoryApi()\n",
    "\n",
    "table = api.get_cell_specimen_id_mapping(\"./cell_mapping_table.csv\")\n",
    "\n",
    "table.info()"
   ]
  },
  {
   "cell_type": "markdown",
   "metadata": {
    "collapsed": true
   },
   "source": [
    "## Using the Mapping Table\n",
    "The cell specimen mapping table contains 4 columns, `old_cell_id`, `session_A_new_cell_id`, `session_B_new_cell_id`, `session_C_new_cell_id`.  In some instances, multiple ROIs that were assigned to a single cell specimen may now be considered distinct cells after reprocessing, so an old cell specimen ID may map to different cell specimens in different sessions."
   ]
  },
  {
   "cell_type": "code",
   "execution_count": 2,
   "metadata": {
    "collapsed": false
   },
   "outputs": [
    {
     "data": {
      "text/html": [
       "<div>\n",
       "<table border=\"1\" class=\"dataframe\">\n",
       "  <thead>\n",
       "    <tr style=\"text-align: right;\">\n",
       "      <th></th>\n",
       "      <th>old_cell_id</th>\n",
       "      <th>session_A_new_cell_id</th>\n",
       "      <th>session_B_new_cell_id</th>\n",
       "      <th>session_C_new_cell_id</th>\n",
       "    </tr>\n",
       "  </thead>\n",
       "  <tbody>\n",
       "    <tr>\n",
       "      <th>17</th>\n",
       "      <td>517394938</td>\n",
       "      <td>NaN</td>\n",
       "      <td>517396084.0</td>\n",
       "      <td>517396679.0</td>\n",
       "    </tr>\n",
       "  </tbody>\n",
       "</table>\n",
       "</div>"
      ],
      "text/plain": [
       "    old_cell_id  session_A_new_cell_id  session_B_new_cell_id  \\\n",
       "17    517394938                    NaN            517396084.0   \n",
       "\n",
       "    session_C_new_cell_id  \n",
       "17            517396679.0  "
      ]
     },
     "execution_count": 2,
     "metadata": {},
     "output_type": "execute_result"
    }
   ],
   "source": [
    "# Let's assume I did some previous analysis on a cell and\n",
    "# want to get the new session B id for use with the SDK\n",
    "old_cell_id = 517394938\n",
    "\n",
    "session_B_id = int(table[table.old_cell_id == old_cell_id].session_B_new_cell_id)\n",
    "\n",
    "# Looking at the output of the table I can see that this ID\n",
    "# was actually split to two cells in reprocessing\n",
    "table[table.old_cell_id == old_cell_id]"
   ]
  },
  {
   "cell_type": "code",
   "execution_count": 3,
   "metadata": {
    "collapsed": false
   },
   "outputs": [
    {
     "data": {
      "text/html": [
       "<div>\n",
       "<table border=\"1\" class=\"dataframe\">\n",
       "  <thead>\n",
       "    <tr style=\"text-align: right;\">\n",
       "      <th></th>\n",
       "      <th>old_cell_id</th>\n",
       "      <th>session_A_new_cell_id</th>\n",
       "      <th>session_B_new_cell_id</th>\n",
       "      <th>session_C_new_cell_id</th>\n",
       "    </tr>\n",
       "  </thead>\n",
       "  <tbody>\n",
       "    <tr>\n",
       "      <th>19</th>\n",
       "      <td>517394947</td>\n",
       "      <td>517396395.0</td>\n",
       "      <td>517396395.0</td>\n",
       "      <td>517396395.0</td>\n",
       "    </tr>\n",
       "  </tbody>\n",
       "</table>\n",
       "</div>"
      ],
      "text/plain": [
       "    old_cell_id  session_A_new_cell_id  session_B_new_cell_id  \\\n",
       "19    517394947            517396395.0            517396395.0   \n",
       "\n",
       "    session_C_new_cell_id  \n",
       "19            517396395.0  "
      ]
     },
     "execution_count": 3,
     "metadata": {},
     "output_type": "execute_result"
    }
   ],
   "source": [
    "# I found an interesting cell on the brain observatory website and\n",
    "# want to see if it's a cell I previously did some analysis on\n",
    "new_cell_id = 517396395\n",
    "\n",
    "old_cell_id = int(table[(table.session_A_new_cell_id==new_cell_id) | \n",
    "                        (table.session_B_new_cell_id==new_cell_id) |\n",
    "                        (table.session_C_new_cell_id==new_cell_id)].old_cell_id)\n",
    "\n",
    "# I can see that this cell is found in all sessions as well.\n",
    "table[(table.session_A_new_cell_id==new_cell_id) | \n",
    "      (table.session_B_new_cell_id==new_cell_id) |\n",
    "      (table.session_C_new_cell_id==new_cell_id)]"
   ]
  }
 ],
 "metadata": {
  "kernelspec": {
   "display_name": "Python 2",
   "language": "python",
   "name": "python2"
  },
  "language_info": {
   "codemirror_mode": {
    "name": "ipython",
    "version": 2
   },
   "file_extension": ".py",
   "mimetype": "text/x-python",
   "name": "python",
   "nbconvert_exporter": "python",
   "pygments_lexer": "ipython2",
   "version": "2.7.13"
  }
 },
 "nbformat": 4,
 "nbformat_minor": 2
}
