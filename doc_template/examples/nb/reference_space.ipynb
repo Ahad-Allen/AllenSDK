{
 "metadata": {
  "name": "",
  "signature": "sha256:28afddee5f58d52293eafd4216c81e6a653f310f2b191d6434e4c70ecf393fea"
 },
 "nbformat": 3,
 "nbformat_minor": 0,
 "worksheets": [
  {
   "cells": [
    {
     "cell_type": "code",
     "collapsed": false,
     "input": [
      "import warnings\n",
      "warnings.filterwarnings('ignore')"
     ],
     "language": "python",
     "metadata": {},
     "outputs": [],
     "prompt_number": 1
    },
    {
     "cell_type": "markdown",
     "metadata": {},
     "source": [
      "# Reference Space\n",
      "\n",
      "This notebook contains example code demonstrating the use of the StructureTree and ReferenceSpace classes. These classes provide methods for interacting with the 3d spaces to which Allen Institute data and atlases are registered.\n",
      "\n",
      "Unlike the AllenSDK cache classes, StructureTree and ReferenceSpace operate entirely in memory. We recommend using json files to store text and nrrd files to store volumetric images.\n",
      "\n",
      "The MouseConnectivityCache class has methods for downloading, storing, and constructing StructureTrees and ReferenceSpaces. Please see [here](https://alleninstitute.github.io/AllenSDK/_static/examples/nb/mouse_connectivity.html) for examples."
     ]
    },
    {
     "cell_type": "markdown",
     "metadata": {},
     "source": [
      "## Constructing a StructureTree\n",
      "\n",
      "A StructureTree object is a wrapper around a structure graph - a list of dictionaries documenting brain structures and their containment relationships. To build a structure tree, you will first need to obtain a structure graph.\n",
      "\n",
      "For a list of atlases and corresponding structure graph ids, see [here](http://help.brain-map.org/display/api/Atlas+Drawings+and+Ontologies)."
     ]
    },
    {
     "cell_type": "code",
     "collapsed": false,
     "input": [
      "from allensdk.api.queries.ontologies_api import OntologiesApi\n",
      "from allensdk.core.structure_tree import StructureTree\n",
      "\n",
      "oapi = OntologiesApi()\n",
      "structure_graph = oapi.get_structures_with_sets([1])  # 1 is the id of the adult mouse structure graph\n",
      "\n",
      "# This removes some unused fields returned by the query and converts \n",
      "structure_graph = StructureTree.clean_structures(structure_graph)  \n",
      "\n",
      "tree = StructureTree(structure_graph)"
     ],
     "language": "python",
     "metadata": {},
     "outputs": [],
     "prompt_number": 2
    },
    {
     "cell_type": "code",
     "collapsed": false,
     "input": [
      "# now let's take a look at a structure\n",
      "tree.get_structures_by_name(['Dorsal auditory area'])"
     ],
     "language": "python",
     "metadata": {},
     "outputs": [
      {
       "metadata": {},
       "output_type": "pyout",
       "prompt_number": 3,
       "text": [
        "[{u'acronym': u'AUDd',\n",
        "  u'color_hex_triplet': u'019399',\n",
        "  u'graph_id': 1,\n",
        "  u'graph_order': 122,\n",
        "  u'id': 1011,\n",
        "  u'name': u'Dorsal auditory area',\n",
        "  u'structure_id_path': [997, 8, 567, 688, 695, 315, 247, 1011],\n",
        "  u'structure_set_ids': [112905828, 12, 114512891, 167587189, 184527634]}]"
       ]
      }
     ],
     "prompt_number": 3
    },
    {
     "cell_type": "markdown",
     "metadata": {},
     "source": [
      "The fields are:\n",
      "    * acronym: a shortened name for the structure\n",
      "    * color_hex_triplet: each structure is assigned a consistent color for visualizations\n",
      "    * graph_id: the structure graph to which this structure belongs\n",
      "    * graph_order: each structure is assigned a consistent position in the flattened graph\n",
      "    * id: a unique integer identifier\n",
      "    * name: the full name of the structure\n",
      "    * structure_id_path: traces a path from the root node of the tree to this structure\n",
      "    * structure_set_ids: the structure belongs to these predefined groups"
     ]
    },
    {
     "cell_type": "markdown",
     "metadata": {},
     "source": [
      "## Using a StructureTree"
     ]
    },
    {
     "cell_type": "code",
     "collapsed": false,
     "input": [
      "# get a structure's parent\n",
      "tree.parent([1011])"
     ],
     "language": "python",
     "metadata": {},
     "outputs": [
      {
       "metadata": {},
       "output_type": "pyout",
       "prompt_number": 4,
       "text": [
        "[{u'acronym': u'AUD',\n",
        "  u'color_hex_triplet': u'019399',\n",
        "  u'graph_id': 1,\n",
        "  u'graph_order': 121,\n",
        "  u'id': 247,\n",
        "  u'name': u'Auditory areas',\n",
        "  u'structure_id_path': [997, 8, 567, 688, 695, 315, 247],\n",
        "  u'structure_set_ids': [12, 3, 184527634, 112905828, 114512891]}]"
       ]
      }
     ],
     "prompt_number": 4
    },
    {
     "cell_type": "code",
     "collapsed": false,
     "input": [
      "# get a dictionary mapping structure ids to names\n",
      "\n",
      "name_map = tree.get_name_map()\n",
      "name_map[247]"
     ],
     "language": "python",
     "metadata": {},
     "outputs": [
      {
       "metadata": {},
       "output_type": "pyout",
       "prompt_number": 5,
       "text": [
        "u'Auditory areas'"
       ]
      }
     ],
     "prompt_number": 5
    },
    {
     "cell_type": "code",
     "collapsed": false,
     "input": [
      "# ask whether one structure is contained within another\n",
      "\n",
      "strida = 385\n",
      "stridb = 247\n",
      "\n",
      "is_desc = '' if tree.structure_descends_from(385, 247) else ' not'\n",
      "\n",
      "print '{0} is{1} in {2}'.format(name_map[strida], is_desc, name_map[stridb])"
     ],
     "language": "python",
     "metadata": {},
     "outputs": [
      {
       "output_type": "stream",
       "stream": "stdout",
       "text": [
        "Primary visual area is not in Auditory areas\n"
       ]
      }
     ],
     "prompt_number": 6
    },
    {
     "cell_type": "code",
     "collapsed": false,
     "input": [
      "# build a custom map that looks up acronyms by ids\n",
      "# the syntax here is just a pair of node-wise functions. \n",
      "# The first one returns keys while the second one returns values\n",
      "\n",
      "acronym_map = tree.value_map(lambda x: x['id'], lambda y: y['acronym'])\n",
      "print acronym_map[385]"
     ],
     "language": "python",
     "metadata": {},
     "outputs": [
      {
       "output_type": "stream",
       "stream": "stdout",
       "text": [
        "VISp\n"
       ]
      }
     ],
     "prompt_number": 7
    },
    {
     "cell_type": "markdown",
     "metadata": {},
     "source": [
      "## Downloading an annotation volume\n",
      "\n",
      "This code snippet will download and store a nrrd file containing the Allen Common Coordinate Framework annotation. We have requested an annotation with 25-micron isometric spacing. The orientation of this space is:\n",
      "    * Anterior -> Posterior\n",
      "    * Superior -> Inferior\n",
      "    * Left -> Right"
     ]
    },
    {
     "cell_type": "code",
     "collapsed": false,
     "input": [
      "import os\n",
      "import nrrd\n",
      "from allensdk.api.queries.mouse_connectivity_api import MouseConnectivityApi\n",
      "\n",
      "# the annotation download writes a file, so we will need somwhere to put it\n",
      "annotation_dir = 'annotation'\n",
      "try:\n",
      "    os.makedirs(annotation_dir)\n",
      "except OSError:\n",
      "    pass\n",
      "\n",
      "annotation_path = os.path.join(annotation_dir, 'annotation.nrrd')\n",
      "\n",
      "mcapi = MouseConnectivityApi()\n",
      "mcapi.download_annotation_volume(ccf_version='annotation/ccf_2016', \n",
      "                                 resolution=25, \n",
      "                                 file_name=annotation_path, \n",
      "                                 reader=None)\n",
      "\n",
      "annotation, meta = nrrd.read(annotation_path)"
     ],
     "language": "python",
     "metadata": {},
     "outputs": [],
     "prompt_number": 8
    },
    {
     "cell_type": "markdown",
     "metadata": {},
     "source": [
      "## Constructing a ReferenceSpace"
     ]
    },
    {
     "cell_type": "code",
     "collapsed": false,
     "input": [
      "from allensdk.core.reference_space import ReferenceSpace\n",
      "\n",
      "# build a reference space from a StructureTree and annotation volume, the third argument is \n",
      "# the resolution of the space in microns\n",
      "rsp = ReferenceSpace(tree, annotation, [25, 25, 25])"
     ],
     "language": "python",
     "metadata": {},
     "outputs": [],
     "prompt_number": 9
    },
    {
     "cell_type": "markdown",
     "metadata": {},
     "source": [
      "## Using a ReferenceSpace"
     ]
    },
    {
     "cell_type": "markdown",
     "metadata": {},
     "source": [
      "#### making structure masks\n",
      "\n",
      "The simplest use of a Reference space is to build binary indicator masks for structures or groups of structures."
     ]
    },
    {
     "cell_type": "code",
     "collapsed": false,
     "input": [
      "import matplotlib.pyplot as plt\n",
      "%matplotlib inline\n",
      "\n",
      "# A complete mask for one structure\n",
      "whole_hypothalamus_mask = rsp.make_structure_mask([1097])\n",
      "\n",
      "# view in coronal section\n",
      "fig, ax = plt.subplots(figsize=(10, 10))\n",
      "plt.imshow(whole_hypothalamus_mask[200, :], interpolation='none', cmap=plt.cm.afmhot)"
     ],
     "language": "python",
     "metadata": {},
     "outputs": [
      {
       "metadata": {},
       "output_type": "pyout",
       "prompt_number": 10,
       "text": [
        "<matplotlib.image.AxesImage at 0x7f389997ef90>"
       ]
      },
      {
       "metadata": {},
       "output_type": "display_data",
       "png": "[encoded data removed]",
       "text": [
        "<matplotlib.figure.Figure at 0x7f38a286e3d0>"
       ]
      }
     ],
     "prompt_number": 10
    },
    {
     "cell_type": "markdown",
     "metadata": {},
     "source": [
      "You can also make and store a number of structure_masks at once:"
     ]
    },
    {
     "cell_type": "code",
     "collapsed": false,
     "input": [
      "import functools\n",
      "\n",
      "# Define a wrapper function that will control the mask generation. \n",
      "# This one checks for a nrrd file in the specified base directory \n",
      "# and builds/writes the mask only if one does not exist\n",
      "mask_writer = functools.partial(ReferenceSpace.check_and_write, annotation_dir)\n",
      "    \n",
      "# many_structure_masks is a generator - nothing has actrually been run yet\n",
      "mask_generator = rsp.many_structure_masks([385, 1097], mask_writer)\n",
      "\n",
      "# consume the resulting iterator to make and write the masks\n",
      "for structure in mask_generator:\n",
      "    pass\n",
      "\n",
      "os.listdir(annotation_dir)"
     ],
     "language": "python",
     "metadata": {},
     "outputs": [
      {
       "metadata": {},
       "output_type": "pyout",
       "prompt_number": 11,
       "text": [
        "['annotation.nrrd', 'structure_385.nrrd', 'structure_1097.nrrd']"
       ]
      }
     ],
     "prompt_number": 11
    },
    {
     "cell_type": "markdown",
     "metadata": {},
     "source": [
      "#### Removing unassigned structures"
     ]
    },
    {
     "cell_type": "markdown",
     "metadata": {},
     "source": [
      "A structure graph may contain structures that are not used in a particular reference space. Having these around can complicate use of the reference space, so we generally want to remove them.\n",
      "\n",
      "We'll try this using \"Somatosensory areas, layer 6a\" as a test case. In the 2016 ccf space, this structure is unused in favor of finer distinctions (e.g. \"Primary somatosensory area, barrel field, layer 6a\")."
     ]
    },
    {
     "cell_type": "code",
     "collapsed": false,
     "input": [
      "# Double-check the voxel counts\n",
      "no_voxel_id = rsp.structure_tree.get_structures_by_name(['Somatosensory areas, layer 6a'])[0]['id']\n",
      "print 'voxel count for structure {0}: {1}'.format(no_voxel_id, rsp.total_voxel_map[no_voxel_id])\n",
      "\n",
      "# remove unassigned structures from the ReferenceSpace's StructureTree\n",
      "rsp.remove_unassigned()\n",
      "\n",
      "# check the structure tree\n",
      "no_voxel_id in rsp.structure_tree.node_ids()"
     ],
     "language": "python",
     "metadata": {},
     "outputs": [
      {
       "output_type": "stream",
       "stream": "stdout",
       "text": [
        "voxel count for structure 12997: 0\n"
       ]
      },
      {
       "metadata": {},
       "output_type": "pyout",
       "prompt_number": 12,
       "text": [
        "False"
       ]
      }
     ],
     "prompt_number": 12
    },
    {
     "cell_type": "markdown",
     "metadata": {},
     "source": [
      "#### View a slice from the annotation"
     ]
    },
    {
     "cell_type": "code",
     "collapsed": false,
     "input": [
      "import numpy as np\n",
      "\n",
      "def slice_view(reference_space, axis, position):\n",
      "        \n",
      "    slc = np.squeeze(reference_space.annotation.take([position], axis=axis))\n",
      "    cmap = reference_space.structure_tree.get_colormap()\n",
      "\n",
      "    # The region outside the brain should be black\n",
      "    cmap[0] = '000000'\n",
      "    \n",
      "    # convert the colors from hex strings to rgb triplets\n",
      "    for structure_id, color in cmap.iteritems():\n",
      "        rgb_colors = [int(color[a * 2: a*2 + 2], 16) for a in xrange(3)]\n",
      "        cmap[structure_id] = rgb_colors\n",
      "\n",
      "    return np.reshape([cmap[point] for point in slc.flat], \n",
      "                      list(slc.shape) + [3]).astype(np.uint8)\n",
      "    \n",
      "fig, ax = plt.subplots(figsize=(10, 10))\n",
      "plt.imshow(slice_view(rsp, 1, 200), interpolation='none')"
     ],
     "language": "python",
     "metadata": {},
     "outputs": [
      {
       "metadata": {},
       "output_type": "pyout",
       "prompt_number": 13,
       "text": [
        "<matplotlib.image.AxesImage at 0x7f38a1f70c50>"
       ]
      },
      {
       "metadata": {},
       "output_type": "display_data",
       "png": "[encoded data removed]",
       "text": [
        "<matplotlib.figure.Figure at 0x7f3894f61f90>"
       ]
      }
     ],
     "prompt_number": 13
    },
    {
     "cell_type": "markdown",
     "metadata": {},
     "source": [
      "#### Downsample the space\n",
      "\n",
      "If you want an annotation at a resolution we don't provide, you can make one with the downsample method:"
     ]
    },
    {
     "cell_type": "code",
     "collapsed": false,
     "input": [
      "target_resolution = [75, 75, 75]\n",
      "\n",
      "sf_rsp = rsp.downsample(target_resolution)\n",
      "\n",
      "print rsp.annotation.shape\n",
      "print sf_rsp.annotation.shape"
     ],
     "language": "python",
     "metadata": {},
     "outputs": [
      {
       "output_type": "stream",
       "stream": "stdout",
       "text": [
        "(528, 320, 456)\n",
        "(176, 107, 152)\n"
       ]
      }
     ],
     "prompt_number": 14
    },
    {
     "cell_type": "markdown",
     "metadata": {},
     "source": [
      "Now view the downsampled space:"
     ]
    },
    {
     "cell_type": "code",
     "collapsed": false,
     "input": [
      "fig, ax = plt.subplots(figsize=(10, 10))\n",
      "plt.imshow(slice_view(sf_rsp, 1, 66), interpolation='none')"
     ],
     "language": "python",
     "metadata": {},
     "outputs": [
      {
       "metadata": {},
       "output_type": "pyout",
       "prompt_number": 15,
       "text": [
        "<matplotlib.image.AxesImage at 0x7f38a286e310>"
       ]
      },
      {
       "metadata": {},
       "output_type": "display_data",
       "png": "[encoded data removed]",
       "text": [
        "<matplotlib.figure.Figure at 0x7f38a286e350>"
       ]
      }
     ],
     "prompt_number": 15
    },
    {
     "cell_type": "code",
     "collapsed": false,
     "input": [],
     "language": "python",
     "metadata": {},
     "outputs": [],
     "prompt_number": 15
    }
   ],
   "metadata": {}
  }
 ]
}