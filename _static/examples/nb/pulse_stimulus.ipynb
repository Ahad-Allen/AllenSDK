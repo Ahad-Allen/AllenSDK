{
 "cells": [
  {
   "cell_type": "code",
   "execution_count": 1,
   "metadata": {
    "collapsed": true
   },
   "outputs": [],
   "source": [
    "# based on allensdk.model.biophysical.biophysical_perisomatic.runner\n",
    "\n",
    "# These will be useful for accessing and configuring the downloaded model\n",
    "from allensdk.model.biophys_sim.config import Config\n",
    "from allensdk.model.biophysical_perisomatic.utils import Utils\n",
    "\n",
    "# not using NwbDataSet\n",
    "# from allensdk.core.nwb_data_set import NwbDataSet\n",
    "\n",
    "# We'll save results to a simple text file instead\n",
    "from allensdk.core.dat_utilities import DatUtilities"
   ]
  },
  {
   "cell_type": "code",
   "execution_count": 2,
   "metadata": {
    "collapsed": false
   },
   "outputs": [],
   "source": [
    "from allensdk.api.queries.biophysical_perisomatic_api import BiophysicalPerisomaticApi\n",
    "\n",
    "neuronal_model_id = 472451419    # get this from the web site\n",
    "model_directory = '.'\n",
    "\n",
    "bp = BiophysicalPerisomaticApi('http://api.brain-map.org')\n",
    "bp.cache_stimulus = False # don't want to download the large stimulus NWB file\n",
    "bp.cache_data(neuronal_model_id, working_directory=model_directory)"
   ]
  },
  {
   "cell_type": "code",
   "execution_count": 3,
   "metadata": {
    "collapsed": false
   },
   "outputs": [
    {
     "data": {
      "text/plain": [
       "0"
      ]
     },
     "execution_count": 3,
     "metadata": {},
     "output_type": "execute_result"
    }
   ],
   "source": [
    "import os\n",
    "\n",
    "os.system('nrnivmodl modfiles')"
   ]
  },
  {
   "cell_type": "code",
   "execution_count": 4,
   "metadata": {
    "collapsed": false
   },
   "outputs": [],
   "source": [
    "description = Config().load('manifest.json')\n",
    "utils = Utils(description)\n",
    "h = utils.h"
   ]
  },
  {
   "cell_type": "code",
   "execution_count": 5,
   "metadata": {
    "collapsed": true
   },
   "outputs": [],
   "source": [
    "# configure model\n",
    "manifest = description.manifest\n",
    "morphology_path = description.manifest.get_path('MORPHOLOGY')\n",
    "utils.generate_morphology(morphology_path.encode('ascii', 'ignore'))\n",
    "utils.load_cell_parameters()\n",
    "\n",
    "# At this point the cell model has been fully set up in NEURON"
   ]
  },
  {
   "cell_type": "code",
   "execution_count": 6,
   "metadata": {
    "collapsed": true
   },
   "outputs": [],
   "source": [
    "# configure a simple current-clamp stimulus to generate some spikes\n",
    "stim = h.IClamp(h.soma[0](0.5))\n",
    "stim.amp = 0.09\n",
    "stim.delay = 1000.0\n",
    "stim.dur = 1000.0\n",
    "\n",
    "h.tstop = 3000.0"
   ]
  },
  {
   "cell_type": "code",
   "execution_count": 7,
   "metadata": {
    "collapsed": true
   },
   "outputs": [],
   "source": [
    "vec = utils.record_values()"
   ]
  },
  {
   "cell_type": "code",
   "execution_count": 8,
   "metadata": {
    "collapsed": false
   },
   "outputs": [
    {
     "data": {
      "text/plain": [
       "0.0"
      ]
     },
     "execution_count": 8,
     "metadata": {},
     "output_type": "execute_result"
    }
   ],
   "source": [
    "h.finitialize()\n",
    "h.run()"
   ]
  },
  {
   "cell_type": "code",
   "execution_count": 9,
   "metadata": {
    "collapsed": false
   },
   "outputs": [],
   "source": [
    "# save the result to a simple time and voltage space-separated text file\n",
    "import numpy\n",
    "\n",
    "output_path = 'output_voltage.dat'\n",
    "\n",
    "junction_potential = description.data['fitting'][0]['junction_potential']\n",
    "mV = 1.0e-3\n",
    "ms = 1.0e-3\n",
    "\n",
    "output_data = (numpy.array(vec['v']) - junction_potential) * mV\n",
    "output_times = numpy.array(vec['t']) * ms\n",
    "\n",
    "data = numpy.transpose(numpy.vstack((output_times, output_data)))\n",
    "with open (output_path, \"w\") as f:\n",
    "    numpy.savetxt(f, data)"
   ]
  },
  {
   "cell_type": "code",
   "execution_count": 10,
   "metadata": {
    "collapsed": false
   },
   "outputs": [
    {
     "data": {
      "image/png": "[encoded data removed]",
      "text/plain": [
       "<matplotlib.figure.Figure at 0x1f5c210>"
      ]
     },
     "metadata": {},
     "output_type": "display_data"
    }
   ],
   "source": [
    "%matplotlib inline\n",
    "import matplotlib.pyplot as plt\n",
    "plt.plot(vec['t'], numpy.array(vec['v']) - junction_potential)\n",
    "plt.xlabel('time (ms)')\n",
    "plt.ylabel('membrane potential (mV)')\n",
    "plt.show()\n"
   ]
  },
  {
   "cell_type": "code",
   "execution_count": null,
   "metadata": {
    "collapsed": true
   },
   "outputs": [],
   "source": []
  }
 ],
 "metadata": {
  "kernelspec": {
   "display_name": "Python 2",
   "language": "python",
   "name": "python2"
  },
  "language_info": {
   "codemirror_mode": {
    "name": "ipython",
    "version": 2
   },
   "file_extension": ".py",
   "mimetype": "text/x-python",
   "name": "python",
   "nbconvert_exporter": "python",
   "pygments_lexer": "ipython2",
   "version": "2.7.5+"
  }
 },
 "nbformat": 4,
 "nbformat_minor": 0
}
